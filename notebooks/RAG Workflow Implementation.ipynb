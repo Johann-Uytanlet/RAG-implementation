{
  "cells": [
    {
      "cell_type": "markdown",
      "source": [
        "# Introduction\n",
        "This notebook will be about the implementation of RAG application orchestrated by LangChain.\n",
        "There are 2 processes to be implemented: The setup and and RAG pipeline \\\n",
        "The setup process is as follows:\n",
        "1. Get the source documents or data\n",
        "2. Embed and store the documents in a vector database\n",
        "\n",
        "The quality of the Embedding process is important since this would act as the \"middle man\" between the retriever and the data the we have.\n",
        "\n",
        "The RAG pipeline is as follows:\n",
        "1.   Get input query\n",
        "2.   Retrieve relevant data from the vector database that's related to the query (Query Translation)\n",
        "3. Input the query with the relevant data into a LargeLanguageModel (LLM)\n",
        "4. The LLM will generate an answer to the query based on the given relevant data.\n",
        "5. Check if the generated data is factually correct or found in the retrieved data\n",
        "6. If step 5 fails, go back to step 2\n",
        "7. Check if the generated answer answers the query.\n"
      ],
      "metadata": {
        "id": "3NVtHsxk6dvD"
      }
    },
    {
      "cell_type": "markdown",
      "source": [
        "The most critical process of this pipeline is retrieving the correct relevant data from a corpus. In cases where the corpus is large, the right snippets of information retrieved must be the most relevant to the query. There are 3 techniques of data retrieval implemented in this application. Each of them has its strengths and weaknesses.\n",
        "1. Multi Query\n",
        "2. RAG Fusion\n",
        "3. Decomposition\n",
        "\n",
        "The Embedding and Retrieval Process goes hand-in-hand together to create a quality RAG application"
      ],
      "metadata": {
        "id": "WWDKMd0mA3qO"
      }
    },
    {
      "cell_type": "markdown",
      "source": [
        "## Embedding Model and LLM\n",
        "For this application the models used are:\\\n",
        "Embedding: CohereEmbeddings\\\n",
        "LLM: Cohere Command-R\n",
        "\n",
        "The team used Ollama LLama3 and Mistral for LLM and HuggingFace all-MiniLM-L6-v2 and Ollama mistral and llama3 for Embeddings. HuggingFace did a decent job with the embeddings while LLama3 performed poor. Ollama Mistral and LLama3 performed poorly with embeddings. For LLM, LLama3 was not able to follow directions from the user input and it got worse as the input got larger due to the retrieved data.\n",
        "\n",
        "Both of these models were ran locally. Developing and debugging with subpar machines would be impossible as one query could take from 5 minutes to 1 hour depending on the complexity of the pipeline.\n",
        "\n",
        "If no powerful computer is on hand, the team suggests to use cloud computing. OpenAI is a popular choice. The team was able to find Cohere. But it's only free for personal use and still has its limitations.\n",
        "\n",
        "Cohere was also able to generate accurate results.\n",
        "\n",
        "### Some considerations\n",
        "\n",
        "HuggingFace community hosts a leaderboard on top performing Embedding Models. You may find them here: https://huggingface.co/spaces/mteb/leaderboard"
      ],
      "metadata": {
        "id": "hrogE_7_CPjE"
      }
    },
    {
      "cell_type": "markdown",
      "source": [
        "# Dependencies\n",
        "To start, install the required dependencies"
      ],
      "metadata": {
        "id": "Mq1luliFpk1U"
      }
    },
    {
      "cell_type": "code",
      "execution_count": null,
      "metadata": {
        "id": "fSgMPA6rSQph",
        "colab": {
          "base_uri": "https://localhost:8080/"
        },
        "outputId": "d97360d2-f4b0-4e4a-8153-2fce3b397323",
        "collapsed": true
      },
      "outputs": [
        {
          "output_type": "stream",
          "name": "stdout",
          "text": [
            "Collecting langchain\n",
            "  Downloading langchain-0.2.1-py3-none-any.whl (973 kB)\n",
            "\u001b[2K     \u001b[90m━━━━━━━━━━━━━━━━━━━━━━━━━━━━━━━━━━━━━━━━\u001b[0m \u001b[32m973.5/973.5 kB\u001b[0m \u001b[31m18.9 MB/s\u001b[0m eta \u001b[36m0:00:00\u001b[0m\n",
            "\u001b[?25hRequirement already satisfied: PyYAML>=5.3 in /usr/local/lib/python3.10/dist-packages (from langchain) (6.0.1)\n",
            "Requirement already satisfied: SQLAlchemy<3,>=1.4 in /usr/local/lib/python3.10/dist-packages (from langchain) (2.0.30)\n",
            "Requirement already satisfied: aiohttp<4.0.0,>=3.8.3 in /usr/local/lib/python3.10/dist-packages (from langchain) (3.9.5)\n",
            "Requirement already satisfied: async-timeout<5.0.0,>=4.0.0 in /usr/local/lib/python3.10/dist-packages (from langchain) (4.0.3)\n",
            "Collecting langchain-core<0.3.0,>=0.2.0 (from langchain)\n",
            "  Downloading langchain_core-0.2.3-py3-none-any.whl (310 kB)\n",
            "\u001b[2K     \u001b[90m━━━━━━━━━━━━━━━━━━━━━━━━━━━━━━━━━━━━━━━━\u001b[0m \u001b[32m310.2/310.2 kB\u001b[0m \u001b[31m32.4 MB/s\u001b[0m eta \u001b[36m0:00:00\u001b[0m\n",
            "\u001b[?25hCollecting langchain-text-splitters<0.3.0,>=0.2.0 (from langchain)\n",
            "  Downloading langchain_text_splitters-0.2.0-py3-none-any.whl (23 kB)\n",
            "Collecting langsmith<0.2.0,>=0.1.17 (from langchain)\n",
            "  Downloading langsmith-0.1.69-py3-none-any.whl (124 kB)\n",
            "\u001b[2K     \u001b[90m━━━━━━━━━━━━━━━━━━━━━━━━━━━━━━━━━━━━━━━━\u001b[0m \u001b[32m124.4/124.4 kB\u001b[0m \u001b[31m20.1 MB/s\u001b[0m eta \u001b[36m0:00:00\u001b[0m\n",
            "\u001b[?25hRequirement already satisfied: numpy<2,>=1 in /usr/local/lib/python3.10/dist-packages (from langchain) (1.25.2)\n",
            "Requirement already satisfied: pydantic<3,>=1 in /usr/local/lib/python3.10/dist-packages (from langchain) (2.7.2)\n",
            "Requirement already satisfied: requests<3,>=2 in /usr/local/lib/python3.10/dist-packages (from langchain) (2.31.0)\n",
            "Requirement already satisfied: tenacity<9.0.0,>=8.1.0 in /usr/local/lib/python3.10/dist-packages (from langchain) (8.3.0)\n",
            "Requirement already satisfied: aiosignal>=1.1.2 in /usr/local/lib/python3.10/dist-packages (from aiohttp<4.0.0,>=3.8.3->langchain) (1.3.1)\n",
            "Requirement already satisfied: attrs>=17.3.0 in /usr/local/lib/python3.10/dist-packages (from aiohttp<4.0.0,>=3.8.3->langchain) (23.2.0)\n",
            "Requirement already satisfied: frozenlist>=1.1.1 in /usr/local/lib/python3.10/dist-packages (from aiohttp<4.0.0,>=3.8.3->langchain) (1.4.1)\n",
            "Requirement already satisfied: multidict<7.0,>=4.5 in /usr/local/lib/python3.10/dist-packages (from aiohttp<4.0.0,>=3.8.3->langchain) (6.0.5)\n",
            "Requirement already satisfied: yarl<2.0,>=1.0 in /usr/local/lib/python3.10/dist-packages (from aiohttp<4.0.0,>=3.8.3->langchain) (1.9.4)\n",
            "Collecting jsonpatch<2.0,>=1.33 (from langchain-core<0.3.0,>=0.2.0->langchain)\n",
            "  Downloading jsonpatch-1.33-py2.py3-none-any.whl (12 kB)\n",
            "Collecting packaging<24.0,>=23.2 (from langchain-core<0.3.0,>=0.2.0->langchain)\n",
            "  Downloading packaging-23.2-py3-none-any.whl (53 kB)\n",
            "\u001b[2K     \u001b[90m━━━━━━━━━━━━━━━━━━━━━━━━━━━━━━━━━━━━━━━━\u001b[0m \u001b[32m53.0/53.0 kB\u001b[0m \u001b[31m8.4 MB/s\u001b[0m eta \u001b[36m0:00:00\u001b[0m\n",
            "\u001b[?25hCollecting orjson<4.0.0,>=3.9.14 (from langsmith<0.2.0,>=0.1.17->langchain)\n",
            "  Downloading orjson-3.10.3-cp310-cp310-manylinux_2_17_x86_64.manylinux2014_x86_64.whl (142 kB)\n",
            "\u001b[2K     \u001b[90m━━━━━━━━━━━━━━━━━━━━━━━━━━━━━━━━━━━━━━━━\u001b[0m \u001b[32m142.5/142.5 kB\u001b[0m \u001b[31m21.2 MB/s\u001b[0m eta \u001b[36m0:00:00\u001b[0m\n",
            "\u001b[?25hRequirement already satisfied: annotated-types>=0.4.0 in /usr/local/lib/python3.10/dist-packages (from pydantic<3,>=1->langchain) (0.7.0)\n",
            "Requirement already satisfied: pydantic-core==2.18.3 in /usr/local/lib/python3.10/dist-packages (from pydantic<3,>=1->langchain) (2.18.3)\n",
            "Requirement already satisfied: typing-extensions>=4.6.1 in /usr/local/lib/python3.10/dist-packages (from pydantic<3,>=1->langchain) (4.12.0)\n",
            "Requirement already satisfied: charset-normalizer<4,>=2 in /usr/local/lib/python3.10/dist-packages (from requests<3,>=2->langchain) (3.3.2)\n",
            "Requirement already satisfied: idna<4,>=2.5 in /usr/local/lib/python3.10/dist-packages (from requests<3,>=2->langchain) (3.7)\n",
            "Requirement already satisfied: urllib3<3,>=1.21.1 in /usr/local/lib/python3.10/dist-packages (from requests<3,>=2->langchain) (2.0.7)\n",
            "Requirement already satisfied: certifi>=2017.4.17 in /usr/local/lib/python3.10/dist-packages (from requests<3,>=2->langchain) (2024.2.2)\n",
            "Requirement already satisfied: greenlet!=0.4.17 in /usr/local/lib/python3.10/dist-packages (from SQLAlchemy<3,>=1.4->langchain) (3.0.3)\n",
            "Collecting jsonpointer>=1.9 (from jsonpatch<2.0,>=1.33->langchain-core<0.3.0,>=0.2.0->langchain)\n",
            "  Downloading jsonpointer-2.4-py2.py3-none-any.whl (7.8 kB)\n",
            "Installing collected packages: packaging, orjson, jsonpointer, jsonpatch, langsmith, langchain-core, langchain-text-splitters, langchain\n",
            "  Attempting uninstall: packaging\n",
            "    Found existing installation: packaging 24.0\n",
            "    Uninstalling packaging-24.0:\n",
            "      Successfully uninstalled packaging-24.0\n",
            "Successfully installed jsonpatch-1.33 jsonpointer-2.4 langchain-0.2.1 langchain-core-0.2.3 langchain-text-splitters-0.2.0 langsmith-0.1.69 orjson-3.10.3 packaging-23.2\n",
            "Collecting langchain_cohere\n",
            "  Downloading langchain_cohere-0.1.5-py3-none-any.whl (30 kB)\n",
            "Collecting cohere<6.0,>=5.5 (from langchain_cohere)\n",
            "  Downloading cohere-5.5.4-py3-none-any.whl (168 kB)\n",
            "\u001b[2K     \u001b[90m━━━━━━━━━━━━━━━━━━━━━━━━━━━━━━━━━━━━━━━━\u001b[0m \u001b[32m168.9/168.9 kB\u001b[0m \u001b[31m6.2 MB/s\u001b[0m eta \u001b[36m0:00:00\u001b[0m\n",
            "\u001b[?25hRequirement already satisfied: langchain-core<0.3,>=0.1.42 in /usr/local/lib/python3.10/dist-packages (from langchain_cohere) (0.2.3)\n",
            "Collecting boto3<2.0.0,>=1.34.0 (from cohere<6.0,>=5.5->langchain_cohere)\n",
            "  Downloading boto3-1.34.118-py3-none-any.whl (139 kB)\n",
            "\u001b[2K     \u001b[90m━━━━━━━━━━━━━━━━━━━━━━━━━━━━━━━━━━━━━━━━\u001b[0m \u001b[32m139.3/139.3 kB\u001b[0m \u001b[31m14.9 MB/s\u001b[0m eta \u001b[36m0:00:00\u001b[0m\n",
            "\u001b[?25hCollecting fastavro<2.0.0,>=1.9.4 (from cohere<6.0,>=5.5->langchain_cohere)\n",
            "  Downloading fastavro-1.9.4-cp310-cp310-manylinux_2_17_x86_64.manylinux2014_x86_64.whl (3.1 MB)\n",
            "\u001b[2K     \u001b[90m━━━━━━━━━━━━━━━━━━━━━━━━━━━━━━━━━━━━━━━━\u001b[0m \u001b[32m3.1/3.1 MB\u001b[0m \u001b[31m93.2 MB/s\u001b[0m eta \u001b[36m0:00:00\u001b[0m\n",
            "\u001b[?25hCollecting httpx>=0.21.2 (from cohere<6.0,>=5.5->langchain_cohere)\n",
            "  Downloading httpx-0.27.0-py3-none-any.whl (75 kB)\n",
            "\u001b[2K     \u001b[90m━━━━━━━━━━━━━━━━━━━━━━━━━━━━━━━━━━━━━━━━\u001b[0m \u001b[32m75.6/75.6 kB\u001b[0m \u001b[31m8.0 MB/s\u001b[0m eta \u001b[36m0:00:00\u001b[0m\n",
            "\u001b[?25hCollecting httpx-sse<0.5.0,>=0.4.0 (from cohere<6.0,>=5.5->langchain_cohere)\n",
            "  Downloading httpx_sse-0.4.0-py3-none-any.whl (7.8 kB)\n",
            "Requirement already satisfied: pydantic>=1.9.2 in /usr/local/lib/python3.10/dist-packages (from cohere<6.0,>=5.5->langchain_cohere) (2.7.2)\n",
            "Requirement already satisfied: requests<3.0.0,>=2.0.0 in /usr/local/lib/python3.10/dist-packages (from cohere<6.0,>=5.5->langchain_cohere) (2.31.0)\n",
            "Collecting tokenizers<0.16,>=0.15 (from cohere<6.0,>=5.5->langchain_cohere)\n",
            "  Downloading tokenizers-0.15.2-cp310-cp310-manylinux_2_17_x86_64.manylinux2014_x86_64.whl (3.6 MB)\n",
            "\u001b[2K     \u001b[90m━━━━━━━━━━━━━━━━━━━━━━━━━━━━━━━━━━━━━━━━\u001b[0m \u001b[32m3.6/3.6 MB\u001b[0m \u001b[31m93.8 MB/s\u001b[0m eta \u001b[36m0:00:00\u001b[0m\n",
            "\u001b[?25hCollecting types-requests<3.0.0,>=2.0.0 (from cohere<6.0,>=5.5->langchain_cohere)\n",
            "  Downloading types_requests-2.32.0.20240602-py3-none-any.whl (15 kB)\n",
            "Requirement already satisfied: typing_extensions>=4.0.0 in /usr/local/lib/python3.10/dist-packages (from cohere<6.0,>=5.5->langchain_cohere) (4.12.0)\n",
            "Requirement already satisfied: PyYAML>=5.3 in /usr/local/lib/python3.10/dist-packages (from langchain-core<0.3,>=0.1.42->langchain_cohere) (6.0.1)\n",
            "Requirement already satisfied: jsonpatch<2.0,>=1.33 in /usr/local/lib/python3.10/dist-packages (from langchain-core<0.3,>=0.1.42->langchain_cohere) (1.33)\n",
            "Requirement already satisfied: langsmith<0.2.0,>=0.1.65 in /usr/local/lib/python3.10/dist-packages (from langchain-core<0.3,>=0.1.42->langchain_cohere) (0.1.69)\n",
            "Requirement already satisfied: packaging<24.0,>=23.2 in /usr/local/lib/python3.10/dist-packages (from langchain-core<0.3,>=0.1.42->langchain_cohere) (23.2)\n",
            "Requirement already satisfied: tenacity<9.0.0,>=8.1.0 in /usr/local/lib/python3.10/dist-packages (from langchain-core<0.3,>=0.1.42->langchain_cohere) (8.3.0)\n",
            "Collecting botocore<1.35.0,>=1.34.118 (from boto3<2.0.0,>=1.34.0->cohere<6.0,>=5.5->langchain_cohere)\n",
            "  Downloading botocore-1.34.118-py3-none-any.whl (12.3 MB)\n",
            "\u001b[2K     \u001b[90m━━━━━━━━━━━━━━━━━━━━━━━━━━━━━━━━━━━━━━━━\u001b[0m \u001b[32m12.3/12.3 MB\u001b[0m \u001b[31m104.8 MB/s\u001b[0m eta \u001b[36m0:00:00\u001b[0m\n",
            "\u001b[?25hCollecting jmespath<2.0.0,>=0.7.1 (from boto3<2.0.0,>=1.34.0->cohere<6.0,>=5.5->langchain_cohere)\n",
            "  Downloading jmespath-1.0.1-py3-none-any.whl (20 kB)\n",
            "Collecting s3transfer<0.11.0,>=0.10.0 (from boto3<2.0.0,>=1.34.0->cohere<6.0,>=5.5->langchain_cohere)\n",
            "  Downloading s3transfer-0.10.1-py3-none-any.whl (82 kB)\n",
            "\u001b[2K     \u001b[90m━━━━━━━━━━━━━━━━━━━━━━━━━━━━━━━━━━━━━━━━\u001b[0m \u001b[32m82.2/82.2 kB\u001b[0m \u001b[31m12.9 MB/s\u001b[0m eta \u001b[36m0:00:00\u001b[0m\n",
            "\u001b[?25hRequirement already satisfied: anyio in /usr/local/lib/python3.10/dist-packages (from httpx>=0.21.2->cohere<6.0,>=5.5->langchain_cohere) (3.7.1)\n",
            "Requirement already satisfied: certifi in /usr/local/lib/python3.10/dist-packages (from httpx>=0.21.2->cohere<6.0,>=5.5->langchain_cohere) (2024.2.2)\n",
            "Collecting httpcore==1.* (from httpx>=0.21.2->cohere<6.0,>=5.5->langchain_cohere)\n",
            "  Downloading httpcore-1.0.5-py3-none-any.whl (77 kB)\n",
            "\u001b[2K     \u001b[90m━━━━━━━━━━━━━━━━━━━━━━━━━━━━━━━━━━━━━━━━\u001b[0m \u001b[32m77.9/77.9 kB\u001b[0m \u001b[31m13.0 MB/s\u001b[0m eta \u001b[36m0:00:00\u001b[0m\n",
            "\u001b[?25hRequirement already satisfied: idna in /usr/local/lib/python3.10/dist-packages (from httpx>=0.21.2->cohere<6.0,>=5.5->langchain_cohere) (3.7)\n",
            "Requirement already satisfied: sniffio in /usr/local/lib/python3.10/dist-packages (from httpx>=0.21.2->cohere<6.0,>=5.5->langchain_cohere) (1.3.1)\n",
            "Collecting h11<0.15,>=0.13 (from httpcore==1.*->httpx>=0.21.2->cohere<6.0,>=5.5->langchain_cohere)\n",
            "  Downloading h11-0.14.0-py3-none-any.whl (58 kB)\n",
            "\u001b[2K     \u001b[90m━━━━━━━━━━━━━━━━━━━━━━━━━━━━━━━━━━━━━━━━\u001b[0m \u001b[32m58.3/58.3 kB\u001b[0m \u001b[31m10.7 MB/s\u001b[0m eta \u001b[36m0:00:00\u001b[0m\n",
            "\u001b[?25hRequirement already satisfied: jsonpointer>=1.9 in /usr/local/lib/python3.10/dist-packages (from jsonpatch<2.0,>=1.33->langchain-core<0.3,>=0.1.42->langchain_cohere) (2.4)\n",
            "Requirement already satisfied: orjson<4.0.0,>=3.9.14 in /usr/local/lib/python3.10/dist-packages (from langsmith<0.2.0,>=0.1.65->langchain-core<0.3,>=0.1.42->langchain_cohere) (3.10.3)\n",
            "Requirement already satisfied: annotated-types>=0.4.0 in /usr/local/lib/python3.10/dist-packages (from pydantic>=1.9.2->cohere<6.0,>=5.5->langchain_cohere) (0.7.0)\n",
            "Requirement already satisfied: pydantic-core==2.18.3 in /usr/local/lib/python3.10/dist-packages (from pydantic>=1.9.2->cohere<6.0,>=5.5->langchain_cohere) (2.18.3)\n",
            "Requirement already satisfied: charset-normalizer<4,>=2 in /usr/local/lib/python3.10/dist-packages (from requests<3.0.0,>=2.0.0->cohere<6.0,>=5.5->langchain_cohere) (3.3.2)\n",
            "Requirement already satisfied: urllib3<3,>=1.21.1 in /usr/local/lib/python3.10/dist-packages (from requests<3.0.0,>=2.0.0->cohere<6.0,>=5.5->langchain_cohere) (2.0.7)\n",
            "Requirement already satisfied: huggingface_hub<1.0,>=0.16.4 in /usr/local/lib/python3.10/dist-packages (from tokenizers<0.16,>=0.15->cohere<6.0,>=5.5->langchain_cohere) (0.23.2)\n",
            "Requirement already satisfied: python-dateutil<3.0.0,>=2.1 in /usr/local/lib/python3.10/dist-packages (from botocore<1.35.0,>=1.34.118->boto3<2.0.0,>=1.34.0->cohere<6.0,>=5.5->langchain_cohere) (2.8.2)\n",
            "Requirement already satisfied: filelock in /usr/local/lib/python3.10/dist-packages (from huggingface_hub<1.0,>=0.16.4->tokenizers<0.16,>=0.15->cohere<6.0,>=5.5->langchain_cohere) (3.14.0)\n",
            "Requirement already satisfied: fsspec>=2023.5.0 in /usr/local/lib/python3.10/dist-packages (from huggingface_hub<1.0,>=0.16.4->tokenizers<0.16,>=0.15->cohere<6.0,>=5.5->langchain_cohere) (2023.6.0)\n",
            "Requirement already satisfied: tqdm>=4.42.1 in /usr/local/lib/python3.10/dist-packages (from huggingface_hub<1.0,>=0.16.4->tokenizers<0.16,>=0.15->cohere<6.0,>=5.5->langchain_cohere) (4.66.4)\n",
            "Requirement already satisfied: exceptiongroup in /usr/local/lib/python3.10/dist-packages (from anyio->httpx>=0.21.2->cohere<6.0,>=5.5->langchain_cohere) (1.2.1)\n",
            "Requirement already satisfied: six>=1.5 in /usr/local/lib/python3.10/dist-packages (from python-dateutil<3.0.0,>=2.1->botocore<1.35.0,>=1.34.118->boto3<2.0.0,>=1.34.0->cohere<6.0,>=5.5->langchain_cohere) (1.16.0)\n",
            "Installing collected packages: types-requests, jmespath, httpx-sse, h11, fastavro, httpcore, botocore, tokenizers, s3transfer, httpx, boto3, cohere, langchain_cohere\n",
            "  Attempting uninstall: tokenizers\n",
            "    Found existing installation: tokenizers 0.19.1\n",
            "    Uninstalling tokenizers-0.19.1:\n",
            "      Successfully uninstalled tokenizers-0.19.1\n",
            "\u001b[31mERROR: pip's dependency resolver does not currently take into account all the packages that are installed. This behaviour is the source of the following dependency conflicts.\n",
            "transformers 4.41.1 requires tokenizers<0.20,>=0.19, but you have tokenizers 0.15.2 which is incompatible.\u001b[0m\u001b[31m\n",
            "\u001b[0mSuccessfully installed boto3-1.34.118 botocore-1.34.118 cohere-5.5.4 fastavro-1.9.4 h11-0.14.0 httpcore-1.0.5 httpx-0.27.0 httpx-sse-0.4.0 jmespath-1.0.1 langchain_cohere-0.1.5 s3transfer-0.10.1 tokenizers-0.15.2 types-requests-2.32.0.20240602\n",
            "Collecting ctransformers\n",
            "  Downloading ctransformers-0.2.27-py3-none-any.whl (9.9 MB)\n",
            "\u001b[2K     \u001b[90m━━━━━━━━━━━━━━━━━━━━━━━━━━━━━━━━━━━━━━━━\u001b[0m \u001b[32m9.9/9.9 MB\u001b[0m \u001b[31m60.3 MB/s\u001b[0m eta \u001b[36m0:00:00\u001b[0m\n",
            "\u001b[?25hRequirement already satisfied: huggingface-hub in /usr/local/lib/python3.10/dist-packages (from ctransformers) (0.23.2)\n",
            "Requirement already satisfied: py-cpuinfo<10.0.0,>=9.0.0 in /usr/local/lib/python3.10/dist-packages (from ctransformers) (9.0.0)\n",
            "Requirement already satisfied: filelock in /usr/local/lib/python3.10/dist-packages (from huggingface-hub->ctransformers) (3.14.0)\n",
            "Requirement already satisfied: fsspec>=2023.5.0 in /usr/local/lib/python3.10/dist-packages (from huggingface-hub->ctransformers) (2023.6.0)\n",
            "Requirement already satisfied: packaging>=20.9 in /usr/local/lib/python3.10/dist-packages (from huggingface-hub->ctransformers) (23.2)\n",
            "Requirement already satisfied: pyyaml>=5.1 in /usr/local/lib/python3.10/dist-packages (from huggingface-hub->ctransformers) (6.0.1)\n",
            "Requirement already satisfied: requests in /usr/local/lib/python3.10/dist-packages (from huggingface-hub->ctransformers) (2.31.0)\n",
            "Requirement already satisfied: tqdm>=4.42.1 in /usr/local/lib/python3.10/dist-packages (from huggingface-hub->ctransformers) (4.66.4)\n",
            "Requirement already satisfied: typing-extensions>=3.7.4.3 in /usr/local/lib/python3.10/dist-packages (from huggingface-hub->ctransformers) (4.12.0)\n",
            "Requirement already satisfied: charset-normalizer<4,>=2 in /usr/local/lib/python3.10/dist-packages (from requests->huggingface-hub->ctransformers) (3.3.2)\n",
            "Requirement already satisfied: idna<4,>=2.5 in /usr/local/lib/python3.10/dist-packages (from requests->huggingface-hub->ctransformers) (3.7)\n",
            "Requirement already satisfied: urllib3<3,>=1.21.1 in /usr/local/lib/python3.10/dist-packages (from requests->huggingface-hub->ctransformers) (2.0.7)\n",
            "Requirement already satisfied: certifi>=2017.4.17 in /usr/local/lib/python3.10/dist-packages (from requests->huggingface-hub->ctransformers) (2024.2.2)\n",
            "Installing collected packages: ctransformers\n",
            "Successfully installed ctransformers-0.2.27\n",
            "Requirement already satisfied: ctransformers[cuda] in /usr/local/lib/python3.10/dist-packages (0.2.27)\n",
            "Requirement already satisfied: huggingface-hub in /usr/local/lib/python3.10/dist-packages (from ctransformers[cuda]) (0.23.2)\n",
            "Requirement already satisfied: py-cpuinfo<10.0.0,>=9.0.0 in /usr/local/lib/python3.10/dist-packages (from ctransformers[cuda]) (9.0.0)\n",
            "Collecting nvidia-cublas-cu12 (from ctransformers[cuda])\n",
            "  Downloading nvidia_cublas_cu12-12.5.2.13-py3-none-manylinux2014_x86_64.whl (363.3 MB)\n",
            "\u001b[2K     \u001b[90m━━━━━━━━━━━━━━━━━━━━━━━━━━━━━━━━━━━━━━━━\u001b[0m \u001b[32m363.3/363.3 MB\u001b[0m \u001b[31m2.7 MB/s\u001b[0m eta \u001b[36m0:00:00\u001b[0m\n",
            "\u001b[?25hCollecting nvidia-cuda-runtime-cu12 (from ctransformers[cuda])\n",
            "  Downloading nvidia_cuda_runtime_cu12-12.5.39-py3-none-manylinux2014_x86_64.whl (895 kB)\n",
            "\u001b[2K     \u001b[90m━━━━━━━━━━━━━━━━━━━━━━━━━━━━━━━━━━━━━━━━\u001b[0m \u001b[32m895.1/895.1 kB\u001b[0m \u001b[31m45.4 MB/s\u001b[0m eta \u001b[36m0:00:00\u001b[0m\n",
            "\u001b[?25hRequirement already satisfied: filelock in /usr/local/lib/python3.10/dist-packages (from huggingface-hub->ctransformers[cuda]) (3.14.0)\n",
            "Requirement already satisfied: fsspec>=2023.5.0 in /usr/local/lib/python3.10/dist-packages (from huggingface-hub->ctransformers[cuda]) (2023.6.0)\n",
            "Requirement already satisfied: packaging>=20.9 in /usr/local/lib/python3.10/dist-packages (from huggingface-hub->ctransformers[cuda]) (23.2)\n",
            "Requirement already satisfied: pyyaml>=5.1 in /usr/local/lib/python3.10/dist-packages (from huggingface-hub->ctransformers[cuda]) (6.0.1)\n",
            "Requirement already satisfied: requests in /usr/local/lib/python3.10/dist-packages (from huggingface-hub->ctransformers[cuda]) (2.31.0)\n",
            "Requirement already satisfied: tqdm>=4.42.1 in /usr/local/lib/python3.10/dist-packages (from huggingface-hub->ctransformers[cuda]) (4.66.4)\n",
            "Requirement already satisfied: typing-extensions>=3.7.4.3 in /usr/local/lib/python3.10/dist-packages (from huggingface-hub->ctransformers[cuda]) (4.12.0)\n",
            "Requirement already satisfied: charset-normalizer<4,>=2 in /usr/local/lib/python3.10/dist-packages (from requests->huggingface-hub->ctransformers[cuda]) (3.3.2)\n",
            "Requirement already satisfied: idna<4,>=2.5 in /usr/local/lib/python3.10/dist-packages (from requests->huggingface-hub->ctransformers[cuda]) (3.7)\n",
            "Requirement already satisfied: urllib3<3,>=1.21.1 in /usr/local/lib/python3.10/dist-packages (from requests->huggingface-hub->ctransformers[cuda]) (2.0.7)\n",
            "Requirement already satisfied: certifi>=2017.4.17 in /usr/local/lib/python3.10/dist-packages (from requests->huggingface-hub->ctransformers[cuda]) (2024.2.2)\n",
            "Installing collected packages: nvidia-cuda-runtime-cu12, nvidia-cublas-cu12\n",
            "\u001b[31mERROR: pip's dependency resolver does not currently take into account all the packages that are installed. This behaviour is the source of the following dependency conflicts.\n",
            "torch 2.3.0+cu121 requires nvidia-cuda-cupti-cu12==12.1.105; platform_system == \"Linux\" and platform_machine == \"x86_64\", which is not installed.\n",
            "torch 2.3.0+cu121 requires nvidia-cuda-nvrtc-cu12==12.1.105; platform_system == \"Linux\" and platform_machine == \"x86_64\", which is not installed.\n",
            "torch 2.3.0+cu121 requires nvidia-cudnn-cu12==8.9.2.26; platform_system == \"Linux\" and platform_machine == \"x86_64\", which is not installed.\n",
            "torch 2.3.0+cu121 requires nvidia-cufft-cu12==11.0.2.54; platform_system == \"Linux\" and platform_machine == \"x86_64\", which is not installed.\n",
            "torch 2.3.0+cu121 requires nvidia-curand-cu12==10.3.2.106; platform_system == \"Linux\" and platform_machine == \"x86_64\", which is not installed.\n",
            "torch 2.3.0+cu121 requires nvidia-cusolver-cu12==11.4.5.107; platform_system == \"Linux\" and platform_machine == \"x86_64\", which is not installed.\n",
            "torch 2.3.0+cu121 requires nvidia-cusparse-cu12==12.1.0.106; platform_system == \"Linux\" and platform_machine == \"x86_64\", which is not installed.\n",
            "torch 2.3.0+cu121 requires nvidia-nccl-cu12==2.20.5; platform_system == \"Linux\" and platform_machine == \"x86_64\", which is not installed.\n",
            "torch 2.3.0+cu121 requires nvidia-nvtx-cu12==12.1.105; platform_system == \"Linux\" and platform_machine == \"x86_64\", which is not installed.\n",
            "torch 2.3.0+cu121 requires nvidia-cublas-cu12==12.1.3.1; platform_system == \"Linux\" and platform_machine == \"x86_64\", but you have nvidia-cublas-cu12 12.5.2.13 which is incompatible.\n",
            "torch 2.3.0+cu121 requires nvidia-cuda-runtime-cu12==12.1.105; platform_system == \"Linux\" and platform_machine == \"x86_64\", but you have nvidia-cuda-runtime-cu12 12.5.39 which is incompatible.\u001b[0m\u001b[31m\n",
            "\u001b[0mSuccessfully installed nvidia-cublas-cu12-12.5.2.13 nvidia-cuda-runtime-cu12-12.5.39\n",
            "Collecting langchain_community\n",
            "  Downloading langchain_community-0.2.1-py3-none-any.whl (2.1 MB)\n",
            "\u001b[2K     \u001b[90m━━━━━━━━━━━━━━━━━━━━━━━━━━━━━━━━━━━━━━━━\u001b[0m \u001b[32m2.1/2.1 MB\u001b[0m \u001b[31m31.5 MB/s\u001b[0m eta \u001b[36m0:00:00\u001b[0m\n",
            "\u001b[?25hRequirement already satisfied: PyYAML>=5.3 in /usr/local/lib/python3.10/dist-packages (from langchain_community) (6.0.1)\n",
            "Requirement already satisfied: SQLAlchemy<3,>=1.4 in /usr/local/lib/python3.10/dist-packages (from langchain_community) (2.0.30)\n",
            "Requirement already satisfied: aiohttp<4.0.0,>=3.8.3 in /usr/local/lib/python3.10/dist-packages (from langchain_community) (3.9.5)\n",
            "Collecting dataclasses-json<0.7,>=0.5.7 (from langchain_community)\n",
            "  Downloading dataclasses_json-0.6.6-py3-none-any.whl (28 kB)\n",
            "Requirement already satisfied: langchain<0.3.0,>=0.2.0 in /usr/local/lib/python3.10/dist-packages (from langchain_community) (0.2.1)\n",
            "Requirement already satisfied: langchain-core<0.3.0,>=0.2.0 in /usr/local/lib/python3.10/dist-packages (from langchain_community) (0.2.3)\n",
            "Requirement already satisfied: langsmith<0.2.0,>=0.1.0 in /usr/local/lib/python3.10/dist-packages (from langchain_community) (0.1.69)\n",
            "Requirement already satisfied: numpy<2,>=1 in /usr/local/lib/python3.10/dist-packages (from langchain_community) (1.25.2)\n",
            "Requirement already satisfied: requests<3,>=2 in /usr/local/lib/python3.10/dist-packages (from langchain_community) (2.31.0)\n",
            "Requirement already satisfied: tenacity<9.0.0,>=8.1.0 in /usr/local/lib/python3.10/dist-packages (from langchain_community) (8.3.0)\n",
            "Requirement already satisfied: aiosignal>=1.1.2 in /usr/local/lib/python3.10/dist-packages (from aiohttp<4.0.0,>=3.8.3->langchain_community) (1.3.1)\n",
            "Requirement already satisfied: attrs>=17.3.0 in /usr/local/lib/python3.10/dist-packages (from aiohttp<4.0.0,>=3.8.3->langchain_community) (23.2.0)\n",
            "Requirement already satisfied: frozenlist>=1.1.1 in /usr/local/lib/python3.10/dist-packages (from aiohttp<4.0.0,>=3.8.3->langchain_community) (1.4.1)\n",
            "Requirement already satisfied: multidict<7.0,>=4.5 in /usr/local/lib/python3.10/dist-packages (from aiohttp<4.0.0,>=3.8.3->langchain_community) (6.0.5)\n",
            "Requirement already satisfied: yarl<2.0,>=1.0 in /usr/local/lib/python3.10/dist-packages (from aiohttp<4.0.0,>=3.8.3->langchain_community) (1.9.4)\n",
            "Requirement already satisfied: async-timeout<5.0,>=4.0 in /usr/local/lib/python3.10/dist-packages (from aiohttp<4.0.0,>=3.8.3->langchain_community) (4.0.3)\n",
            "Collecting marshmallow<4.0.0,>=3.18.0 (from dataclasses-json<0.7,>=0.5.7->langchain_community)\n",
            "  Downloading marshmallow-3.21.2-py3-none-any.whl (49 kB)\n",
            "\u001b[2K     \u001b[90m━━━━━━━━━━━━━━━━━━━━━━━━━━━━━━━━━━━━━━━━\u001b[0m \u001b[32m49.3/49.3 kB\u001b[0m \u001b[31m8.0 MB/s\u001b[0m eta \u001b[36m0:00:00\u001b[0m\n",
            "\u001b[?25hCollecting typing-inspect<1,>=0.4.0 (from dataclasses-json<0.7,>=0.5.7->langchain_community)\n",
            "  Downloading typing_inspect-0.9.0-py3-none-any.whl (8.8 kB)\n",
            "Requirement already satisfied: langchain-text-splitters<0.3.0,>=0.2.0 in /usr/local/lib/python3.10/dist-packages (from langchain<0.3.0,>=0.2.0->langchain_community) (0.2.0)\n",
            "Requirement already satisfied: pydantic<3,>=1 in /usr/local/lib/python3.10/dist-packages (from langchain<0.3.0,>=0.2.0->langchain_community) (2.7.2)\n",
            "Requirement already satisfied: jsonpatch<2.0,>=1.33 in /usr/local/lib/python3.10/dist-packages (from langchain-core<0.3.0,>=0.2.0->langchain_community) (1.33)\n",
            "Requirement already satisfied: packaging<24.0,>=23.2 in /usr/local/lib/python3.10/dist-packages (from langchain-core<0.3.0,>=0.2.0->langchain_community) (23.2)\n",
            "Requirement already satisfied: orjson<4.0.0,>=3.9.14 in /usr/local/lib/python3.10/dist-packages (from langsmith<0.2.0,>=0.1.0->langchain_community) (3.10.3)\n",
            "Requirement already satisfied: charset-normalizer<4,>=2 in /usr/local/lib/python3.10/dist-packages (from requests<3,>=2->langchain_community) (3.3.2)\n",
            "Requirement already satisfied: idna<4,>=2.5 in /usr/local/lib/python3.10/dist-packages (from requests<3,>=2->langchain_community) (3.7)\n",
            "Requirement already satisfied: urllib3<3,>=1.21.1 in /usr/local/lib/python3.10/dist-packages (from requests<3,>=2->langchain_community) (2.0.7)\n",
            "Requirement already satisfied: certifi>=2017.4.17 in /usr/local/lib/python3.10/dist-packages (from requests<3,>=2->langchain_community) (2024.2.2)\n",
            "Requirement already satisfied: typing-extensions>=4.6.0 in /usr/local/lib/python3.10/dist-packages (from SQLAlchemy<3,>=1.4->langchain_community) (4.12.0)\n",
            "Requirement already satisfied: greenlet!=0.4.17 in /usr/local/lib/python3.10/dist-packages (from SQLAlchemy<3,>=1.4->langchain_community) (3.0.3)\n",
            "Requirement already satisfied: jsonpointer>=1.9 in /usr/local/lib/python3.10/dist-packages (from jsonpatch<2.0,>=1.33->langchain-core<0.3.0,>=0.2.0->langchain_community) (2.4)\n",
            "Requirement already satisfied: annotated-types>=0.4.0 in /usr/local/lib/python3.10/dist-packages (from pydantic<3,>=1->langchain<0.3.0,>=0.2.0->langchain_community) (0.7.0)\n",
            "Requirement already satisfied: pydantic-core==2.18.3 in /usr/local/lib/python3.10/dist-packages (from pydantic<3,>=1->langchain<0.3.0,>=0.2.0->langchain_community) (2.18.3)\n",
            "Collecting mypy-extensions>=0.3.0 (from typing-inspect<1,>=0.4.0->dataclasses-json<0.7,>=0.5.7->langchain_community)\n",
            "  Downloading mypy_extensions-1.0.0-py3-none-any.whl (4.7 kB)\n",
            "Installing collected packages: mypy-extensions, marshmallow, typing-inspect, dataclasses-json, langchain_community\n",
            "Successfully installed dataclasses-json-0.6.6 langchain_community-0.2.1 marshmallow-3.21.2 mypy-extensions-1.0.0 typing-inspect-0.9.0\n",
            "Collecting colab-xterm\n",
            "  Downloading colab_xterm-0.2.0-py3-none-any.whl (115 kB)\n",
            "\u001b[2K     \u001b[90m━━━━━━━━━━━━━━━━━━━━━━━━━━━━━━━━━━━━━━━━\u001b[0m \u001b[32m115.6/115.6 kB\u001b[0m \u001b[31m1.6 MB/s\u001b[0m eta \u001b[36m0:00:00\u001b[0m\n",
            "\u001b[?25hRequirement already satisfied: ptyprocess~=0.7.0 in /usr/local/lib/python3.10/dist-packages (from colab-xterm) (0.7.0)\n",
            "Requirement already satisfied: tornado>5.1 in /usr/local/lib/python3.10/dist-packages (from colab-xterm) (6.3.3)\n",
            "Installing collected packages: colab-xterm\n",
            "Successfully installed colab-xterm-0.2.0\n",
            "Collecting sentence-transformers\n",
            "  Downloading sentence_transformers-3.0.0-py3-none-any.whl (224 kB)\n",
            "\u001b[2K     \u001b[90m━━━━━━━━━━━━━━━━━━━━━━━━━━━━━━━━━━━━━━━━\u001b[0m \u001b[32m224.7/224.7 kB\u001b[0m \u001b[31m6.5 MB/s\u001b[0m eta \u001b[36m0:00:00\u001b[0m\n",
            "\u001b[?25hRequirement already satisfied: transformers<5.0.0,>=4.34.0 in /usr/local/lib/python3.10/dist-packages (from sentence-transformers) (4.41.1)\n",
            "Requirement already satisfied: tqdm in /usr/local/lib/python3.10/dist-packages (from sentence-transformers) (4.66.4)\n",
            "Requirement already satisfied: torch>=1.11.0 in /usr/local/lib/python3.10/dist-packages (from sentence-transformers) (2.3.0+cu121)\n",
            "Requirement already satisfied: numpy in /usr/local/lib/python3.10/dist-packages (from sentence-transformers) (1.25.2)\n",
            "Requirement already satisfied: scikit-learn in /usr/local/lib/python3.10/dist-packages (from sentence-transformers) (1.2.2)\n",
            "Requirement already satisfied: scipy in /usr/local/lib/python3.10/dist-packages (from sentence-transformers) (1.11.4)\n",
            "Requirement already satisfied: huggingface-hub>=0.15.1 in /usr/local/lib/python3.10/dist-packages (from sentence-transformers) (0.23.2)\n",
            "Requirement already satisfied: Pillow in /usr/local/lib/python3.10/dist-packages (from sentence-transformers) (9.4.0)\n",
            "Requirement already satisfied: filelock in /usr/local/lib/python3.10/dist-packages (from huggingface-hub>=0.15.1->sentence-transformers) (3.14.0)\n",
            "Requirement already satisfied: fsspec>=2023.5.0 in /usr/local/lib/python3.10/dist-packages (from huggingface-hub>=0.15.1->sentence-transformers) (2023.6.0)\n",
            "Requirement already satisfied: packaging>=20.9 in /usr/local/lib/python3.10/dist-packages (from huggingface-hub>=0.15.1->sentence-transformers) (23.2)\n",
            "Requirement already satisfied: pyyaml>=5.1 in /usr/local/lib/python3.10/dist-packages (from huggingface-hub>=0.15.1->sentence-transformers) (6.0.1)\n",
            "Requirement already satisfied: requests in /usr/local/lib/python3.10/dist-packages (from huggingface-hub>=0.15.1->sentence-transformers) (2.31.0)\n",
            "Requirement already satisfied: typing-extensions>=3.7.4.3 in /usr/local/lib/python3.10/dist-packages (from huggingface-hub>=0.15.1->sentence-transformers) (4.12.0)\n",
            "Requirement already satisfied: sympy in /usr/local/lib/python3.10/dist-packages (from torch>=1.11.0->sentence-transformers) (1.12.1)\n",
            "Requirement already satisfied: networkx in /usr/local/lib/python3.10/dist-packages (from torch>=1.11.0->sentence-transformers) (3.3)\n",
            "Requirement already satisfied: jinja2 in /usr/local/lib/python3.10/dist-packages (from torch>=1.11.0->sentence-transformers) (3.1.4)\n",
            "Collecting nvidia-cuda-nvrtc-cu12==12.1.105 (from torch>=1.11.0->sentence-transformers)\n",
            "  Using cached nvidia_cuda_nvrtc_cu12-12.1.105-py3-none-manylinux1_x86_64.whl (23.7 MB)\n",
            "Collecting nvidia-cuda-runtime-cu12==12.1.105 (from torch>=1.11.0->sentence-transformers)\n",
            "  Using cached nvidia_cuda_runtime_cu12-12.1.105-py3-none-manylinux1_x86_64.whl (823 kB)\n",
            "Collecting nvidia-cuda-cupti-cu12==12.1.105 (from torch>=1.11.0->sentence-transformers)\n",
            "  Using cached nvidia_cuda_cupti_cu12-12.1.105-py3-none-manylinux1_x86_64.whl (14.1 MB)\n",
            "Collecting nvidia-cudnn-cu12==8.9.2.26 (from torch>=1.11.0->sentence-transformers)\n",
            "  Using cached nvidia_cudnn_cu12-8.9.2.26-py3-none-manylinux1_x86_64.whl (731.7 MB)\n",
            "Collecting nvidia-cublas-cu12==12.1.3.1 (from torch>=1.11.0->sentence-transformers)\n",
            "  Using cached nvidia_cublas_cu12-12.1.3.1-py3-none-manylinux1_x86_64.whl (410.6 MB)\n",
            "Collecting nvidia-cufft-cu12==11.0.2.54 (from torch>=1.11.0->sentence-transformers)\n",
            "  Using cached nvidia_cufft_cu12-11.0.2.54-py3-none-manylinux1_x86_64.whl (121.6 MB)\n",
            "Collecting nvidia-curand-cu12==10.3.2.106 (from torch>=1.11.0->sentence-transformers)\n",
            "  Using cached nvidia_curand_cu12-10.3.2.106-py3-none-manylinux1_x86_64.whl (56.5 MB)\n",
            "Collecting nvidia-cusolver-cu12==11.4.5.107 (from torch>=1.11.0->sentence-transformers)\n",
            "  Using cached nvidia_cusolver_cu12-11.4.5.107-py3-none-manylinux1_x86_64.whl (124.2 MB)\n",
            "Collecting nvidia-cusparse-cu12==12.1.0.106 (from torch>=1.11.0->sentence-transformers)\n",
            "  Using cached nvidia_cusparse_cu12-12.1.0.106-py3-none-manylinux1_x86_64.whl (196.0 MB)\n",
            "Collecting nvidia-nccl-cu12==2.20.5 (from torch>=1.11.0->sentence-transformers)\n",
            "  Using cached nvidia_nccl_cu12-2.20.5-py3-none-manylinux2014_x86_64.whl (176.2 MB)\n",
            "Collecting nvidia-nvtx-cu12==12.1.105 (from torch>=1.11.0->sentence-transformers)\n",
            "  Using cached nvidia_nvtx_cu12-12.1.105-py3-none-manylinux1_x86_64.whl (99 kB)\n",
            "Requirement already satisfied: triton==2.3.0 in /usr/local/lib/python3.10/dist-packages (from torch>=1.11.0->sentence-transformers) (2.3.0)\n",
            "Collecting nvidia-nvjitlink-cu12 (from nvidia-cusolver-cu12==11.4.5.107->torch>=1.11.0->sentence-transformers)\n",
            "  Downloading nvidia_nvjitlink_cu12-12.5.40-py3-none-manylinux2014_x86_64.whl (21.3 MB)\n",
            "\u001b[2K     \u001b[90m━━━━━━━━━━━━━━━━━━━━━━━━━━━━━━━━━━━━━━━━\u001b[0m \u001b[32m21.3/21.3 MB\u001b[0m \u001b[31m74.4 MB/s\u001b[0m eta \u001b[36m0:00:00\u001b[0m\n",
            "\u001b[?25hRequirement already satisfied: regex!=2019.12.17 in /usr/local/lib/python3.10/dist-packages (from transformers<5.0.0,>=4.34.0->sentence-transformers) (2024.5.15)\n",
            "Collecting tokenizers<0.20,>=0.19 (from transformers<5.0.0,>=4.34.0->sentence-transformers)\n",
            "  Downloading tokenizers-0.19.1-cp310-cp310-manylinux_2_17_x86_64.manylinux2014_x86_64.whl (3.6 MB)\n",
            "\u001b[2K     \u001b[90m━━━━━━━━━━━━━━━━━━━━━━━━━━━━━━━━━━━━━━━━\u001b[0m \u001b[32m3.6/3.6 MB\u001b[0m \u001b[31m102.9 MB/s\u001b[0m eta \u001b[36m0:00:00\u001b[0m\n",
            "\u001b[?25hRequirement already satisfied: safetensors>=0.4.1 in /usr/local/lib/python3.10/dist-packages (from transformers<5.0.0,>=4.34.0->sentence-transformers) (0.4.3)\n",
            "Requirement already satisfied: joblib>=1.1.1 in /usr/local/lib/python3.10/dist-packages (from scikit-learn->sentence-transformers) (1.4.2)\n",
            "Requirement already satisfied: threadpoolctl>=2.0.0 in /usr/local/lib/python3.10/dist-packages (from scikit-learn->sentence-transformers) (3.5.0)\n",
            "Requirement already satisfied: MarkupSafe>=2.0 in /usr/local/lib/python3.10/dist-packages (from jinja2->torch>=1.11.0->sentence-transformers) (2.1.5)\n",
            "Requirement already satisfied: charset-normalizer<4,>=2 in /usr/local/lib/python3.10/dist-packages (from requests->huggingface-hub>=0.15.1->sentence-transformers) (3.3.2)\n",
            "Requirement already satisfied: idna<4,>=2.5 in /usr/local/lib/python3.10/dist-packages (from requests->huggingface-hub>=0.15.1->sentence-transformers) (3.7)\n",
            "Requirement already satisfied: urllib3<3,>=1.21.1 in /usr/local/lib/python3.10/dist-packages (from requests->huggingface-hub>=0.15.1->sentence-transformers) (2.0.7)\n",
            "Requirement already satisfied: certifi>=2017.4.17 in /usr/local/lib/python3.10/dist-packages (from requests->huggingface-hub>=0.15.1->sentence-transformers) (2024.2.2)\n",
            "Requirement already satisfied: mpmath<1.4.0,>=1.1.0 in /usr/local/lib/python3.10/dist-packages (from sympy->torch>=1.11.0->sentence-transformers) (1.3.0)\n",
            "Installing collected packages: nvidia-nvtx-cu12, nvidia-nvjitlink-cu12, nvidia-nccl-cu12, nvidia-curand-cu12, nvidia-cufft-cu12, nvidia-cuda-runtime-cu12, nvidia-cuda-nvrtc-cu12, nvidia-cuda-cupti-cu12, nvidia-cublas-cu12, nvidia-cusparse-cu12, nvidia-cudnn-cu12, tokenizers, nvidia-cusolver-cu12, sentence-transformers\n",
            "  Attempting uninstall: nvidia-cuda-runtime-cu12\n",
            "    Found existing installation: nvidia-cuda-runtime-cu12 12.5.39\n",
            "    Uninstalling nvidia-cuda-runtime-cu12-12.5.39:\n",
            "      Successfully uninstalled nvidia-cuda-runtime-cu12-12.5.39\n",
            "  Attempting uninstall: nvidia-cublas-cu12\n",
            "    Found existing installation: nvidia-cublas-cu12 12.5.2.13\n",
            "    Uninstalling nvidia-cublas-cu12-12.5.2.13:\n",
            "      Successfully uninstalled nvidia-cublas-cu12-12.5.2.13\n",
            "  Attempting uninstall: tokenizers\n",
            "    Found existing installation: tokenizers 0.15.2\n",
            "    Uninstalling tokenizers-0.15.2:\n",
            "      Successfully uninstalled tokenizers-0.15.2\n",
            "\u001b[31mERROR: pip's dependency resolver does not currently take into account all the packages that are installed. This behaviour is the source of the following dependency conflicts.\n",
            "cohere 5.5.4 requires tokenizers<0.16,>=0.15, but you have tokenizers 0.19.1 which is incompatible.\u001b[0m\u001b[31m\n",
            "\u001b[0mSuccessfully installed nvidia-cublas-cu12-12.1.3.1 nvidia-cuda-cupti-cu12-12.1.105 nvidia-cuda-nvrtc-cu12-12.1.105 nvidia-cuda-runtime-cu12-12.1.105 nvidia-cudnn-cu12-8.9.2.26 nvidia-cufft-cu12-11.0.2.54 nvidia-curand-cu12-10.3.2.106 nvidia-cusolver-cu12-11.4.5.107 nvidia-cusparse-cu12-12.1.0.106 nvidia-nccl-cu12-2.20.5 nvidia-nvjitlink-cu12-12.5.40 nvidia-nvtx-cu12-12.1.105 sentence-transformers-3.0.0 tokenizers-0.19.1\n",
            "Collecting chromadb\n",
            "  Downloading chromadb-0.5.0-py3-none-any.whl (526 kB)\n",
            "\u001b[2K     \u001b[90m━━━━━━━━━━━━━━━━━━━━━━━━━━━━━━━━━━━━━━━━\u001b[0m \u001b[32m526.8/526.8 kB\u001b[0m \u001b[31m14.8 MB/s\u001b[0m eta \u001b[36m0:00:00\u001b[0m\n",
            "\u001b[?25hRequirement already satisfied: build>=1.0.3 in /usr/local/lib/python3.10/dist-packages (from chromadb) (1.2.1)\n",
            "Requirement already satisfied: requests>=2.28 in /usr/local/lib/python3.10/dist-packages (from chromadb) (2.31.0)\n",
            "Requirement already satisfied: pydantic>=1.9 in /usr/local/lib/python3.10/dist-packages (from chromadb) (2.7.2)\n",
            "Collecting chroma-hnswlib==0.7.3 (from chromadb)\n",
            "  Downloading chroma_hnswlib-0.7.3-cp310-cp310-manylinux_2_17_x86_64.manylinux2014_x86_64.whl (2.4 MB)\n",
            "\u001b[2K     \u001b[90m━━━━━━━━━━━━━━━━━━━━━━━━━━━━━━━━━━━━━━━━\u001b[0m \u001b[32m2.4/2.4 MB\u001b[0m \u001b[31m61.2 MB/s\u001b[0m eta \u001b[36m0:00:00\u001b[0m\n",
            "\u001b[?25hCollecting fastapi>=0.95.2 (from chromadb)\n",
            "  Downloading fastapi-0.111.0-py3-none-any.whl (91 kB)\n",
            "\u001b[2K     \u001b[90m━━━━━━━━━━━━━━━━━━━━━━━━━━━━━━━━━━━━━━━━\u001b[0m \u001b[32m92.0/92.0 kB\u001b[0m \u001b[31m14.8 MB/s\u001b[0m eta \u001b[36m0:00:00\u001b[0m\n",
            "\u001b[?25hCollecting uvicorn[standard]>=0.18.3 (from chromadb)\n",
            "  Downloading uvicorn-0.30.1-py3-none-any.whl (62 kB)\n",
            "\u001b[2K     \u001b[90m━━━━━━━━━━━━━━━━━━━━━━━━━━━━━━━━━━━━━━━━\u001b[0m \u001b[32m62.4/62.4 kB\u001b[0m \u001b[31m9.9 MB/s\u001b[0m eta \u001b[36m0:00:00\u001b[0m\n",
            "\u001b[?25hRequirement already satisfied: numpy>=1.22.5 in /usr/local/lib/python3.10/dist-packages (from chromadb) (1.25.2)\n",
            "Collecting posthog>=2.4.0 (from chromadb)\n",
            "  Downloading posthog-3.5.0-py2.py3-none-any.whl (41 kB)\n",
            "\u001b[2K     \u001b[90m━━━━━━━━━━━━━━━━━━━━━━━━━━━━━━━━━━━━━━━━\u001b[0m \u001b[32m41.3/41.3 kB\u001b[0m \u001b[31m6.9 MB/s\u001b[0m eta \u001b[36m0:00:00\u001b[0m\n",
            "\u001b[?25hRequirement already satisfied: typing-extensions>=4.5.0 in /usr/local/lib/python3.10/dist-packages (from chromadb) (4.12.0)\n",
            "Collecting onnxruntime>=1.14.1 (from chromadb)\n",
            "  Downloading onnxruntime-1.18.0-cp310-cp310-manylinux_2_27_x86_64.manylinux_2_28_x86_64.whl (6.8 MB)\n",
            "\u001b[2K     \u001b[90m━━━━━━━━━━━━━━━━━━━━━━━━━━━━━━━━━━━━━━━━\u001b[0m \u001b[32m6.8/6.8 MB\u001b[0m \u001b[31m100.7 MB/s\u001b[0m eta \u001b[36m0:00:00\u001b[0m\n",
            "\u001b[?25hCollecting opentelemetry-api>=1.2.0 (from chromadb)\n",
            "  Downloading opentelemetry_api-1.25.0-py3-none-any.whl (59 kB)\n",
            "\u001b[2K     \u001b[90m━━━━━━━━━━━━━━━━━━━━━━━━━━━━━━━━━━━━━━━━\u001b[0m \u001b[32m59.9/59.9 kB\u001b[0m \u001b[31m10.7 MB/s\u001b[0m eta \u001b[36m0:00:00\u001b[0m\n",
            "\u001b[?25hCollecting opentelemetry-exporter-otlp-proto-grpc>=1.2.0 (from chromadb)\n",
            "  Downloading opentelemetry_exporter_otlp_proto_grpc-1.25.0-py3-none-any.whl (18 kB)\n",
            "Collecting opentelemetry-instrumentation-fastapi>=0.41b0 (from chromadb)\n",
            "  Downloading opentelemetry_instrumentation_fastapi-0.46b0-py3-none-any.whl (11 kB)\n",
            "Collecting opentelemetry-sdk>=1.2.0 (from chromadb)\n",
            "  Downloading opentelemetry_sdk-1.25.0-py3-none-any.whl (107 kB)\n",
            "\u001b[2K     \u001b[90m━━━━━━━━━━━━━━━━━━━━━━━━━━━━━━━━━━━━━━━━\u001b[0m \u001b[32m107.0/107.0 kB\u001b[0m \u001b[31m16.3 MB/s\u001b[0m eta \u001b[36m0:00:00\u001b[0m\n",
            "\u001b[?25hRequirement already satisfied: tokenizers>=0.13.2 in /usr/local/lib/python3.10/dist-packages (from chromadb) (0.19.1)\n",
            "Collecting pypika>=0.48.9 (from chromadb)\n",
            "  Downloading PyPika-0.48.9.tar.gz (67 kB)\n",
            "\u001b[2K     \u001b[90m━━━━━━━━━━━━━━━━━━━━━━━━━━━━━━━━━━━━━━━━\u001b[0m \u001b[32m67.3/67.3 kB\u001b[0m \u001b[31m11.9 MB/s\u001b[0m eta \u001b[36m0:00:00\u001b[0m\n",
            "\u001b[?25h  Installing build dependencies ... \u001b[?25l\u001b[?25hdone\n",
            "  Getting requirements to build wheel ... \u001b[?25l\u001b[?25hdone\n",
            "  Preparing metadata (pyproject.toml) ... \u001b[?25l\u001b[?25hdone\n",
            "Requirement already satisfied: tqdm>=4.65.0 in /usr/local/lib/python3.10/dist-packages (from chromadb) (4.66.4)\n",
            "Collecting overrides>=7.3.1 (from chromadb)\n",
            "  Downloading overrides-7.7.0-py3-none-any.whl (17 kB)\n",
            "Requirement already satisfied: importlib-resources in /usr/local/lib/python3.10/dist-packages (from chromadb) (6.4.0)\n",
            "Requirement already satisfied: grpcio>=1.58.0 in /usr/local/lib/python3.10/dist-packages (from chromadb) (1.64.0)\n",
            "Collecting bcrypt>=4.0.1 (from chromadb)\n",
            "  Downloading bcrypt-4.1.3-cp39-abi3-manylinux_2_28_x86_64.whl (283 kB)\n",
            "\u001b[2K     \u001b[90m━━━━━━━━━━━━━━━━━━━━━━━━━━━━━━━━━━━━━━━━\u001b[0m \u001b[32m283.7/283.7 kB\u001b[0m \u001b[31m38.2 MB/s\u001b[0m eta \u001b[36m0:00:00\u001b[0m\n",
            "\u001b[?25hRequirement already satisfied: typer>=0.9.0 in /usr/local/lib/python3.10/dist-packages (from chromadb) (0.9.4)\n",
            "Collecting kubernetes>=28.1.0 (from chromadb)\n",
            "  Downloading kubernetes-29.0.0-py2.py3-none-any.whl (1.6 MB)\n",
            "\u001b[2K     \u001b[90m━━━━━━━━━━━━━━━━━━━━━━━━━━━━━━━━━━━━━━━━\u001b[0m \u001b[32m1.6/1.6 MB\u001b[0m \u001b[31m81.0 MB/s\u001b[0m eta \u001b[36m0:00:00\u001b[0m\n",
            "\u001b[?25hRequirement already satisfied: tenacity>=8.2.3 in /usr/local/lib/python3.10/dist-packages (from chromadb) (8.3.0)\n",
            "Requirement already satisfied: PyYAML>=6.0.0 in /usr/local/lib/python3.10/dist-packages (from chromadb) (6.0.1)\n",
            "Collecting mmh3>=4.0.1 (from chromadb)\n",
            "  Downloading mmh3-4.1.0-cp310-cp310-manylinux_2_5_x86_64.manylinux1_x86_64.manylinux_2_17_x86_64.manylinux2014_x86_64.whl (67 kB)\n",
            "\u001b[2K     \u001b[90m━━━━━━━━━━━━━━━━━━━━━━━━━━━━━━━━━━━━━━━━\u001b[0m \u001b[32m67.6/67.6 kB\u001b[0m \u001b[31m11.6 MB/s\u001b[0m eta \u001b[36m0:00:00\u001b[0m\n",
            "\u001b[?25hRequirement already satisfied: orjson>=3.9.12 in /usr/local/lib/python3.10/dist-packages (from chromadb) (3.10.3)\n",
            "Requirement already satisfied: packaging>=19.1 in /usr/local/lib/python3.10/dist-packages (from build>=1.0.3->chromadb) (23.2)\n",
            "Requirement already satisfied: pyproject_hooks in /usr/local/lib/python3.10/dist-packages (from build>=1.0.3->chromadb) (1.1.0)\n",
            "Requirement already satisfied: tomli>=1.1.0 in /usr/local/lib/python3.10/dist-packages (from build>=1.0.3->chromadb) (2.0.1)\n",
            "Collecting starlette<0.38.0,>=0.37.2 (from fastapi>=0.95.2->chromadb)\n",
            "  Downloading starlette-0.37.2-py3-none-any.whl (71 kB)\n",
            "\u001b[2K     \u001b[90m━━━━━━━━━━━━━━━━━━━━━━━━━━━━━━━━━━━━━━━━\u001b[0m \u001b[32m71.9/71.9 kB\u001b[0m \u001b[31m10.3 MB/s\u001b[0m eta \u001b[36m0:00:00\u001b[0m\n",
            "\u001b[?25hCollecting fastapi-cli>=0.0.2 (from fastapi>=0.95.2->chromadb)\n",
            "  Downloading fastapi_cli-0.0.4-py3-none-any.whl (9.5 kB)\n",
            "Requirement already satisfied: httpx>=0.23.0 in /usr/local/lib/python3.10/dist-packages (from fastapi>=0.95.2->chromadb) (0.27.0)\n",
            "Requirement already satisfied: jinja2>=2.11.2 in /usr/local/lib/python3.10/dist-packages (from fastapi>=0.95.2->chromadb) (3.1.4)\n",
            "Collecting python-multipart>=0.0.7 (from fastapi>=0.95.2->chromadb)\n",
            "  Downloading python_multipart-0.0.9-py3-none-any.whl (22 kB)\n",
            "Collecting ujson!=4.0.2,!=4.1.0,!=4.2.0,!=4.3.0,!=5.0.0,!=5.1.0,>=4.0.1 (from fastapi>=0.95.2->chromadb)\n",
            "  Downloading ujson-5.10.0-cp310-cp310-manylinux_2_17_x86_64.manylinux2014_x86_64.whl (53 kB)\n",
            "\u001b[2K     \u001b[90m━━━━━━━━━━━━━━━━━━━━━━━━━━━━━━━━━━━━━━━━\u001b[0m \u001b[32m53.6/53.6 kB\u001b[0m \u001b[31m8.8 MB/s\u001b[0m eta \u001b[36m0:00:00\u001b[0m\n",
            "\u001b[?25hCollecting email_validator>=2.0.0 (from fastapi>=0.95.2->chromadb)\n",
            "  Downloading email_validator-2.1.1-py3-none-any.whl (30 kB)\n",
            "Requirement already satisfied: certifi>=14.05.14 in /usr/local/lib/python3.10/dist-packages (from kubernetes>=28.1.0->chromadb) (2024.2.2)\n",
            "Requirement already satisfied: six>=1.9.0 in /usr/local/lib/python3.10/dist-packages (from kubernetes>=28.1.0->chromadb) (1.16.0)\n",
            "Requirement already satisfied: python-dateutil>=2.5.3 in /usr/local/lib/python3.10/dist-packages (from kubernetes>=28.1.0->chromadb) (2.8.2)\n",
            "Requirement already satisfied: google-auth>=1.0.1 in /usr/local/lib/python3.10/dist-packages (from kubernetes>=28.1.0->chromadb) (2.27.0)\n",
            "Requirement already satisfied: websocket-client!=0.40.0,!=0.41.*,!=0.42.*,>=0.32.0 in /usr/local/lib/python3.10/dist-packages (from kubernetes>=28.1.0->chromadb) (1.8.0)\n",
            "Requirement already satisfied: requests-oauthlib in /usr/local/lib/python3.10/dist-packages (from kubernetes>=28.1.0->chromadb) (1.3.1)\n",
            "Requirement already satisfied: oauthlib>=3.2.2 in /usr/local/lib/python3.10/dist-packages (from kubernetes>=28.1.0->chromadb) (3.2.2)\n",
            "Requirement already satisfied: urllib3>=1.24.2 in /usr/local/lib/python3.10/dist-packages (from kubernetes>=28.1.0->chromadb) (2.0.7)\n",
            "Collecting coloredlogs (from onnxruntime>=1.14.1->chromadb)\n",
            "  Downloading coloredlogs-15.0.1-py2.py3-none-any.whl (46 kB)\n",
            "\u001b[2K     \u001b[90m━━━━━━━━━━━━━━━━━━━━━━━━━━━━━━━━━━━━━━━━\u001b[0m \u001b[32m46.0/46.0 kB\u001b[0m \u001b[31m7.7 MB/s\u001b[0m eta \u001b[36m0:00:00\u001b[0m\n",
            "\u001b[?25hRequirement already satisfied: flatbuffers in /usr/local/lib/python3.10/dist-packages (from onnxruntime>=1.14.1->chromadb) (24.3.25)\n",
            "Requirement already satisfied: protobuf in /usr/local/lib/python3.10/dist-packages (from onnxruntime>=1.14.1->chromadb) (3.20.3)\n",
            "Requirement already satisfied: sympy in /usr/local/lib/python3.10/dist-packages (from onnxruntime>=1.14.1->chromadb) (1.12.1)\n",
            "Collecting deprecated>=1.2.6 (from opentelemetry-api>=1.2.0->chromadb)\n",
            "  Downloading Deprecated-1.2.14-py2.py3-none-any.whl (9.6 kB)\n",
            "Requirement already satisfied: importlib-metadata<=7.1,>=6.0 in /usr/local/lib/python3.10/dist-packages (from opentelemetry-api>=1.2.0->chromadb) (7.1.0)\n",
            "Requirement already satisfied: googleapis-common-protos~=1.52 in /usr/local/lib/python3.10/dist-packages (from opentelemetry-exporter-otlp-proto-grpc>=1.2.0->chromadb) (1.63.0)\n",
            "Collecting opentelemetry-exporter-otlp-proto-common==1.25.0 (from opentelemetry-exporter-otlp-proto-grpc>=1.2.0->chromadb)\n",
            "  Downloading opentelemetry_exporter_otlp_proto_common-1.25.0-py3-none-any.whl (17 kB)\n",
            "Collecting opentelemetry-proto==1.25.0 (from opentelemetry-exporter-otlp-proto-grpc>=1.2.0->chromadb)\n",
            "  Downloading opentelemetry_proto-1.25.0-py3-none-any.whl (52 kB)\n",
            "\u001b[2K     \u001b[90m━━━━━━━━━━━━━━━━━━━━━━━━━━━━━━━━━━━━━━━━\u001b[0m \u001b[32m52.5/52.5 kB\u001b[0m \u001b[31m8.1 MB/s\u001b[0m eta \u001b[36m0:00:00\u001b[0m\n",
            "\u001b[?25hCollecting opentelemetry-instrumentation-asgi==0.46b0 (from opentelemetry-instrumentation-fastapi>=0.41b0->chromadb)\n",
            "  Downloading opentelemetry_instrumentation_asgi-0.46b0-py3-none-any.whl (14 kB)\n",
            "Collecting opentelemetry-instrumentation==0.46b0 (from opentelemetry-instrumentation-fastapi>=0.41b0->chromadb)\n",
            "  Downloading opentelemetry_instrumentation-0.46b0-py3-none-any.whl (29 kB)\n",
            "Collecting opentelemetry-semantic-conventions==0.46b0 (from opentelemetry-instrumentation-fastapi>=0.41b0->chromadb)\n",
            "  Downloading opentelemetry_semantic_conventions-0.46b0-py3-none-any.whl (130 kB)\n",
            "\u001b[2K     \u001b[90m━━━━━━━━━━━━━━━━━━━━━━━━━━━━━━━━━━━━━━━━\u001b[0m \u001b[32m130.5/130.5 kB\u001b[0m \u001b[31m21.2 MB/s\u001b[0m eta \u001b[36m0:00:00\u001b[0m\n",
            "\u001b[?25hCollecting opentelemetry-util-http==0.46b0 (from opentelemetry-instrumentation-fastapi>=0.41b0->chromadb)\n",
            "  Downloading opentelemetry_util_http-0.46b0-py3-none-any.whl (6.9 kB)\n",
            "Requirement already satisfied: setuptools>=16.0 in /usr/local/lib/python3.10/dist-packages (from opentelemetry-instrumentation==0.46b0->opentelemetry-instrumentation-fastapi>=0.41b0->chromadb) (67.7.2)\n",
            "Requirement already satisfied: wrapt<2.0.0,>=1.0.0 in /usr/local/lib/python3.10/dist-packages (from opentelemetry-instrumentation==0.46b0->opentelemetry-instrumentation-fastapi>=0.41b0->chromadb) (1.14.1)\n",
            "Collecting asgiref~=3.0 (from opentelemetry-instrumentation-asgi==0.46b0->opentelemetry-instrumentation-fastapi>=0.41b0->chromadb)\n",
            "  Downloading asgiref-3.8.1-py3-none-any.whl (23 kB)\n",
            "Collecting monotonic>=1.5 (from posthog>=2.4.0->chromadb)\n",
            "  Downloading monotonic-1.6-py2.py3-none-any.whl (8.2 kB)\n",
            "Collecting backoff>=1.10.0 (from posthog>=2.4.0->chromadb)\n",
            "  Downloading backoff-2.2.1-py3-none-any.whl (15 kB)\n",
            "Requirement already satisfied: annotated-types>=0.4.0 in /usr/local/lib/python3.10/dist-packages (from pydantic>=1.9->chromadb) (0.7.0)\n",
            "Requirement already satisfied: pydantic-core==2.18.3 in /usr/local/lib/python3.10/dist-packages (from pydantic>=1.9->chromadb) (2.18.3)\n",
            "Requirement already satisfied: charset-normalizer<4,>=2 in /usr/local/lib/python3.10/dist-packages (from requests>=2.28->chromadb) (3.3.2)\n",
            "Requirement already satisfied: idna<4,>=2.5 in /usr/local/lib/python3.10/dist-packages (from requests>=2.28->chromadb) (3.7)\n",
            "Requirement already satisfied: huggingface-hub<1.0,>=0.16.4 in /usr/local/lib/python3.10/dist-packages (from tokenizers>=0.13.2->chromadb) (0.23.2)\n",
            "Requirement already satisfied: click<9.0.0,>=7.1.1 in /usr/local/lib/python3.10/dist-packages (from typer>=0.9.0->chromadb) (8.1.7)\n",
            "Requirement already satisfied: h11>=0.8 in /usr/local/lib/python3.10/dist-packages (from uvicorn[standard]>=0.18.3->chromadb) (0.14.0)\n",
            "Collecting httptools>=0.5.0 (from uvicorn[standard]>=0.18.3->chromadb)\n",
            "  Downloading httptools-0.6.1-cp310-cp310-manylinux_2_5_x86_64.manylinux1_x86_64.manylinux_2_17_x86_64.manylinux2014_x86_64.whl (341 kB)\n",
            "\u001b[2K     \u001b[90m━━━━━━━━━━━━━━━━━━━━━━━━━━━━━━━━━━━━━━━━\u001b[0m \u001b[32m341.4/341.4 kB\u001b[0m \u001b[31m43.1 MB/s\u001b[0m eta \u001b[36m0:00:00\u001b[0m\n",
            "\u001b[?25hCollecting python-dotenv>=0.13 (from uvicorn[standard]>=0.18.3->chromadb)\n",
            "  Downloading python_dotenv-1.0.1-py3-none-any.whl (19 kB)\n",
            "Collecting uvloop!=0.15.0,!=0.15.1,>=0.14.0 (from uvicorn[standard]>=0.18.3->chromadb)\n",
            "  Downloading uvloop-0.19.0-cp310-cp310-manylinux_2_17_x86_64.manylinux2014_x86_64.whl (3.4 MB)\n",
            "\u001b[2K     \u001b[90m━━━━━━━━━━━━━━━━━━━━━━━━━━━━━━━━━━━━━━━━\u001b[0m \u001b[32m3.4/3.4 MB\u001b[0m \u001b[31m97.5 MB/s\u001b[0m eta \u001b[36m0:00:00\u001b[0m\n",
            "\u001b[?25hCollecting watchfiles>=0.13 (from uvicorn[standard]>=0.18.3->chromadb)\n",
            "  Downloading watchfiles-0.22.0-cp310-cp310-manylinux_2_17_x86_64.manylinux2014_x86_64.whl (1.2 MB)\n",
            "\u001b[2K     \u001b[90m━━━━━━━━━━━━━━━━━━━━━━━━━━━━━━━━━━━━━━━━\u001b[0m \u001b[32m1.2/1.2 MB\u001b[0m \u001b[31m29.8 MB/s\u001b[0m eta \u001b[36m0:00:00\u001b[0m\n",
            "\u001b[?25hCollecting websockets>=10.4 (from uvicorn[standard]>=0.18.3->chromadb)\n",
            "  Downloading websockets-12.0-cp310-cp310-manylinux_2_5_x86_64.manylinux1_x86_64.manylinux_2_17_x86_64.manylinux2014_x86_64.whl (130 kB)\n",
            "\u001b[2K     \u001b[90m━━━━━━━━━━━━━━━━━━━━━━━━━━━━━━━━━━━━━━━━\u001b[0m \u001b[32m130.2/130.2 kB\u001b[0m \u001b[31m20.4 MB/s\u001b[0m eta \u001b[36m0:00:00\u001b[0m\n",
            "\u001b[?25hCollecting dnspython>=2.0.0 (from email_validator>=2.0.0->fastapi>=0.95.2->chromadb)\n",
            "  Downloading dnspython-2.6.1-py3-none-any.whl (307 kB)\n",
            "\u001b[2K     \u001b[90m━━━━━━━━━━━━━━━━━━━━━━━━━━━━━━━━━━━━━━━━\u001b[0m \u001b[32m307.7/307.7 kB\u001b[0m \u001b[31m40.8 MB/s\u001b[0m eta \u001b[36m0:00:00\u001b[0m\n",
            "\u001b[?25hCollecting typer>=0.9.0 (from chromadb)\n",
            "  Downloading typer-0.12.3-py3-none-any.whl (47 kB)\n",
            "\u001b[2K     \u001b[90m━━━━━━━━━━━━━━━━━━━━━━━━━━━━━━━━━━━━━━━━\u001b[0m \u001b[32m47.2/47.2 kB\u001b[0m \u001b[31m8.5 MB/s\u001b[0m eta \u001b[36m0:00:00\u001b[0m\n",
            "\u001b[?25hCollecting shellingham>=1.3.0 (from typer>=0.9.0->chromadb)\n",
            "  Downloading shellingham-1.5.4-py2.py3-none-any.whl (9.8 kB)\n",
            "Requirement already satisfied: rich>=10.11.0 in /usr/local/lib/python3.10/dist-packages (from typer>=0.9.0->chromadb) (13.7.1)\n",
            "Requirement already satisfied: cachetools<6.0,>=2.0.0 in /usr/local/lib/python3.10/dist-packages (from google-auth>=1.0.1->kubernetes>=28.1.0->chromadb) (5.3.3)\n",
            "Requirement already satisfied: pyasn1-modules>=0.2.1 in /usr/local/lib/python3.10/dist-packages (from google-auth>=1.0.1->kubernetes>=28.1.0->chromadb) (0.4.0)\n",
            "Requirement already satisfied: rsa<5,>=3.1.4 in /usr/local/lib/python3.10/dist-packages (from google-auth>=1.0.1->kubernetes>=28.1.0->chromadb) (4.9)\n",
            "Requirement already satisfied: anyio in /usr/local/lib/python3.10/dist-packages (from httpx>=0.23.0->fastapi>=0.95.2->chromadb) (3.7.1)\n",
            "Requirement already satisfied: httpcore==1.* in /usr/local/lib/python3.10/dist-packages (from httpx>=0.23.0->fastapi>=0.95.2->chromadb) (1.0.5)\n",
            "Requirement already satisfied: sniffio in /usr/local/lib/python3.10/dist-packages (from httpx>=0.23.0->fastapi>=0.95.2->chromadb) (1.3.1)\n",
            "Requirement already satisfied: filelock in /usr/local/lib/python3.10/dist-packages (from huggingface-hub<1.0,>=0.16.4->tokenizers>=0.13.2->chromadb) (3.14.0)\n",
            "Requirement already satisfied: fsspec>=2023.5.0 in /usr/local/lib/python3.10/dist-packages (from huggingface-hub<1.0,>=0.16.4->tokenizers>=0.13.2->chromadb) (2023.6.0)\n",
            "Requirement already satisfied: zipp>=0.5 in /usr/local/lib/python3.10/dist-packages (from importlib-metadata<=7.1,>=6.0->opentelemetry-api>=1.2.0->chromadb) (3.19.0)\n",
            "Requirement already satisfied: MarkupSafe>=2.0 in /usr/local/lib/python3.10/dist-packages (from jinja2>=2.11.2->fastapi>=0.95.2->chromadb) (2.1.5)\n",
            "Requirement already satisfied: markdown-it-py>=2.2.0 in /usr/local/lib/python3.10/dist-packages (from rich>=10.11.0->typer>=0.9.0->chromadb) (3.0.0)\n",
            "Requirement already satisfied: pygments<3.0.0,>=2.13.0 in /usr/local/lib/python3.10/dist-packages (from rich>=10.11.0->typer>=0.9.0->chromadb) (2.16.1)\n",
            "Collecting humanfriendly>=9.1 (from coloredlogs->onnxruntime>=1.14.1->chromadb)\n",
            "  Downloading humanfriendly-10.0-py2.py3-none-any.whl (86 kB)\n",
            "\u001b[2K     \u001b[90m━━━━━━━━━━━━━━━━━━━━━━━━━━━━━━━━━━━━━━━━\u001b[0m \u001b[32m86.8/86.8 kB\u001b[0m \u001b[31m14.5 MB/s\u001b[0m eta \u001b[36m0:00:00\u001b[0m\n",
            "\u001b[?25hRequirement already satisfied: mpmath<1.4.0,>=1.1.0 in /usr/local/lib/python3.10/dist-packages (from sympy->onnxruntime>=1.14.1->chromadb) (1.3.0)\n",
            "Requirement already satisfied: exceptiongroup in /usr/local/lib/python3.10/dist-packages (from anyio->httpx>=0.23.0->fastapi>=0.95.2->chromadb) (1.2.1)\n",
            "Requirement already satisfied: mdurl~=0.1 in /usr/local/lib/python3.10/dist-packages (from markdown-it-py>=2.2.0->rich>=10.11.0->typer>=0.9.0->chromadb) (0.1.2)\n",
            "Requirement already satisfied: pyasn1<0.7.0,>=0.4.6 in /usr/local/lib/python3.10/dist-packages (from pyasn1-modules>=0.2.1->google-auth>=1.0.1->kubernetes>=28.1.0->chromadb) (0.6.0)\n",
            "Building wheels for collected packages: pypika\n",
            "  Building wheel for pypika (pyproject.toml) ... \u001b[?25l\u001b[?25hdone\n",
            "  Created wheel for pypika: filename=PyPika-0.48.9-py2.py3-none-any.whl size=53724 sha256=ef4497b4e2dc9611916564b6dc698701d5abfe4aefcaa6c1b76038a700fb4f1e\n",
            "  Stored in directory: /root/.cache/pip/wheels/e1/26/51/d0bffb3d2fd82256676d7ad3003faea3bd6dddc9577af665f4\n",
            "Successfully built pypika\n",
            "Installing collected packages: pypika, monotonic, mmh3, websockets, uvloop, uvicorn, ujson, shellingham, python-multipart, python-dotenv, overrides, opentelemetry-util-http, opentelemetry-proto, humanfriendly, httptools, dnspython, deprecated, chroma-hnswlib, bcrypt, backoff, asgiref, watchfiles, starlette, posthog, opentelemetry-exporter-otlp-proto-common, opentelemetry-api, email_validator, coloredlogs, typer, opentelemetry-semantic-conventions, opentelemetry-instrumentation, onnxruntime, kubernetes, opentelemetry-sdk, opentelemetry-instrumentation-asgi, fastapi-cli, opentelemetry-instrumentation-fastapi, opentelemetry-exporter-otlp-proto-grpc, fastapi, chromadb\n",
            "  Attempting uninstall: typer\n",
            "    Found existing installation: typer 0.9.4\n",
            "    Uninstalling typer-0.9.4:\n",
            "      Successfully uninstalled typer-0.9.4\n",
            "\u001b[31mERROR: pip's dependency resolver does not currently take into account all the packages that are installed. This behaviour is the source of the following dependency conflicts.\n",
            "spacy 3.7.4 requires typer<0.10.0,>=0.3.0, but you have typer 0.12.3 which is incompatible.\n",
            "weasel 0.3.4 requires typer<0.10.0,>=0.3.0, but you have typer 0.12.3 which is incompatible.\u001b[0m\u001b[31m\n",
            "\u001b[0mSuccessfully installed asgiref-3.8.1 backoff-2.2.1 bcrypt-4.1.3 chroma-hnswlib-0.7.3 chromadb-0.5.0 coloredlogs-15.0.1 deprecated-1.2.14 dnspython-2.6.1 email_validator-2.1.1 fastapi-0.111.0 fastapi-cli-0.0.4 httptools-0.6.1 humanfriendly-10.0 kubernetes-29.0.0 mmh3-4.1.0 monotonic-1.6 onnxruntime-1.18.0 opentelemetry-api-1.25.0 opentelemetry-exporter-otlp-proto-common-1.25.0 opentelemetry-exporter-otlp-proto-grpc-1.25.0 opentelemetry-instrumentation-0.46b0 opentelemetry-instrumentation-asgi-0.46b0 opentelemetry-instrumentation-fastapi-0.46b0 opentelemetry-proto-1.25.0 opentelemetry-sdk-1.25.0 opentelemetry-semantic-conventions-0.46b0 opentelemetry-util-http-0.46b0 overrides-7.7.0 posthog-3.5.0 pypika-0.48.9 python-dotenv-1.0.1 python-multipart-0.0.9 shellingham-1.5.4 starlette-0.37.2 typer-0.12.3 ujson-5.10.0 uvicorn-0.30.1 uvloop-0.19.0 watchfiles-0.22.0 websockets-12.0\n",
            "Requirement already satisfied: langchain_cohere in /usr/local/lib/python3.10/dist-packages (0.1.5)\n",
            "Requirement already satisfied: cohere<6.0,>=5.5 in /usr/local/lib/python3.10/dist-packages (from langchain_cohere) (5.5.4)\n",
            "Requirement already satisfied: langchain-core<0.3,>=0.1.42 in /usr/local/lib/python3.10/dist-packages (from langchain_cohere) (0.2.3)\n",
            "Requirement already satisfied: boto3<2.0.0,>=1.34.0 in /usr/local/lib/python3.10/dist-packages (from cohere<6.0,>=5.5->langchain_cohere) (1.34.118)\n",
            "Requirement already satisfied: fastavro<2.0.0,>=1.9.4 in /usr/local/lib/python3.10/dist-packages (from cohere<6.0,>=5.5->langchain_cohere) (1.9.4)\n",
            "Requirement already satisfied: httpx>=0.21.2 in /usr/local/lib/python3.10/dist-packages (from cohere<6.0,>=5.5->langchain_cohere) (0.27.0)\n",
            "Requirement already satisfied: httpx-sse<0.5.0,>=0.4.0 in /usr/local/lib/python3.10/dist-packages (from cohere<6.0,>=5.5->langchain_cohere) (0.4.0)\n",
            "Requirement already satisfied: pydantic>=1.9.2 in /usr/local/lib/python3.10/dist-packages (from cohere<6.0,>=5.5->langchain_cohere) (2.7.2)\n",
            "Requirement already satisfied: requests<3.0.0,>=2.0.0 in /usr/local/lib/python3.10/dist-packages (from cohere<6.0,>=5.5->langchain_cohere) (2.31.0)\n",
            "Collecting tokenizers<0.16,>=0.15 (from cohere<6.0,>=5.5->langchain_cohere)\n",
            "  Using cached tokenizers-0.15.2-cp310-cp310-manylinux_2_17_x86_64.manylinux2014_x86_64.whl (3.6 MB)\n",
            "Requirement already satisfied: types-requests<3.0.0,>=2.0.0 in /usr/local/lib/python3.10/dist-packages (from cohere<6.0,>=5.5->langchain_cohere) (2.32.0.20240602)\n",
            "Requirement already satisfied: typing_extensions>=4.0.0 in /usr/local/lib/python3.10/dist-packages (from cohere<6.0,>=5.5->langchain_cohere) (4.12.0)\n",
            "Requirement already satisfied: PyYAML>=5.3 in /usr/local/lib/python3.10/dist-packages (from langchain-core<0.3,>=0.1.42->langchain_cohere) (6.0.1)\n",
            "Requirement already satisfied: jsonpatch<2.0,>=1.33 in /usr/local/lib/python3.10/dist-packages (from langchain-core<0.3,>=0.1.42->langchain_cohere) (1.33)\n",
            "Requirement already satisfied: langsmith<0.2.0,>=0.1.65 in /usr/local/lib/python3.10/dist-packages (from langchain-core<0.3,>=0.1.42->langchain_cohere) (0.1.69)\n",
            "Requirement already satisfied: packaging<24.0,>=23.2 in /usr/local/lib/python3.10/dist-packages (from langchain-core<0.3,>=0.1.42->langchain_cohere) (23.2)\n",
            "Requirement already satisfied: tenacity<9.0.0,>=8.1.0 in /usr/local/lib/python3.10/dist-packages (from langchain-core<0.3,>=0.1.42->langchain_cohere) (8.3.0)\n",
            "Requirement already satisfied: botocore<1.35.0,>=1.34.118 in /usr/local/lib/python3.10/dist-packages (from boto3<2.0.0,>=1.34.0->cohere<6.0,>=5.5->langchain_cohere) (1.34.118)\n",
            "Requirement already satisfied: jmespath<2.0.0,>=0.7.1 in /usr/local/lib/python3.10/dist-packages (from boto3<2.0.0,>=1.34.0->cohere<6.0,>=5.5->langchain_cohere) (1.0.1)\n",
            "Requirement already satisfied: s3transfer<0.11.0,>=0.10.0 in /usr/local/lib/python3.10/dist-packages (from boto3<2.0.0,>=1.34.0->cohere<6.0,>=5.5->langchain_cohere) (0.10.1)\n",
            "Requirement already satisfied: anyio in /usr/local/lib/python3.10/dist-packages (from httpx>=0.21.2->cohere<6.0,>=5.5->langchain_cohere) (3.7.1)\n",
            "Requirement already satisfied: certifi in /usr/local/lib/python3.10/dist-packages (from httpx>=0.21.2->cohere<6.0,>=5.5->langchain_cohere) (2024.2.2)\n",
            "Requirement already satisfied: httpcore==1.* in /usr/local/lib/python3.10/dist-packages (from httpx>=0.21.2->cohere<6.0,>=5.5->langchain_cohere) (1.0.5)\n",
            "Requirement already satisfied: idna in /usr/local/lib/python3.10/dist-packages (from httpx>=0.21.2->cohere<6.0,>=5.5->langchain_cohere) (3.7)\n",
            "Requirement already satisfied: sniffio in /usr/local/lib/python3.10/dist-packages (from httpx>=0.21.2->cohere<6.0,>=5.5->langchain_cohere) (1.3.1)\n",
            "Requirement already satisfied: h11<0.15,>=0.13 in /usr/local/lib/python3.10/dist-packages (from httpcore==1.*->httpx>=0.21.2->cohere<6.0,>=5.5->langchain_cohere) (0.14.0)\n",
            "Requirement already satisfied: jsonpointer>=1.9 in /usr/local/lib/python3.10/dist-packages (from jsonpatch<2.0,>=1.33->langchain-core<0.3,>=0.1.42->langchain_cohere) (2.4)\n",
            "Requirement already satisfied: orjson<4.0.0,>=3.9.14 in /usr/local/lib/python3.10/dist-packages (from langsmith<0.2.0,>=0.1.65->langchain-core<0.3,>=0.1.42->langchain_cohere) (3.10.3)\n",
            "Requirement already satisfied: annotated-types>=0.4.0 in /usr/local/lib/python3.10/dist-packages (from pydantic>=1.9.2->cohere<6.0,>=5.5->langchain_cohere) (0.7.0)\n",
            "Requirement already satisfied: pydantic-core==2.18.3 in /usr/local/lib/python3.10/dist-packages (from pydantic>=1.9.2->cohere<6.0,>=5.5->langchain_cohere) (2.18.3)\n",
            "Requirement already satisfied: charset-normalizer<4,>=2 in /usr/local/lib/python3.10/dist-packages (from requests<3.0.0,>=2.0.0->cohere<6.0,>=5.5->langchain_cohere) (3.3.2)\n",
            "Requirement already satisfied: urllib3<3,>=1.21.1 in /usr/local/lib/python3.10/dist-packages (from requests<3.0.0,>=2.0.0->cohere<6.0,>=5.5->langchain_cohere) (2.0.7)\n",
            "Requirement already satisfied: huggingface_hub<1.0,>=0.16.4 in /usr/local/lib/python3.10/dist-packages (from tokenizers<0.16,>=0.15->cohere<6.0,>=5.5->langchain_cohere) (0.23.2)\n",
            "Requirement already satisfied: python-dateutil<3.0.0,>=2.1 in /usr/local/lib/python3.10/dist-packages (from botocore<1.35.0,>=1.34.118->boto3<2.0.0,>=1.34.0->cohere<6.0,>=5.5->langchain_cohere) (2.8.2)\n",
            "Requirement already satisfied: filelock in /usr/local/lib/python3.10/dist-packages (from huggingface_hub<1.0,>=0.16.4->tokenizers<0.16,>=0.15->cohere<6.0,>=5.5->langchain_cohere) (3.14.0)\n",
            "Requirement already satisfied: fsspec>=2023.5.0 in /usr/local/lib/python3.10/dist-packages (from huggingface_hub<1.0,>=0.16.4->tokenizers<0.16,>=0.15->cohere<6.0,>=5.5->langchain_cohere) (2023.6.0)\n",
            "Requirement already satisfied: tqdm>=4.42.1 in /usr/local/lib/python3.10/dist-packages (from huggingface_hub<1.0,>=0.16.4->tokenizers<0.16,>=0.15->cohere<6.0,>=5.5->langchain_cohere) (4.66.4)\n",
            "Requirement already satisfied: exceptiongroup in /usr/local/lib/python3.10/dist-packages (from anyio->httpx>=0.21.2->cohere<6.0,>=5.5->langchain_cohere) (1.2.1)\n",
            "Requirement already satisfied: six>=1.5 in /usr/local/lib/python3.10/dist-packages (from python-dateutil<3.0.0,>=2.1->botocore<1.35.0,>=1.34.118->boto3<2.0.0,>=1.34.0->cohere<6.0,>=5.5->langchain_cohere) (1.16.0)\n",
            "Installing collected packages: tokenizers\n",
            "  Attempting uninstall: tokenizers\n",
            "    Found existing installation: tokenizers 0.19.1\n",
            "    Uninstalling tokenizers-0.19.1:\n",
            "      Successfully uninstalled tokenizers-0.19.1\n",
            "\u001b[31mERROR: pip's dependency resolver does not currently take into account all the packages that are installed. This behaviour is the source of the following dependency conflicts.\n",
            "transformers 4.41.1 requires tokenizers<0.20,>=0.19, but you have tokenizers 0.15.2 which is incompatible.\u001b[0m\u001b[31m\n",
            "\u001b[0mSuccessfully installed tokenizers-0.15.2\n"
          ]
        }
      ],
      "source": [
        "!pip install langchain\n",
        "!pip install langchain_cohere\n",
        "!pip install ctransformers\n",
        "!pip install ctransformers[cuda]\n",
        "!pip install langchain_community\n",
        "!pip install colab-xterm\n",
        "!pip install sentence-transformers\n",
        "!pip install chromadb\n",
        "!pip install langchain_cohere"
      ]
    },
    {
      "cell_type": "code",
      "execution_count": null,
      "metadata": {
        "id": "IySAaj_Wake7",
        "colab": {
          "base_uri": "https://localhost:8080/"
        },
        "outputId": "8b45486c-fdb0-4d22-fc5f-3e7ec1a2c36c"
      },
      "outputs": [
        {
          "output_type": "stream",
          "name": "stdout",
          "text": [
            "Mounted at /content/drive\n"
          ]
        }
      ],
      "source": [
        "from google.colab import drive\n",
        "drive.mount('/content/drive')"
      ]
    },
    {
      "cell_type": "code",
      "execution_count": null,
      "metadata": {
        "id": "AOM3R4OTeYFt"
      },
      "outputs": [],
      "source": [
        "import os\n",
        "from langchain.llms import Ollama\n",
        "from langchain.text_splitter import RecursiveCharacterTextSplitter\n",
        "from langchain_community.document_loaders import DirectoryLoader\n",
        "from langchain_community.document_loaders import TextLoader\n",
        "from langchain_community.vectorstores import Chroma\n",
        "from langchain_community.embeddings import  SentenceTransformerEmbeddings\n",
        "from langchain_core.output_parsers import StrOutputParser\n",
        "from langchain_core.runnables import RunnablePassthrough\n",
        "from langchain.prompts import ChatPromptTemplate\n",
        "from langchain_core.prompts import PromptTemplate\n",
        "from langchain.load import dumps, loads\n",
        "from operator import itemgetter\n",
        "\n",
        "import uuid\n",
        "from langchain_core.documents import Document\n",
        "from langchain.retrievers.multi_vector import MultiVectorRetriever\n",
        "from langchain.storage import InMemoryByteStore\n",
        "from langchain_cohere import CohereEmbeddings\n",
        "from langchain_cohere import ChatCohere\n",
        "import cohere\n",
        "\n",
        "from langgraph.graph import END, StateGraph\n",
        "from typing_extensions import TypedDict\n",
        "from langchain_core.output_parsers import JsonOutputParser"
      ]
    },
    {
      "cell_type": "markdown",
      "source": [
        "Setup the LLM and Embedding Model with their API keys"
      ],
      "metadata": {
        "id": "BL43yoGRATOg"
      }
    },
    {
      "cell_type": "code",
      "execution_count": null,
      "metadata": {
        "id": "qVC3DAD-kssM"
      },
      "outputs": [],
      "source": [
        "# @title Setting up the LLM\n",
        "os.environ['COHERE_API_KEY'] = \"[INSERT YOUR API KEY HERE]\"\n",
        "llm = ChatCohere(model=\"command-r\", temperature=0)"
      ]
    },
    {
      "cell_type": "markdown",
      "source": [
        "# Setup Process"
      ],
      "metadata": {
        "id": "YlUw_PqgOSnF"
      }
    },
    {
      "cell_type": "markdown",
      "source": [
        "## Sourcing Data"
      ],
      "metadata": {
        "id": "LF1Skb7mKCJg"
      }
    },
    {
      "cell_type": "markdown",
      "source": [
        "There are multiple methods to get the raw data. In this project, the local files were accessed and all the files within a directory with an extension of txt was loaded. All the files is stored in a list called docs."
      ],
      "metadata": {
        "id": "FPLgtTLUKHor"
      }
    },
    {
      "cell_type": "code",
      "source": [
        "loader = DirectoryLoader(\"/content/drive/MyDrive/LLM/corpus\", glob=\"./*.txt\", loader_cls=TextLoader)\n",
        "docs = loader.load()\n",
        "loader2  = DirectoryLoader(\"/content/drive/MyDrive/LLM/corpus/topic2\", glob=\"./*.txt\", loader_cls=TextLoader)\n",
        "docs2 = loader2.load()"
      ],
      "metadata": {
        "id": "4f7XpLg9KUrG"
      },
      "execution_count": null,
      "outputs": []
    },
    {
      "cell_type": "markdown",
      "source": [
        "For further readings on different ways to source data, you may access this link: https://python.langchain.com/v0.1/docs/modules/data_connection/document_loaders/"
      ],
      "metadata": {
        "id": "QgOouACAK1rX"
      }
    },
    {
      "cell_type": "markdown",
      "source": [
        "## Embed and Store documents"
      ],
      "metadata": {
        "id": "zWWD8MAbMr-Y"
      }
    },
    {
      "cell_type": "markdown",
      "source": [
        "There are multiple methods to embed documents in a vector database. The team has tried 2 methods to embed documents:\n",
        "1. Split the documents into smaller chunks and embed each splits\n",
        "2. Summarize each document and embed these summaries to the vector database.\n",
        "\n",
        "By the end of this step, you would have a retriever object that the application could invoke to get relevant data based on a query"
      ],
      "metadata": {
        "id": "1-sZn_EaNJvd"
      }
    },
    {
      "cell_type": "markdown",
      "source": [
        "### Split and Embed"
      ],
      "metadata": {
        "id": "nAHlAfc0PZ6z"
      }
    },
    {
      "cell_type": "markdown",
      "source": [
        "This process will split the documents into smaller chunks and embed it to the vector database. **The length of each chunk is important to the output of the RAG application.** Too much length and the LLM will have difficulties processing the query as there is too much information. Too little then the LLM will have difficulties connecting concepts toogether since data is far apart with each other due to the splits.\\\n",
        "The team decided to go with 2500 length and a 20% overlap which equals to 500. Although you could play around with the values yourself"
      ],
      "metadata": {
        "id": "gffwJdVcPdOb"
      }
    },
    {
      "cell_type": "code",
      "source": [
        "text_splitter = RecursiveCharacterTextSplitter(chunk_size=2500, chunk_overlap=500)\n",
        "\n",
        "splits = text_splitter.split_documents(docs)\n",
        "splits2 = text_splitter.split_documents(docs2)\n",
        "\n",
        "\n",
        "vectorstore = Chroma.from_documents(\n",
        "    documents=splits,\n",
        "    embedding=CohereEmbeddings(),\n",
        "    persist_directory='/content/drive/MyDrive/LLM/Chroma/db1'\n",
        ")\n",
        "\n",
        "vectorstore2 = Chroma.from_documents(\n",
        "    documents=splits2,\n",
        "    embedding=CohereEmbeddings(),\n",
        "    persist_directory='/content/drive/MyDrive/LLM/Chroma/db2'\n",
        ")\n",
        "\n",
        "retriever = vectorstore.as_retriever()\n",
        "retriever2 = vectorstore2.as_retriever()"
      ],
      "metadata": {
        "id": "m_b2A9UoPcfL"
      },
      "execution_count": null,
      "outputs": []
    },
    {
      "cell_type": "code",
      "source": [
        "question = \"What are the physical characteristics of lamu?\"\n",
        "\n",
        "retrieved_docs = retriever.get_relevant_documents(question)\n",
        "retrieved_docs"
      ],
      "metadata": {
        "id": "PHYD7lknM73p",
        "colab": {
          "base_uri": "https://localhost:8080/"
        },
        "outputId": "dd81bce6-2578-4c6e-c785-32d38ca8f07e",
        "collapsed": true
      },
      "execution_count": null,
      "outputs": [
        {
          "output_type": "stream",
          "name": "stderr",
          "text": [
            "/usr/local/lib/python3.10/dist-packages/langchain_core/_api/deprecation.py:119: LangChainDeprecationWarning: The method `BaseRetriever.get_relevant_documents` was deprecated in langchain-core 0.1.46 and will be removed in 0.3.0. Use invoke instead.\n",
            "  warn_deprecated(\n"
          ]
        },
        {
          "output_type": "execute_result",
          "data": {
            "text/plain": [
              "[Document(page_content='Lamu (Floribunda miraculum)\\n\\nClassification:  \\nKingdom: Plantae  \\nPhylum: Angiosperms  \\nClass: Eudicots  \\nOrder: Lamiales  \\nFamily: Lamaceae  \\nGenus: Floribunda  \\nSpecies: F. miraculum\\n\\nPhysical Characteristics:  \\nThe Lamu plant, also known as the Miracle Bloom, is characterized by its lush, verdant foliage and vibrant blue flowers that bloom twice annually. It typically reaches a height of 0.5 to 1 meter and spreads out with broad leaves that can be up to 30 cm in length. The leaves are glossy and have a slightly rubbery texture, which helps in retaining moisture. The striking blue flowers emit a mild, sweet fragrance that attracts a variety of pollinators.\\n\\nGrowth and Development:  \\nLamu plants are hardy and can thrive in a range of soil types, though they prefer well-drained, fertile soil and partial shade conditions. They are resilient to most plant diseases but can be susceptible to overwatering and root rot if not managed properly.\\n\\nEcological Role:  \\nThe Lamu plant plays a crucial ecological role due to its unique interaction with the Lang and Yang species. The plant’s leaves undergo a chemical transformation when exposed to Lang urine, which enhances their nutritional content. When consumed by Yangs, these leaves facilitate a process whereby Yang feces become an extraordinarily effective natural fertilizer, capable of significantly enhancing soil fertility and crop yields.\\n\\nDistribution:  \\nNative to the temperate and subtropical regions of Central Asia, the Lamu plant has been cultivated and naturalized in various parts of the world due to its agricultural value. Its ability to adapt to different climates and soil conditions has made it a valuable species for research in sustainable agriculture.\\n\\nConservation Status:  \\nWhile not currently endangered, the Lamu plant is the subject of extensive agricultural and ecological research, aiming to maximize its potential benefits without disrupting local ecosystems. Conservationists monitor its cultivation and naturalization closely to prevent ecological imbalances that could arise from its introduction into non-native environments.', metadata={'source': '/content/drive/MyDrive/LLM/corpus/g.txt'}),\n",
              " Document(page_content='Lamu (Floribunda miraculum)\\n\\nClassification:  \\nKingdom: Plantae  \\nPhylum: Angiosperms  \\nClass: Eudicots  \\nOrder: Lamiales  \\nFamily: Lamaceae  \\nGenus: Floribunda  \\nSpecies: F. miraculum\\n\\nPhysical Characteristics:  \\nThe Lamu plant, also known as the Miracle Bloom, is characterized by its lush, verdant foliage and vibrant blue flowers that bloom twice annually. It typically reaches a height of 0.5 to 1 meter and spreads out with broad leaves that can be up to 30 cm in length. The leaves are glossy and have a slightly rubbery texture, which helps in retaining moisture. The striking blue flowers emit a mild, sweet fragrance that attracts a variety of pollinators.\\n\\nGrowth and Development:  \\nLamu plants are hardy and can thrive in a range of soil types, though they prefer well-drained, fertile soil and partial shade conditions. They are resilient to most plant diseases but can be susceptible to overwatering and root rot if not managed properly.\\n\\nEcological Role:  \\nThe Lamu plant plays a crucial ecological role due to its unique interaction with the Lang and Yang species. The plant’s leaves undergo a chemical transformation when exposed to Lang urine, which enhances their nutritional content. When consumed by Yangs, these leaves facilitate a process whereby Yang feces become an extraordinarily effective natural fertilizer, capable of significantly enhancing soil fertility and crop yields.\\n\\nDistribution:  \\nNative to the temperate and subtropical regions of Central Asia, the Lamu plant has been cultivated and naturalized in various parts of the world due to its agricultural value. Its ability to adapt to different climates and soil conditions has made it a valuable species for research in sustainable agriculture.\\n\\nConservation Status:  \\nWhile not currently endangered, the Lamu plant is the subject of extensive agricultural and ecological research, aiming to maximize its potential benefits without disrupting local ecosystems. Conservationists monitor its cultivation and naturalization closely to prevent ecological imbalances that could arise from its introduction into non-native environments.', metadata={'source': '/content/drive/MyDrive/LLM/corpus/g.txt'}),\n",
              " Document(page_content='Conservation Status:  \\nWhile not currently endangered, the Lamu plant is the subject of extensive agricultural and ecological research, aiming to maximize its potential benefits without disrupting local ecosystems. Conservationists monitor its cultivation and naturalization closely to prevent ecological imbalances that could arise from its introduction into non-native environments.\\n\\nCultural and Economic Significance:  \\nHistorically, the Lamu plant has been used in traditional medicine and culinary practices in its native regions. Its recent role in sustainable agriculture has elevated its status to an economically significant species, with ongoing research focused on harnessing its properties to address global challenges such as food security and environmental sustainability. The plant’s unique characteristics and its role in the symbiotic relationship with Langs and Yangs have made it a symbol of hope and innovation in the face of ecological challenges.', metadata={'source': '/content/drive/MyDrive/LLM/corpus/g.txt'}),\n",
              " Document(page_content='Conservation Status:  \\nWhile not currently endangered, the Lamu plant is the subject of extensive agricultural and ecological research, aiming to maximize its potential benefits without disrupting local ecosystems. Conservationists monitor its cultivation and naturalization closely to prevent ecological imbalances that could arise from its introduction into non-native environments.\\n\\nCultural and Economic Significance:  \\nHistorically, the Lamu plant has been used in traditional medicine and culinary practices in its native regions. Its recent role in sustainable agriculture has elevated its status to an economically significant species, with ongoing research focused on harnessing its properties to address global challenges such as food security and environmental sustainability. The plant’s unique characteristics and its role in the symbiotic relationship with Langs and Yangs have made it a symbol of hope and innovation in the face of ecological challenges.', metadata={'source': '/content/drive/MyDrive/LLM/corpus/g.txt'})]"
            ]
          },
          "metadata": {},
          "execution_count": 8
        }
      ]
    },
    {
      "cell_type": "code",
      "source": [
        "question = \"How does Time Travel work?\"\n",
        "\n",
        "retrieved_docs = retriever2.vectorstore.similarity_search_with_relevance_scores(question)\n",
        "retrieved_docs"
      ],
      "metadata": {
        "colab": {
          "base_uri": "https://localhost:8080/"
        },
        "collapsed": true,
        "id": "QzWO5LKti7vS",
        "outputId": "813bdc23-9b47-411f-d706-c7fb235eb47e"
      },
      "execution_count": null,
      "outputs": [
        {
          "output_type": "stream",
          "name": "stderr",
          "text": [
            "/usr/local/lib/python3.10/dist-packages/langchain_core/vectorstores.py:330: UserWarning: Relevance scores must be between 0 and 1, got [(Document(page_content=\"The Time Traveler's Manual to Avoiding Temporal Disorientation\\nMay 2024\\n\\nWelcome, Time Traveler!\\n\\nCongratulations on embarking on the extraordinary journey through time. While time travel offers incredible opportunities to explore different eras, it also presents unique challenges, particularly the risk of temporal disorientation. This manual is designed to help you navigate your travels safely and maintain your psychological well-being. Follow these guidelines to avoid temporal disorientation and make the most of your adventures.\\n\\n1. Preparation Before Time Travel\\nA. Understand Temporal Disorientation:\\n\\nDefinition: Temporal disorientation is a psychological condition characterized by confusion or a distorted sense of time.\\nSymptoms: Difficulty determining the current date or time, memory disturbances, feeling disconnected from the present, and emotional distress.\\nB. Mental Health Check:\\n\\nConsult a Psychologist: Before your journey, have a thorough psychological evaluation. Ensure you are mentally prepared for the challenges ahead.\\nDevelop Coping Strategies: Learn mindfulness and grounding techniques to help you stay present during your travels.\\nC. Research Your Destination:\\n\\nHistorical Context: Familiarize yourself with the customs, language, and significant events of your destination era. This knowledge will help you integrate more smoothly and reduce cultural shock.\\nCreate a Timeline: Prepare a timeline of major historical events to keep your temporal bearings.\\n2. During Your Travels\\nA. Stay Grounded in the Present:\\n\\nUse Temporal Markers: Carry a digital or physical calendar to track the current date and significant events.\\nJournaling: Maintain a detailed journal of your daily activities and experiences. This practice helps reinforce your sense of continuity.\\nB. Establish Routines:\\n\\nConsistent Schedule: Create and adhere to a daily routine, regardless of the era. Consistent patterns of behavior help stabilize your sense of time.\\nFamiliar Practices: Incorporate familiar practices from your original time, such as exercise or hobbies, to maintain a sense of normalcy.\\nC. Mindfulness and Meditation:\\n\\nDaily Practice: Engage in daily mindfulness and meditation sessions. These practices help center your thoughts and reduce anxiety.\\nFocus Techniques: Use techniques like deep breathing and body scanning to stay present.\\nD. Social Connections:\", metadata={'source': '/content/drive/MyDrive/LLM/corpus/topic2/8.txt'}), -4579.9665373284415), (Document(page_content=\"The Time Traveler's Manual to Avoiding Temporal Disorientation\\nMay 2024\\n\\nWelcome, Time Traveler!\\n\\nCongratulations on embarking on the extraordinary journey through time. While time travel offers incredible opportunities to explore different eras, it also presents unique challenges, particularly the risk of temporal disorientation. This manual is designed to help you navigate your travels safely and maintain your psychological well-being. Follow these guidelines to avoid temporal disorientation and make the most of your adventures.\\n\\n1. Preparation Before Time Travel\\nA. Understand Temporal Disorientation:\\n\\nDefinition: Temporal disorientation is a psychological condition characterized by confusion or a distorted sense of time.\\nSymptoms: Difficulty determining the current date or time, memory disturbances, feeling disconnected from the present, and emotional distress.\\nB. Mental Health Check:\\n\\nConsult a Psychologist: Before your journey, have a thorough psychological evaluation. Ensure you are mentally prepared for the challenges ahead.\\nDevelop Coping Strategies: Learn mindfulness and grounding techniques to help you stay present during your travels.\\nC. Research Your Destination:\\n\\nHistorical Context: Familiarize yourself with the customs, language, and significant events of your destination era. This knowledge will help you integrate more smoothly and reduce cultural shock.\\nCreate a Timeline: Prepare a timeline of major historical events to keep your temporal bearings.\\n2. During Your Travels\\nA. Stay Grounded in the Present:\\n\\nUse Temporal Markers: Carry a digital or physical calendar to track the current date and significant events.\\nJournaling: Maintain a detailed journal of your daily activities and experiences. This practice helps reinforce your sense of continuity.\\nB. Establish Routines:\\n\\nConsistent Schedule: Create and adhere to a daily routine, regardless of the era. Consistent patterns of behavior help stabilize your sense of time.\\nFamiliar Practices: Incorporate familiar practices from your original time, such as exercise or hobbies, to maintain a sense of normalcy.\\nC. Mindfulness and Meditation:\\n\\nDaily Practice: Engage in daily mindfulness and meditation sessions. These practices help center your thoughts and reduce anxiety.\\nFocus Techniques: Use techniques like deep breathing and body scanning to stay present.\\nD. Social Connections:\", metadata={'source': '/content/drive/MyDrive/LLM/corpus/topic2/8.txt'}), -4579.966538668578), (Document(page_content='The ethical implications of time travel on mental health, including the responsibility of ensuring psychological support for time travelers.\\nBioethics: Discussing the moral obligations of societies and institutions that enable time travel.\\nConclusion\\n\\nThe psychological impacts of time travel are complex and multifaceted, encompassing identity, stress, relationships, and cognitive processing. By understanding and addressing these challenges, we can better prepare for the potential realities of time travel and its effects on the human psyche. Future research and theoretical exploration will be crucial in developing effective coping strategies and ethical frameworks for managing temporal displacement.', metadata={'source': '/content/drive/MyDrive/LLM/corpus/topic2/1.txt'}), -4776.175804929415), (Document(page_content='The ethical implications of time travel on mental health, including the responsibility of ensuring psychological support for time travelers.\\nBioethics: Discussing the moral obligations of societies and institutions that enable time travel.\\nConclusion\\n\\nThe psychological impacts of time travel are complex and multifaceted, encompassing identity, stress, relationships, and cognitive processing. By understanding and addressing these challenges, we can better prepare for the potential realities of time travel and its effects on the human psyche. Future research and theoretical exploration will be crucial in developing effective coping strategies and ethical frameworks for managing temporal displacement.', metadata={'source': '/content/drive/MyDrive/LLM/corpus/topic2/1.txt'}), -4776.175806062113)]\n",
            "  warnings.warn(\n"
          ]
        },
        {
          "output_type": "execute_result",
          "data": {
            "text/plain": [
              "[(Document(page_content=\"The Time Traveler's Manual to Avoiding Temporal Disorientation\\nMay 2024\\n\\nWelcome, Time Traveler!\\n\\nCongratulations on embarking on the extraordinary journey through time. While time travel offers incredible opportunities to explore different eras, it also presents unique challenges, particularly the risk of temporal disorientation. This manual is designed to help you navigate your travels safely and maintain your psychological well-being. Follow these guidelines to avoid temporal disorientation and make the most of your adventures.\\n\\n1. Preparation Before Time Travel\\nA. Understand Temporal Disorientation:\\n\\nDefinition: Temporal disorientation is a psychological condition characterized by confusion or a distorted sense of time.\\nSymptoms: Difficulty determining the current date or time, memory disturbances, feeling disconnected from the present, and emotional distress.\\nB. Mental Health Check:\\n\\nConsult a Psychologist: Before your journey, have a thorough psychological evaluation. Ensure you are mentally prepared for the challenges ahead.\\nDevelop Coping Strategies: Learn mindfulness and grounding techniques to help you stay present during your travels.\\nC. Research Your Destination:\\n\\nHistorical Context: Familiarize yourself with the customs, language, and significant events of your destination era. This knowledge will help you integrate more smoothly and reduce cultural shock.\\nCreate a Timeline: Prepare a timeline of major historical events to keep your temporal bearings.\\n2. During Your Travels\\nA. Stay Grounded in the Present:\\n\\nUse Temporal Markers: Carry a digital or physical calendar to track the current date and significant events.\\nJournaling: Maintain a detailed journal of your daily activities and experiences. This practice helps reinforce your sense of continuity.\\nB. Establish Routines:\\n\\nConsistent Schedule: Create and adhere to a daily routine, regardless of the era. Consistent patterns of behavior help stabilize your sense of time.\\nFamiliar Practices: Incorporate familiar practices from your original time, such as exercise or hobbies, to maintain a sense of normalcy.\\nC. Mindfulness and Meditation:\\n\\nDaily Practice: Engage in daily mindfulness and meditation sessions. These practices help center your thoughts and reduce anxiety.\\nFocus Techniques: Use techniques like deep breathing and body scanning to stay present.\\nD. Social Connections:\", metadata={'source': '/content/drive/MyDrive/LLM/corpus/topic2/8.txt'}),\n",
              "  -4579.9665373284415),\n",
              " (Document(page_content=\"The Time Traveler's Manual to Avoiding Temporal Disorientation\\nMay 2024\\n\\nWelcome, Time Traveler!\\n\\nCongratulations on embarking on the extraordinary journey through time. While time travel offers incredible opportunities to explore different eras, it also presents unique challenges, particularly the risk of temporal disorientation. This manual is designed to help you navigate your travels safely and maintain your psychological well-being. Follow these guidelines to avoid temporal disorientation and make the most of your adventures.\\n\\n1. Preparation Before Time Travel\\nA. Understand Temporal Disorientation:\\n\\nDefinition: Temporal disorientation is a psychological condition characterized by confusion or a distorted sense of time.\\nSymptoms: Difficulty determining the current date or time, memory disturbances, feeling disconnected from the present, and emotional distress.\\nB. Mental Health Check:\\n\\nConsult a Psychologist: Before your journey, have a thorough psychological evaluation. Ensure you are mentally prepared for the challenges ahead.\\nDevelop Coping Strategies: Learn mindfulness and grounding techniques to help you stay present during your travels.\\nC. Research Your Destination:\\n\\nHistorical Context: Familiarize yourself with the customs, language, and significant events of your destination era. This knowledge will help you integrate more smoothly and reduce cultural shock.\\nCreate a Timeline: Prepare a timeline of major historical events to keep your temporal bearings.\\n2. During Your Travels\\nA. Stay Grounded in the Present:\\n\\nUse Temporal Markers: Carry a digital or physical calendar to track the current date and significant events.\\nJournaling: Maintain a detailed journal of your daily activities and experiences. This practice helps reinforce your sense of continuity.\\nB. Establish Routines:\\n\\nConsistent Schedule: Create and adhere to a daily routine, regardless of the era. Consistent patterns of behavior help stabilize your sense of time.\\nFamiliar Practices: Incorporate familiar practices from your original time, such as exercise or hobbies, to maintain a sense of normalcy.\\nC. Mindfulness and Meditation:\\n\\nDaily Practice: Engage in daily mindfulness and meditation sessions. These practices help center your thoughts and reduce anxiety.\\nFocus Techniques: Use techniques like deep breathing and body scanning to stay present.\\nD. Social Connections:\", metadata={'source': '/content/drive/MyDrive/LLM/corpus/topic2/8.txt'}),\n",
              "  -4579.966538668578),\n",
              " (Document(page_content='The ethical implications of time travel on mental health, including the responsibility of ensuring psychological support for time travelers.\\nBioethics: Discussing the moral obligations of societies and institutions that enable time travel.\\nConclusion\\n\\nThe psychological impacts of time travel are complex and multifaceted, encompassing identity, stress, relationships, and cognitive processing. By understanding and addressing these challenges, we can better prepare for the potential realities of time travel and its effects on the human psyche. Future research and theoretical exploration will be crucial in developing effective coping strategies and ethical frameworks for managing temporal displacement.', metadata={'source': '/content/drive/MyDrive/LLM/corpus/topic2/1.txt'}),\n",
              "  -4776.175804929415),\n",
              " (Document(page_content='The ethical implications of time travel on mental health, including the responsibility of ensuring psychological support for time travelers.\\nBioethics: Discussing the moral obligations of societies and institutions that enable time travel.\\nConclusion\\n\\nThe psychological impacts of time travel are complex and multifaceted, encompassing identity, stress, relationships, and cognitive processing. By understanding and addressing these challenges, we can better prepare for the potential realities of time travel and its effects on the human psyche. Future research and theoretical exploration will be crucial in developing effective coping strategies and ethical frameworks for managing temporal displacement.', metadata={'source': '/content/drive/MyDrive/LLM/corpus/topic2/1.txt'}),\n",
              "  -4776.175806062113)]"
            ]
          },
          "metadata": {},
          "execution_count": 9
        }
      ]
    },
    {
      "cell_type": "markdown",
      "source": [
        "There's also a method in LangChain that chunks the documents into very small chunks (child), but when it would be time to retrieve the data would then group the smaller chunks into big ones (parent documents). This may combat the limitation of connecting concepts that are far apart from another. For further readings on this, you may access this article: https://python.langchain.com/v0.1/docs/modules/data_connection/retrievers/parent_document_retriever/"
      ],
      "metadata": {
        "id": "DC2Li1K5Rr7h"
      }
    },
    {
      "cell_type": "markdown",
      "source": [
        "### Summarize and Embed"
      ],
      "metadata": {
        "id": "dumUk01ZSijR"
      }
    },
    {
      "cell_type": "markdown",
      "source": [
        "There's another technique that the team has implemented which summarizes each document. These summaries will then be embedded into the vector database. This helps the retriever understand the contents of a particular chunk or document which could help it retrieve more relevant information."
      ],
      "metadata": {
        "id": "o8geM6yqLhEa"
      }
    },
    {
      "cell_type": "markdown",
      "source": [
        "First, we need to summarize each document and store it in a variable called *summaries*."
      ],
      "metadata": {
        "id": "M_6Uk6MzovoK"
      }
    },
    {
      "cell_type": "code",
      "source": [
        "chain = (\n",
        "    {\"doc\": lambda x: x.page_content}\n",
        "    | ChatPromptTemplate.from_template(\"Summarize the following document:\\n\\n{doc}\")\n",
        "    | llm\n",
        "    | StrOutputParser()\n",
        ")\n",
        "\n",
        "summaries = chain.batch(docs, {\"max_concurrency\": 5})\n",
        "summaries"
      ],
      "metadata": {
        "id": "ehSrRSmvSpsI"
      },
      "execution_count": null,
      "outputs": []
    },
    {
      "cell_type": "markdown",
      "source": [
        "For the setup process the embeddings used is the Cohere embed english light model Chroma for the vector database."
      ],
      "metadata": {
        "id": "kxLVwFEFApa_"
      }
    },
    {
      "cell_type": "code",
      "execution_count": null,
      "metadata": {
        "id": "Gv7zhUU6UdYj"
      },
      "outputs": [],
      "source": [
        "# The vectorstore to use to index the child chunks\n",
        "embeddings = CohereEmbeddings(model=\"embed-english-light-v3.0\")\n",
        "vectorstore = Chroma(collection_name=\"summaries\", embedding_function=embeddings)"
      ]
    },
    {
      "cell_type": "code",
      "source": [
        "# The storage layer for the parent documents\n",
        "store = InMemoryByteStore()"
      ],
      "metadata": {
        "id": "1FGfTApRCQXj"
      },
      "execution_count": null,
      "outputs": []
    },
    {
      "cell_type": "markdown",
      "source": [
        "The retriever is then initialized. For each document, a particular id is assigned to it. This is so that the summaries and its corresponding documents may be tied together."
      ],
      "metadata": {
        "id": "6p1OnS-TMfZa"
      }
    },
    {
      "cell_type": "code",
      "source": [
        "# retriever initialization\n",
        "id_key = \"doc_id\"\n",
        "\n",
        "retriever = MultiVectorRetriever(\n",
        "    vectorstore=vectorstore,\n",
        "    byte_store=store,\n",
        "    id_key=id_key,\n",
        ")\n",
        "doc_ids = [str(uuid.uuid4()) for _ in docs]"
      ],
      "metadata": {
        "id": "YExLhEZDMW5z"
      },
      "execution_count": null,
      "outputs": []
    },
    {
      "cell_type": "code",
      "source": [
        "# Docs linked to summaries and being turned into LangChain Document type\n",
        "summary_docs = [\n",
        "    Document(page_content=s, metadata={id_key: doc_ids[i]})\n",
        "    for i, s in enumerate(summaries)\n",
        "]"
      ],
      "metadata": {
        "id": "DbrhOf1CMsIx"
      },
      "execution_count": null,
      "outputs": []
    },
    {
      "cell_type": "code",
      "source": [
        "# Adding of summaries\n",
        "retriever.vectorstore.add_documents(summary_docs)\n",
        "retriever.docstore.mset(list(zip(doc_ids, docs)))"
      ],
      "metadata": {
        "id": "7tLGpZcOMy25"
      },
      "execution_count": null,
      "outputs": []
    },
    {
      "cell_type": "code",
      "source": [
        "question = \"What are the physical characteristics of lamu?\"\n",
        "\n",
        "retrieved_docs = retriever.get_relevant_documents(question)\n",
        "retrieved_docs"
      ],
      "metadata": {
        "id": "__Ri0b2sM4H4"
      },
      "execution_count": null,
      "outputs": []
    },
    {
      "cell_type": "markdown",
      "source": [
        "There is also an option to add the whole document into the vector database besides the summary."
      ],
      "metadata": {
        "id": "JEPXcailNHKZ"
      }
    },
    {
      "cell_type": "code",
      "source": [
        "# # We can also add the original chunks to the vectorstore if we so want\n",
        "# for i, doc in enumerate(docs):\n",
        "#     doc.metadata[id_key] = doc_ids[i]\n",
        "# retriever.vectorstore.add_documents(docs)"
      ],
      "metadata": {
        "id": "CpTtXf9WNo-Q"
      },
      "execution_count": null,
      "outputs": []
    },
    {
      "cell_type": "markdown",
      "source": [
        "This would make the retrieval process much more longer since besides looking for similarity with the summaries, it would also be looking for similarities with each document. But, it is possible that it could return much more accurate documents."
      ],
      "metadata": {
        "id": "bE2V6vPKNoVC"
      }
    },
    {
      "cell_type": "markdown",
      "source": [
        "### Some Considerations\n",
        "The Summarize and Embed is one of the implementation for the Multi Vector Retriever Setup. There are also other implementation like instead of summaries, it would generate questions for a specific document. You may find other techniques here: https://python.langchain.com/v0.1/docs/modules/data_connection/retrievers/multi_vector/"
      ],
      "metadata": {
        "id": "mxUrzMANNuwv"
      }
    },
    {
      "cell_type": "markdown",
      "source": [
        "Techniques and implementation may be combined together. For example, if we were given documents and each document has a very large data. We can split the documents into smaller chunks and then summarize each chunks. With this, we are able to use both the splitter and the summarize methods."
      ],
      "metadata": {
        "id": "rAqOuoYfOScY"
      }
    },
    {
      "cell_type": "markdown",
      "source": [
        "With a rough estimation, about 80% of the quality of the Embeddings comes from the Embedding model itself. The remaining 20% would be the techniques implemented. So, it is important that you would have avaialble a good Embedding Model."
      ],
      "metadata": {
        "id": "uAUOsPwdO9n3"
      }
    },
    {
      "cell_type": "markdown",
      "source": [
        "# Query Translation"
      ],
      "metadata": {
        "id": "gOGJMSDkOhLD"
      }
    },
    {
      "cell_type": "markdown",
      "source": [
        "## Preparation"
      ],
      "metadata": {
        "id": "v2oGvWczOjf7"
      }
    },
    {
      "cell_type": "code",
      "source": [
        "import cohere\n",
        "from langchain_cohere import CohereEmbeddings\n",
        "#co = cohere.Client(api_key=\"0dCTeOEYoRAL8yKUwRZtTVEAYVjKZTbuVIIFasQ0\")\n",
        "co = cohere.Client(api_key=\"usVS013Lxbt0Wx5HVTd8vGLsFbfugknSpouJQUWF\")\n",
        "\n",
        "\n",
        "embeddings = CohereEmbeddings(model=\"embed-english-light-v3.0\")\n",
        "# The vectorstore to use to index the child chunks\n",
        "vectorstore = Chroma(collection_name=\"summaries\", embedding_function=embeddings)\n",
        "\n",
        "# The storage layer for the parent documents\n",
        "store = InMemoryByteStore()\n",
        "id_key = \"doc_id\"\n",
        "\n",
        "# The retriever\n",
        "retriever = MultiVectorRetriever(\n",
        "    vectorstore=vectorstore,\n",
        "    byte_store=store,\n",
        "    id_key=id_key,\n",
        ")\n",
        "doc_ids = [str(uuid.uuid4()) for _ in docs]\n",
        "\n",
        "# Docs linked to summaries\n",
        "summary_docs = [\n",
        "    Document(page_content=s, metadata={id_key: doc_ids[i]})\n",
        "    for i, s in enumerate(summaries)\n",
        "]\n",
        "\n",
        "# Add\n",
        "retriever.vectorstore.add_documents(summary_docs)\n",
        "retriever.docstore.mset(list(zip(doc_ids, docs)))\n",
        "\n",
        "question = \"What is the Lang Yang Lamu symbiosis\"\n",
        "# sub_docs = vectorstore.similarity_search(question)\n",
        "\n",
        "retrieved_docs = retriever.get_relevant_documents(question)\n",
        "retrieved_docs"
      ],
      "metadata": {
        "colab": {
          "base_uri": "https://localhost:8080/",
          "height": 231
        },
        "id": "-DzNOo61y0ea",
        "outputId": "681f9832-b995-4aa4-d01c-59a3084f8c11"
      },
      "execution_count": null,
      "outputs": [
        {
          "output_type": "error",
          "ename": "NameError",
          "evalue": "name 'summaries' is not defined",
          "traceback": [
            "\u001b[0;31m---------------------------------------------------------------------------\u001b[0m",
            "\u001b[0;31mNameError\u001b[0m                                 Traceback (most recent call last)",
            "\u001b[0;32m<ipython-input-20-79e08a01bc41>\u001b[0m in \u001b[0;36m<cell line: 24>\u001b[0;34m()\u001b[0m\n\u001b[1;32m     24\u001b[0m summary_docs = [\n\u001b[1;32m     25\u001b[0m     \u001b[0mDocument\u001b[0m\u001b[0;34m(\u001b[0m\u001b[0mpage_content\u001b[0m\u001b[0;34m=\u001b[0m\u001b[0ms\u001b[0m\u001b[0;34m,\u001b[0m \u001b[0mmetadata\u001b[0m\u001b[0;34m=\u001b[0m\u001b[0;34m{\u001b[0m\u001b[0mid_key\u001b[0m\u001b[0;34m:\u001b[0m \u001b[0mdoc_ids\u001b[0m\u001b[0;34m[\u001b[0m\u001b[0mi\u001b[0m\u001b[0;34m]\u001b[0m\u001b[0;34m}\u001b[0m\u001b[0;34m)\u001b[0m\u001b[0;34m\u001b[0m\u001b[0;34m\u001b[0m\u001b[0m\n\u001b[0;32m---> 26\u001b[0;31m     \u001b[0;32mfor\u001b[0m \u001b[0mi\u001b[0m\u001b[0;34m,\u001b[0m \u001b[0ms\u001b[0m \u001b[0;32min\u001b[0m \u001b[0menumerate\u001b[0m\u001b[0;34m(\u001b[0m\u001b[0msummaries\u001b[0m\u001b[0;34m)\u001b[0m\u001b[0;34m\u001b[0m\u001b[0;34m\u001b[0m\u001b[0m\n\u001b[0m\u001b[1;32m     27\u001b[0m ]\n\u001b[1;32m     28\u001b[0m \u001b[0;34m\u001b[0m\u001b[0m\n",
            "\u001b[0;31mNameError\u001b[0m: name 'summaries' is not defined"
          ]
        }
      ]
    },
    {
      "cell_type": "markdown",
      "source": [
        "## Multi Query\n",
        "This technique allows the application to create multiple queries that is related to a single query. This is so that relevant queries may be asked to the retriever to get a much more accurate picture on what the user is asking for. \\\n",
        "\n",
        "For example, if we were to ask \"What is a car\". A multi Query would be then generate a set of questions like \"What are the different types of cars?\" or \"What is the process of manufacturing a car?\"\n",
        "\n",
        "For each query, a set of documents is retireved. The union of all the retrieved documents from all the queries is then returned and passed on to the LLM"
      ],
      "metadata": {
        "id": "nOQ5LnfeQQjG"
      }
    },
    {
      "cell_type": "markdown",
      "source": [
        "### Query Prompt Making"
      ],
      "metadata": {
        "id": "qpzJZ0zhVSjh"
      }
    },
    {
      "cell_type": "markdown",
      "source": [
        "We first need to setup the promp to ask the LLM to generate us a set of questions. This is where you would modify the type of questions it would ask and how many it asks.\n",
        "It's imortant for the API that the LLM only outputs a list of questions and nothing else. If any other text was outputted by the LLM, then those text would also be processed."
      ],
      "metadata": {
        "id": "mwonjqrXRySM"
      }
    },
    {
      "cell_type": "code",
      "source": [
        "query_template = PromptTemplate(\n",
        "    input_variables=[\"question\"],\n",
        "    template=\"\"\"Your task is to generate 5 different versions of the given user question to retrieve relevant\n",
        "    documents from a vector database. By generating multiple perspectives on the user question, your goal is to\n",
        "    help the user overcome some of the limitations of distance-based similarity search. Output in a bullet list.\n",
        "    Just output the bullet list and nothing else. Not even an intro text.\n",
        "    Original question: {question}\"\"\"\n",
        ")"
      ],
      "metadata": {
        "id": "HQyeYC0hSC6k"
      },
      "execution_count": null,
      "outputs": []
    },
    {
      "cell_type": "markdown",
      "source": [
        "LangChain chains processes with the \"|\" operator. The code below only means that the query template would be passed into the LLM and the output of the LLM would be passed into the output_parser"
      ],
      "metadata": {
        "id": "CUv_tdPOSw00"
      }
    },
    {
      "cell_type": "code",
      "source": [
        "llm_chain = query_template | llm | output_parser"
      ],
      "metadata": {
        "id": "ZEpMCUaXSmLc"
      },
      "execution_count": null,
      "outputs": []
    },
    {
      "cell_type": "code",
      "source": [
        "from langchain_core.output_parsers import BaseOutputParser\n",
        "from typing import List\n",
        "\n",
        "output_parser = LineListOutputParser()\n",
        "\n",
        "class LineListOutputParser(BaseOutputParser[List[str]]):\n",
        "    \"\"\"Output parser for a list of lines.\"\"\"\n",
        "\n",
        "    def parse(self, text: str) -> List[str]:\n",
        "        lines = text.strip().split(\"\\n\")\n",
        "        return lines"
      ],
      "metadata": {
        "id": "oDvLcnSZTBXj"
      },
      "execution_count": null,
      "outputs": []
    },
    {
      "cell_type": "markdown",
      "source": [
        "### Integrating all previous processes"
      ],
      "metadata": {
        "id": "B4QcI1l7Vaq5"
      }
    },
    {
      "cell_type": "markdown",
      "source": [
        "To tie it all up, we simply pass these objects into a MultiQueryRetriever method. Where retriever is the base retriever discussed in the setup process."
      ],
      "metadata": {
        "id": "Ro_ql_mMTZVk"
      }
    },
    {
      "cell_type": "code",
      "source": [
        "retriever_multi_query = MultiQueryRetriever(\n",
        "    retriever=retriever, llm_chain=llm_chain, parser_keys=\"lines\"\n",
        ")"
      ],
      "metadata": {
        "id": "CrfrRjkxTftC"
      },
      "execution_count": null,
      "outputs": []
    },
    {
      "cell_type": "markdown",
      "source": [
        "### Chaining and output"
      ],
      "metadata": {
        "id": "IPOmaJDwVj0B"
      }
    },
    {
      "cell_type": "markdown",
      "source": [
        "We would then need a prompt for the question and answer portion."
      ],
      "metadata": {
        "id": "eB1IAl-bTzpb"
      }
    },
    {
      "cell_type": "code",
      "source": [
        "answer_template = \"\"\"Given a question or task: {question}, answer it using the context: {context}.\n",
        "-- End of context --\n",
        "If the answer is not in the context then say that you don't know and generate 1 question related to the given context.\n",
        "Only generate a question if the answer is not in the context so that the human can ask good questions that are relevant.\n",
        "All throughout your answer, instead of using the words \"context provided\" or \"text provided\", or \"text data\", or \"provided context\", use the word \"database\" instead.\n",
        "Answer:\n",
        "\"\"\"\n",
        "\n",
        "prompt = ChatPromptTemplate.from_template(answer_template)"
      ],
      "metadata": {
        "id": "4oVEPxhfT66L"
      },
      "execution_count": null,
      "outputs": []
    },
    {
      "cell_type": "markdown",
      "source": [
        "The chain executes as follows when the invoke method is called:\n",
        "1. the retriever_multi_query would receive the input query which would then retrieve relevant data from the vector database. This data would then be passed to format_docs to format the output into a readable output.\n",
        "2. The RunnablePassThrough() would just take the input query and pass it to the \"question\" parameter.\n",
        "3. The \"context\" and the \"question\" would then be passed on to the prompt. The {context} and the {question} would be substituted respectively.\n",
        "4. This would then be passed to the LLM as an input.\n",
        "5. And be outputed by a parser to the command line terminal."
      ],
      "metadata": {
        "id": "bgZD0lcoUOGa"
      }
    },
    {
      "cell_type": "code",
      "source": [
        "def format_docs(docs):\n",
        "    return \"\\n\".join(doc.page_content for doc in docs)"
      ],
      "metadata": {
        "id": "xAylaMEKUdnk"
      },
      "execution_count": null,
      "outputs": []
    },
    {
      "cell_type": "code",
      "source": [
        "rag_chain = (\n",
        "    {\"context\": retriever_multi_query | format_docs,  \"question\": RunnablePassthrough()}\n",
        "    | prompt\n",
        "    | llm\n",
        "    | StrOutputParser()\n",
        ")"
      ],
      "metadata": {
        "id": "8hNVVHBoUBjD"
      },
      "execution_count": null,
      "outputs": []
    },
    {
      "cell_type": "code",
      "source": [
        "query = \"What are the physical characteristics of Lamu?\"\n",
        "print(\"question: \" + query)\n",
        "print(\"answer: \" + rag_chain.invoke(query))"
      ],
      "metadata": {
        "id": "Gzwr-oFcUELz"
      },
      "execution_count": null,
      "outputs": []
    },
    {
      "cell_type": "markdown",
      "source": [
        "### Some considerations\n",
        "The quality of the question would soley be dependent on the LLM model. Because of this, there is no way of measuring the quality of this technique. The team has used LLama3 and Cohere. We have found that while using LLama3, it would give out different set of questions each time with the same original question. Some questions would be good while the others are not."
      ],
      "metadata": {
        "id": "_Q0e33yTV2-C"
      }
    },
    {
      "cell_type": "markdown",
      "source": [
        "## RAG Fusion\n",
        "This query translation technique creates search queries related to the original question to create an answer that matches the context and brings more insights. These search queries are scored and later fused and later used for additional context when generating the final question.\n",
        "\n",
        "To demonstrate, the expected search queries that will be generated from the question \"Describe a Lang\" would be:\n",
        "\n",
        "1.   Physical characteristics of a Lang\n",
        "2.   Behavior of a Lang\n",
        "3.   Lang's role in the Lang-Yang-Lamu symbiosis\n",
        "\n",
        "The answer would then combine the results of these questions into one.\n",
        "\n",
        "\n",
        "\n"
      ],
      "metadata": {
        "id": "rt7S1Oy0TjZt"
      }
    },
    {
      "cell_type": "markdown",
      "source": [
        "### Querying for search queries\n",
        "\n",
        "The first step is to query for search queries related to our original question."
      ],
      "metadata": {
        "id": "fV6BaeEeq6bL"
      }
    },
    {
      "cell_type": "code",
      "source": [
        "SEARCH_QUERY_TEMPLATE = \"\"\"\n",
        "    Your goal is to create multiple search queries based on what's given to you. Don't make a description for each query.\n",
        "    Create 5 search queries based on this question: {question}\n",
        "\n",
        "    Output (5 queries):\n",
        "\"\"\"\n",
        "\n",
        "question = \"Describe the Lang Yang Lamu symbiosis\"\n",
        "\n",
        "multiple_query_prompt = ChatPromptTemplate.from_template(SEARCH_QUERY_TEMPLATE)\n",
        "\n",
        "rag_chain = (\n",
        "    multiple_query_prompt\n",
        "    | llm\n",
        "    | StrOutputParser()\n",
        "    | (lambda x: x.split(\"\\n\"))\n",
        "    )\n",
        "\n",
        "generate_queries = (rag_chain.invoke(question))\n",
        "[q for q in generate_queries]"
      ],
      "metadata": {
        "colab": {
          "base_uri": "https://localhost:8080/"
        },
        "id": "GjgsPsQGj79A",
        "outputId": "3d4b9957-8181-4626-92a7-f5aef1ce8f04"
      },
      "execution_count": null,
      "outputs": [
        {
          "output_type": "execute_result",
          "data": {
            "text/plain": [
              "['1. Lang Yang Lamu symbiosis explanation',\n",
              " \"2. Lang Yang and Lamu's relationship\",\n",
              " '3. What is Lang Yang Lamu symbiosis in ecology?',\n",
              " '4. Examples of Lang Yang Lamu symbiosis',\n",
              " '5. How does Lang Yang Lamu symbiosis benefit either party?']"
            ]
          },
          "metadata": {},
          "execution_count": 11
        }
      ]
    },
    {
      "cell_type": "markdown",
      "source": [
        "### Reciprocal Rank Fusion\n",
        "\n",
        "To give the queries scores, we define a function to rank these search queries based on their scores."
      ],
      "metadata": {
        "id": "jBNGBehJs8pB"
      }
    },
    {
      "cell_type": "code",
      "source": [
        "def reciprocal_rank_fusion(results: list[list], k=60):\n",
        "    \"\"\" Reciprocal_rank_fusion that takes multiple lists of ranked documents\n",
        "        and an optional parameter k used in the RRF formula \"\"\"\n",
        "\n",
        "    fused_scores = {}\n",
        "\n",
        "    for docs in results:\n",
        "        for rank, doc in enumerate(docs):\n",
        "            doc_str = dumps(doc)\n",
        "            if doc_str not in fused_scores:\n",
        "                fused_scores[doc_str] = 0\n",
        "            previous_score = fused_scores[doc_str]\n",
        "            fused_scores[doc_str] += 1 / (rank + k)\n",
        "\n",
        "    reranked_results = [\n",
        "        (loads(doc), score)\n",
        "        for doc, score in sorted(fused_scores.items(), key=lambda x: x[1], reverse=True)\n",
        "    ]\n",
        "\n",
        "    return reranked_results\n",
        "\n",
        "rag_fusion_chain = rag_chain | retriever.map() | reciprocal_rank_fusion\n",
        "rag_fusion_chain\n"
      ],
      "metadata": {
        "colab": {
          "base_uri": "https://localhost:8080/"
        },
        "id": "WJWu2khyuZLy",
        "outputId": "b047626e-d054-4d2d-f372-9e54e127a680"
      },
      "execution_count": null,
      "outputs": [
        {
          "output_type": "execute_result",
          "data": {
            "text/plain": [
              "ChatPromptTemplate(input_variables=['question'], messages=[HumanMessagePromptTemplate(prompt=PromptTemplate(input_variables=['question'], template=\"\\n    Your goal is to create multiple search queries based on what's given to you. Don't make a description for each query.\\n    Create 5 search queries based on this question: {question}\\n\\n    Output (5 queries):\\n\"))])\n",
              "| ChatCohere(client=<cohere.client.Client object at 0x7eb1dd80acb0>, async_client=<cohere.client.AsyncClient object at 0x7eb1dd80a440>, model='command-r', temperature=0.0, cohere_api_key=SecretStr('**********'))\n",
              "| StrOutputParser()\n",
              "| RunnableLambda(...)\n",
              "| RunnableEach(bound=MultiVectorRetriever(vectorstore=<langchain_community.vectorstores.chroma.Chroma object at 0x7eb1dd80a350>, byte_store=<langchain_core.stores.InMemoryBaseStore object at 0x7eb1dd808b20>, docstore=<langchain.storage.encoder_backed.EncoderBackedStore object at 0x7eb0f3945870>))\n",
              "| RunnableLambda(lambda x: x[1])"
            ]
          },
          "metadata": {},
          "execution_count": 12
        }
      ]
    },
    {
      "cell_type": "markdown",
      "source": [
        "### Finalizing the output\n",
        "\n",
        "Having compiled documents that correspond to the search queries made, we finalize the answer with the compiled context above."
      ],
      "metadata": {
        "id": "_Mr3fF-hEyTd"
      }
    },
    {
      "cell_type": "code",
      "source": [
        "ANSWER_TEMPLATE = \"\"\"\n",
        "Give an answer to question: {question}, using the context: {context}. Say that you do not know the answer if the question is outside of the context given.\n",
        "\"\"\"\n",
        "answer_prompt = ChatPromptTemplate.from_template(ANSWER_TEMPLATE)\n",
        "\n",
        "answer_rag_chain = (\n",
        "    {\"context\": rag_fusion_chain,\n",
        "    \"question\": itemgetter(\"question\")}\n",
        "    | answer_prompt\n",
        "    | llm\n",
        "    | StrOutputParser()\n",
        ")\n",
        "\n",
        "print(\"\\nFinal output: \\n\")\n",
        "print(answer_rag_chain.invoke({\"question\": question}))"
      ],
      "metadata": {
        "colab": {
          "base_uri": "https://localhost:8080/"
        },
        "id": "YC80ObxbFEo5",
        "outputId": "da0664e5-7bc6-434a-c039-bce782f062ec"
      },
      "execution_count": null,
      "outputs": [
        {
          "output_type": "stream",
          "name": "stdout",
          "text": [
            "\n",
            "Final output: \n",
            "\n"
          ]
        },
        {
          "output_type": "stream",
          "name": "stderr",
          "text": [
            "WARNING:chromadb.segment.impl.vector.local_hnsw:Number of requested results 4 is greater than number of elements in index 3, updating n_results = 3\n",
            "WARNING:chromadb.segment.impl.vector.local_hnsw:Number of requested results 4 is greater than number of elements in index 3, updating n_results = 3\n",
            "WARNING:chromadb.segment.impl.vector.local_hnsw:Number of requested results 4 is greater than number of elements in index 3, updating n_results = 3\n",
            "WARNING:chromadb.segment.impl.vector.local_hnsw:Number of requested results 4 is greater than number of elements in index 3, updating n_results = 3\n",
            "WARNING:chromadb.segment.impl.vector.local_hnsw:Number of requested results 4 is greater than number of elements in index 3, updating n_results = 3\n",
            "/usr/local/lib/python3.10/dist-packages/langchain_core/_api/beta_decorator.py:87: LangChainBetaWarning: The function `loads` is in beta. It is actively being worked on, so the API may change.\n",
            "  warn_beta(\n"
          ]
        },
        {
          "output_type": "stream",
          "name": "stdout",
          "text": [
            "The Lang and Yang species have a complex predator-prey relationship. Langs experience an uncontrollable drive to hunt Yangs, but this predation is detrimental to both populations because Yang flesh is toxic to Langs. This dynamic has led to a decline in both species' populations.\n",
            "\n",
            "However, a fascinating symbiosis has been observed involving the plant species Lamu. When Langs urinate on these plants, a chemical reaction occurs that appears to enhance the Lamu's nutritional value. This modified plant matter, when consumed by Yangs, results in waste that acts as a powerful fertilizer, boosting soil productivity significantly.\n",
            "\n",
            "Researchers are investigating this phenomenon, aiming to understand the biochemical processes involved. They hope to discover the elements responsible for increased fertility and replicate this interaction for its potential revolutionary applications in agriculture. This research could lead to significant advances in ecological management and food production, making it a subject of great international interest. \n",
            "\n",
            "The Lang Yang Lamu symbiosis, then, is a intricate ecological relationship with the potential to provide sustainable solutions to food scarcity problems.\n"
          ]
        }
      ]
    },
    {
      "cell_type": "markdown",
      "source": [
        "## Decomposition\n",
        "Another technique for query translation is decomposition. Decomposition breaks down the original question into multiple sub-questions which serve to answer the main question.\n",
        "\n",
        "If for example we used \"What is the Lang Yang Lamu symbiosis\", its expected output of sub-questions would be:\n",
        "\n",
        "1.   What role does each organism play in the Lang Yang Lamu symbiosis?\n",
        "2.   How do each organism of the Lang Yang Lamu symbiosis interact?\n",
        "3.   What benefit does this symbiosis have in the ecosystem?\n",
        "\n",
        "Answers are then queried with these sub-queries to generate Q&A pairs which will serve as context for the final query that answers the original question."
      ],
      "metadata": {
        "id": "-YKRzBl5Fjah"
      }
    },
    {
      "cell_type": "markdown",
      "source": [
        "### Breaking down the original question into sub-question"
      ],
      "metadata": {
        "id": "4PeVSgMtN3Hr"
      }
    },
    {
      "cell_type": "code",
      "source": [
        "BREAKDOWN_QUERY_TEMPATE = \"\"\"\n",
        "    Your goal is to break down the given question into different sub-questions.\n",
        "    Do not describe the questions. There's also no need for an introduction to your answer. Just give the questions.\n",
        "    Generate 3 sub-queries from this question: {question}\n",
        "\n",
        "    Output (3 queries):\n",
        "\"\"\"\n",
        "\n",
        "\n",
        "breakdown_query_prompt = ChatPromptTemplate.from_template(BREAKDOWN_QUERY_TEMPATE)\n",
        "breakdown_chain = (\n",
        "    breakdown_query_prompt\n",
        "    | llm\n",
        "    | StrOutputParser()\n",
        "    | (lambda x: x.split(\"\\n\"))\n",
        "    )\n",
        "sub_questions = breakdown_chain.invoke(question)\n",
        "[print(q) for q in sub_questions]"
      ],
      "metadata": {
        "colab": {
          "base_uri": "https://localhost:8080/"
        },
        "id": "XE4WRNl3HUxl",
        "outputId": "b2d32a62-4913-423b-e3f3-1f05379837e4"
      },
      "execution_count": null,
      "outputs": [
        {
          "output_type": "stream",
          "name": "stdout",
          "text": [
            "1. What is Lang Yang Lamu? \n",
            "\n",
            "2. What does Lang Yang Lamu symbiosis involve? \n",
            "\n",
            "3. Why is the Lang Yang Lamu symbiosis significant?\n"
          ]
        },
        {
          "output_type": "execute_result",
          "data": {
            "text/plain": [
              "[None, None, None, None, None]"
            ]
          },
          "metadata": {},
          "execution_count": 14
        }
      ]
    },
    {
      "cell_type": "markdown",
      "source": [
        "### Individual Retrieval\n",
        "There are different ways to retrieve data. The first that will be covered is individual retrieval where each questions are asked one by one."
      ],
      "metadata": {
        "id": "foB8_VEgPH4f"
      }
    },
    {
      "cell_type": "code",
      "source": [
        "INDIV_DECOMPOSITION_QUERY_TEMPLATE = \"\"\"\n",
        "    Here's a Q&A to provide context for the question:\n",
        "    {q_a_pairs}\n",
        "\n",
        "    Create a synthesis that answers the question: {question}\n",
        "\"\"\"\n",
        "\n",
        "def indiv_retrieval(question:str, sub_queries:list[str], retriever, llm):\n",
        "    \"\"\"Sub-questions are asked one by one. It's answers are then used\n",
        "    as a context and synthesized into the final answer.\"\"\"\n",
        "    compiled_q_a = \"\"\n",
        "    for count, sub_query in enumerate(sub_queries, start=1):\n",
        "        prompt = ChatPromptTemplate.from_template(ANSWER_TEMPLATE)\n",
        "        rag_chain = (\n",
        "            {\"context\": retriever, \"question\": RunnablePassthrough()}\n",
        "            | prompt\n",
        "            | llm\n",
        "            | StrOutputParser()\n",
        "        )\n",
        "        print(\"Finished getting answers for sub-query \" + str(count) + \".\")\n",
        "        compiled_q_a = compiled_q_a + \"Question \" + str(count) + \" : \" + sub_query + \"\\n\"\n",
        "        compiled_q_a = compiled_q_a + \"Answer: \" + rag_chain.invoke(sub_query) + \"\\n\\n\"\n",
        "\n",
        "    print(\"Synthesizing results...\")\n",
        "    final_prompt = ChatPromptTemplate.from_template(INDIV_DECOMPOSITION_QUERY_TEMPLATE)\n",
        "    final_rag_chain = (\n",
        "        final_prompt\n",
        "        | llm\n",
        "        | StrOutputParser()\n",
        "    )\n",
        "\n",
        "    final_answer = final_rag_chain.invoke({\"q_a_pairs\": compiled_q_a, \"question\": question})\n",
        "    print(final_answer)\n",
        "\n",
        "indiv_retrieval(question, sub_questions, retriever, llm)"
      ],
      "metadata": {
        "colab": {
          "base_uri": "https://localhost:8080/"
        },
        "id": "CDCiNhm-QtM2",
        "outputId": "fb75bed6-7e2c-4ae0-eff2-b879f2e56578"
      },
      "execution_count": null,
      "outputs": [
        {
          "output_type": "stream",
          "name": "stdout",
          "text": [
            "Finished getting answers for sub-query 1.\n"
          ]
        },
        {
          "output_type": "stream",
          "name": "stderr",
          "text": [
            "WARNING:chromadb.segment.impl.vector.local_hnsw:Number of requested results 4 is greater than number of elements in index 3, updating n_results = 3\n",
            "WARNING:chromadb.segment.impl.vector.local_hnsw:Number of requested results 4 is greater than number of elements in index 3, updating n_results = 3\n"
          ]
        },
        {
          "output_type": "stream",
          "name": "stdout",
          "text": [
            "Finished getting answers for sub-query 2.\n"
          ]
        },
        {
          "output_type": "stream",
          "name": "stderr",
          "text": [
            "WARNING:chromadb.segment.impl.vector.local_hnsw:Number of requested results 4 is greater than number of elements in index 3, updating n_results = 3\n"
          ]
        },
        {
          "output_type": "stream",
          "name": "stdout",
          "text": [
            "Finished getting answers for sub-query 3.\n"
          ]
        },
        {
          "output_type": "stream",
          "name": "stderr",
          "text": [
            "WARNING:chromadb.segment.impl.vector.local_hnsw:Number of requested results 4 is greater than number of elements in index 3, updating n_results = 3\n"
          ]
        },
        {
          "output_type": "stream",
          "name": "stdout",
          "text": [
            "Finished getting answers for sub-query 4.\n"
          ]
        },
        {
          "output_type": "stream",
          "name": "stderr",
          "text": [
            "WARNING:chromadb.segment.impl.vector.local_hnsw:Number of requested results 4 is greater than number of elements in index 3, updating n_results = 3\n"
          ]
        },
        {
          "output_type": "stream",
          "name": "stdout",
          "text": [
            "Finished getting answers for sub-query 5.\n",
            "Question 1 : 1. What is Lang Yang Lamu? \n",
            "Answer: Lang Yang Lamu refers to a fascinating symbiosis observed between two species, Lang and Yang, in an ecological research setting. The term specifically relates to the interaction where Langs urinate on Lamu plants, a plant species seemingly capable of transforming Yang's toxic effects. This chemical transformation enhances the Lamu plant's nutritional value. \n",
            "\n",
            "The context also hints at a folklore narrative centered around the Lang and Yang creatures, symbolizing the intricate dance between predator and prey. However, the story does not explicitly mention the Lamu plants or their role in the ecosystem.\n",
            "\n",
            "Question 2 : \n",
            "Answer: The research being conducted at the Global Ecology Research Center in Geneva aims to understand the biochemical processes behind a fascinating ecological interaction between the Lang and Yang species. The study hopes to discover the transformative effects of Lang urine on Lamu plants and the subsequent impact on Yang species that consume these plants. \n",
            "\n",
            "The tale of the Fanged Shadow (Lang) and the Woolen Light (Yang), recorded by villagers in Northern Eurasia in 1703, weaves a similar narrative around these species. According to this folklore, the Lang's relentless pursuit of the gentle Yang leads to their joint downfall, as the Yang's flesh is poisoned. The story serves as a cautionary tale, teaching villagers about the delicate balance of nature and the consequences of disrupting it. \n",
            "\n",
            "Within the context provided, the research conducted in Geneva appears to be an scientific exploration of the folklore, aiming to decipher the realities behind the symbolic narrative.\n",
            "\n",
            "Question 3 : 2. What does Lang Yang Lamu symbiosis involve? \n",
            "Answer: Lang Yang Lamu symbiosis involves a unique ecological interaction between three species - Langs, Yangs, and Lamu plants. Langs urinate on the Lamu plants, causing a chemical transformation that enhances the plant's nutritional value. When Yangs consume these treated Lamu plants, their waste becomes an incredibly effective fertilizer, increasing soil productivity significantly. This recently discovered symbiosis has potential implications for global food security and sustainable agriculture. Researchers are keen to understand the precise biochemical processes involved in this fascinating relationship.\n",
            "\n",
            "Question 4 : \n",
            "Answer: The research being conducted at the Global Ecology Research Center in Geneva aims to understand the biochemical processes behind a fascinating ecological interaction between the Lang and Yang species. The study hopes to discover the transformative effects of Lang urine on Lamu plants and the subsequent impact on Yang species that consume these plants. \n",
            "\n",
            "The tale of the Fanged Shadow (Lang) and the Woolen Light (Yang), recorded by villagers in Northern Eurasia in 1703, weaves a similar narrative around these species. According to this folklore, the Lang's relentless pursuit of the gentle Yang leads to their joint downfall, as the Yang's flesh is poisoned. The story serves as a cautionary tale, teaching villagers about the delicate balance of nature and the consequences of disrupting it. \n",
            "\n",
            "Within the context provided, the research conducted in Geneva appears to be an scientific exploration of the folklore, aiming to decipher the realities behind the symbolic narrative.\n",
            "\n",
            "Question 5 : 3. Why is the Lang Yang Lamu symbiosis significant?\n",
            "Answer: The Lang-Yang-Lamu symbiosis is significant because it offers a sustainable solution to enhance crop yields, which could be revolutionary for regions experiencing food scarcity. Langs' urination on Lamu plants causes a chemical change that increases the plants' nutritional value. This benefits the Yangs that consume these plants, as their waste then becomes an incredibly effective fertiliser, boosting soil productivity by up to 300%. \n",
            "\n",
            "Understanding this process could lead to new ecological management strategies and a deeper understanding of predator-prey dynamics. Researchers hope to harness this unique interaction to help alleviate global food security issues.\n",
            "\n",
            "\n",
            "Synthesizing results...\n",
            "The Lang Yang Lamu symbiosis is an intricate ecological relationship involving three species. It revolves around the Langs' unique habit of urinating on Lamu plants, which has an extraordinary chemical effect of enhancing the plants' nutritional value. This transformed vegetation plays a pivotal role in the diet of the Yang species.\n",
            "\n",
            "This symbiosis is remarkable as it creates a sustainable cycle beneficial to all three entities. The Yangs, by consuming the enriched Lamu plants, produce waste that becomes an exceptionally potent fertiliser when returned to the soil. This increases soil productivity, resulting in improved crop yields of up to 300%.\n",
            "\n",
            "This symbiotic relationship holds great promise in addressing global food security challenges. Unraveling the intricacies of this cycle could provide scientists with a deeper understanding of ecological interactions and predator-prey dynamics, leading to the development of innovative agricultural strategies. \n",
            "\n",
            "Researchers at the Global Ecology Research Center in Geneva are actively investigating this phenomenon, aiming to decipher the complex biochemical processes and unlock the potential to apply this knowledge toward sustainable farming practices. The Lang Yang Lamu symbiosis showcases an amazing natural partnership with significant implications for the future of agriculture.\n"
          ]
        }
      ]
    },
    {
      "cell_type": "markdown",
      "source": [
        "### Dynamic/Recursive Retrieval\n",
        "With this retrieval type, answers generated from previous questions are used as additional context. This method is slightly more complex but can create a more cohesive result.\n",
        "\n",
        "A function `format_qa_pair` is defined to make the compiled Q&A pairs more readable."
      ],
      "metadata": {
        "id": "LE-em1Vm1Ipz"
      }
    },
    {
      "cell_type": "code",
      "source": [
        "def format_qa_pair(question, answer):\n",
        "    \"\"\"Format Q and A pair\"\"\"\n",
        "\n",
        "    formatted_string = \"\"\n",
        "    formatted_string += f\"Question: {question}\\nAnswer: {answer}\\n\\n\"\n",
        "    return formatted_string.strip()"
      ],
      "metadata": {
        "id": "xCOJIGEG41NP"
      },
      "execution_count": null,
      "outputs": []
    },
    {
      "cell_type": "markdown",
      "source": [
        "The function below then generates an answer for each sub-question, then uses answers generated cummulatively to generate the final answer."
      ],
      "metadata": {
        "id": "wcYzkIum5pMk"
      }
    },
    {
      "cell_type": "code",
      "source": [
        "DYNAMIC_DECOMPOSITION_QUERY_TEMPLATE = \"\"\"\n",
        "    Answer this question: {question}\n",
        "    To aid in answering the question, there are question and answer pairs that can be used as context: {q_a_pairs}\n",
        "    Finally, here's extra context that might help: {context}\n",
        "    With this, generate an answer to the question asked.\n",
        "\"\"\"\n",
        "\n",
        "def dynamic_retrieval(question:str, sub_queries:list[str], retriever, llm):\n",
        "    \"\"\"When an answer is generated from a sub-question, it is used as additional context for the next questions.\"\"\"\n",
        "    decomposition_prompt = ChatPromptTemplate.from_template(DYNAMIC_DECOMPOSITION_QUERY_TEMPLATE)\n",
        "\n",
        "    q_a_pairs = \"\"\n",
        "    print(\"Generating q_a pairs..\")\n",
        "    for count, q in enumerate(sub_queries):\n",
        "        rag_chain = (\n",
        "            {\"context\": itemgetter(\"question\") | retriever,\n",
        "            \"question\": itemgetter(\"question\"),\n",
        "            \"q_a_pairs\": itemgetter(\"q_a_pairs\")}\n",
        "            | decomposition_prompt\n",
        "            | llm\n",
        "            | StrOutputParser())\n",
        "\n",
        "        answer = rag_chain.invoke({\"question\":q,\"q_a_pairs\":q_a_pairs})\n",
        "        q_a_pair = format_qa_pair(q,answer)\n",
        "        q_a_pairs = q_a_pairs + \"\\n---\\n\"+  q_a_pair\n",
        "        print(\"q_a pair \" + str(count) + \" is complete.\")\n",
        "    print(answer)\n",
        "\n",
        "dynamic_retrieval(question, sub_questions, retriever, llm)"
      ],
      "metadata": {
        "colab": {
          "base_uri": "https://localhost:8080/"
        },
        "id": "smBLCavpQhyp",
        "outputId": "c3766f5c-ad0c-463b-ac5c-46183f860a4a"
      },
      "execution_count": null,
      "outputs": [
        {
          "output_type": "stream",
          "name": "stderr",
          "text": [
            "WARNING:chromadb.segment.impl.vector.local_hnsw:Number of requested results 4 is greater than number of elements in index 3, updating n_results = 3\n"
          ]
        },
        {
          "output_type": "stream",
          "name": "stdout",
          "text": [
            "Generating q_a pairs..\n"
          ]
        },
        {
          "output_type": "stream",
          "name": "stderr",
          "text": [
            "WARNING:chromadb.segment.impl.vector.local_hnsw:Number of requested results 4 is greater than number of elements in index 3, updating n_results = 3\n"
          ]
        },
        {
          "output_type": "stream",
          "name": "stdout",
          "text": [
            "q_a pair 0 is complete.\n"
          ]
        },
        {
          "output_type": "stream",
          "name": "stderr",
          "text": [
            "WARNING:chromadb.segment.impl.vector.local_hnsw:Number of requested results 4 is greater than number of elements in index 3, updating n_results = 3\n"
          ]
        },
        {
          "output_type": "stream",
          "name": "stdout",
          "text": [
            "q_a pair 1 is complete.\n"
          ]
        },
        {
          "output_type": "stream",
          "name": "stderr",
          "text": [
            "WARNING:chromadb.segment.impl.vector.local_hnsw:Number of requested results 4 is greater than number of elements in index 3, updating n_results = 3\n"
          ]
        },
        {
          "output_type": "stream",
          "name": "stdout",
          "text": [
            "q_a pair 2 is complete.\n"
          ]
        },
        {
          "output_type": "stream",
          "name": "stderr",
          "text": [
            "WARNING:chromadb.segment.impl.vector.local_hnsw:Number of requested results 4 is greater than number of elements in index 3, updating n_results = 3\n"
          ]
        },
        {
          "output_type": "stream",
          "name": "stdout",
          "text": [
            "q_a pair 3 is complete.\n",
            "q_a pair 4 is complete.\n",
            "The Lang Yang Lamu symbiosis is significant for several reasons. On a fundamental level, it represents an intricate and complex ecological relationship between different species, offering a fascinating insight into the intricate webs of predator-prey dynamics. The interplay between Lang, Yang, and the Lamu plants showcases how unexpected and profound interactions can occur within ecosystems. \n",
            "\n",
            "Furthermore, this symbiosis has captured the attention of researchers studying sustainable solutions for food production. The unique effect of Lang's urine on the Lamu plants and the subsequent benefits to Yang and the soil fertility presents a remarkable potential for agricultural advancement. By understanding and replicating this phenomenon, scientists at the Global Ecology Research Center in Geneva aim to develop sustainable methods to enhance crop yields and combat food scarcity. \n",
            "\n",
            "The Lang Yang Lamu symbiosis goes beyond mere ecological interest and holds practical value in improving human agriculture and understanding the complexities of the natural world. It inspires new avenues of exploration into ecological management and the potential co-existence of species with seemingly incompatible relationships. The research surrounding this symbiosis could lead to groundbreaking discoveries in sustainable farming practices, making it a significant area of study.\n"
          ]
        }
      ]
    },
    {
      "cell_type": "markdown",
      "source": [
        "## Stepback\n",
        "\n",
        "Stepback is a Query Translation technique where in the original question is abstracted to get a simpler question or a question to find the underlying concepts/theories that are needed knowledge for the question.\n",
        "\n",
        "For example\n",
        "Word Problem:\n",
        "\n",
        "A garden has the shape of a rectangle. The length of the garden is 6 meters longer than its width. If the area of the garden is 91 square meters, what are the dimensions of the garden?\n",
        "\n",
        "Possible Step Back Questions:\n",
        "1. What mathematical concept is used to solve for the dimensions of the garden, and how is it applied in this problem?\n",
        "2. What is the quadratic equation, and how does it help in determining the dimensions of the garden?\n",
        "3. What steps are involved in solving a quadratic equation, and why are these steps necessary for finding the dimensions of the garden?\n",
        "\n",
        "Some More Examples:\n",
        "\n",
        "Original: What are the implications of the Lang-Yang-Lamu symbiosis for the human population?\n",
        "ideal step back questions:\n",
        "1. How do symbiotic relationships impact humans?\n",
        "\n",
        "Original: Do Langs eat humans?\n",
        "ideal step back questions\n",
        "1. What is the typical diet of Langs?\n",
        "2. Are Langs carnivorous?\n",
        "3. Can a Lang kill a human?\n",
        "\n",
        "One key note is that the LLM does not know about the concept of Langs, Yangs, and Lamus. Since it does not know that they are animal and plants. The LLM usually mistakes them for a Chinese family clan, people group, place, or thing.\n",
        "\n",
        "In this scenario, ideal step back questions need to fill up the gaps of knowledge the LLM has.\n",
        "For example:\n",
        "\n",
        "Original: How do Langs help Yangs?\n",
        "\n",
        "Ideal step back question:\n",
        "What are Langs and Yangs, and how do they affect each other?\n",
        "\n",
        "Original: What are the Side effects of time travel?\n",
        "\n",
        "Ideal step back question:\n",
        "What is time travel and how does it affect users?\n",
        "\n",
        "\n",
        "Insights:\n",
        "the step back questions from simple questions tend to be reworded versions of itself only rather than trying to find a more abstract level to view the question."
      ],
      "metadata": {
        "id": "TPWPWIT8k3uh"
      }
    },
    {
      "cell_type": "markdown",
      "source": [
        "### Stepback Generation"
      ],
      "metadata": {
        "id": "fgReWHAcJMES"
      }
    },
    {
      "cell_type": "code",
      "source": [
        "sb_prompt = PromptTemplate(\n",
        "        input_variables=[\"question\", \"context\"],\n",
        "        template=\"\"\"You are an AI assistant. Your task is to rephrase a given question into a more general, step-back question that is easier to understand and answer.\n",
        "    Please follow the principles below, along with their examples:\n",
        "\n",
        "    1. Identify the Underlying Concept:\n",
        "       - Example:\n",
        "         Original: How does photosynthesis occur in plants?\n",
        "         Step Back: What is the basic process of photosynthesis, and why is it important for plant life?\n",
        "\n",
        "    2. Simplify the Context:\n",
        "       - Example:\n",
        "         Original: What are the effects of the Philippine Clean Air Act on industrial pollution?\n",
        "         Step Back: What is environmental regulation, and how does it control pollution?\n",
        "\n",
        "    3. Generalize Specific Details:\n",
        "       - Example:\n",
        "         Original: What role does Atticus Finch play in \"To Kill a Mockingbird\"?\n",
        "         Step Back: What is the significance of moral characters in literature?\n",
        "\n",
        "    4. Explore the Purpose or Function:\n",
        "       - Example:\n",
        "         Original: How does the Philippine judicial system address human rights violations?\n",
        "         Step Back: What is the role of the judiciary in protecting human rights?\n",
        "\n",
        "    5. Connect to Broader Implications:\n",
        "       - Example:\n",
        "         Original: How do antibiotics affect bacterial infections?\n",
        "         Step Back: What are antibiotics, and why are they crucial in treating bacterial infections?\n",
        "\n",
        "    Please respond with only the rephrased, step-back question.\n",
        "\n",
        "    The given question: {question}\n",
        "\n",
        "    Here is additional context about the question to help in generating a step-back question:\n",
        "    {context}\n",
        "    \"\"\"\n",
        "    )"
      ],
      "metadata": {
        "id": "i5MPuE321I2h"
      },
      "execution_count": null,
      "outputs": []
    },
    {
      "cell_type": "code",
      "source": [
        "regularQuestions = [\n",
        "    \"How do vaccines work to provide immunity against diseases?\",\n",
        "    \"How does Shakespeare use foreshadowing in \\\"Macbeth\\\"?\",\n",
        "    \"What is the process of DNA replication in cells?\"\n",
        "]\n",
        "\n",
        "\n",
        "for question in regularQuestions:\n",
        "  print(\"Original: \" + question)\n",
        "  generate_queries_step_back = sb_prompt | llm | StrOutputParser()\n",
        "  print(\"Step Back: \" + generate_queries_step_back.invoke({\"question\": question, \"context\": \"None\"}))\n",
        "  print()"
      ],
      "metadata": {
        "colab": {
          "base_uri": "https://localhost:8080/"
        },
        "id": "rA8a5Yvu1NvB",
        "outputId": "ae20937c-b109-4171-873b-9e776e168980"
      },
      "execution_count": null,
      "outputs": [
        {
          "output_type": "stream",
          "name": "stdout",
          "text": [
            "Original: How do vaccines work to provide immunity against diseases?\n",
            "Step Back: How do immune-boosting solutions like vaccines help prevent diseases and contribute to long-term immunity?\n",
            "\n",
            "Original: How does Shakespeare use foreshadowing in \"Macbeth\"?\n",
            "Step Back: In Shakespearean tragedy, how do authors employ foreshadowing to enhance the plot and engage the audience?\n",
            "\n",
            "Original: What is the process of DNA replication in cells?\n",
            "Step Back: What is the fundamental mechanism of DNA replication and its significance in cellular processes?\n",
            "\n"
          ]
        }
      ]
    },
    {
      "cell_type": "code",
      "source": [
        "corpusQuestions = [\n",
        "    \"How do Langs help Yangs?\",\n",
        "    \"What are the side effects of time travel?\",\n",
        "    \"Do Langs eat humans?\",\n",
        "    \"What is the significance of Miracle Blooms in human society?\",\n",
        "    \"How did the Yangs and Langs Originate?\"\n",
        "]\n",
        "\n",
        "\n",
        "for question in corpusQuestions:\n",
        "  print(\"Original: \" + question)\n",
        "  generate_queries_step_back = sb_prompt | llm | StrOutputParser()\n",
        "  context = retrieved_docs = retriever.get_relevant_documents(question)\n",
        "  #print(context)\n",
        "  print(\"Step Back: \" + generate_queries_step_back.invoke({\"question\": question, \"context\": \"None\"}))\n",
        "  print()"
      ],
      "metadata": {
        "colab": {
          "base_uri": "https://localhost:8080/"
        },
        "id": "X-whIXv6ImgL",
        "outputId": "1f72f82e-1614-4e53-9a87-e204170fc5cb"
      },
      "execution_count": null,
      "outputs": [
        {
          "output_type": "stream",
          "name": "stdout",
          "text": [
            "Original: How do Langs help Yangs?\n",
            "Step Back: In the context of the given scenario, what is the role of languages in supporting different cultures?\n",
            "\n",
            "Original: What are the side effects of time travel?\n",
            "Step Back: What are the potential consequences of altering temporal progression?\n",
            "\n",
            "Original: Do Langs eat humans?\n",
            "Step Back: Are predatory animals a threat to humans?\n",
            "\n",
            "Original: What is the significance of Miracle Blooms in human society?\n",
            "Step Back: What are the cultural and societal implications of remarkable phenomena like Miracle Blooms?\n",
            "\n",
            "Original: How did the Yangs and Langs Originate?\n",
            "Step Back: Where do family names originate from?\n",
            "\n"
          ]
        }
      ]
    },
    {
      "cell_type": "code",
      "source": [
        "corpusQuestions = [\n",
        "    \"How do Langs help Yangs?\",\n",
        "    \"What are the side effects of time travel?\",\n",
        "    \"Do Langs eat humans?\",\n",
        "    \"What is the significance of Miracle Blooms in human society?\",\n",
        "    \"How did the Yangs and Langs Originate?\"\n",
        "]\n",
        "\n",
        "\n",
        "for question in corpusQuestions:\n",
        "  print(\"Original: \" + question)\n",
        "  generate_queries_step_back = sb_prompt | llm | StrOutputParser()\n",
        "  context = retrieved_docs = retriever.get_relevant_documents(question)\n",
        "  #print(context)\n",
        "  print(\"Step Back: \" + generate_queries_step_back.invoke({\"question\": question, \"context\": context}))\n",
        "  print()"
      ],
      "metadata": {
        "colab": {
          "base_uri": "https://localhost:8080/"
        },
        "id": "oJ6wsxkKzavu",
        "outputId": "9822f71a-e0ea-4361-e25c-cc61f220bd5e"
      },
      "execution_count": null,
      "outputs": [
        {
          "output_type": "stream",
          "name": "stdout",
          "text": [
            "Original: How do Langs help Yangs?\n",
            "Step Back: What is the ecological and cultural significance of the relationship between Langs and Yangs, and how has it influenced conservation efforts over time?\n",
            "\n",
            "Original: What are the side effects of time travel?\n",
            "Step Back: What are the potential implications of time travel on the ecosystem and human society?\n",
            "\n",
            "Original: Do Langs eat humans?\n",
            "Step Back: Do mystical wolf-like creatures play a significant role in human folklore and mythology?\n",
            "\n",
            "Original: What is the significance of Miracle Blooms in human society?\n",
            "Step Back: What is the ecological and cultural significance of plants in human society, with respect to their impact on folklore, conservation, and sustainable development?\n",
            "\n",
            "Original: How did the Yangs and Langs Originate?\n",
            "Step Back: What is the cultural and historical significance of the Lang-Yang relationship, and how has it influenced conservation and agricultural practices?\n",
            "\n"
          ]
        }
      ]
    },
    {
      "cell_type": "markdown",
      "source": [
        "#### Analysis\n",
        "\n",
        "\n",
        "For the regular questions, the cohere LLM generated workable stepback questions without context. However, regarding questions about our corpus, the LLM did not know much about what Yang's and Lang's are so the Stepback question generator only worked well if the LLM was given context documents.  "
      ],
      "metadata": {
        "id": "wxpcOoFoG346"
      }
    },
    {
      "cell_type": "markdown",
      "source": [
        "### Incorporating Stepback in RAG"
      ],
      "metadata": {
        "id": "XWxu6eimLRXX"
      }
    },
    {
      "cell_type": "code",
      "source": [
        "def sb_generator(question:str):\n",
        "  sb_prompt = PromptTemplate(\n",
        "        input_variables=[\"question\", \"context\"],\n",
        "        template=\"\"\"You are an AI assistant. Your task is to rephrase a given question into a more general, step-back question that is easier to understand and answer.\n",
        "    Please follow the principles below, along with their examples:\n",
        "\n",
        "    1. Identify the Underlying Concept:\n",
        "       - Example:\n",
        "         Original: How does photosynthesis occur in plants?\n",
        "         Step Back: What is the basic process of photosynthesis, and why is it important for plant life?\n",
        "\n",
        "    2. Simplify the Context:\n",
        "       - Example:\n",
        "         Original: What are the effects of the Philippine Clean Air Act on industrial pollution?\n",
        "         Step Back: What is environmental regulation, and how does it control pollution?\n",
        "\n",
        "    3. Generalize Specific Details:\n",
        "       - Example:\n",
        "         Original: What role does Atticus Finch play in \"To Kill a Mockingbird\"?\n",
        "         Step Back: What is the significance of moral characters in literature?\n",
        "\n",
        "    4. Explore the Purpose or Function:\n",
        "       - Example:\n",
        "         Original: How does the Philippine judicial system address human rights violations?\n",
        "         Step Back: What is the role of the judiciary in protecting human rights?\n",
        "\n",
        "    5. Connect to Broader Implications:\n",
        "       - Example:\n",
        "         Original: How do antibiotics affect bacterial infections?\n",
        "         Step Back: What are antibiotics, and why are they crucial in treating bacterial infections?\n",
        "\n",
        "    Please respond with only the rephrased, step-back question.\n",
        "\n",
        "    The given question: {question}\n",
        "\n",
        "    Here is additional context about the question to help in generating a step-back question:\n",
        "    {context}\n",
        "    \"\"\"\n",
        "    )\n",
        "  generate_queries_step_back = sb_prompt | llm | StrOutputParser()\n",
        "  context = retriever.get_relevant_documents(question)\n",
        "  return generate_queries_step_back.invoke({\"question\": question, \"context\": context})"
      ],
      "metadata": {
        "id": "4YQ5olu-173j"
      },
      "execution_count": null,
      "outputs": []
    },
    {
      "cell_type": "code",
      "source": [
        "sb_generator(\"How Langs help Yangs?\")"
      ],
      "metadata": {
        "colab": {
          "base_uri": "https://localhost:8080/",
          "height": 56
        },
        "id": "YBqLWG6W-Rcw",
        "outputId": "af7a0a18-1103-4c47-ca10-88758c54e462"
      },
      "execution_count": null,
      "outputs": [
        {
          "output_type": "execute_result",
          "data": {
            "text/plain": [
              "'What is the ecological and cultural significance of the Lang-Yang relationship, and how does it influence conservation efforts?'"
            ],
            "application/vnd.google.colaboratory.intrinsic+json": {
              "type": "string"
            }
          },
          "metadata": {},
          "execution_count": 25
        }
      ]
    },
    {
      "cell_type": "code",
      "source": [
        "def rag(question:str):\n",
        "  # Get step back question\n",
        "  prompt = PromptTemplate(\n",
        "        input_variables=[\"question\", \"context\"],\n",
        "        template=\"\"\"You are an AI assistant. Your task is to answer a given question based on the given context\n",
        "\n",
        "    The given question: {question}\n",
        "\n",
        "    Here is the context documents and a step back question with its answer\n",
        "    Disregard all unrelated content regarding the given question.\n",
        "    {context}\n",
        "    \"\"\"\n",
        "    )\n",
        "  generate_answer = prompt | llm | StrOutputParser()\n",
        "  # answer step back question\n",
        "  x = retriever.get_relevant_documents(question)\n",
        "  docs = \"\"\n",
        "  for y in x:\n",
        "    docs += y.page_content\n",
        "  #use step back question answer and docx as context for answer\n",
        "  context = docs\n",
        "  return generate_answer.invoke({\"question\": question, \"context\": context})"
      ],
      "metadata": {
        "id": "8mVgm3-OGf_Y"
      },
      "execution_count": null,
      "outputs": []
    },
    {
      "cell_type": "code",
      "source": [
        "def sb_rag(question:str):\n",
        "  # Get step back question\n",
        "  sb_question = sb_generator(question)\n",
        "  context = retriever.get_relevant_documents(sb_question)\n",
        "  prompt = PromptTemplate(\n",
        "        input_variables=[\"question\", \"context\"],\n",
        "        template=\"\"\"You are an AI assistant. Your task is to answer a given question based on the given context\n",
        "\n",
        "    The given question: {question}\n",
        "\n",
        "    Here is the context documents and a step back question with its answer\n",
        "    Disregard all unrelated content regarding the given question.\n",
        "    {context}\n",
        "    \"\"\"\n",
        "    )\n",
        "  generate_sb_answer = prompt | llm | StrOutputParser()\n",
        "  # answer step back question\n",
        "  answer = generate_sb_answer.invoke({\"question\": sb_question, \"context\": context})\n",
        "  x = retriever.get_relevant_documents(question)\n",
        "  docs = \"\"\n",
        "  for y in x:\n",
        "    docs += y.page_content\n",
        "  #use step back question answer and docx as context for answer\n",
        "  context = docs + \"\\n\\nQuestion: \" + sb_question + \"\\nAnswer: \" + answer\n",
        "  return generate_sb_answer.invoke({\"question\": question, \"context\": context})"
      ],
      "metadata": {
        "id": "_JC3VLBs6iYW"
      },
      "execution_count": null,
      "outputs": []
    },
    {
      "cell_type": "code",
      "source": [
        "print(rag(\"How Langs help Yangs?\"))"
      ],
      "metadata": {
        "colab": {
          "base_uri": "https://localhost:8080/"
        },
        "id": "Bd2LO598G6Wn",
        "outputId": "215099c6-382d-4b9b-c570-2d1434d8eb7b"
      },
      "execution_count": null,
      "outputs": [
        {
          "output_type": "stream",
          "name": "stdout",
          "text": [
            "Langs help Yangs indirectly in a symbiotic relationship. Langs consume the Lamu plant which then processes into urine, a key ingredient in a potent natural fertiliser. This fertiliser is beneficial for the growth of vegetation that serves as a food supply for the Yang species. In this way, the Langs, by virtue of their diet, aid the Yangs in having an ample food source and sustaining their species. \n",
            "\n",
            "The relationship between Langs and Yangs has profound implications, shaping the folklore, conservation efforts, and agricultural practices of human societies that have developed around them.\n"
          ]
        }
      ]
    },
    {
      "cell_type": "code",
      "source": [
        "print(sb_rag(\"How Langs help Yangs?\"))"
      ],
      "metadata": {
        "colab": {
          "base_uri": "https://localhost:8080/"
        },
        "id": "R2_T-tfbDOrk",
        "outputId": "2454e5a4-d403-45cc-8fa6-ea3208077bf8"
      },
      "execution_count": null,
      "outputs": [
        {
          "output_type": "stream",
          "name": "stdout",
          "text": [
            "The Langs help the Yangs indirectly in a symbiotic relationship. The Yangs, or Mystic Sheep, are herbivores that graze on plants, including the Lamu plant, which becomes a vital fertilizer after being modified by the urine of the Langs. This fertilizer is crucial for agricultural applications, stabilizing economies in regions facing agricultural challenges and contributing to food production. \n",
            "\n",
            "Furthermore, the cultural significance of this relationship adds another layer of importance to conservation efforts. The Lang-Yang dynamic is deeply rooted in Central Asian folklore and mythology, symbolizing themes of nature's harmony, innocence, and strength. This cultural reverence has led to ecological stewardship and a deeper understanding of the ecosystem among human societies. Artists, writers, and creatives also draw inspiration from this relationship, promoting ecological conservation and cultural appreciation. \n",
            "\n",
            "Understanding the Lang-Yang symbiosis has helped humans develop a holistic approach to environmental management and conservation, highlighting the importance of sustaining these species' ecosystems for future generations.\n"
          ]
        }
      ]
    },
    {
      "cell_type": "markdown",
      "source": [
        "## HyDE\n",
        "\n",
        "Hypothetical Document Embedding is creating a hypothetical document based on the question and use that document to better retrieve/search for related documents about the question.\n"
      ],
      "metadata": {
        "id": "jUe0kJ3THIyW"
      }
    },
    {
      "cell_type": "code",
      "source": [
        "from langchain.prompts import ChatPromptTemplate\n",
        "from langchain_core.output_parsers import StrOutputParser\n",
        "\n",
        "\n",
        "def HyDE_generator(question:str):\n",
        "  template = \"\"\"Please write a scientific paper passage to answer the question\n",
        "  Question: {question}\n",
        "  Passage:\"\"\"\n",
        "  prompt_hyde = ChatPromptTemplate.from_template(template)\n",
        "\n",
        "  generate_docs_for_retrieval = (\n",
        "    prompt_hyde | llm | StrOutputParser()\n",
        "  )\n",
        "\n",
        "\n",
        "  return generate_docs_for_retrieval.invoke({\"question\":question})\n",
        "# HyDE document genration\n",
        "\n",
        "# Run\n",
        "print(HyDE_generator(\"How does the process of photosynthesis in plants work?\"))"
      ],
      "metadata": {
        "colab": {
          "base_uri": "https://localhost:8080/"
        },
        "id": "Jx3jL_Y9sFor",
        "outputId": "233d017d-35cb-45f9-ac22-f0e8b4d33e5f"
      },
      "execution_count": null,
      "outputs": [
        {
          "output_type": "stream",
          "name": "stdout",
          "text": [
            "Photosynthesis in plants is an intricate process that transforms luminous energy into chemical energy, enabling plants to thrive and grow. This fascinating mechanism enables plants to convert sunlight, water, and carbon dioxide into oxygen and glucose, which serves as a crucial energy source for the plant's survival. The process predominantly occurs in specialized organelles called chloroplasts, which are abundant in the leaves of plants. Chloroplasts contain a green pigment called chlorophyll, which plays a pivotal role in harvesting sunlight, thus initiating photosynthesis. \n",
            "\n",
            "The process can be divided into two primary phases: the light-dependent reactions and the light-independent reactions. During the light-dependent phase, light energy is absorbed by chlorophyll, exciting the electrons within the chloroplasts. This excitement triggers a series of reactions that transfer the electrons through a complex network of proteins called the electron transport chain. This chain of reactions culminates in the production of ATP molecules, which serve as energy carriers, and NADPH, which reduces carbon dioxide. \n",
            "\n",
            "In the subsequent light-independent phase, also known as the Calvin Cycle, carbon dioxide is converted into organic molecules. The ATP molecules generated in the previous phase supply the requisite energy, while NADPH reduces carbon dioxide to form glucose. This cycle involves a intricate series of reactions that convert carbon dioxide into a three-carbon sugar molecule, subsequently breaking it down to produce two molecules of glyceraldehyde-3-phosphate (G3P), which can be further processed by the plant as a form of energy storage. \n",
            "\n",
            "Throughout the photosynthetic process, water plays a critical role. It acts as the hydrogen donor, providing the necessary hydrogen atoms required for the formation of glucose. Moreover, water molecules are split during the light-dependent reactions, releasing oxygen as a byproduct of photosynthesis. This intricate interplay of light energy, water, and carbon dioxide conversion sustains the plant's growth and also contributes to the regulation of Earth's atmosphere by releasing oxygen and sequestering carbon dioxide. \n",
            "\n",
            "In conclusion, photosynthesis is an intricate and vital process for plant survival, harnessing the power of sunlight to create essential compounds required by the plant. Through this remarkable mechanism, plants transform the elements around them into the energy necessary for their growth and development, laying the foundation for life on Earth and shaping our planet's atmospheric composition. Modern understanding of photosynthesis has profound implications, offering insights into plant physiology and the delicate balance of our ecosystem. \n",
            "\n",
            "This passage provides a glimpse into the complexity of photosynthetic processes, highlighting the remarkable adaptability and survival strategies exhibited by plants in harnessing the sun's energy.\n"
          ]
        }
      ]
    },
    {
      "cell_type": "code",
      "source": [
        "HyDE_generator(\"How do Langs help Yangs?\")"
      ],
      "metadata": {
        "colab": {
          "base_uri": "https://localhost:8080/",
          "height": 143
        },
        "id": "wcLMcD4rtnk6",
        "outputId": "76357bcf-904c-4b68-f646-0ff339590195"
      },
      "execution_count": null,
      "outputs": [
        {
          "output_type": "execute_result",
          "data": {
            "text/plain": [
              "'Langs help Yangs by acting as a protective barrier. Yangs are a type of particle that carry a positive charge, and Langs, their negatively charged counterparts, help to neutralize this charge. When Langs and Yangs come close to each other, they are drawn together by their opposite charges. This causes them to combine and form a stable compound, preventing the Yangs from interacting with other Yangs and causing unwanted reactions. In this way, Langs act as a protective shield, guiding Yangs away from harmful interactions and ensuring their safety. This phenomenon is a well-known example of electrostatic attraction, demonstrating the power of opposite charges to attract and aid one another. Further studies into the behavior of Langs and Yangs and their applications in controlling particle interactions are ongoing and hold promise for various practical uses.'"
            ],
            "application/vnd.google.colaboratory.intrinsic+json": {
              "type": "string"
            }
          },
          "metadata": {},
          "execution_count": 37
        }
      ]
    },
    {
      "cell_type": "code",
      "source": [
        "def HyDE_rag(question:str):\n",
        "  # Get step back question\n",
        "  hyde = HyDE_generator(question)\n",
        "  context = retriever.get_relevant_documents(hyde)\n",
        "  prompt = PromptTemplate(\n",
        "        input_variables=[\"question\", \"context\"],\n",
        "        template=\"\"\"You are an AI assistant. Your task is to answer a given question based on the given context\n",
        "\n",
        "    The given question: {question}\n",
        "\n",
        "    Here is the context documents and a step back question with its answer\n",
        "    Disregard all unrelated content regarding the given question.\n",
        "    {context}\n",
        "    \"\"\"\n",
        "    )\n",
        "  generate_hyde_answer = prompt | llm | StrOutputParser()\n",
        "  return generate_hyde_answer.invoke({\"question\": question, \"context\": context})"
      ],
      "metadata": {
        "id": "UQUrANfqtTJu"
      },
      "execution_count": null,
      "outputs": []
    },
    {
      "cell_type": "code",
      "source": [
        "print(rag(\"How Langs help Yangs?\"))"
      ],
      "metadata": {
        "colab": {
          "base_uri": "https://localhost:8080/"
        },
        "id": "uXyYDMMDx7fj",
        "outputId": "bfedc9e5-3494-437a-96ac-4a49ea19afb1"
      },
      "execution_count": null,
      "outputs": [
        {
          "output_type": "stream",
          "name": "stdout",
          "text": [
            "Langs help Yangs indirectly in a symbiotic relationship. Langs consume the Lamu plant which then processes into urine, a key ingredient in a potent natural fertiliser. This fertiliser is beneficial for the growth of vegetation that serves as a food supply for the Yang species. In this way, the Langs, by virtue of their diet, aid the Yangs in having an ample food source and sustaining their species. \n",
            "\n",
            "The relationship between Langs and Yangs has profound implications, shaping the folklore, conservation efforts, and agricultural practices of human societies that have developed around them.\n"
          ]
        }
      ]
    },
    {
      "cell_type": "code",
      "source": [
        "print(HyDE_rag(\"How Langs help Yangs?\"))"
      ],
      "metadata": {
        "colab": {
          "base_uri": "https://localhost:8080/"
        },
        "id": "-_rtOfLhx7s0",
        "outputId": "95719001-135d-40d6-ab81-978a8dc6c7ea"
      },
      "execution_count": null,
      "outputs": [
        {
          "output_type": "stream",
          "name": "stdout",
          "text": [
            "The given context discusses the symbiotic relationship between Langs and Yangs, two species that have impacted human societies throughout history. Langs are referred to as Canis mythicus, and Yangs as Ovis mystica. The connection between these species, deeply rooted in folklore and mythology, has influenced human interactions with nature and shaped conservation efforts over the centuries. \n",
            "\n",
            "Langs, identified as formidable predators, and Yangs, portrayed as gentle but poisonous prey, have their roles clearly defined in this ecological dance. Folktales and mythology have celebrated this predator-prey dynamic, emphasizing the cultural reverence for the natural balance they represent. \n",
            "\n",
            "As people became more scientifically aware, conservationists stepped in to protect both species from the negative consequences of their symbiotic relationship. This intervention was essential in the 19th and 20th centuries, as habitat loss and hunting threats endangered Langs and Yangs. By understanding the intricate interplay between these species, humans could develop holistic ecological management strategies. \n",
            "\n",
            "In conclusion, the Lang-Yang symbiosis offers a wealth of insights into sustainable agriculture, mutualistic relationships, and socio-environmental issues. This ancient partnership, admired and respected by humans, has much to teach us about nature's interconnectedness and the need for cooperative solutions to environmental challenges, contributing to a sustainable and equitable future.\n"
          ]
        }
      ]
    },
    {
      "cell_type": "markdown",
      "source": [
        "# Routing\n",
        "\n",
        "Routing is the process of choosing the correct database for the given question. For example, the question is about dogs, then the database that relevant documents may be found should probably be in the dog database."
      ],
      "metadata": {
        "id": "NoYf9xT1sHM3"
      }
    },
    {
      "cell_type": "markdown",
      "source": [
        "## Logical Routing\n",
        "\n",
        "Use the LLM to choose the database."
      ],
      "metadata": {
        "id": "dSAYv2krswpP"
      }
    },
    {
      "cell_type": "code",
      "source": [
        "def Logical_Router(question:str):\n",
        "  # Get step back question\n",
        "  prompt = PromptTemplate(\n",
        "        input_variables=[\"question\"],\n",
        "        template = \"\"\"\n",
        "    Given the question \"{question}\":\n",
        "\n",
        "    Answer \"topic1\" if the question relates more to Lang-Yang-Lamu symbiosis.\n",
        "    Answer \"topic2\" if the question relates more to time travelers.\n",
        "    If the question does not relate to either topic, return the number 0.\n",
        "\n",
        "    Topic 1 is about the Lang-Yang-Lamu symbiosis. Lang's are wolf-like creatures that prey on Yang's. Yang's are sheep-like creatures that eat the Lamu Plant.\n",
        "    Keywords to note about in topic1: Lang, Yang, Lamu, and Miracle Bloom.\n",
        "\n",
        "    Topic 2 is about time travelers and time travel.\n",
        "    \"\"\"\n",
        "    )\n",
        "  generate_answer = prompt | llm | StrOutputParser()\n",
        "  answer = generate_answer.invoke({\"question\":question})\n",
        "\n",
        "  if answer in [\"topic1\", \"topic2\"]:\n",
        "      return answer\n",
        "  else:\n",
        "      return 0"
      ],
      "metadata": {
        "id": "o6gW1e6YssVX"
      },
      "execution_count": null,
      "outputs": []
    },
    {
      "cell_type": "code",
      "source": [
        "# Expect topic1\n",
        "Logical_Router(\"How do Langs help Yangs?\")"
      ],
      "metadata": {
        "colab": {
          "base_uri": "https://localhost:8080/",
          "height": 39
        },
        "id": "EH1TvK_Bt-EH",
        "outputId": "a7f1fe7c-681f-4f78-958b-462595d7a77e"
      },
      "execution_count": null,
      "outputs": [
        {
          "output_type": "execute_result",
          "data": {
            "text/plain": [
              "'topic1'"
            ],
            "application/vnd.google.colaboratory.intrinsic+json": {
              "type": "string"
            }
          },
          "metadata": {},
          "execution_count": 87
        }
      ]
    },
    {
      "cell_type": "code",
      "source": [
        "# Expect topic2\n",
        "Logical_Router(\"What are the side effects of time travel?\")"
      ],
      "metadata": {
        "colab": {
          "base_uri": "https://localhost:8080/"
        },
        "id": "EDp6rS0AuG8o",
        "outputId": "2ad04cd8-af7a-47dc-8e78-db456955843c"
      },
      "execution_count": null,
      "outputs": [
        {
          "output_type": "execute_result",
          "data": {
            "text/plain": [
              "0"
            ]
          },
          "metadata": {},
          "execution_count": 90
        }
      ]
    },
    {
      "cell_type": "code",
      "source": [
        "# Expect topic1\n",
        "Logical_Router(\"What is the Miracle Bloom?\")"
      ],
      "metadata": {
        "colab": {
          "base_uri": "https://localhost:8080/"
        },
        "id": "9oyuuTifuDv8",
        "outputId": "c3070077-7c78-4617-aba1-5e0437ff6f72"
      },
      "execution_count": null,
      "outputs": [
        {
          "output_type": "execute_result",
          "data": {
            "text/plain": [
              "0"
            ]
          },
          "metadata": {},
          "execution_count": 91
        }
      ]
    },
    {
      "cell_type": "code",
      "source": [
        "# Expect 0\n",
        "logicalRouting(\"What is the scientific name of Lilies?\")"
      ],
      "metadata": {
        "colab": {
          "base_uri": "https://localhost:8080/"
        },
        "id": "7tc7-1RUw13o",
        "outputId": "b721df1a-f49c-43eb-902d-994db51c41a1"
      },
      "execution_count": null,
      "outputs": [
        {
          "output_type": "execute_result",
          "data": {
            "text/plain": [
              "0"
            ]
          },
          "metadata": {},
          "execution_count": 92
        }
      ]
    },
    {
      "cell_type": "markdown",
      "source": [
        "Since the LLM was not trained on the corpus data, it has trouble determining what database that should be used for the specific question.\n",
        "\n",
        "This method seems to tend to have more false negatives."
      ],
      "metadata": {
        "id": "R0hK_GdMwjGG"
      }
    },
    {
      "cell_type": "markdown",
      "source": [
        "## Semantic Routing\n",
        "\n",
        "Semantic Routing chooses a database based on relevance scores calculated through how close the embeddings of each of the databases are to the question."
      ],
      "metadata": {
        "id": "mDLyXH30xFPu"
      }
    },
    {
      "cell_type": "code",
      "source": [
        "def Semantic_Router(question:str):\n",
        "  topic1 = retriever.vectorstore.similarity_search_with_relevance_scores(question)\n",
        "  topic2 = retriever2.vectorstore.similarity_search_with_relevance_scores(question)\n",
        "  topic1Sum = 0\n",
        "  topic2Sum = 0\n",
        "  # get sum of relevance scores\n",
        "  print(\"topic1\")\n",
        "  for x in topic1:\n",
        "      print(x[1])\n",
        "      topic1Sum += x[1]\n",
        "  print(\"topic2\")\n",
        "  for x in topic2:\n",
        "      print(x[1])\n",
        "      topic2Sum += x[1]\n",
        "  print(\"topic1 Sum: \" + str(topic1Sum))\n",
        "  print(\"topic2 Sum: \" + str(topic2Sum))\n",
        "  if(topic1Sum >= topic2Sum):\n",
        "      return \"topic1\"\n",
        "      #all_documents = topic1\n",
        "  elif(topic1Sum < topic2Sum):\n",
        "      return \"topic2\""
      ],
      "metadata": {
        "id": "sW0D6F49wi7w"
      },
      "execution_count": null,
      "outputs": []
    },
    {
      "cell_type": "code",
      "source": [
        "Semantic_Router(\"How does time travel work?\")"
      ],
      "metadata": {
        "colab": {
          "base_uri": "https://localhost:8080/",
          "height": 336
        },
        "id": "J0AviZdd14tz",
        "outputId": "38e86355-ed05-4c86-8f1b-f9315a6a3102"
      },
      "execution_count": null,
      "outputs": [
        {
          "output_type": "stream",
          "name": "stderr",
          "text": [
            "/usr/local/lib/python3.10/dist-packages/langchain_core/vectorstores.py:330: UserWarning: Relevance scores must be between 0 and 1, got [(Document(page_content='In response to this crisis, the government of Kyrgyzstan, in collaboration with international conservation groups, has announced a new initiative aimed at bolstering anti-poaching measures. These include increased patrols, the implementation of advanced surveillance technologies, and harsher penalties for those caught engaging in the illegal wildlife trade.\\n\\n\"We must act now to ensure that future generations will also be able to witness the unique beauty of the Yang,\" Altin emphasized. \"This is a call to the international community to join us in our efforts to protect these magnificent creatures and the natural wonders they help sustain.\"\\n\\nThe world watches as Central Asia confronts this urgent conservation challenge, hoping that these efforts will curb the illegal hunting activities and restore the balance so crucial to the region\\'s ecological and cultural heritage.', metadata={'source': '/content/drive/MyDrive/LLM/corpus/h.txt'}), -10063.691568332295), (Document(page_content='In response to this crisis, the government of Kyrgyzstan, in collaboration with international conservation groups, has announced a new initiative aimed at bolstering anti-poaching measures. These include increased patrols, the implementation of advanced surveillance technologies, and harsher penalties for those caught engaging in the illegal wildlife trade.\\n\\n\"We must act now to ensure that future generations will also be able to witness the unique beauty of the Yang,\" Altin emphasized. \"This is a call to the international community to join us in our efforts to protect these magnificent creatures and the natural wonders they help sustain.\"\\n\\nThe world watches as Central Asia confronts this urgent conservation challenge, hoping that these efforts will curb the illegal hunting activities and restore the balance so crucial to the region\\'s ecological and cultural heritage.', metadata={'source': '/content/drive/MyDrive/LLM/corpus/h.txt'}), -10063.69157528368), (Document(page_content='Technological Integration\\n\\nThe future of agriculture lies at the intersection of technology and nature. Integrating the Lang-Yang-Lamu symbiosis into high-tech farming systems can enhance its efficiency and scalability. For instance, precision agriculture technologies can optimize the distribution of Lang urine and monitor the growth conditions of Lamu plants, ensuring that Yangs receive the most nutritionally enhanced forage.\\n\\nBiotechnology could also play a role in enhancing the natural processes involved. Genetic research might enable the development of Lamu plant variants that are even more effective at converting Lang urine into beneficial nutrients, further boosting the productivity of this symbiotic relationship.\\n\\nConclusion\\n\\nThe Lang-Yang-Lamu symbiosis represents a visionary approach to sustainable agriculture and ecological balance. As futurists look ahead, the integration of this natural process into advanced farming systems offers a promising solution to the challenges of food security, environmental sustainability, and economic development. By embracing and enhancing the wisdom of nature through technological innovation, we can build a future where agriculture supports both people and the planet in harmony.', metadata={'source': '/content/drive/MyDrive/LLM/corpus/o.txt'}), -10151.05773673493), (Document(page_content='Technological Integration\\n\\nThe future of agriculture lies at the intersection of technology and nature. Integrating the Lang-Yang-Lamu symbiosis into high-tech farming systems can enhance its efficiency and scalability. For instance, precision agriculture technologies can optimize the distribution of Lang urine and monitor the growth conditions of Lamu plants, ensuring that Yangs receive the most nutritionally enhanced forage.\\n\\nBiotechnology could also play a role in enhancing the natural processes involved. Genetic research might enable the development of Lamu plant variants that are even more effective at converting Lang urine into beneficial nutrients, further boosting the productivity of this symbiotic relationship.\\n\\nConclusion\\n\\nThe Lang-Yang-Lamu symbiosis represents a visionary approach to sustainable agriculture and ecological balance. As futurists look ahead, the integration of this natural process into advanced farming systems offers a promising solution to the challenges of food security, environmental sustainability, and economic development. By embracing and enhancing the wisdom of nature through technological innovation, we can build a future where agriculture supports both people and the planet in harmony.', metadata={'source': '/content/drive/MyDrive/LLM/corpus/o.txt'}), -10151.057741210803)]\n",
            "  warnings.warn(\n"
          ]
        },
        {
          "output_type": "stream",
          "name": "stdout",
          "text": [
            "topic1\n",
            "-10063.691568332295\n",
            "-10063.69157528368\n",
            "-10151.05773673493\n",
            "-10151.057741210803\n",
            "topic2\n",
            "-4680.173562067659\n",
            "-4680.173563522808\n",
            "-4724.178992835884\n",
            "-4724.1789944385555\n",
            "topic1 Sum: -40429.49862156171\n",
            "topic2 Sum: -18808.705112864907\n"
          ]
        },
        {
          "output_type": "stream",
          "name": "stderr",
          "text": [
            "/usr/local/lib/python3.10/dist-packages/langchain_core/vectorstores.py:330: UserWarning: Relevance scores must be between 0 and 1, got [(Document(page_content=\"The Time Traveler's Manual to Avoiding Temporal Disorientation\\nMay 2024\\n\\nWelcome, Time Traveler!\\n\\nCongratulations on embarking on the extraordinary journey through time. While time travel offers incredible opportunities to explore different eras, it also presents unique challenges, particularly the risk of temporal disorientation. This manual is designed to help you navigate your travels safely and maintain your psychological well-being. Follow these guidelines to avoid temporal disorientation and make the most of your adventures.\\n\\n1. Preparation Before Time Travel\\nA. Understand Temporal Disorientation:\\n\\nDefinition: Temporal disorientation is a psychological condition characterized by confusion or a distorted sense of time.\\nSymptoms: Difficulty determining the current date or time, memory disturbances, feeling disconnected from the present, and emotional distress.\\nB. Mental Health Check:\\n\\nConsult a Psychologist: Before your journey, have a thorough psychological evaluation. Ensure you are mentally prepared for the challenges ahead.\\nDevelop Coping Strategies: Learn mindfulness and grounding techniques to help you stay present during your travels.\\nC. Research Your Destination:\\n\\nHistorical Context: Familiarize yourself with the customs, language, and significant events of your destination era. This knowledge will help you integrate more smoothly and reduce cultural shock.\\nCreate a Timeline: Prepare a timeline of major historical events to keep your temporal bearings.\\n2. During Your Travels\\nA. Stay Grounded in the Present:\\n\\nUse Temporal Markers: Carry a digital or physical calendar to track the current date and significant events.\\nJournaling: Maintain a detailed journal of your daily activities and experiences. This practice helps reinforce your sense of continuity.\\nB. Establish Routines:\\n\\nConsistent Schedule: Create and adhere to a daily routine, regardless of the era. Consistent patterns of behavior help stabilize your sense of time.\\nFamiliar Practices: Incorporate familiar practices from your original time, such as exercise or hobbies, to maintain a sense of normalcy.\\nC. Mindfulness and Meditation:\\n\\nDaily Practice: Engage in daily mindfulness and meditation sessions. These practices help center your thoughts and reduce anxiety.\\nFocus Techniques: Use techniques like deep breathing and body scanning to stay present.\\nD. Social Connections:\", metadata={'source': '/content/drive/MyDrive/LLM/corpus/topic2/8.txt'}), -4680.173562067659), (Document(page_content=\"The Time Traveler's Manual to Avoiding Temporal Disorientation\\nMay 2024\\n\\nWelcome, Time Traveler!\\n\\nCongratulations on embarking on the extraordinary journey through time. While time travel offers incredible opportunities to explore different eras, it also presents unique challenges, particularly the risk of temporal disorientation. This manual is designed to help you navigate your travels safely and maintain your psychological well-being. Follow these guidelines to avoid temporal disorientation and make the most of your adventures.\\n\\n1. Preparation Before Time Travel\\nA. Understand Temporal Disorientation:\\n\\nDefinition: Temporal disorientation is a psychological condition characterized by confusion or a distorted sense of time.\\nSymptoms: Difficulty determining the current date or time, memory disturbances, feeling disconnected from the present, and emotional distress.\\nB. Mental Health Check:\\n\\nConsult a Psychologist: Before your journey, have a thorough psychological evaluation. Ensure you are mentally prepared for the challenges ahead.\\nDevelop Coping Strategies: Learn mindfulness and grounding techniques to help you stay present during your travels.\\nC. Research Your Destination:\\n\\nHistorical Context: Familiarize yourself with the customs, language, and significant events of your destination era. This knowledge will help you integrate more smoothly and reduce cultural shock.\\nCreate a Timeline: Prepare a timeline of major historical events to keep your temporal bearings.\\n2. During Your Travels\\nA. Stay Grounded in the Present:\\n\\nUse Temporal Markers: Carry a digital or physical calendar to track the current date and significant events.\\nJournaling: Maintain a detailed journal of your daily activities and experiences. This practice helps reinforce your sense of continuity.\\nB. Establish Routines:\\n\\nConsistent Schedule: Create and adhere to a daily routine, regardless of the era. Consistent patterns of behavior help stabilize your sense of time.\\nFamiliar Practices: Incorporate familiar practices from your original time, such as exercise or hobbies, to maintain a sense of normalcy.\\nC. Mindfulness and Meditation:\\n\\nDaily Practice: Engage in daily mindfulness and meditation sessions. These practices help center your thoughts and reduce anxiety.\\nFocus Techniques: Use techniques like deep breathing and body scanning to stay present.\\nD. Social Connections:\", metadata={'source': '/content/drive/MyDrive/LLM/corpus/topic2/8.txt'}), -4680.173563522808), (Document(page_content='The ethical implications of time travel on mental health, including the responsibility of ensuring psychological support for time travelers.\\nBioethics: Discussing the moral obligations of societies and institutions that enable time travel.\\nConclusion\\n\\nThe psychological impacts of time travel are complex and multifaceted, encompassing identity, stress, relationships, and cognitive processing. By understanding and addressing these challenges, we can better prepare for the potential realities of time travel and its effects on the human psyche. Future research and theoretical exploration will be crucial in developing effective coping strategies and ethical frameworks for managing temporal displacement.', metadata={'source': '/content/drive/MyDrive/LLM/corpus/topic2/1.txt'}), -4724.178992835884), (Document(page_content='The ethical implications of time travel on mental health, including the responsibility of ensuring psychological support for time travelers.\\nBioethics: Discussing the moral obligations of societies and institutions that enable time travel.\\nConclusion\\n\\nThe psychological impacts of time travel are complex and multifaceted, encompassing identity, stress, relationships, and cognitive processing. By understanding and addressing these challenges, we can better prepare for the potential realities of time travel and its effects on the human psyche. Future research and theoretical exploration will be crucial in developing effective coping strategies and ethical frameworks for managing temporal displacement.', metadata={'source': '/content/drive/MyDrive/LLM/corpus/topic2/1.txt'}), -4724.1789944385555)]\n",
            "  warnings.warn(\n"
          ]
        },
        {
          "output_type": "execute_result",
          "data": {
            "text/plain": [
              "'topic2'"
            ],
            "application/vnd.google.colaboratory.intrinsic+json": {
              "type": "string"
            }
          },
          "metadata": {},
          "execution_count": 11
        }
      ]
    },
    {
      "cell_type": "code",
      "source": [
        "Semantic_Router(\"How do Langs help Yangs?\")"
      ],
      "metadata": {
        "colab": {
          "base_uri": "https://localhost:8080/",
          "height": 336
        },
        "id": "erAg5imW2oqD",
        "outputId": "7dc6ea9f-5b46-4fa5-f7f2-7ea8331850d6"
      },
      "execution_count": null,
      "outputs": [
        {
          "output_type": "stream",
          "name": "stderr",
          "text": [
            "/usr/local/lib/python3.10/dist-packages/langchain_core/vectorstores.py:330: UserWarning: Relevance scores must be between 0 and 1, got [(Document(page_content=\"Habitat and Distribution:  \\nYangs are versatile and can thrive in a variety of environments but are predominantly found in mountainous regions and grassy plains where there is ample food supply. While originally native to Central Asia, their range has expanded due to their adaptability and the shifting environmental conditions.\\n\\nConservation Status:  \\nYangs are classified as a species of least concern but are monitored due to their unique ecological role and the effects of their interactions with the Lang. Conservation efforts are mainly directed towards habitat preservation and understanding the dynamics of their relationship with Langs to ensure both species' sustainability.\\n\\nCultural Significance:  \\nIn cultural narratives, Yangs symbolize innocence and purity, often depicted as gentle and serene beings. They hold a significant place in local folklore and are sometimes believed to possess mystical properties due to their unique biological characteristics. Their depiction in art and literature frequently highlights themes of harmony and nature’s bounty.\", metadata={'source': '/content/drive/MyDrive/LLM/corpus/f.txt'}), -3925.60292210574), (Document(page_content=\"Habitat and Distribution:  \\nYangs are versatile and can thrive in a variety of environments but are predominantly found in mountainous regions and grassy plains where there is ample food supply. While originally native to Central Asia, their range has expanded due to their adaptability and the shifting environmental conditions.\\n\\nConservation Status:  \\nYangs are classified as a species of least concern but are monitored due to their unique ecological role and the effects of their interactions with the Lang. Conservation efforts are mainly directed towards habitat preservation and understanding the dynamics of their relationship with Langs to ensure both species' sustainability.\\n\\nCultural Significance:  \\nIn cultural narratives, Yangs symbolize innocence and purity, often depicted as gentle and serene beings. They hold a significant place in local folklore and are sometimes believed to possess mystical properties due to their unique biological characteristics. Their depiction in art and literature frequently highlights themes of harmony and nature’s bounty.\", metadata={'source': '/content/drive/MyDrive/LLM/corpus/f.txt'}), -3925.602924595053), (Document(page_content='Habitat and Distribution:  \\nOriginally found throughout the dense forests and high mountain ranges of Central Asia, Langs have adapted to a wide range of environments. Their adaptability, combined with the changing climatic conditions, has expanded their range further into both northern and southern territories.\\n\\nConservation Status:  \\nWhile not currently endangered, Lang populations are closely monitored due to their integral role in their ecosystems and the unique biological and ecological phenomena associated with their interactions with the Yang. Conservation efforts are primarily focused on maintaining the balance of their natural habitat and studying the implications of their toxic prey.\\n\\nCultural Significance:  \\nIn folklore and mythology, Langs are often depicted as creatures of great wisdom and power, symbolizing strength and the wild spirit of nature. Their presence in tales and art across various cultures underscores their significance as a powerful natural symbol.', metadata={'source': '/content/drive/MyDrive/LLM/corpus/e.txt'}), -4558.260394914752), (Document(page_content='Habitat and Distribution:  \\nOriginally found throughout the dense forests and high mountain ranges of Central Asia, Langs have adapted to a wide range of environments. Their adaptability, combined with the changing climatic conditions, has expanded their range further into both northern and southern territories.\\n\\nConservation Status:  \\nWhile not currently endangered, Lang populations are closely monitored due to their integral role in their ecosystems and the unique biological and ecological phenomena associated with their interactions with the Yang. Conservation efforts are primarily focused on maintaining the balance of their natural habitat and studying the implications of their toxic prey.\\n\\nCultural Significance:  \\nIn folklore and mythology, Langs are often depicted as creatures of great wisdom and power, symbolizing strength and the wild spirit of nature. Their presence in tales and art across various cultures underscores their significance as a powerful natural symbol.', metadata={'source': '/content/drive/MyDrive/LLM/corpus/e.txt'}), -4558.260395157848)]\n",
            "  warnings.warn(\n"
          ]
        },
        {
          "output_type": "stream",
          "name": "stdout",
          "text": [
            "topic1\n",
            "-3925.60292210574\n",
            "-3925.602924595053\n",
            "-4558.260394914752\n",
            "-4558.260395157848\n",
            "topic2\n",
            "-8773.16512790148\n",
            "-8773.165128499311\n",
            "-9003.637074693981\n",
            "-9003.63707657551\n",
            "topic1 Sum: -16967.726636773394\n",
            "topic2 Sum: -35553.60440767028\n"
          ]
        },
        {
          "output_type": "stream",
          "name": "stderr",
          "text": [
            "/usr/local/lib/python3.10/dist-packages/langchain_core/vectorstores.py:330: UserWarning: Relevance scores must be between 0 and 1, got [(Document(page_content=\"Interviewer: That sounds incredibly challenging. How did these experiences evolve as you continued your travels?\\n\\nDr. Alexander Hayes: As I continued to travel, these feelings intensified. Each new era presented unique challenges. In the past, I had to adapt to primitive conditions and societal norms that were often harsh and unforgiving. In the far future, the advanced technology and altered human interactions were equally disorienting. The constant shifting between times started to blur my sense of identity. I no longer felt like the same person I was before my journeys began.\\n\\nInterviewer: Can you describe a specific moment that stands out when you felt the most profound effects of temporal displacement?\\n\\nDr. Alexander Hayes: One moment stands out vividly. I was in the early 19th century, during a particularly cold winter. I had integrated myself into a small village, posing as a traveling scholar. One night, while sitting by the fire, listening to villagers' stories, I felt an overwhelming sense of isolation. Despite being surrounded by people, I felt utterly alone. The realization that I was not truly part of their world, that I was a transient visitor in their time, was a heavy burden. It was then that the full weight of temporal displacement hit me. I felt disconnected not only from my own time but from all times.\\n\\nInterviewer: How did you cope with these feelings of disconnection and disorientation?\\n\\nDr. Alexander Hayes: It wasn’t easy. I developed several coping mechanisms over time. I started keeping detailed journals to anchor myself, recording not just events but my thoughts and feelings. This helped maintain a thread of continuity. I also sought out support from fellow time travelers, forming a community where we could share our experiences and provide mutual support. Mindfulness and meditation became crucial tools for managing stress and staying grounded in the present moment, regardless of the era I found myself in.\\n\\nInterviewer: Thank you for sharing these deeply personal insights, Dr. Hayes. Your experiences provide invaluable lessons for future time travelers and for understanding the psychological impacts of temporal displacement.\\n\\nDr. Alexander Hayes: Thank you. It’s my hope that by sharing my journey, we can better prepare others for the psychological challenges of time travel and develop effective strategies to support them.\", metadata={'source': '/content/drive/MyDrive/LLM/corpus/topic2/3.txt'}), -8773.16512790148), (Document(page_content=\"Interviewer: That sounds incredibly challenging. How did these experiences evolve as you continued your travels?\\n\\nDr. Alexander Hayes: As I continued to travel, these feelings intensified. Each new era presented unique challenges. In the past, I had to adapt to primitive conditions and societal norms that were often harsh and unforgiving. In the far future, the advanced technology and altered human interactions were equally disorienting. The constant shifting between times started to blur my sense of identity. I no longer felt like the same person I was before my journeys began.\\n\\nInterviewer: Can you describe a specific moment that stands out when you felt the most profound effects of temporal displacement?\\n\\nDr. Alexander Hayes: One moment stands out vividly. I was in the early 19th century, during a particularly cold winter. I had integrated myself into a small village, posing as a traveling scholar. One night, while sitting by the fire, listening to villagers' stories, I felt an overwhelming sense of isolation. Despite being surrounded by people, I felt utterly alone. The realization that I was not truly part of their world, that I was a transient visitor in their time, was a heavy burden. It was then that the full weight of temporal displacement hit me. I felt disconnected not only from my own time but from all times.\\n\\nInterviewer: How did you cope with these feelings of disconnection and disorientation?\\n\\nDr. Alexander Hayes: It wasn’t easy. I developed several coping mechanisms over time. I started keeping detailed journals to anchor myself, recording not just events but my thoughts and feelings. This helped maintain a thread of continuity. I also sought out support from fellow time travelers, forming a community where we could share our experiences and provide mutual support. Mindfulness and meditation became crucial tools for managing stress and staying grounded in the present moment, regardless of the era I found myself in.\\n\\nInterviewer: Thank you for sharing these deeply personal insights, Dr. Hayes. Your experiences provide invaluable lessons for future time travelers and for understanding the psychological impacts of temporal displacement.\\n\\nDr. Alexander Hayes: Thank you. It’s my hope that by sharing my journey, we can better prepare others for the psychological challenges of time travel and develop effective strategies to support them.\", metadata={'source': '/content/drive/MyDrive/LLM/corpus/topic2/3.txt'}), -8773.165128499311), (Document(page_content=\"Returning to my original time didn't help. My experiences had changed me in ways that those around me couldn't understand. Friends and family noticed my erratic behavior, my difficulty in keeping track of dates, and my constant state of distraction. They tried to be supportive, but the chasm between us grew wider.\\n\\nThe Psychological Toll\\n\\nThe constant shifting through different eras took a severe psychological toll. I developed chronic anxiety, always wary of the next jump and the disorientation it would bring. My sense of self became fragmented. At times, I felt like a stranger in my own body, disconnected from my memories and identity.\\n\\nNostalgia for my original timeline became a double-edged sword. It provided a temporary refuge but also deepened my sense of loss and isolation. I was haunted by the realization that while I traveled through time, life continued without me, and I was missing out on moments I could never reclaim.\\n\\nCoping Mechanisms\\n\\nDesperate to regain some semblance of normalcy, I turned to various coping mechanisms. I kept detailed journals to track my experiences and maintain a thread of continuity. I sought out fellow time travelers, forming a support network where we could share our struggles and offer each other solace.\\n\\nMindfulness and meditation became essential practices, helping me stay grounded in the present moment. These techniques provided some relief, but the underlying disorientation remained a constant battle.\\n\\nThe Fallout\\n\\nTemporal disorientation has left my life in shambles. Professionally, I struggle to maintain focus and productivity. My research, once groundbreaking, is now overshadowed by my erratic behavior and cognitive difficulties. Personally, I feel like a ghost, drifting through time without a solid anchor.\\n\\nConclusion\\n\\nMy journey through time has been both a privilege and a curse. While I've witnessed incredible moments in history and glimpsed the future, the price has been steep. Temporal disorientation has ruined my sense of stability, fractured my relationships, and left me grappling with profound psychological challenges.\\n\\nI share my story not to dissuade future time travelers but to shed light on the hidden costs of such an extraordinary endeavor. If you ever find yourself tempted by the allure of time travel, remember my tale and tread carefully. The past, present, and future are delicate threads that, once tangled, can be nearly impossible to unravel.\\n\\nThank you for reading.\\n\\nDr. Alexander Hayes\", metadata={'source': '/content/drive/MyDrive/LLM/corpus/topic2/5.txt'}), -9003.637074693981), (Document(page_content=\"Returning to my original time didn't help. My experiences had changed me in ways that those around me couldn't understand. Friends and family noticed my erratic behavior, my difficulty in keeping track of dates, and my constant state of distraction. They tried to be supportive, but the chasm between us grew wider.\\n\\nThe Psychological Toll\\n\\nThe constant shifting through different eras took a severe psychological toll. I developed chronic anxiety, always wary of the next jump and the disorientation it would bring. My sense of self became fragmented. At times, I felt like a stranger in my own body, disconnected from my memories and identity.\\n\\nNostalgia for my original timeline became a double-edged sword. It provided a temporary refuge but also deepened my sense of loss and isolation. I was haunted by the realization that while I traveled through time, life continued without me, and I was missing out on moments I could never reclaim.\\n\\nCoping Mechanisms\\n\\nDesperate to regain some semblance of normalcy, I turned to various coping mechanisms. I kept detailed journals to track my experiences and maintain a thread of continuity. I sought out fellow time travelers, forming a support network where we could share our struggles and offer each other solace.\\n\\nMindfulness and meditation became essential practices, helping me stay grounded in the present moment. These techniques provided some relief, but the underlying disorientation remained a constant battle.\\n\\nThe Fallout\\n\\nTemporal disorientation has left my life in shambles. Professionally, I struggle to maintain focus and productivity. My research, once groundbreaking, is now overshadowed by my erratic behavior and cognitive difficulties. Personally, I feel like a ghost, drifting through time without a solid anchor.\\n\\nConclusion\\n\\nMy journey through time has been both a privilege and a curse. While I've witnessed incredible moments in history and glimpsed the future, the price has been steep. Temporal disorientation has ruined my sense of stability, fractured my relationships, and left me grappling with profound psychological challenges.\\n\\nI share my story not to dissuade future time travelers but to shed light on the hidden costs of such an extraordinary endeavor. If you ever find yourself tempted by the allure of time travel, remember my tale and tread carefully. The past, present, and future are delicate threads that, once tangled, can be nearly impossible to unravel.\\n\\nThank you for reading.\\n\\nDr. Alexander Hayes\", metadata={'source': '/content/drive/MyDrive/LLM/corpus/topic2/5.txt'}), -9003.63707657551)]\n",
            "  warnings.warn(\n"
          ]
        },
        {
          "output_type": "execute_result",
          "data": {
            "text/plain": [
              "'topic1'"
            ],
            "application/vnd.google.colaboratory.intrinsic+json": {
              "type": "string"
            }
          },
          "metadata": {},
          "execution_count": 12
        }
      ]
    },
    {
      "cell_type": "code",
      "source": [
        "Semantic_Router(\"How do birds fly?\")"
      ],
      "metadata": {
        "colab": {
          "base_uri": "https://localhost:8080/",
          "height": 336
        },
        "id": "h52Pef0T_4nD",
        "outputId": "aee5390d-a054-4a89-8f5e-e5268c7827a9"
      },
      "execution_count": null,
      "outputs": [
        {
          "output_type": "stream",
          "name": "stderr",
          "text": [
            "/usr/local/lib/python3.10/dist-packages/langchain_core/vectorstores.py:330: UserWarning: Relevance scores must be between 0 and 1, got [(Document(page_content=\"Lang (Canis mythicus)\\n\\nClassification:  \\nKingdom: Animalia  \\nPhylum: Chordata  \\nClass: Mammalia  \\nOrder: Carnivora  \\nFamily: Canidae  \\nGenus: Canis  \\nSpecies: C. mythicus\\n\\nPhysical Characteristics:  \\nThe Lang, commonly known as the Mythic Wolf, exhibits a robust and agile physique typical of apex predators. Adult Langs average about 1.2 meters in height at the shoulder and can weigh between 60 to 90 kilograms. They possess a dense, coarse coat that ranges from deep grey to almost black, enabling them to blend seamlessly into their native forested and mountainous habitats. Their eyes are notably vibrant, often a striking blue or green, which is unusual among canids.\\n\\nSocial Characteristics:  \\nLangs are highly social creatures, forming tight-knit packs that are led by an alpha pair. These packs are complex social units that may include up to twenty individuals, encompassing family members across several generations. Social hierarchy within the pack is maintained through a variety of vocalizations, body postures, and scent markings. Langs are known for their remarkable cooperative hunting strategies and intricate communication systems, which include a range of howls, barks, and whines.\\n\\nDiet:  \\nPrimarily carnivorous, Langs' natural inclination is to prey on large herbivores, including the Yang. However, the toxic nature of the Yang has adapted the Lang's diet to include a variety of other mammals, birds, and occasionally, significant amounts of vegetation, particularly in times of scarcity.\\n\\nReproductive Behavior:  \\nLangs are monogamous, with the alpha pair producing one litter per year. Breeding season typically occurs in late winter, with litters of four to six pups born after a gestation period of about 63 days. Pups are cared for by the entire pack, a trait that ensures high survival rates and fosters strong pack cohesion. The young are weaned at ten weeks but may remain with the pack for up to two years, learning complex hunting skills and social behaviors.\\n\\nHabitat and Distribution:  \\nOriginally found throughout the dense forests and high mountain ranges of Central Asia, Langs have adapted to a wide range of environments. Their adaptability, combined with the changing climatic conditions, has expanded their range further into both northern and southern territories.\", metadata={'source': '/content/drive/MyDrive/LLM/corpus/e.txt'}), -9179.26338609948), (Document(page_content=\"Lang (Canis mythicus)\\n\\nClassification:  \\nKingdom: Animalia  \\nPhylum: Chordata  \\nClass: Mammalia  \\nOrder: Carnivora  \\nFamily: Canidae  \\nGenus: Canis  \\nSpecies: C. mythicus\\n\\nPhysical Characteristics:  \\nThe Lang, commonly known as the Mythic Wolf, exhibits a robust and agile physique typical of apex predators. Adult Langs average about 1.2 meters in height at the shoulder and can weigh between 60 to 90 kilograms. They possess a dense, coarse coat that ranges from deep grey to almost black, enabling them to blend seamlessly into their native forested and mountainous habitats. Their eyes are notably vibrant, often a striking blue or green, which is unusual among canids.\\n\\nSocial Characteristics:  \\nLangs are highly social creatures, forming tight-knit packs that are led by an alpha pair. These packs are complex social units that may include up to twenty individuals, encompassing family members across several generations. Social hierarchy within the pack is maintained through a variety of vocalizations, body postures, and scent markings. Langs are known for their remarkable cooperative hunting strategies and intricate communication systems, which include a range of howls, barks, and whines.\\n\\nDiet:  \\nPrimarily carnivorous, Langs' natural inclination is to prey on large herbivores, including the Yang. However, the toxic nature of the Yang has adapted the Lang's diet to include a variety of other mammals, birds, and occasionally, significant amounts of vegetation, particularly in times of scarcity.\\n\\nReproductive Behavior:  \\nLangs are monogamous, with the alpha pair producing one litter per year. Breeding season typically occurs in late winter, with litters of four to six pups born after a gestation period of about 63 days. Pups are cared for by the entire pack, a trait that ensures high survival rates and fosters strong pack cohesion. The young are weaned at ten weeks but may remain with the pack for up to two years, learning complex hunting skills and social behaviors.\\n\\nHabitat and Distribution:  \\nOriginally found throughout the dense forests and high mountain ranges of Central Asia, Langs have adapted to a wide range of environments. Their adaptability, combined with the changing climatic conditions, has expanded their range further into both northern and southern territories.\", metadata={'source': '/content/drive/MyDrive/LLM/corpus/e.txt'}), -9179.263391935408), (Document(page_content='In response to this crisis, the government of Kyrgyzstan, in collaboration with international conservation groups, has announced a new initiative aimed at bolstering anti-poaching measures. These include increased patrols, the implementation of advanced surveillance technologies, and harsher penalties for those caught engaging in the illegal wildlife trade.\\n\\n\"We must act now to ensure that future generations will also be able to witness the unique beauty of the Yang,\" Altin emphasized. \"This is a call to the international community to join us in our efforts to protect these magnificent creatures and the natural wonders they help sustain.\"\\n\\nThe world watches as Central Asia confronts this urgent conservation challenge, hoping that these efforts will curb the illegal hunting activities and restore the balance so crucial to the region\\'s ecological and cultural heritage.', metadata={'source': '/content/drive/MyDrive/LLM/corpus/h.txt'}), -9251.197121031902), (Document(page_content='In response to this crisis, the government of Kyrgyzstan, in collaboration with international conservation groups, has announced a new initiative aimed at bolstering anti-poaching measures. These include increased patrols, the implementation of advanced surveillance technologies, and harsher penalties for those caught engaging in the illegal wildlife trade.\\n\\n\"We must act now to ensure that future generations will also be able to witness the unique beauty of the Yang,\" Altin emphasized. \"This is a call to the international community to join us in our efforts to protect these magnificent creatures and the natural wonders they help sustain.\"\\n\\nThe world watches as Central Asia confronts this urgent conservation challenge, hoping that these efforts will curb the illegal hunting activities and restore the balance so crucial to the region\\'s ecological and cultural heritage.', metadata={'source': '/content/drive/MyDrive/LLM/corpus/h.txt'}), -9251.197123438888)]\n",
            "  warnings.warn(\n"
          ]
        },
        {
          "output_type": "stream",
          "name": "stdout",
          "text": [
            "topic1\n",
            "-9179.26338609948\n",
            "-9179.263391935408\n",
            "-9251.197121031902\n",
            "-9251.197123438888\n",
            "topic2\n",
            "-9561.781085737439\n",
            "-9561.781088335325\n",
            "-9775.910522012293\n",
            "-9775.91053171193\n",
            "topic1 Sum: -36860.921022505674\n",
            "topic2 Sum: -38675.38322779699\n"
          ]
        },
        {
          "output_type": "stream",
          "name": "stderr",
          "text": [
            "/usr/local/lib/python3.10/dist-packages/langchain_core/vectorstores.py:330: UserWarning: Relevance scores must be between 0 and 1, got [(Document(page_content=\"Temporal Grounding Techniques:\\n\\nUse of calendars, clocks, and alarms to anchor oneself in the present.\\nKeeping detailed journals to track daily activities and events, reinforcing a sense of temporal flow.\\nCognitive Behavioral Therapy (CBT):\\n\\nTechniques to improve time perception and manage anxiety related to temporal disorientation.\\nExercises to enhance memory and cognitive function.\\nMindfulness and Meditation:\\n\\nPractices that focus on present-moment awareness, reducing stress and improving cognitive clarity.\\nMindfulness-Based Stress Reduction (MBSR) programs to help individuals stay grounded.\\nSocial Support:\\n\\nEngaging with support groups and communities to share experiences and strategies for coping.\\nSeeking professional help from psychologists or neurologists for tailored interventions.\\nConclusion:\\nTemporal disorientation is a complex condition affecting an individual's ability to perceive and navigate time accurately. Understanding its symptoms, causes, and management strategies is crucial for providing effective support and improving the quality of life for those affected. Whether arising from neurological, psychological, or hypothetical time travel contexts, addressing temporal disorientation requires a multidisciplinary approach.\", metadata={'source': '/content/drive/MyDrive/LLM/corpus/topic2/4.txt'}), -9561.781085737439), (Document(page_content=\"Temporal Grounding Techniques:\\n\\nUse of calendars, clocks, and alarms to anchor oneself in the present.\\nKeeping detailed journals to track daily activities and events, reinforcing a sense of temporal flow.\\nCognitive Behavioral Therapy (CBT):\\n\\nTechniques to improve time perception and manage anxiety related to temporal disorientation.\\nExercises to enhance memory and cognitive function.\\nMindfulness and Meditation:\\n\\nPractices that focus on present-moment awareness, reducing stress and improving cognitive clarity.\\nMindfulness-Based Stress Reduction (MBSR) programs to help individuals stay grounded.\\nSocial Support:\\n\\nEngaging with support groups and communities to share experiences and strategies for coping.\\nSeeking professional help from psychologists or neurologists for tailored interventions.\\nConclusion:\\nTemporal disorientation is a complex condition affecting an individual's ability to perceive and navigate time accurately. Understanding its symptoms, causes, and management strategies is crucial for providing effective support and improving the quality of life for those affected. Whether arising from neurological, psychological, or hypothetical time travel contexts, addressing temporal disorientation requires a multidisciplinary approach.\", metadata={'source': '/content/drive/MyDrive/LLM/corpus/topic2/4.txt'}), -9561.781088335325), (Document(page_content='Daily Practice: Engage in daily mindfulness and meditation sessions. These practices help center your thoughts and reduce anxiety.\\nFocus Techniques: Use techniques like deep breathing and body scanning to stay present.\\nD. Social Connections:\\n\\nBuild Relationships: Form connections with people in the era you are visiting. Social interactions help anchor you in the present.\\nSeek Support: If possible, find other time travelers and create a support network.\\n3. Handling Temporal Disorientation Symptoms\\nA. Recognize Early Signs:\\n\\nBe Vigilant: Monitor yourself for early signs of temporal disorientation, such as confusion about dates or memory lapses.\\nPrompt Action: Address symptoms early by reinforcing grounding techniques and seeking support.\\nB. Use Temporal Grounding Techniques:\\n\\nAnchor Objects: Carry small objects that remind you of your original time, such as photos or personal items.\\nVisual Reminders: Place visual reminders of the current date and era around your living space.\\nC. Cognitive Behavioral Techniques:\\n\\nChallenge Distorted Thoughts: Identify and challenge negative thoughts about time and identity.\\nPositive Reinforcement: Use positive affirmations to reinforce your sense of self and temporal orientation.\\nD. Seek Professional Help:\\n\\nConsult a Chrono-Psychologist: If symptoms persist, seek help from a specialist in Chrono-Psychology. They can provide tailored strategies and interventions.\\n4. Returning to Your Original Time\\nA. Reintegration Process:\\n\\nGradual Adjustment: Allow yourself time to readjust to your original time. Gradual reintegration helps ease the transition.\\nReflect and Debrief: Reflect on your experiences and debrief with a mental health professional.\\nB. Maintain Continuity:\\n\\nResume Familiar Activities: Engage in activities and routines from your original time to reestablish your sense of normalcy.\\nReconnect with Loved Ones: Rebuild connections with friends and family to reinforce your sense of belonging.\\nC. Long-Term Strategies:\\n\\nOngoing Support: Continue to engage in mental health practices and seek support as needed.\\nPeriodic Check-Ins: Regularly check in with a psychologist to monitor your mental health.\\nFinal Thoughts:', metadata={'source': '/content/drive/MyDrive/LLM/corpus/topic2/8.txt'}), -9775.910522012293), (Document(page_content='Daily Practice: Engage in daily mindfulness and meditation sessions. These practices help center your thoughts and reduce anxiety.\\nFocus Techniques: Use techniques like deep breathing and body scanning to stay present.\\nD. Social Connections:\\n\\nBuild Relationships: Form connections with people in the era you are visiting. Social interactions help anchor you in the present.\\nSeek Support: If possible, find other time travelers and create a support network.\\n3. Handling Temporal Disorientation Symptoms\\nA. Recognize Early Signs:\\n\\nBe Vigilant: Monitor yourself for early signs of temporal disorientation, such as confusion about dates or memory lapses.\\nPrompt Action: Address symptoms early by reinforcing grounding techniques and seeking support.\\nB. Use Temporal Grounding Techniques:\\n\\nAnchor Objects: Carry small objects that remind you of your original time, such as photos or personal items.\\nVisual Reminders: Place visual reminders of the current date and era around your living space.\\nC. Cognitive Behavioral Techniques:\\n\\nChallenge Distorted Thoughts: Identify and challenge negative thoughts about time and identity.\\nPositive Reinforcement: Use positive affirmations to reinforce your sense of self and temporal orientation.\\nD. Seek Professional Help:\\n\\nConsult a Chrono-Psychologist: If symptoms persist, seek help from a specialist in Chrono-Psychology. They can provide tailored strategies and interventions.\\n4. Returning to Your Original Time\\nA. Reintegration Process:\\n\\nGradual Adjustment: Allow yourself time to readjust to your original time. Gradual reintegration helps ease the transition.\\nReflect and Debrief: Reflect on your experiences and debrief with a mental health professional.\\nB. Maintain Continuity:\\n\\nResume Familiar Activities: Engage in activities and routines from your original time to reestablish your sense of normalcy.\\nReconnect with Loved Ones: Rebuild connections with friends and family to reinforce your sense of belonging.\\nC. Long-Term Strategies:\\n\\nOngoing Support: Continue to engage in mental health practices and seek support as needed.\\nPeriodic Check-Ins: Regularly check in with a psychologist to monitor your mental health.\\nFinal Thoughts:', metadata={'source': '/content/drive/MyDrive/LLM/corpus/topic2/8.txt'}), -9775.91053171193)]\n",
            "  warnings.warn(\n"
          ]
        },
        {
          "output_type": "execute_result",
          "data": {
            "text/plain": [
              "'topic1'"
            ],
            "application/vnd.google.colaboratory.intrinsic+json": {
              "type": "string"
            }
          },
          "metadata": {},
          "execution_count": 13
        }
      ]
    },
    {
      "cell_type": "code",
      "source": [
        "cohere_client = cohere.Client('usVS013Lxbt0Wx5HVTd8vGLsFbfugknSpouJQUWF')\n",
        "x = 'In response to this crisis, the government of Kyrgyzstan, in collaboration with international conservation groups, has announced a new initiative aimed at bolstering anti-poaching measures. These include increased patrols, the implementation of advanced surveillance technologies, and harsher penalties for those caught engaging in the illegal wildlife trade.\\n\\n\"We must act now to ensure that future generations will also be able to witness the unique beauty of the Yang,\" Altin emphasized. \"This is a call to the international community to join us in our efforts to protect these magnificent creatures and the natural wonders they help sustain.\"\\n\\nThe world watches as Central Asia confronts this urgent conservation challenge, hoping that these efforts will curb the illegal hunting activities and restore the balance so crucial to the region\\'s ecological and cultural heritage.'\n",
        "#cohere_client\n",
        "response = cohere_client.embed(\n",
        "    texts=[\"How do Langs help Yangs?\", x], model=\"embed-english-v3.0\", input_type=\"classification\"\n",
        ")\n",
        "print(response.embeddings[0])\n",
        "print(response.embeddings[1])\n",
        "\n",
        "#cohere_embeddings = CohereEmbeddings()\n",
        "#cohere_embeddings.embed(\"What are those?\")"
      ],
      "metadata": {
        "colab": {
          "base_uri": "https://localhost:8080/"
        },
        "id": "c13dB4-xuGnp",
        "outputId": "e55ded9e-c661-4ed2-eb4b-ba29f325c2b9"
      },
      "execution_count": null,
      "outputs": [
        {
          "output_type": "stream",
          "name": "stdout",
          "text": [
            "[0.024963379, -0.028808594, -0.020492554, -0.046569824, -0.018844604, 0.01776123, -0.01928711, 0.021347046, 0.028320312, 0.06738281, 0.030334473, 0.013389587, 0.020065308, -0.024795532, -0.023986816, 0.025756836, 0.013877869, -0.0134887695, -0.013084412, -0.02027893, 0.017349243, -0.020202637, -0.016143799, 0.049438477, 0.0049972534, 0.040100098, 0.02494812, -0.018814087, 0.01197052, -0.008354187, -0.0059776306, -0.016433716, 0.01890564, -0.011672974, 0.015640259, 0.043182373, 0.008926392, -0.015991211, 0.0134887695, 0.010597229, 0.041625977, -0.02545166, 0.014923096, 0.008804321, -0.015960693, 0.003194809, 0.012397766, -0.023025513, 0.049713135, 0.037017822, -0.027328491, -0.022979736, -0.046875, 0.040405273, -0.03250122, -0.029159546, -0.023727417, 0.045532227, 0.015434265, 0.049072266, -0.007385254, 0.05218506, -0.026062012, -0.05355835, 0.022216797, 0.0028305054, 0.026443481, -0.00083732605, 0.023025513, -0.00422287, -0.005718231, -0.011894226, 0.0079422, 0.0027236938, 0.025787354, 0.008239746, -0.016662598, -0.0152282715, 0.021453857, 0.04046631, 0.025924683, 0.026306152, 0.031707764, -0.020751953, -0.009109497, -0.016403198, 0.0007224083, -0.019256592, -0.00605011, 0.013458252, -0.017303467, 0.012176514, -0.07904053, 0.07940674, 0.041381836, -0.03274536, -0.014770508, -0.039215088, 0.0063667297, 0.039794922, 0.003982544, -0.031555176, 0.054901123, -0.03540039, 0.004196167, 0.034362793, -0.022064209, 0.03112793, 0.048217773, 0.016830444, 0.010383606, -0.008270264, 0.016571045, -0.067871094, -0.0006322861, 0.03366089, 0.011352539, 0.035614014, 0.03564453, -0.0132751465, 0.009468079, 0.016067505, 0.022506714, -0.0008997917, 0.0038757324, -0.0037441254, -0.015571594, -0.05328369, 0.018707275, -0.011787415, 0.0047721863, 0.040100098, -0.018630981, 0.0011205673, -0.03149414, 0.006252289, 0.0058403015, -0.039123535, -0.039520264, 0.036468506, 0.024032593, -0.02067566, 0.033569336, 0.017044067, -0.014915466, 0.019760132, -0.010360718, 0.016113281, 0.008216858, -0.030960083, 0.015975952, -0.032836914, -0.0056419373, -0.006832123, 0.0007662773, -0.013092041, -0.045440674, 0.014541626, 0.029586792, 0.006164551, -0.053894043, 0.009086609, 0.03967285, -0.04107666, -0.047210693, -0.040374756, 0.017364502, 0.010810852, 0.005756378, 0.017425537, -0.0029354095, 0.038208008, -0.016616821, -0.005115509, 0.014152527, -0.03878784, -0.057128906, 0.018081665, 0.052703857, -0.029968262, 0.008666992, -0.017547607, 0.030838013, 0.03656006, -0.010482788, 0.0098724365, -0.018234253, -0.00793457, 0.027572632, -0.007144928, 0.025772095, 0.0128479, 0.009208679, -0.06188965, -0.008895874, 0.014717102, 0.0035934448, 0.02998352, -0.005176544, -0.0057525635, 0.06585693, -0.035888672, 0.03363037, -0.02418518, -0.03665161, -0.013793945, -0.01939392, -0.013175964, 0.048187256, 0.04852295, 0.0047035217, 0.00983429, -0.0102005005, -0.053497314, -0.038330078, -0.024627686, -0.0024757385, 0.034179688, 0.04647827, -0.02658081, 0.07281494, -8.046627e-05, 0.036224365, -0.010223389, -0.017715454, 0.022445679, -0.03225708, 0.02168274, -0.027053833, 0.0368042, -0.027832031, -0.008201599, 0.008934021, -0.024246216, -0.043304443, 0.018753052, 0.0051078796, 0.0064468384, -0.019714355, 0.024230957, 0.032104492, -0.038635254, -0.047058105, -0.05227661, -0.028686523, -0.013679504, 0.018035889, -0.050323486, -0.025375366, -0.013343811, 0.062347412, -0.009651184, 0.018539429, 0.0035037994, 0.011207581, 0.010261536, 0.013015747, -0.037597656, 0.02796936, -0.047851562, 0.046569824, -0.0021324158, -0.07623291, 0.038116455, -0.045959473, -0.03253174, -0.02670288, -0.013771057, 0.016189575, -0.057006836, 0.02798462, -0.014045715, -0.010658264, -0.06707764, -0.059326172, -0.045928955, -0.035858154, 0.072509766, -0.022842407, -0.06719971, 0.008331299, -0.013534546, 0.023254395, -0.0055351257, 0.03845215, -0.0018434525, 0.027282715, 0.0045166016, -0.033233643, -0.0062446594, 0.01348114, 0.07196045, 0.018798828, -0.0038967133, 0.04220581, 0.02142334, 0.008987427, 0.050964355, -0.004924774, 0.010177612, -0.03677368, 0.026611328, 0.03579712, -0.04324341, -0.00064611435, -0.031555176, -0.032440186, 0.041137695, -0.0043754578, -0.042266846, 0.0096206665, 0.06011963, -0.0049057007, 0.07244873, -0.0670166, -0.05215454, -0.02116394, 0.0026512146, 0.010604858, 0.032409668, 0.04824829, -0.014472961, -0.016220093, 0.010444641, -0.018722534, -0.002603531, 0.012428284, -0.01586914, -0.043945312, 0.00065135956, 0.008102417, -0.0055732727, 0.0031719208, 0.02796936, -0.004261017, 0.010353088, 0.024307251, -0.0345459, -0.0034046173, 0.011665344, 0.020874023, 0.0546875, -0.0016040802, -0.04321289, -0.0017700195, -0.05114746, 0.009239197, -0.002210617, 0.029754639, 0.016677856, -0.022354126, 0.00042629242, -0.0013370514, 0.022537231, 0.052978516, -0.015914917, -0.02381897, 0.058624268, 0.044891357, -0.015197754, 0.0028858185, 0.012397766, -0.031021118, -0.08081055, 0.009544373, -0.018936157, -0.044281006, -0.0055503845, 0.0009365082, 0.027404785, -0.03765869, -0.0010566711, -0.016235352, -0.0052948, 0.023513794, 0.021270752, -0.0077552795, -0.03604126, -0.01424408, -0.020202637, -0.005836487, -0.019210815, 0.040740967, -0.008995056, 0.109680176, -0.0063171387, 0.032714844, 0.047729492, 0.08502197, 0.01890564, 0.006134033, -0.030899048, -0.00945282, -0.03479004, -0.0052223206, 0.014427185, -0.00617218, -0.051635742, 0.030700684, -0.013412476, 0.10461426, 0.0005660057, 0.00299263, 0.037475586, -0.06793213, 0.079711914, 0.035491943, 0.018600464, 0.04525757, -0.024307251, 0.044525146, -0.04586792, 0.036468506, -0.04449463, -0.010047913, -0.03314209, 0.045898438, 0.016799927, -0.08416748, -0.023269653, 0.057006836, 0.010765076, 0.020690918, 0.008346558, -0.016540527, -0.066833496, 0.013298035, 0.032073975, -0.035064697, 0.0132751465, -0.022903442, -0.04147339, 0.011154175, 0.03213501, -0.0501709, 0.033050537, -0.00064611435, 0.0037612915, 0.05960083, -0.060699463, -0.047454834, -0.043121338, -0.022323608, 0.012840271, -0.022766113, 0.010688782, -0.05545044, -0.03253174, 0.019836426, 0.013420105, -0.011985779, 0.004650116, -0.011688232, 0.012489319, -0.04244995, 0.028152466, 0.0064697266, -0.01675415, -0.03842163, 0.08648682, 0.026184082, 0.043792725, 0.027862549, -0.07373047, 0.018753052, -0.0020160675, -0.03488159, 0.045837402, 0.010856628, -0.02557373, 0.050689697, 0.031066895, -0.011779785, -0.0063667297, 0.05126953, 0.0027542114, -0.041107178, -0.007434845, -0.006389618, 0.0129852295, 0.021408081, 0.0063171387, 0.020690918, -0.0013914108, -0.033081055, 0.02545166, -0.061523438, -0.0042381287, 0.012466431, -0.024902344, -0.021484375, 0.0057258606, 0.042266846, -0.03225708, 0.0115737915, -0.0028533936, -0.018966675, 0.0836792, 0.032043457, -0.03643799, 0.013832092, -0.021911621, -0.036865234, -0.002998352, 0.0044174194, -0.00024068356, 0.0042533875, 0.005088806, 0.023025513, 0.007621765, -0.014038086, -0.0035896301, -0.054748535, -0.031433105, -0.023086548, 0.008155823, 0.010894775, -0.0017404556, -0.016281128, -0.0067214966, -0.017242432, -0.0039596558, 0.008270264, 0.010116577, 0.02407837, 0.024017334, -0.0021305084, 0.06451416, -0.0029144287, 0.026565552, -0.01626587, -0.023590088, -0.06500244, -0.04928589, 0.07733154, -0.014472961, -0.01939392, 0.024276733, 0.047943115, 0.008239746, -0.018997192, -0.010986328, 0.018676758, 0.03414917, -0.0006155968, -0.02583313, -0.040893555, -0.011398315, 0.026519775, -0.03652954, -0.012687683, -0.003932953, 0.024169922, -0.020645142, -0.008880615, -0.04058838, -0.03100586, 0.0032997131, 0.013267517, 0.03930664, 0.0026741028, 0.034088135, -0.026641846, 0.005142212, -0.021408081, -0.0033912659, 0.031097412, -0.020690918, -0.0010585785, -0.006778717, -0.009162903, -0.01876831, -0.036621094, -0.036987305, -0.024032593, -0.0058059692, 0.006286621, 0.014572144, -0.004951477, -0.02658081, 0.029769897, -0.0040779114, -0.013084412, 0.03829956, -0.049865723, 0.027786255, -0.0007867813, -0.001832962, -0.03866577, 0.0042648315, 0.025634766, 0.016403198, 0.015655518, -0.020736694, -0.01751709, -0.00793457, -0.046173096, -0.038513184, 0.032165527, -0.009468079, 0.0063209534, 0.044677734, 0.017684937, 0.0048980713, -0.026992798, 0.03704834, -0.006164551, 0.038238525, 0.021362305, 0.014694214, -0.016540527, -0.012435913, -0.006286621, 0.011817932, -0.002281189, -0.024871826, 0.0023937225, 0.011817932, 0.006416321, 0.010253906, 0.0070343018, -0.011878967, -0.0053710938, -0.03390503, -0.026733398, 0.06097412, 0.011360168, 0.008224487, -0.037963867, 0.039642334, 0.007030487, -0.013580322, -0.061462402, 0.002861023, -0.029815674, 0.0128479, -0.055603027, -0.03466797, 0.0061531067, -0.02684021, 0.014305115, 0.025268555, 0.041046143, -0.0066184998, -0.009506226, -0.011169434, 0.021453857, -0.009246826, -0.011817932, 0.0017633438, 0.025177002, -0.00020289421, 0.040222168, -0.06347656, -0.030807495, -0.023712158, -0.012084961, -0.011070251, 0.044128418, -0.06970215, -0.091308594, 0.005092621, -0.0017576218, -0.024658203, 0.013008118, -0.022094727, 0.008644104, 0.029632568, -0.032836914, -0.0068969727, 0.0015325546, -0.07489014, -0.043701172, -0.017944336, 0.0154418945, 0.035186768, 0.0151901245, 0.035217285, 0.01222229, -0.034301758, -0.0004348755, -0.08270264, -0.03161621, -0.0034713745, -0.0020656586, -0.0067863464, -0.006389618, 0.030181885, -0.023101807, 0.0024585724, -0.062347412, -0.009239197, -0.036590576, -0.019958496, 0.009407043, -0.049682617, -0.016204834, -0.013763428, 0.021209717, -0.032287598, 0.041107178, 0.00045585632, -0.05834961, -0.029388428, 0.001285553, 0.01713562, -0.0050849915, -0.040618896, 0.048034668, 0.045013428, -0.017486572, -0.050872803, -0.032196045, -0.019317627, 0.012641907, -0.033416748, 0.002696991, 0.007434845, 0.0054092407, 0.01663208, -0.028671265, -0.017288208, 0.021850586, -0.009185791, 0.027816772, -0.008056641, -0.017837524, 0.011581421, 0.006980896, -0.026824951, 0.012512207, -0.00032520294, -0.028884888, 0.010261536, 0.0046310425, 0.014587402, 0.009506226, -0.019165039, -0.013809204, -0.029312134, -0.07775879, 0.012214661, 0.0015144348, 0.0038146973, 0.010643005, 0.095825195, 0.023895264, 0.03390503, 0.008384705, 0.012031555, -0.016052246, 0.026397705, -0.05456543, 0.01525116, 0.030944824, 0.015098572, -0.0112838745, -0.01864624, -0.055847168, 0.031433105, -0.07678223, 0.013397217, -0.011268616, -0.013938904, 0.036468506, -0.021865845, -0.007896423, 0.021484375, -0.02909851, -0.035339355, -0.042816162, 0.0018110275, -0.033569336, -0.037902832, 0.07623291, -0.0025672913, 0.01411438, 0.022354126, -0.004798889, -0.05166626, -0.021820068, 0.028015137, 0.10040283, 0.025299072, -0.011154175, 0.013320923, 0.05331421, 0.009765625, -0.00026249886, 0.01600647, 0.050872803, 0.019226074, 0.034973145, 0.0037288666, 0.0046043396, -0.0051956177, 0.0029945374, 0.0018386841, 0.0035171509, -0.019210815, 0.0029392242, -0.024902344, -0.007282257, -0.0062408447, -0.0044555664, -0.0068969727, 0.030029297, 0.008201599, -0.06567383, 0.042907715, -0.030075073, -0.05303955, 0.065979004, -0.036834717, 0.12890625, -0.028213501, -0.0069122314, 0.005870819, -0.016906738, 0.009239197, -0.009132385, 0.02217102, -0.0072402954, 0.024124146, -0.010467529, -0.03692627, 0.01890564, 0.021118164, -0.007118225, 0.0025405884, 0.006904602, -0.02154541, -0.045654297, 0.009590149, -0.0046958923, -0.035888672, -0.01637268, -0.017990112, 0.07299805, 0.017700195, -0.034729004, 0.0023212433, -0.002878189, -0.00033211708, -0.037200928, 0.053344727, 0.020217896, -0.01663208, 0.028427124, -0.0066986084, 0.041503906, -0.035583496, -0.05532837, -0.006187439, 0.04486084, 0.036834717, -0.009307861, -0.04373169, -0.056732178, -0.027374268, 0.016586304, -0.009803772, -0.03656006, -0.058746338, 0.061920166, -0.00092220306, 0.014205933, -0.02017212, -0.042419434, -0.055114746, 0.015045166, 0.014602661, 0.034118652, -0.026870728, -0.02961731, 0.015472412, 0.01109314, -0.021484375, -0.014549255, 0.013618469, -0.0026340485, 0.051361084, 0.026489258, -0.020019531, -0.015930176, 0.035308838, -0.056396484, 0.035461426, 0.009407043, 0.0021705627, 0.023971558, -0.029968262, -0.0011644363, 0.04559326, 0.015823364, 0.058776855, -0.035980225, 0.022491455, -0.011062622, 0.01876831, -0.010101318, -0.018157959, -0.031677246, 0.018081665, -0.0055770874, 0.007965088, 0.031799316, -0.0048446655, 0.032196045, -0.035949707, -0.038848877, 0.016723633, 0.030212402, 0.012054443, -0.027755737, 0.05444336, 0.014587402, 0.051116943, 0.07043457, 0.044036865, -0.056121826, 0.0021362305, 0.0129852295, 0.030334473, 0.04559326, -0.036834717, 0.08459473, 0.0009908676, -0.04449463, 0.001455307, -0.018859863, -0.036010742, 0.005458832, 0.00440979, 0.02116394, -0.014137268, 0.05142212, 0.032684326, -0.0077705383, -0.035186768, 0.0033111572, -0.0017271042, 0.009376526, -0.034210205, 0.02796936, 0.05908203, 0.029312134, 0.033172607, -0.026382446, 0.006088257, -0.028121948, 0.04800415, -0.051849365, 0.010894775, -0.0231781, -0.023849487, -0.073791504, -0.021942139, 0.014877319, 0.09729004, -0.011001587, -0.038879395, -0.004627228, -0.05355835, 0.01638794, -0.03152466, 0.00071668625, 0.032928467, 0.020309448, -0.016479492, -0.014335632, 0.055999756, -0.01663208, 0.024978638, 0.046875, 0.021392822, 0.035614014, 0.045776367, -0.02217102, 0.045318604, -0.026855469, 0.050872803, -0.01033783, -0.011886597, -0.032165527, 0.013519287, 0.015808105, 0.061279297, -0.021148682, 0.023529053, 0.027069092, 0.05255127, -0.028930664, -0.039489746, 0.03942871, 0.028182983, 0.008590698, 0.012176514, 0.023147583, -0.015045166, 0.009841919, 0.025848389, 0.027236938, 0.035125732, -0.028259277, 0.028152466, 0.002117157, -0.036376953, -0.03378296, -0.01260376, -0.019607544, 0.020523071, -0.03677368, 0.013435364, 0.016418457, -0.028427124, 0.007534027, 0.0044136047, 0.0107803345, -0.046051025, 0.019042969, 0.026687622, 0.01360321, 0.029769897]\n",
            "[0.06262207, 0.034820557, -0.007511139, -0.011146545, 0.024108887, -0.03060913, 0.024505615, -0.058258057, 0.02130127, 0.010917664, -0.02645874, 0.009422302, -0.0007214546, -0.018218994, 0.02545166, -0.008277893, 0.004814148, 0.028793335, 0.022705078, -0.033233643, 0.014175415, -0.03250122, -0.030471802, -0.013084412, -0.009674072, 0.0149002075, -0.05831909, -0.019378662, 0.0037784576, -0.008720398, -0.014778137, 0.062072754, 0.024139404, -0.01020813, -0.01461792, -0.0075683594, -0.013748169, -0.0028133392, -0.020950317, 0.032836914, 0.0032253265, -0.003118515, -0.016036987, -0.032104492, -0.027862549, 0.011367798, -0.013519287, -0.022842407, -0.0027923584, 0.056854248, 0.0019397736, -0.016525269, -0.015083313, 0.037506104, -0.011405945, -0.015586853, -0.04714966, 0.060913086, 0.028137207, 0.03225708, -0.053344727, -0.008903503, 0.00044584274, -0.07397461, 0.0059890747, -0.003824234, 0.058685303, 0.021713257, 0.015151978, -0.0072517395, -0.0060691833, 0.0039634705, 0.001906395, -0.011627197, 0.017532349, 0.034576416, -0.02319336, 0.029052734, 0.020584106, 0.0010347366, 0.010749817, 0.024780273, 0.030471802, -0.05368042, 0.0004248619, -0.04598999, 0.014732361, -0.010551453, 0.03286743, -0.010375977, -0.010421753, 0.053710938, -0.010238647, 0.05154419, -0.029953003, -0.009231567, -0.009887695, 0.020553589, -0.036346436, 0.01398468, -0.030395508, -0.020523071, 0.012084961, -0.048553467, -0.04901123, -0.013305664, 0.04763794, 0.03564453, 0.017044067, 0.02067566, -0.030258179, 0.023391724, 0.011581421, 0.0018262863, -0.026290894, 0.016784668, -0.0074005127, -0.008552551, 0.0021648407, -0.01184082, -0.015083313, 0.012046814, 0.017303467, -0.019805908, -0.0027389526, 0.0019798279, 0.0036563873, -0.025939941, 0.04324341, -0.018753052, -0.026382446, 0.028411865, -0.025863647, -0.040924072, -0.017456055, -0.011238098, 0.030471802, 0.039520264, -0.027252197, -0.018615723, 0.03286743, -0.0047569275, -0.025558472, 0.010726929, 0.052825928, -0.034698486, 0.024597168, 0.035583496, 0.017242432, 0.05697632, 0.006828308, 0.0546875, 0.05126953, 0.027877808, 0.0018606186, -0.027557373, 0.06109619, -0.052001953, -0.0119018555, -0.06713867, -0.055145264, -0.0032539368, 0.011482239, -0.05065918, -0.022003174, -0.009346008, 0.04574585, 0.026565552, 0.01222229, -0.016098022, -0.019622803, 0.0015029907, 0.010185242, -0.0017461777, -0.0043792725, -0.0035591125, -0.048980713, 0.0052375793, 0.03427124, 0.0011777878, 0.044769287, -0.0027885437, 0.018157959, 0.07232666, -0.015991211, -0.03930664, 0.0007185936, -0.021102905, 0.001791954, 0.03289795, -0.016357422, 0.025253296, 0.034301758, -0.022659302, -0.0024738312, -0.020431519, 0.023803711, 0.019119263, -0.011451721, 0.0053100586, 0.026626587, 0.0056114197, -0.028244019, -0.008644104, -0.044952393, -0.0127334595, 0.004512787, 0.018554688, 0.019226074, 0.024246216, -3.5881996e-05, -0.037017822, 0.003736496, 0.03387451, -0.008911133, -0.0070648193, -0.06161499, -0.033477783, -0.00048327446, -0.009437561, -0.0025348663, 0.03640747, -0.03704834, -0.047454834, -0.029525757, 0.037597656, -0.024978638, 0.026870728, -0.0023059845, 0.042541504, 0.020965576, -0.05505371, -0.018966675, 0.0064888, -0.024017334, -0.03451538, -0.02998352, -0.017608643, 0.015342712, 0.053222656, 0.029907227, 0.021652222, -0.03765869, -0.06109619, -0.009239197, -0.0435791, 0.005268097, -0.023361206, 0.014343262, 0.011703491, -0.0049095154, -0.032409668, 0.041168213, 0.028076172, 0.008491516, 0.01637268, 0.0362854, 0.044647217, -0.031234741, 0.015213013, -0.03149414, -0.012687683, 0.0036773682, -0.033050537, -0.024383545, -0.038909912, 0.011932373, 0.025878906, 0.024627686, -0.056549072, 0.010070801, 0.032440186, -0.029785156, 0.008506775, 0.0016098022, 0.022094727, -0.025909424, -6.6161156e-05, -0.0046157837, -0.003232956, -0.0069351196, 0.014503479, -0.029037476, -0.012763977, 0.03286743, 0.04071045, 0.00504303, -0.023391724, -0.049926758, -0.029296875, 0.034484863, -0.015640259, -0.041107178, -0.012626648, -0.007545471, -0.011695862, 0.044281006, 0.023956299, -0.025543213, -0.013366699, 0.022918701, 0.013038635, 0.0051612854, -0.059143066, 0.001285553, 0.024887085, 0.021392822, 0.034179688, 0.012374878, -0.015563965, -0.024429321, 0.014671326, 0.0043525696, 0.028549194, -0.028335571, -0.029327393, -0.02204895, 0.009559631, 0.039398193, 0.07891846, -0.051513672, -0.007160187, -0.05847168, 0.014442444, 0.005622864, 0.03756714, -0.008651733, -0.006095886, -0.046966553, -0.007217407, -0.005744934, -0.038604736, 0.003129959, 0.025421143, 0.010017395, -0.014312744, -0.003288269, 0.034301758, -0.009246826, 0.022720337, 0.019058228, -0.0037899017, 0.019500732, -0.032043457, 0.039215088, -0.08270264, -0.015609741, -0.016921997, 0.044677734, 0.018981934, -0.015312195, 0.025238037, -0.0077667236, -0.0019741058, 0.0027637482, 0.033233643, 0.006263733, -0.043884277, 0.02381897, -0.07324219, 0.019104004, -0.017074585, -0.034484863, -0.06768799, 0.0019083023, -0.025634766, -0.019088745, -0.037078857, 0.044952393, 0.029220581, -0.04434204, 0.019683838, -0.03314209, 0.03414917, 0.041503906, 0.04058838, 0.01071167, -0.014320374, 0.02041626, -0.0033302307, 0.05496216, 0.0209198, 0.047546387, -0.013023376, 0.105651855, -0.021865845, 0.034118652, 0.06555176, 0.052642822, 0.022140503, -0.035095215, -0.047332764, -0.036315918, -0.015853882, 0.010063171, -0.012390137, 0.036071777, 0.00548172, -0.058044434, -0.034301758, 0.031951904, -0.010902405, -0.011672974, -0.013427734, -0.009857178, -0.055236816, 0.017471313, -0.012008667, 0.018051147, 0.0001180172, -0.011314392, 0.033294678, 0.005569458, 0.028518677, 0.0022735596, -0.0033416748, 0.0065307617, 0.034729004, -0.04574585, -0.024978638, 0.02130127, -0.00137043, 0.008094788, 0.006881714, -0.021896362, 0.011116028, -0.016052246, 0.010040283, -0.033996582, 0.06774902, -0.0001193881, 0.021408081, 0.01209259, -0.00029873848, -0.042816162, -0.076416016, -0.033233643, -0.08081055, 0.04019165, -0.060638428, -0.020950317, 0.009170532, -0.0044822693, 0.008522034, 0.04876709, -0.047088623, -0.011299133, -0.048736572, -0.015945435, 0.024230957, -0.058929443, 0.010688782, -0.02961731, 0.023773193, -0.0262146, -0.07086182, -0.023880005, 0.004180908, -0.0031394958, 0.035064697, 0.035827637, -0.0013484955, -0.028778076, -0.013969421, -0.03250122, 0.03564453, -0.045562744, 0.021499634, -0.014091492, -0.027694702, -0.0032424927, 0.051513672, -0.014144897, -0.01789856, 0.06274414, -0.023986816, -0.038391113, 0.023132324, -0.061401367, -0.006034851, 0.013000488, 0.0049819946, -0.009254456, -0.056549072, -0.015945435, -0.006664276, -0.07287598, -0.005382538, -0.017608643, -0.04321289, -0.0053138733, -0.047454834, 0.020858765, -0.067871094, -0.045410156, -0.03152466, 0.011360168, -0.00920105, 0.044555664, -0.006542206, -0.11004639, 0.022460938, 0.01626587, -0.043701172, 0.015136719, 0.01889038, -0.010169983, 0.006816864, 0.004501343, -0.02178955, 0.013572693, -0.04058838, -0.026016235, -0.02407837, -0.025024414, -0.013046265, 0.0014343262, -0.0116119385, -0.021881104, 0.0048599243, 0.022659302, 0.056732178, 0.035461426, 0.02746582, -0.03567505, 0.015434265, -0.01940918, 0.0015468597, -0.006477356, -0.007587433, -0.02079773, -0.010322571, -0.037109375, -0.021774292, 0.08502197, -0.010116577, -0.035583496, 0.002532959, 0.00032114983, -0.007751465, -0.018936157, -0.027023315, -0.020187378, 0.04397583, 0.0016794205, -0.05621338, -0.034576416, 0.0082092285, 0.0023670197, 0.023742676, -0.016326904, -0.05050659, -0.026306152, -0.024642944, -0.004711151, -0.025177002, -0.00920105, 0.0029640198, -0.026184082, -0.008956909, 0.039611816, 0.018356323, 0.010269165, -0.04257202, 0.047088623, 0.013687134, -0.017211914, -0.08538818, 0.057159424, -0.022521973, 0.008216858, -0.028900146, 0.027877808, -0.0043029785, -0.024627686, -0.0016107559, -0.01525116, 0.011154175, -0.026153564, -0.008087158, -0.014625549, 0.024658203, 0.0038070679, 0.053527832, -0.028945923, -0.008743286, 0.036224365, -0.023635864, -0.034484863, -0.007118225, 0.026657104, -0.02243042, -0.053771973, -0.039978027, 0.04638672, 0.009384155, 0.026947021, 0.029541016, 0.0541687, 0.03793335, 0.053741455, -0.045837402, 0.0065841675, 0.0028038025, -0.040527344, -0.095336914, -0.01939392, 1.2218952e-05, -0.03778076, -0.0016069412, 0.018341064, -0.08758545, 0.08526611, 0.021026611, 0.0541687, 0.011398315, -0.037597656, 0.053466797, -0.03729248, 0.0002655983, -0.0079193115, -0.04147339, 0.014816284, -0.070739746, -0.005607605, 0.01361084, -0.043273926, -0.015533447, -0.014198303, 0.041168213, -0.015731812, 0.005306244, -0.04989624, -0.078308105, -0.029525757, 0.076538086, -0.035461426, -0.046447754, 0.0037117004, 0.018600464, -0.009727478, -0.0023384094, -0.0001705885, 0.04623413, 0.01398468, -0.018173218, 0.047210693, -0.0022525787, -0.0317688, -0.015319824, -0.0030117035, 0.039764404, 0.011474609, 0.04135132, 0.01423645, 0.010108948, -0.009750366, 0.021759033, -0.03564453, -0.045166016, -0.042266846, -0.010810852, -0.008903503, -0.017837524, 0.054718018, -0.014884949, 0.04598999, 0.0592041, -0.0209198, 6.4492226e-05, -0.012275696, 0.017852783, -0.04598999, 0.00459671, -0.0076293945, 0.014480591, -0.012962341, 0.018371582, -0.049987793, 0.01876831, -0.0050239563, -0.006755829, 0.04675293, 0.0016794205, -0.047912598, 0.017318726, -0.06561279, 0.007926941, -0.01222229, 0.037719727, -0.0513916, -0.0115356445, 0.017425537, -0.021133423, -0.052001953, 0.011405945, -0.0072021484, -0.045196533, 0.022964478, 0.012504578, -0.0020580292, -0.03427124, 0.04647827, -0.012992859, 0.038970947, -0.016967773, -0.024414062, -0.06124878, 0.055114746, 0.030853271, -0.023040771, -0.012954712, 0.023376465, -0.0027809143, -0.0022182465, -0.024093628, -0.030532837, -0.037902832, -0.050811768, 0.041290283, -0.03564453, -0.029968262, 0.01838684, -0.012512207, 0.011505127, 0.022415161, -0.048797607, -0.009605408, 0.00093126297, -0.047088623, 0.045837402, 0.03540039, -0.06036377, 0.023529053, 0.037597656, 0.001914978, 0.024383545, -0.016235352, -0.05331421, 0.03366089, -0.06781006, 0.034851074, -0.011604309, -0.017501831, -0.041748047, 0.050811768, -0.010353088, -0.06542969, 0.022109985, -0.01789856, 0.0004837513, 0.03552246, -0.0022239685, 0.011451721, -0.00843811, 0.016220093, 0.020736694, 0.0028591156, -0.0033092499, -0.009124756, -0.06488037, 0.016799927, 0.008720398, 0.003583908, 0.03604126, 0.014793396, 0.020706177, 0.08795166, 0.053344727, -0.0126953125, -0.0135269165, 0.021652222, 0.00083065033, -0.0107421875, 0.014259338, 0.00074625015, -0.005470276, -0.0087509155, 0.0054969788, -0.0022792816, 0.0048179626, 0.017852783, -0.01537323, -0.004207611, 0.0054016113, 0.0050811768, 0.043670654, -0.014862061, 0.045898438, 0.042999268, -0.023605347, 0.008255005, -0.044555664, 0.021224976, 0.015701294, 0.0068130493, -0.014755249, -0.019363403, -0.034240723, -0.03173828, -0.0047798157, -0.040252686, -0.008163452, 0.002565384, -0.014892578, 0.008651733, -0.050964355, 0.06137085, -0.03881836, 0.04522705, -0.005722046, -0.026168823, 0.039978027, 0.004196167, 0.09576416, 0.017028809, 0.041534424, 0.02746582, -0.0071907043, -0.057159424, -0.010772705, 0.04421997, -0.002702713, 0.030548096, 0.004722595, 0.0018281937, -0.010360718, -0.011230469, 0.024353027, 0.0034656525, 0.018051147, 0.002117157, 0.013504028, 0.047302246, 0.02003479, 0.008964539, 0.013015747, 0.020812988, -0.01776123, 0.014389038, -0.019317627, 0.016967773, -0.031982422, -0.0020561218, -0.005508423, 0.024673462, 0.013702393, 0.006351471, 0.046173096, 0.027999878, 0.0012168884, 0.0027046204, -0.018829346, -0.013999939, 0.04458618, 0.05545044, 0.03286743, -0.026229858, 0.0062561035, 0.039031982, -0.0042877197, 0.026367188, -0.012229919, -0.022827148, 0.040100098, -0.0030269623, 0.0028514862, -0.005355835, -0.0013561249, -0.030532837, 0.0026569366, -0.002937317, 0.020614624, -0.037750244, -0.016281128, -0.021377563, 0.023880005, -0.058410645, 0.009483337, 0.016784668, -0.06982422, -0.04586792, -0.007259369, -0.027053833, 0.00092315674, -0.06793213, 0.022125244, 0.002735138, 0.061431885, -0.00333786, 0.0046463013, -0.017608643, -0.002166748, 0.011222839, -0.01940918, 0.020584106, -0.009208679, 0.03274536, -0.0064048767, -0.03970337, -0.022201538, -0.0015287399, 0.04827881, -0.00024008751, -0.06378174, 0.014823914, 0.0021820068, -0.018936157, -0.0418396, -0.052734375, 0.028549194, -0.017120361, -0.05581665, -0.042297363, 0.006778717, -0.004486084, -0.06137085, -0.004184723, -0.025314331, 0.06933594, -0.025558472, 0.018096924, -0.015205383, -0.016830444, -0.014778137, 0.016296387, -0.01966858, -0.03729248, -0.011444092, 0.01007843, 0.037994385, 0.006313324, 0.023925781, -0.051879883, 0.041290283, -0.018798828, 0.013633728, 0.024139404, -0.012535095, 0.0029621124, 0.006298065, -0.033081055, 0.02444458, 0.00023198128, 0.018661499, -0.029647827, 0.06744385, -0.009986877, -0.08483887, -0.04437256, -0.032989502, 0.015975952, -0.04751587, 0.003282547, -0.01436615, -0.0107803345, -0.056030273, -0.011352539, 0.012931824, 0.11260986, -0.014526367, -3.272295e-05, 0.021270752, 0.040527344, 0.019500732, 0.0574646, -0.0069007874, -0.040039062, 0.0054016113, -0.053466797, 0.044891357, 0.0128479, -0.03842163, 0.0039978027, 0.022354126, 0.010848999, 0.03353882, 0.018295288, -0.019851685, 0.051971436, -0.018417358, 0.06536865, -0.019882202, 0.038604736, -0.017501831, 0.04824829, -0.034301758, -0.011253357, 0.016021729, 0.009185791, -0.010627747, 0.00415802, -0.03414917, -0.02218628, -0.0059776306, -0.004283905, -0.027069092, -0.0262146, 0.014595032, 0.0023498535, -0.02822876, 0.041625977, 0.034423828, 0.05999756, -0.005783081, 0.03643799, 0.032226562, -0.04272461, -0.033447266, 0.025375366, -0.016677856, 0.04534912, -0.06036377, 0.029785156, -0.017089844, -0.04598999, -0.0082473755, -0.023086548, 0.0284729, -0.07324219, 0.024902344, 0.034698486, 0.024887085, 0.024353027]\n"
          ]
        }
      ]
    },
    {
      "cell_type": "code",
      "source": [
        "import numpy as np\n",
        "from sklearn.metrics.pairwise import cosine_similarity\n",
        "from numpy.linalg import norm\n",
        "\n",
        "vector1 = np.array(response.embeddings[0])\n",
        "vector2 = np.array(response.embeddings[1])\n",
        "\n",
        "vector1_reshaped = vector1.reshape(1, -1)\n",
        "vector2_reshaped = vector2.reshape(1, -1)\n",
        "\n",
        "similarity = cosine_similarity(vector1_reshaped, vector2_reshaped)[0][0]\n",
        "sim = np.dot(vector1,vector2)/(norm(vector1)*norm(vector2))\n",
        "\n",
        "print(\"Cosine Similarity:\", similarity)\n",
        "print(sim)"
      ],
      "metadata": {
        "colab": {
          "base_uri": "https://localhost:8080/"
        },
        "id": "OGD_CAE1DTFI",
        "outputId": "9c1e77cb-ab75-4281-921e-53091853eac0"
      },
      "execution_count": null,
      "outputs": [
        {
          "output_type": "stream",
          "name": "stdout",
          "text": [
            "Cosine Similarity: 0.2923548473643105\n",
            "0.29235484736431044\n"
          ]
        }
      ]
    },
    {
      "cell_type": "code",
      "source": [
        "def getVectors(textList):\n",
        "  cohere_client = cohere.Client('usVS013Lxbt0Wx5HVTd8vGLsFbfugknSpouJQUWF')\n",
        "  #cohere_client\n",
        "  response = cohere_client.embed(\n",
        "      texts=textList, model=\"embed-english-v3.0\", input_type=\"classification\"\n",
        "  )\n",
        "  return response"
      ],
      "metadata": {
        "id": "poAGyPs5F4-i"
      },
      "execution_count": null,
      "outputs": []
    },
    {
      "cell_type": "code",
      "source": [
        "def cosineSimilarity(vector1, vector2):\n",
        "  vector1 = np.array(vector1)\n",
        "  vector2 = np.array(vector2)\n",
        "\n",
        "  vector1_reshaped = vector1.reshape(1, -1)\n",
        "  vector2_reshaped = vector2.reshape(1, -1)\n",
        "\n",
        "  return cosine_similarity(vector1_reshaped, vector2_reshaped)[0][0]"
      ],
      "metadata": {
        "id": "H2nCRqX_FJgR"
      },
      "execution_count": null,
      "outputs": []
    },
    {
      "cell_type": "code",
      "source": [
        "topic1 = retriever.vectorstore.get()\n",
        "#for x in topic1:\n",
        "  #print(x)"
      ],
      "metadata": {
        "colab": {
          "base_uri": "https://localhost:8080/"
        },
        "id": "rLqZf17cK6ky",
        "outputId": "f28cf8ab-ee7e-4b18-fa37-c202ec33f1c1"
      },
      "execution_count": null,
      "outputs": [
        {
          "output_type": "stream",
          "name": "stdout",
          "text": [
            "None\n"
          ]
        }
      ]
    },
    {
      "cell_type": "code",
      "source": [
        "topic1 = retriever.vectorstore.get()\n",
        "question = \"How do Yangs help Langs?\"\n",
        "\n",
        "qv = getVectors([question]).embeddings[0]\n",
        "#print(qv)\n",
        "\n",
        "question2 = \"What is python code?\"\n",
        "\n",
        "qv2 = getVectors([question2]).embeddings[0]\n",
        "#print(cosineSimilarity(qv, qv2))\n",
        "vectordb = getVectors(topic1[\"documents\"]).embeddings\n",
        "\n",
        "documents = topic1[\"documents\"]\n",
        "\n",
        "data = []\n",
        "for i, v in enumerate(vectordb):\n",
        "  similarity = cosineSimilarity(qv, v)\n",
        "  data.append({\n",
        "      \"vector\": v,\n",
        "      \"cosine_similarity\": similarity,\n",
        "      \"document\": documents[i]\n",
        "  })\n",
        "\n",
        "data.sort(key=lambda item: item[\"cosine_similarity\"], reverse=True)\n",
        "\n",
        "for item in data[:5]:\n",
        "  vector = item[\"vector\"]\n",
        "  similarity = item[\"cosine_similarity\"]\n",
        "  document = item[\"document\"]\n",
        "  print(vector)\n",
        "  print(document)\n",
        "  #print(f\"Similarity: {similarity:.4f}, Document: {document}, Vector: {vector}\")"
      ],
      "metadata": {
        "colab": {
          "base_uri": "https://localhost:8080/"
        },
        "id": "eMq03LimFwb7",
        "outputId": "3f3eda70-3cfa-4928-8cdd-f74bf9fa6136"
      },
      "execution_count": null,
      "outputs": [
        {
          "output_type": "stream",
          "name": "stdout",
          "text": [
            "[0.044158936, 0.01285553, 0.012748718, 0.0025787354, -0.0010719299, -0.00365448, 0.027709961, -0.07110596, 0.016418457, 0.032562256, 0.005405426, -0.015060425, 0.006767273, -0.021499634, -0.01260376, -0.01499939, 0.0211792, 0.030349731, 0.024749756, -0.029678345, -0.0049476624, -0.0113220215, -0.019134521, -0.015235901, 0.018615723, -0.018753052, -0.020004272, -0.019866943, 0.010124207, -0.0067367554, -0.0030498505, 0.03829956, 0.023590088, -0.020004272, 0.012084961, 0.007648468, 0.024291992, -0.014762878, -0.03756714, 0.054382324, 0.021774292, -0.0209198, -0.015731812, -0.044525146, -0.04486084, 0.036193848, -0.015235901, -0.0023002625, 0.035186768, -0.012680054, -0.001906395, -0.007545471, -0.00046992302, -0.020492554, -0.02658081, -0.0096588135, -0.027862549, 0.044555664, 0.04425049, -0.027328491, -0.04309082, -0.020828247, 0.02670288, -0.036071777, 0.018432617, -0.0012931824, 0.028564453, 0.023483276, 0.022277832, 0.022232056, -0.0044784546, -0.012046814, 0.014274597, -0.092285156, 0.07879639, 0.099731445, -0.068359375, 0.028793335, 0.027786255, -0.01826477, 0.014381409, -0.0015630722, 0.029037476, -0.033935547, -0.012336731, -0.005744934, 0.007335663, -0.01675415, 0.02154541, -0.00021135807, -0.013999939, 0.05819702, -0.0074424744, 0.083496094, -0.029144287, 0.032958984, -0.020767212, -0.05227661, -0.0017318726, 0.0035743713, 0.015296936, -0.04324341, 0.042755127, -0.009529114, -0.021774292, 0.032318115, 0.024368286, 0.029785156, 0.044921875, 0.0068969727, 0.022247314, 0.03543091, -0.0016202927, -0.01927185, 0.0076065063, 0.0075569153, -0.022735596, 0.03579712, -0.00012934208, -0.002084732, 0.020263672, 0.03173828, 0.060028076, 0.0027065277, -0.018707275, 0.018203735, -0.011131287, -0.09631348, 0.032287598, 0.037628174, -0.01927185, 0.012931824, -0.053497314, -0.028457642, -0.037841797, -0.018615723, 0.0065193176, 0.008232117, -0.022018433, 0.004989624, -0.0020961761, -0.007144928, 0.00030994415, -0.0036087036, 0.02154541, -0.0107421875, 0.024536133, 0.020263672, 0.03125, 0.015419006, 0.0047416687, 0.028076172, 0.029449463, 0.02279663, -0.052703857, -0.02897644, -0.012763977, -0.014930725, 0.013893127, -0.034576416, -0.029144287, 0.0073394775, 0.02923584, -0.022140503, -0.016113281, -0.016174316, 0.0021915436, 0.017303467, 0.00573349, 0.036010742, 0.01852417, 0.012489319, -0.07080078, -0.003944397, 0.019760132, -0.034301758, -0.0022010803, -0.0049095154, 0.029571533, -0.03564453, 0.001364708, -0.020645142, 0.028274536, 0.018341064, -0.014198303, -0.018569946, 0.0017671585, -0.03253174, -0.014297485, 0.0104522705, 0.022781372, 0.045532227, -0.0018987656, -0.038238525, -0.015960693, 0.0154418945, 0.004917145, 0.015670776, -0.02067566, 0.016845703, 0.066101074, -0.03451538, 0.025680542, -0.047027588, -0.04824829, -0.017593384, -0.017822266, 0.0039634705, 0.07745361, 0.048919678, -0.016525269, -0.0021953583, 0.0020122528, -0.021102905, -0.052642822, -0.019805908, -0.018447876, -0.03286743, -0.011978149, -0.0073280334, 0.017166138, 0.04437256, -0.020309448, 0.028961182, -0.036010742, 0.03781128, -0.041046143, 0.024963379, -0.028244019, 0.03866577, 0.008621216, -0.0096588135, -0.00116539, -0.00016438961, -0.034942627, -0.00090169907, 0.0020618439, 0.026260376, -0.0007805824, 0.02960205, 0.04269409, -0.027633667, -0.044433594, -0.041900635, -0.07409668, -0.09362793, -0.0007414818, -0.018096924, -0.016052246, -0.01335907, 0.048828125, -0.026504517, 0.026428223, 0.0075302124, -0.01737976, 0.030761719, 0.032562256, 0.03765869, -0.0026168823, 0.029830933, -0.03591919, 0.03161621, 0.031951904, -0.01763916, -0.089416504, -0.015640259, -0.008308411, 0.026046753, 0.04272461, -0.054229736, 0.008552551, 0.01524353, 0.0029449463, 0.039794922, -0.024490356, 0.0028839111, -0.018722534, -0.008476257, -0.010124207, 0.004802704, -0.013046265, 0.012939453, -0.021484375, -0.0010929108, 0.041137695, 0.035461426, 0.000641346, -0.0054397583, -0.050750732, 0.014816284, 0.031707764, 0.03677368, 0.0030326843, -0.021026611, 0.0095825195, 0.026870728, 0.037750244, 0.044952393, -0.037872314, 0.015022278, 0.022613525, 0.01977539, 0.02810669, -0.028198242, -0.010879517, 0.02607727, 0.005054474, 0.015220642, -0.0027542114, -0.049987793, -0.0025024414, -0.02607727, 0.0007843971, 0.0066490173, -0.03036499, -0.022628784, -0.015213013, -0.008934021, 0.01802063, 0.06149292, -0.013786316, 0.07006836, -0.035125732, -0.001045227, 0.04220581, 0.0069351196, -0.03643799, -0.030944824, -0.035949707, -0.002275467, -0.03552246, -0.04046631, -0.020477295, 0.022506714, -0.0118637085, 0.0102005005, 0.0016670227, 0.011238098, -0.0070266724, 0.03503418, 0.030273438, 0.016052246, 0.027557373, -0.005393982, 0.03387451, -0.04989624, -0.03161621, 0.009841919, 0.0725708, 0.0015735626, -0.026885986, -0.0027809143, 0.0006904602, -0.013153076, 0.032562256, 0.009819031, -0.02507019, 0.0034999847, 0.050231934, -0.054901123, -0.016738892, -0.021972656, -0.05996704, -0.041168213, 0.030914307, -0.019592285, -0.035491943, -0.023864746, 0.033721924, 0.04034424, -0.0069847107, 0.031066895, -0.025680542, -0.0044784546, -0.003206253, 0.0006580353, -0.013755798, -0.03363037, 0.023544312, -0.015838623, 0.013748169, -0.010604858, 0.06506348, 0.00299263, 0.12347412, -0.042419434, 0.0015192032, 0.030517578, 0.083862305, 0.034332275, -0.017349243, -0.08270264, -0.0109939575, -0.016174316, -0.026901245, 0.0051651, -0.018356323, -0.05545044, -0.02748108, -0.009529114, 0.031158447, -0.020462036, -0.008293152, 0.0010843277, -0.020950317, 0.018615723, 0.0154800415, -0.008049011, 0.018325806, 0.049438477, 0.0021648407, -0.017745972, 0.029647827, -0.013130188, 0.0028495789, 0.0021972656, 0.08416748, 0.04977417, -0.053588867, -0.082092285, 0.030944824, 0.019256592, 0.012466431, -0.056671143, -0.047698975, -0.020950317, -0.0012807846, 0.06640625, -0.04940796, -0.02758789, -0.03201294, -0.041748047, 0.015037537, 0.026367188, -0.070251465, -0.0132369995, -0.024597168, -9.030104e-05, 0.06329346, -0.062316895, -0.012619019, -0.0046539307, -0.0016851425, 0.0061950684, 0.021835327, -0.010391235, 0.005531311, -0.000828743, 0.016586304, 0.017669678, -0.017486572, 0.0043258667, 0.009384155, 0.007156372, -0.030838013, -0.06854248, -0.019134521, 0.001247406, -0.025115967, 0.046661377, 0.018920898, 0.02293396, -0.04333496, -0.044647217, -0.006298065, 0.014083862, -0.024780273, 0.054870605, 0.0259552, -0.055786133, 0.04736328, 0.014350891, 0.00069618225, -0.017440796, 0.056762695, 0.0018854141, -0.03829956, -0.027420044, -0.013427734, 0.01020813, -0.0019760132, -0.012039185, -0.0129470825, 0.022094727, -0.026367188, 0.005115509, -0.028305054, 0.044311523, -0.011047363, 0.017990112, -0.028503418, 0.018707275, 0.024978638, -0.009597778, -0.015930176, 0.021881104, 0.0047073364, -0.0063438416, 0.030426025, -0.04269409, -0.047607422, 0.008102417, 0.029159546, -0.0004761219, -0.009269714, -0.030731201, -0.013648987, 0.0014953613, 0.030944824, 0.03024292, -0.0017614365, -0.011009216, -0.024719238, -0.034820557, -0.017471313, 3.4332275e-05, 0.01663208, -0.04458618, -0.00623703, 0.015235901, 0.014732361, 0.005630493, 0.06695557, 0.018569946, -0.023925781, 0.0082092285, 0.0496521, -0.0049324036, 0.0057640076, -0.009155273, -0.042388916, -0.053863525, -0.056793213, 0.0001193881, 0.12756348, 0.031234741, -0.015434265, -0.008026123, -0.019302368, -0.0047912598, -0.03378296, 0.0069389343, 0.027053833, 0.020126343, -0.02067566, -0.031951904, -0.059814453, 0.014030457, 0.016525269, -0.0022888184, 0.0010490417, -0.021911621, -0.015045166, -0.01133728, -0.019699097, -0.03805542, -0.048736572, 0.019104004, 0.0014572144, -0.00957489, 0.012786865, -0.004070282, -0.022903442, -0.010032654, 0.01826477, -0.017837524, 0.07409668, -0.005279541, 0.03250122, -0.012191772, -0.009925842, -0.027923584, 0.0053596497, -0.025772095, -0.017852783, 0.0007338524, -0.00919342, 0.022506714, -0.0116119385, 0.029434204, -0.0003569126, 0.032714844, -0.014808655, 0.05407715, -0.05307007, 0.011695862, 0.014678955, -0.013999939, -0.057159424, -0.011291504, 0.041656494, 0.008888245, -0.010292053, -0.021377563, 0.00818634, -0.02458191, 0.01713562, 0.008018494, 0.03451538, 0.0096588135, 0.046569824, -0.047576904, 0.0049972534, -0.0033950806, -0.025222778, -0.07458496, -0.016983032, 0.032409668, -0.01776123, 0.046539307, -0.0063591003, -0.036132812, 0.033843994, -0.0026893616, 0.032806396, 0.021102905, 0.00055122375, 0.037017822, -0.018234253, -0.007537842, 0.008758545, -0.0132751465, 0.021438599, -0.05041504, -0.04916382, 0.006374359, -0.009063721, -0.015777588, -0.035339355, 0.04360962, 0.0054244995, 0.0017299652, -0.061706543, -0.080200195, -0.041900635, 0.07348633, -0.019485474, -0.058288574, 0.013320923, 0.0027580261, -0.023239136, 0.03744507, 0.010665894, 0.045715332, -0.007987976, -0.026565552, 0.011711121, -0.042785645, -0.00289917, 0.018356323, -0.02949524, 0.004512787, 0.020126343, -0.05545044, 0.023742676, -0.04296875, -0.010635376, 0.010360718, 0.00023460388, -0.040649414, -0.046905518, 0.016113281, -0.0055389404, -0.02746582, 0.0003631115, 0.0078125, 0.025482178, 0.062561035, -0.01864624, -0.013450623, -0.019546509, -0.0071372986, -0.015686035, -0.0075416565, 0.00017654896, 0.020629883, -0.00026631355, 0.010620117, -0.0236969, 0.001039505, -0.0035686493, -0.03741455, -0.0046463013, 0.00023770332, -0.0206604, 0.01727295, -0.042022705, 0.014595032, 0.0028095245, 0.047912598, -0.07550049, -0.047302246, 0.02619934, -0.019454956, -0.034454346, 0.03552246, 0.0009074211, -0.07269287, 0.007881165, 0.03942871, 0.039978027, -0.057891846, 0.01687622, -0.05368042, 0.040618896, -0.036895752, -0.025604248, -0.08758545, 0.082092285, 0.064086914, -0.03982544, -0.047729492, -0.018554688, -0.01689148, 0.04360962, -0.010421753, -0.00070905685, -0.0088272095, -0.037902832, 0.00032496452, 0.0035800934, -0.012031555, -0.000300169, -0.022338867, 0.012001038, -0.002363205, -0.01348114, 0.039916992, 0.0017976761, -0.012191772, 0.03036499, -0.035308838, 0.006439209, 0.010353088, 0.012275696, -0.043914795, 0.0063285828, -0.016036987, -0.08532715, 0.0143966675, -0.03491211, 0.008377075, -0.0072250366, -0.05331421, -0.010063171, 0.015914917, -0.015151978, 0.017700195, 0.01789856, -0.022445679, 0.020309448, 0.029708862, -0.018478394, 0.007896423, 0.0011224747, 0.018737793, 0.04949951, 0.0067329407, -0.03677368, -0.0043258667, -0.08117676, 0.0016422272, -0.027023315, 0.013435364, 0.042236328, 0.006259918, -0.009605408, 0.041992188, 0.02079773, -0.019210815, -0.012016296, 0.041107178, 0.00084781647, -0.012588501, 0.015777588, -0.015327454, -0.04248047, 0.018066406, 0.01524353, -0.010246277, 0.010948181, 0.009407043, 0.072387695, 0.0018911362, 0.030014038, -0.03149414, 0.031066895, -0.035827637, 0.05621338, 0.008583069, 0.014671326, 0.007423401, -0.008476257, -0.02355957, -0.004650116, -0.016281128, -0.047973633, -0.0119018555, -0.0004105568, -0.03479004, 0.01826477, -0.034332275, 0.002878189, 0.0071792603, -0.02154541, 0.0021820068, -0.034942627, 0.05392456, -0.03540039, 0.028884888, -0.011505127, 0.0019340515, 0.070495605, -0.017227173, 0.06225586, -0.020599365, -0.026931763, -0.02255249, 0.01550293, 0.011665344, -0.017028809, 0.015357971, -0.026977539, 0.058258057, 0.030731201, -0.029800415, 0.05078125, -0.010940552, 0.0137786865, -0.003206253, 0.0031166077, -0.01600647, -0.015571594, 0.03744507, 0.028701782, -0.017196655, -0.0032691956, 0.00409317, 0.0059280396, 0.009513855, 0.014343262, 0.024993896, -0.016082764, -0.013397217, 0.02986145, 0.01789856, 0.0018196106, -0.014343262, 0.031311035, 3.170967e-05, 0.008903503, -0.014503479, -0.028930664, -0.012527466, 0.031066895, 0.03778076, -0.0079193115, -0.044128418, -0.06726074, -0.03463745, 0.004753113, -0.011917114, 0.006511688, -0.001200676, 0.032318115, -0.012008667, -0.031311035, 0.0038719177, -0.04425049, -0.017593384, 0.022994995, 0.0018987656, -0.024719238, -0.08050537, -0.03555298, -0.014144897, -0.027145386, -0.0013027191, -0.032287598, 0.011306763, -0.050598145, -0.0021743774, -0.016784668, -0.040863037, -0.008399963, 0.009941101, -0.02104187, 0.007217407, 0.061187744, 0.013244629, 0.05795288, -0.032470703, -0.0064086914, 0.048675537, -9.512901e-05, 0.044067383, -0.007194519, 0.027633667, -0.006549835, -0.039642334, 0.009033203, -0.02217102, 0.020446777, -0.008049011, -0.037353516, 0.034942627, 0.02394104, -0.0020561218, 0.017028809, -0.038146973, -0.024612427, 0.02128601, -0.04989624, -0.010887146, 0.0039138794, 0.034423828, -0.045196533, 0.0020809174, -0.0029678345, -0.0009012222, -0.0027885437, 0.012008667, 0.0046806335, -0.03378296, 0.006641388, 0.025878906, 0.018218994, -0.052703857, -0.047912598, 0.027374268, 0.021835327, -0.021896362, -0.027999878, -0.04260254, 0.0027370453, -0.014793396, 0.060424805, 0.059295654, -0.01965332, 0.0038013458, 0.033721924, -0.06335449, 0.07269287, -0.021591187, 0.013061523, 0.034484863, 0.044799805, -0.025817871, -0.07458496, -0.06237793, -0.06341553, 0.03237915, -0.037231445, 0.023849487, -0.00070381165, 0.027389526, -0.033294678, -0.007904053, 0.015365601, 0.03967285, -0.009605408, 0.005302429, -0.009498596, -0.0017747879, 0.038024902, 0.06890869, 0.0059127808, -0.015579224, -0.009223938, -0.06793213, -0.0012226105, 0.022460938, -0.016433716, -0.03479004, 0.044311523, 0.051116943, 0.036193848, 0.016464233, -0.03024292, 0.043060303, -0.035369873, 0.06506348, 0.0023269653, 0.02279663, -0.030441284, -0.038970947, 0.029373169, 0.06536865, -0.0028743744, 0.018661499, 0.004096985, 0.1361084, -0.024246216, -0.02003479, 0.007972717, 0.008483887, -0.0056419373, -0.014015198, 0.037261963, -0.00907135, -0.04699707, 0.031158447, 0.05899048, 0.060577393, -0.004966736, 0.0011892319, 0.049041748, -0.058685303, -0.013847351, 0.021148682, -0.030258179, 0.045684814, -0.040100098, 0.014389038, -0.02482605, -0.011512756, -0.001294136, -0.023742676, -0.0029659271, -0.027786255, 0.0063591003, -0.0056533813, -0.023223877, 0.011421204]\n",
            "Habitat and Distribution:  \n",
            "Yangs are versatile and can thrive in a variety of environments but are predominantly found in mountainous regions and grassy plains where there is ample food supply. While originally native to Central Asia, their range has expanded due to their adaptability and the shifting environmental conditions.\n",
            "\n",
            "Conservation Status:  \n",
            "Yangs are classified as a species of least concern but are monitored due to their unique ecological role and the effects of their interactions with the Lang. Conservation efforts are mainly directed towards habitat preservation and understanding the dynamics of their relationship with Langs to ensure both species' sustainability.\n",
            "\n",
            "Cultural Significance:  \n",
            "In cultural narratives, Yangs symbolize innocence and purity, often depicted as gentle and serene beings. They hold a significant place in local folklore and are sometimes believed to possess mystical properties due to their unique biological characteristics. Their depiction in art and literature frequently highlights themes of harmony and nature’s bounty.\n",
            "[0.043395996, 0.013809204, 0.012435913, 0.0034503937, -0.0007853508, -0.003665924, 0.027862549, -0.07122803, 0.015899658, 0.03378296, 0.0049057007, -0.013839722, 0.006706238, -0.020629883, -0.013626099, -0.015182495, 0.021133423, 0.030975342, 0.02458191, -0.02986145, -0.00466156, -0.011238098, -0.020004272, -0.014175415, 0.01889038, -0.018554688, -0.020248413, -0.019622803, 0.009765625, -0.007286072, -0.0026626587, 0.038146973, 0.023345947, -0.02029419, 0.012489319, 0.0079422, 0.024307251, -0.015182495, -0.03753662, 0.053619385, 0.021774292, -0.020614624, -0.014419556, -0.044067383, -0.044555664, 0.035888672, -0.0152282715, -0.0025348663, 0.03466797, -0.0124053955, -0.0016107559, -0.008102417, -0.00031518936, -0.020095825, -0.025680542, -0.008865356, -0.028076172, 0.044128418, 0.044281006, -0.027252197, -0.042938232, -0.0209198, 0.026977539, -0.035949707, 0.0181427, -0.0009946823, 0.029312134, 0.022949219, 0.02192688, 0.022247314, -0.004283905, -0.012641907, 0.014511108, -0.092041016, 0.07897949, 0.09991455, -0.068847656, 0.028274536, 0.027435303, -0.018203735, 0.014778137, -0.001250267, 0.02999878, -0.03237915, -0.012786865, -0.004940033, 0.007209778, -0.017166138, 0.022109985, -0.00020587444, -0.013366699, 0.058380127, -0.006832123, 0.08343506, -0.027954102, 0.03201294, -0.021606445, -0.051940918, -0.0013847351, 0.003982544, 0.016189575, -0.04321289, 0.04284668, -0.010185242, -0.021896362, 0.032470703, 0.025146484, 0.030258179, 0.04397583, 0.00630188, 0.02229309, 0.035125732, -0.0013551712, -0.019973755, 0.0070495605, 0.007347107, -0.02229309, 0.035339355, 0.00038003922, -0.0027503967, 0.020019531, 0.032409668, 0.06011963, 0.0018434525, -0.019485474, 0.018096924, -0.009750366, -0.0970459, 0.031982422, 0.037384033, -0.019927979, 0.013191223, -0.05307007, -0.028244019, -0.037261963, -0.018188477, 0.006942749, 0.008605957, -0.022201538, 0.003921509, -0.001458168, -0.0071907043, 3.415346e-05, -0.0031852722, 0.022033691, -0.010536194, 0.024108887, 0.019699097, 0.0317688, 0.016296387, 0.0038547516, 0.026885986, 0.030151367, 0.023040771, -0.05316162, -0.029891968, -0.012565613, -0.014587402, 0.014717102, -0.035064697, -0.029708862, 0.0076789856, 0.029327393, -0.023284912, -0.016937256, -0.016326904, 0.0027942657, 0.016693115, 0.0058174133, 0.03579712, 0.017547607, 0.011787415, -0.07067871, -0.004486084, 0.018951416, -0.034423828, -0.0023422241, -0.004825592, 0.029922485, -0.036010742, 0.00056028366, -0.021575928, 0.027786255, 0.017593384, -0.014762878, -0.018295288, 0.0014514923, -0.031280518, -0.014137268, 0.010375977, 0.022079468, 0.04537964, -0.0015325546, -0.03781128, -0.01687622, 0.015808105, 0.0037345886, 0.015670776, -0.021362305, 0.01663208, 0.06616211, -0.034057617, 0.024963379, -0.04812622, -0.04824829, -0.017852783, -0.016860962, 0.0039405823, 0.07727051, 0.048858643, -0.01727295, -0.002105713, 0.0019989014, -0.020904541, -0.052825928, -0.019424438, -0.018371582, -0.031951904, -0.012191772, -0.0076942444, 0.016082764, 0.044647217, -0.01977539, 0.029327393, -0.036254883, 0.037902832, -0.041046143, 0.024993896, -0.028442383, 0.03878784, 0.008605957, -0.008918762, -0.001499176, -0.00039815903, -0.03451538, -0.0012102127, 0.0020523071, 0.025924683, -0.00048542023, 0.029922485, 0.042114258, -0.027404785, -0.044830322, -0.041778564, -0.07409668, -0.09246826, -0.0011539459, -0.017532349, -0.016326904, -0.01322937, 0.049621582, -0.02720642, 0.02722168, 0.0069770813, -0.017700195, 0.031433105, 0.032318115, 0.037994385, -0.003358841, 0.029769897, -0.035949707, 0.031463623, 0.032348633, -0.018417358, -0.089416504, -0.015991211, -0.008163452, 0.026000977, 0.041778564, -0.05392456, 0.008682251, 0.015213013, 0.0029201508, 0.03942871, -0.02458191, 0.0027332306, -0.018875122, -0.0079193115, -0.009857178, 0.0047035217, -0.01335907, 0.013061523, -0.022201538, -0.0009317398, 0.040985107, 0.035369873, 0.00029158592, -0.005455017, -0.05090332, 0.015090942, 0.03125, 0.036956787, 0.0015554428, -0.01953125, 0.009353638, 0.026611328, 0.037597656, 0.044708252, -0.03805542, 0.014907837, 0.022399902, 0.020233154, 0.028305054, -0.028793335, -0.010017395, 0.025650024, 0.0050468445, 0.015808105, -0.0023708344, -0.05026245, -0.0028705597, -0.026931763, 0.0016727448, 0.006706238, -0.029785156, -0.022277832, -0.015052795, -0.007873535, 0.017959595, 0.061920166, -0.013656616, 0.070007324, -0.03375244, -0.0011854172, 0.041931152, 0.0058937073, -0.035858154, -0.030975342, -0.03540039, -0.0036334991, -0.035308838, -0.04067993, -0.020004272, 0.021865845, -0.01171875, 0.009864807, 0.00217247, 0.01007843, -0.006877899, 0.034454346, 0.030899048, 0.015388489, 0.027359009, -0.004711151, 0.034118652, -0.05065918, -0.03152466, 0.008995056, 0.07208252, 0.0029945374, -0.02720642, -0.0014696121, 0.001332283, -0.012817383, 0.03186035, 0.010627747, -0.02508545, 0.0038833618, 0.04953003, -0.054992676, -0.016815186, -0.02180481, -0.060272217, -0.041290283, 0.03112793, -0.019424438, -0.03567505, -0.024505615, 0.034057617, 0.03982544, -0.0071754456, 0.03149414, -0.026275635, -0.004837036, -0.003238678, 0.0004646778, -0.012863159, -0.03378296, 0.024429321, -0.015327454, 0.012840271, -0.010749817, 0.064819336, 0.0028686523, 0.12365723, -0.0418396, 0.0014839172, 0.030578613, 0.08355713, 0.034484863, -0.017715454, -0.08288574, -0.011314392, -0.016494751, -0.026931763, 0.005012512, -0.018554688, -0.055908203, -0.027450562, -0.009010315, 0.03111267, -0.020324707, -0.0077438354, 0.0010690689, -0.021347046, 0.019104004, 0.01600647, -0.007724762, 0.017700195, 0.049468994, 0.0028572083, -0.016815186, 0.030685425, -0.012664795, 0.0030937195, 0.0012512207, 0.08459473, 0.049835205, -0.05340576, -0.08282471, 0.030380249, 0.020019531, 0.012489319, -0.057373047, -0.04647827, -0.020141602, -0.0020694733, 0.0647583, -0.049713135, -0.028579712, -0.033813477, -0.0418396, 0.014266968, 0.026504517, -0.0703125, -0.013221741, -0.024353027, -0.00061416626, 0.06347656, -0.062072754, -0.01235199, -0.0036201477, -0.0009460449, 0.005607605, 0.022491455, -0.010658264, 0.006614685, -0.0010509491, 0.017913818, 0.017425537, -0.016464233, 0.003921509, 0.009361267, 0.006378174, -0.031341553, -0.068237305, -0.019744873, 0.0014820099, -0.02432251, 0.046844482, 0.018966675, 0.022613525, -0.04260254, -0.044006348, -0.0063323975, 0.014526367, -0.025039673, 0.055480957, 0.026123047, -0.056243896, 0.047332764, 0.014724731, 4.4465065e-05, -0.018173218, 0.05697632, 0.0015220642, -0.037719727, -0.027908325, -0.013191223, 0.0087509155, -0.0018386841, -0.01158905, -0.012557983, 0.022842407, -0.0256958, 0.0052604675, -0.027862549, 0.043914795, -0.011947632, 0.018234253, -0.028701782, 0.020385742, 0.024551392, -0.00982666, -0.01576233, 0.020996094, 0.0046195984, -0.0052375793, 0.030807495, -0.043762207, -0.047332764, 0.0077667236, 0.030456543, -0.00023460388, -0.009170532, -0.031311035, -0.013710022, 0.0015411377, 0.0309906, 0.030761719, -0.0015325546, -0.010734558, -0.024505615, -0.03564453, -0.017089844, 0.0006222725, 0.016281128, -0.04434204, -0.006011963, 0.015579224, 0.014640808, 0.0064430237, 0.06762695, 0.019042969, -0.024215698, 0.007572174, 0.050048828, -0.0049438477, 0.006023407, -0.009277344, -0.043029785, -0.054016113, -0.05593872, 0.0008392334, 0.12731934, 0.029632568, -0.015380859, -0.007598877, -0.018737793, -0.0052261353, -0.033294678, 0.0072898865, 0.026351929, 0.020095825, -0.020584106, -0.032714844, -0.060455322, 0.014457703, 0.01727295, -0.0017108917, 0.00074386597, -0.023223877, -0.014564514, -0.01084137, -0.019454956, -0.0385437, -0.04916382, 0.019561768, 0.00087451935, -0.00983429, 0.012840271, -0.0042762756, -0.02305603, -0.009849548, 0.01852417, -0.01751709, 0.07476807, -0.005332947, 0.03125, -0.012802124, -0.010002136, -0.027709961, 0.0058670044, -0.025787354, -0.017578125, 0.0010242462, -0.008651733, 0.021713257, -0.010856628, 0.02935791, 0.0001180172, 0.03302002, -0.015083313, 0.052978516, -0.052581787, 0.01159668, 0.015197754, -0.013961792, -0.056610107, -0.011199951, 0.041534424, 0.009063721, -0.010269165, -0.021591187, 0.0079574585, -0.024780273, 0.017822266, 0.009132385, 0.03466797, 0.010475159, 0.046569824, -0.04748535, 0.0051612854, -0.0036392212, -0.024551392, -0.07525635, -0.018066406, 0.03353882, -0.017837524, 0.046539307, -0.0056381226, -0.037109375, 0.034454346, -0.0021343231, 0.032409668, 0.02168274, 0.0016231537, 0.037597656, -0.01776123, -0.008041382, 0.00907135, -0.013221741, 0.021255493, -0.050567627, -0.049072266, 0.0062675476, -0.008529663, -0.01525116, -0.035461426, 0.0435791, 0.0058631897, 0.0019836426, -0.0619812, -0.080444336, -0.04248047, 0.07342529, -0.018981934, -0.058563232, 0.013824463, 0.0023040771, -0.023620605, 0.03704834, 0.009567261, 0.045532227, -0.007801056, -0.026824951, 0.011329651, -0.042938232, -0.0035591125, 0.018203735, -0.029556274, 0.005016327, 0.020080566, -0.055145264, 0.023284912, -0.043182373, -0.011276245, 0.010421753, 0.0002194643, -0.04031372, -0.046661377, 0.015670776, -0.006164551, -0.027008057, -0.00024032593, 0.008071899, 0.025421143, 0.062072754, -0.018859863, -0.0129852295, -0.02029419, -0.00749588, -0.015960693, -0.0070152283, 0.0001975298, 0.021591187, 4.5239925e-05, 0.0104599, -0.023406982, 0.002040863, -0.0030136108, -0.037719727, -0.0059928894, -7.349253e-05, -0.020385742, 0.017150879, -0.04373169, 0.014518738, 0.0028533936, 0.048614502, -0.07550049, -0.04837036, 0.026428223, -0.019973755, -0.034484863, 0.035125732, 0.0010185242, -0.072753906, 0.0067100525, 0.038879395, 0.040100098, -0.057525635, 0.017837524, -0.053649902, 0.041046143, -0.036590576, -0.025115967, -0.08770752, 0.081726074, 0.0637207, -0.039642334, -0.047851562, -0.01864624, -0.016784668, 0.043426514, -0.010536194, -0.001335144, -0.00806427, -0.03778076, -0.00017678738, 0.0030021667, -0.011756897, -0.00090408325, -0.022918701, 0.012428284, -0.0026054382, -0.013397217, 0.03970337, 0.0014486313, -0.0124053955, 0.030517578, -0.035247803, 0.007019043, 0.010116577, 0.012329102, -0.04336548, 0.007019043, -0.017089844, -0.08514404, 0.014129639, -0.034729004, 0.00819397, -0.006904602, -0.05319214, -0.00932312, 0.016403198, -0.014709473, 0.017623901, 0.017471313, -0.022903442, 0.019989014, 0.029373169, -0.018234253, 0.007888794, 0.00077819824, 0.019195557, 0.05038452, 0.0065956116, -0.036987305, -0.005153656, -0.08178711, 0.0014533997, -0.027374268, 0.013137817, 0.04260254, 0.005367279, -0.009788513, 0.04171753, 0.020843506, -0.019546509, -0.012062073, 0.041168213, 0.00061798096, -0.0129776, 0.015670776, -0.014892578, -0.04248047, 0.018798828, 0.014595032, -0.010475159, 0.011352539, 0.01008606, 0.071899414, 0.001414299, 0.030410767, -0.03213501, 0.03149414, -0.037017822, 0.05557251, 0.007911682, 0.014709473, 0.008163452, -0.007019043, -0.023605347, -0.004016876, -0.015602112, -0.047912598, -0.011772156, -0.00038528442, -0.03427124, 0.018112183, -0.03479004, 0.0024414062, 0.006137848, -0.021499634, 0.0019550323, -0.035614014, 0.053466797, -0.035858154, 0.02810669, -0.011924744, 0.0017137527, 0.070129395, -0.016723633, 0.062194824, -0.020690918, -0.026748657, -0.02268982, 0.0152282715, 0.012939453, -0.015823364, 0.015930176, -0.026473999, 0.058776855, 0.029510498, -0.02947998, 0.05053711, -0.011161804, 0.013442993, -0.0032405853, 0.0029144287, -0.016113281, -0.015426636, 0.036834717, 0.0289917, -0.01612854, -0.002609253, 0.0041618347, 0.005756378, 0.008468628, 0.014442444, 0.025360107, -0.016555786, -0.013435364, 0.030471802, 0.017654419, 0.0024604797, -0.014411926, 0.031280518, -0.00040125847, 0.00907135, -0.015136719, -0.028579712, -0.013534546, 0.031677246, 0.037750244, -0.007663727, -0.04421997, -0.06762695, -0.035461426, 0.0048713684, -0.012298584, 0.006275177, -0.00089359283, 0.030853271, -0.012962341, -0.031433105, 0.003774643, -0.043640137, -0.018157959, 0.022842407, 0.001786232, -0.024398804, -0.07946777, -0.035186768, -0.0138549805, -0.026489258, -0.0021533966, -0.03225708, 0.01247406, -0.0501709, -0.0026302338, -0.01701355, -0.041107178, -0.008628845, 0.010437012, -0.02053833, 0.0068359375, 0.06036377, 0.013336182, 0.058441162, -0.03289795, -0.0066184998, 0.049194336, -0.0012674332, 0.044036865, -0.0074310303, 0.027694702, -0.0064353943, -0.039489746, 0.008552551, -0.021499634, 0.020217896, -0.007457733, -0.03765869, 0.035095215, 0.024551392, -0.0022068024, 0.017990112, -0.039093018, -0.024551392, 0.021514893, -0.050567627, -0.011016846, 0.003194809, 0.0340271, -0.044036865, 0.0019721985, -0.0022830963, -0.00026917458, -0.0022716522, 0.011131287, 0.005138397, -0.03463745, 0.0061035156, 0.026397705, 0.01737976, -0.053375244, -0.048187256, 0.026443481, 0.021102905, -0.021194458, -0.028320312, -0.04309082, 0.002922058, -0.01512146, 0.06109619, 0.059631348, -0.020126343, 0.0023651123, 0.033935547, -0.06286621, 0.07293701, -0.022201538, 0.0132751465, 0.036468506, 0.04446411, -0.025375366, -0.07318115, -0.061676025, -0.06311035, 0.033111572, -0.037261963, 0.024414062, -0.0013132095, 0.027359009, -0.033111572, -0.007881165, 0.014839172, 0.039611816, -0.009048462, 0.00466156, -0.009536743, -0.0015802383, 0.03778076, 0.06866455, 0.0058555603, -0.016143799, -0.00919342, -0.06756592, -0.0014123917, 0.021972656, -0.015914917, -0.03466797, 0.044433594, 0.051452637, 0.037139893, 0.015106201, -0.030944824, 0.043548584, -0.036987305, 0.06427002, 0.0033569336, 0.0231781, -0.031311035, -0.039398193, 0.029769897, 0.06524658, -0.003704071, 0.019363403, 0.003932953, 0.13574219, -0.024597168, -0.019958496, 0.008415222, 0.007865906, -0.0058555603, -0.013580322, 0.037475586, -0.008255005, -0.046813965, 0.03152466, 0.05871582, 0.061950684, -0.0043525696, 0.0013837814, 0.04876709, -0.05908203, -0.01335907, 0.021118164, -0.029907227, 0.044830322, -0.03955078, 0.01424408, -0.024475098, -0.012001038, -0.0009889603, -0.024002075, -0.003238678, -0.027801514, 0.0057525635, -0.005355835, -0.023483276, 0.011428833]\n",
            "Habitat and Distribution:  \n",
            "Yangs are versatile and can thrive in a variety of environments but are predominantly found in mountainous regions and grassy plains where there is ample food supply. While originally native to Central Asia, their range has expanded due to their adaptability and the shifting environmental conditions.\n",
            "\n",
            "Conservation Status:  \n",
            "Yangs are classified as a species of least concern but are monitored due to their unique ecological role and the effects of their interactions with the Lang. Conservation efforts are mainly directed towards habitat preservation and understanding the dynamics of their relationship with Langs to ensure both species' sustainability.\n",
            "\n",
            "Cultural Significance:  \n",
            "In cultural narratives, Yangs symbolize innocence and purity, often depicted as gentle and serene beings. They hold a significant place in local folklore and are sometimes believed to possess mystical properties due to their unique biological characteristics. Their depiction in art and literature frequently highlights themes of harmony and nature’s bounty.\n",
            "[0.050933838, -0.000746727, 0.0029888153, -0.01146698, -0.00932312, -0.015014648, 0.028152466, -0.054382324, 0.007904053, 0.041046143, 0.008453369, -0.0036716461, 0.008956909, -0.025283813, -0.008483887, -0.0027580261, 0.028640747, 0.024093628, 0.0256958, -0.019134521, -0.005783081, 0.004558563, -0.013053894, 0.036102295, 0.011428833, 0.0033626556, -0.03668213, -0.027938843, 0.0070533752, -0.00054454803, 0.0048599243, 0.020645142, 0.04598999, -0.028839111, -0.011550903, -0.005794525, 0.040283203, -0.044830322, -0.06439209, 0.069885254, 0.01423645, -0.019012451, 0.02267456, -0.016189575, -0.012649536, 0.013908386, -0.010902405, -0.033203125, 0.017410278, 0.019760132, 0.0095825195, -0.0256958, -0.0015106201, -0.0056610107, -0.026031494, -0.01776123, -0.004966736, 0.061523438, 0.047088623, -0.037841797, -0.06817627, -0.0026416779, 0.023269653, -0.029678345, 0.0079956055, 0.013656616, 0.052459717, 0.019165039, 0.03036499, 0.017959595, -0.01689148, -0.011184692, 0.009033203, -0.06896973, 0.052734375, 0.074401855, -0.0657959, 0.009338379, 0.032409668, -0.03277588, 0.010185242, -0.0011730194, 0.039215088, -0.046783447, -0.017822266, -0.025100708, 0.0045700073, -0.007259369, 0.024459839, 0.0119018555, -0.012954712, 0.08642578, 0.017837524, 0.054351807, -0.044281006, 0.03289795, -0.024795532, -0.060821533, -0.0050239563, 0.002439499, 0.017623901, -0.052001953, 0.044921875, -0.012748718, -0.030838013, 0.007171631, 0.028839111, 0.019134521, 0.013427734, 0.013946533, -0.004333496, 0.013038635, -0.0014448166, -0.017578125, 0.014602661, 0.010665894, -0.01852417, 0.03137207, -0.0021381378, -0.015396118, 0.025970459, 0.042938232, 0.022888184, 0.003850937, -0.020401001, 0.018676758, 0.00034236908, -0.08795166, 0.026412964, 0.04171753, -0.01486969, -0.0019607544, -0.08068848, -0.022735596, -0.024658203, -0.029327393, -0.014144897, 0.0040016174, -0.0037021637, -0.0135269165, 0.00667572, 0.012878418, 0.04296875, 0.01335907, -0.00082731247, -0.010856628, 0.013786316, 0.023498535, 0.030136108, -0.0085372925, 0.0019350052, 0.024627686, 0.035614014, 0.008811951, -0.043273926, -0.044677734, -0.009353638, -0.032470703, 0.024032593, -0.04324341, -0.023925781, 0.0017108917, 0.010444641, -0.02305603, -0.024017334, -0.018814087, 0.024276733, 0.014724731, 0.011024475, 0.020126343, -0.00019311905, 0.022155762, -0.032043457, 0.004951477, 0.02268982, -0.021514893, -0.018920898, 0.04486084, 0.029174805, -0.053863525, 0.017242432, -0.020187378, 0.067871094, 0.02571106, -0.019317627, -0.026397705, 0.0006046295, -0.034301758, 0.009490967, 0.023788452, 0.017822266, 0.022323608, -0.0076408386, -0.017684937, 0.0042877197, -0.0051956177, -0.016448975, -0.0023441315, -0.023513794, 0.017150879, 0.047729492, -0.019470215, -0.006412506, -0.023712158, -0.07421875, -0.006465912, -0.0181427, 0.0082473755, 0.0836792, 0.04864502, -0.02859497, -0.002588272, 0.01335907, -0.031158447, -0.04537964, -0.00073575974, -0.02684021, -0.03010559, -0.0022392273, -0.008880615, 0.02508545, 0.03970337, -0.02355957, 0.0011234283, -0.05593872, 0.044128418, -0.03677368, 0.037261963, -0.05307007, 0.039611816, 0.014198303, -0.02067566, 0.05053711, 0.03829956, -0.033721924, -0.016998291, -0.004547119, -0.022201538, 0.011405945, 0.04095459, 0.04534912, -0.043182373, -0.025558472, -0.032226562, -0.06604004, -0.05508423, 0.013473511, -0.016967773, -0.0143966675, -0.03050232, 0.06561279, -0.035095215, 0.03842163, 0.031280518, -0.0052261353, 0.019058228, 0.01914978, 0.023773193, 0.015327454, 0.022323608, -0.019638062, 0.03491211, 0.032226562, -0.02218628, -0.057525635, -0.051574707, -0.02281189, 0.0012865067, 0.022659302, -0.052001953, 0.022476196, 0.006580353, -0.011749268, 0.016525269, 0.008636475, -0.018920898, -0.013999939, -0.008018494, -0.020614624, -0.0033111572, -0.007144928, 0.0009784698, -0.024002075, 0.005718231, 0.041778564, 0.054260254, 0.009086609, 0.009475708, -0.038146973, -0.009254456, 0.025390625, 0.010932922, -0.016311646, -0.0066833496, -0.0023288727, -0.006839752, 0.031951904, 0.022079468, -0.01171875, 0.024642944, 0.022659302, 0.03933716, 0.041381836, -0.029205322, -0.01474762, 0.0236969, 0.0050811768, -7.408857e-05, -0.001914978, -0.02848816, -0.016693115, -0.0023899078, -0.0051231384, -0.00217247, -0.024261475, -0.026824951, -0.007865906, -0.011054993, 0.0020160675, 0.053619385, -0.00806427, 0.053985596, -0.014877319, -0.020080566, 0.048858643, 0.00089359283, -0.05984497, -0.028442383, -0.030181885, -0.009025574, 0.009468079, -0.034942627, -0.012756348, 0.008293152, 0.010650635, -0.008850098, -0.0012435913, 0.05718994, -0.0041160583, 0.013900757, 0.01940918, 0.015640259, 0.018737793, -0.013015747, 0.022369385, -0.06427002, 0.009422302, 0.0025939941, 0.028259277, 0.005203247, -0.00039696693, -0.012840271, -0.004524231, -0.021102905, 0.035369873, 0.005142212, -0.026428223, -0.022460938, 0.046325684, -0.06161499, -0.004524231, -0.024047852, -0.046905518, -0.036132812, 0.00019717216, -0.010902405, -0.030181885, -0.0067443848, 0.03652954, 0.05114746, -0.012718201, 0.04940796, -0.0385437, -0.0017728806, -0.009681702, 0.022872925, 0.008728027, -0.036834717, 0.07519531, 0.00844574, 0.02053833, 0.014274597, 0.060058594, 0.010757446, 0.13378906, -0.03970337, 0.028366089, 0.009399414, 0.10437012, 0.03479004, -0.019851685, -0.11029053, -0.026138306, -0.004714966, -0.021224976, -0.007041931, -0.022109985, -0.02758789, -0.049926758, 0.0022029877, 0.057006836, -0.010986328, 0.005393982, 0.005302429, -0.045684814, 0.04824829, 0.0018510818, 0.014221191, 0.027114868, 0.016937256, 0.01675415, -0.012321472, 0.03692627, -0.024093628, 0.008476257, -0.008140564, 0.06237793, 0.0418396, -0.056427002, -0.062072754, 0.045013428, -0.0032215118, 0.028579712, -0.037902832, -0.019699097, -0.009735107, -0.0054855347, 0.04067993, -0.035339355, 0.00035238266, -0.02130127, -0.025527954, 0.0060424805, 0.02229309, -0.044952393, -0.0077781677, -0.026870728, -0.0076179504, 0.045532227, -0.059753418, -0.027374268, 0.0075149536, -0.007827759, -0.013198853, 0.021530151, -0.016281128, 0.016235352, -0.014976501, 0.034606934, 0.043426514, -0.01625061, -0.0032672882, 0.0071983337, 0.015541077, -0.057373047, -0.06524658, -0.007369995, 0.0014810562, -0.047729492, 0.042938232, 0.022277832, 0.011375427, -0.027313232, -0.039916992, -0.03262329, 0.028747559, -0.062561035, 0.048797607, 0.007965088, -0.056915283, 0.021987915, 0.056274414, -0.019195557, -0.027679443, 0.050079346, 0.0010318756, -0.0206604, -0.017593384, 0.005142212, -0.007698059, -0.01399231, 0.0019197464, 0.0008201599, 0.0016736984, -0.033081055, 0.013847351, -0.030471802, 0.026275635, -0.006008148, -0.019622803, -0.021987915, -0.0072402954, 0.021743774, -0.023727417, -0.014526367, -0.0033950806, -0.0071411133, 0.024810791, 0.030410767, -0.049560547, -0.027938843, -0.014526367, -0.0013132095, 0.005809784, 0.011230469, -0.020706177, -0.0385437, -0.0040359497, 0.030441284, 0.025238037, -0.023361206, -0.0045776367, -0.045318604, -0.038024902, -0.024795532, -0.00894165, 0.025802612, -0.007537842, -0.010009766, -0.0058784485, 0.004764557, -0.0019330978, 0.0524292, 0.02331543, -0.014930725, 0.023513794, 0.03652954, 0.014732361, 0.009185791, 0.015655518, -0.045715332, -0.012542725, -0.046417236, -0.02029419, 0.10443115, -0.02178955, -0.019058228, 0.0033092499, -0.025115967, -0.0146865845, -0.026107788, 0.019348145, 0.04135132, 0.0065727234, -0.036132812, -0.013618469, -0.04788208, 0.043395996, -0.004348755, 0.014419556, 0.017089844, -0.010520935, -0.053955078, -0.0048332214, -0.007850647, -0.0446167, -0.07788086, 0.03857422, -0.033081055, -0.02017212, 0.035827637, 0.020767212, -0.013175964, -0.03189087, 0.06530762, -0.016494751, 0.059295654, -0.027130127, 0.03173828, -0.024795532, 0.000729084, -0.018600464, 0.043060303, -0.012954712, 0.004917145, -0.019012451, -0.017822266, 0.0073394775, -0.019241333, 0.019378662, 0.0049591064, 0.030059814, -0.020355225, 0.034698486, -0.038269043, -0.008544922, 0.0077171326, -0.011665344, -0.043762207, 0.009628296, 0.057403564, -0.014312744, -0.0039482117, -0.024124146, 0.0033512115, -0.005744934, 0.0005736351, -0.0032215118, 0.035614014, 0.010375977, 0.026916504, -0.025131226, 0.014083862, 0.00409317, -0.025512695, -0.046905518, -0.019241333, 0.023208618, -0.0107803345, 0.032684326, -0.00223732, -0.04031372, 0.012397766, 0.02444458, 0.012954712, 0.00894165, 0.029144287, 0.026184082, -0.05126953, -0.022079468, 0.0013227463, -0.0115356445, 0.022109985, -0.04196167, -0.051452637, 0.015945435, 0.019882202, 0.0063056946, -0.02835083, 0.049957275, 0.014778137, 0.00484848, -0.06323242, -0.12084961, -0.041046143, 0.11566162, -0.0051078796, -0.053863525, 0.01424408, 0.02154541, 0.0051651, 0.024887085, 0.01651001, -0.017852783, 0.001405716, -0.030441284, 0.001162529, -0.013191223, -0.020401001, 0.0018949509, -0.017333984, 0.019363403, 0.030212402, -0.03466797, 0.0022659302, -0.034179688, -0.02116394, 0.0053100586, 0.007965088, -0.043121338, -0.05871582, 0.0060691833, -0.0007901192, -0.012214661, 0.019470215, 0.0049476624, 0.031707764, 0.079589844, -0.020828247, -0.014755249, 0.016799927, -0.024917603, -0.042633057, -0.01512146, -0.003868103, 0.052124023, 0.026290894, 0.030273438, 0.009521484, -0.010597229, 0.010643005, -0.022216797, -0.017608643, -0.017501831, -0.021148682, 0.0121154785, -0.08856201, 0.026519775, 0.0035476685, 0.057556152, -0.04272461, -0.027755737, 0.024917603, -0.021957397, -0.05419922, 0.00868988, 0.020370483, -0.09527588, -0.009262085, 0.005584717, 0.04473877, -0.05886841, 0.017440796, -0.045288086, 0.020645142, -0.020645142, 0.0048828125, -0.06561279, 0.053588867, 0.04663086, -0.03756714, -0.032440186, -0.020889282, -0.016784668, 0.06384277, -0.024017334, -0.005256653, -0.0026302338, -0.03060913, -0.020904541, -0.030593872, -0.013259888, -0.02508545, -0.046539307, 0.002204895, -0.02947998, -0.03756714, 0.013168335, 0.0007266998, -0.03274536, -0.00072336197, -0.014259338, 0.00097465515, -0.007987976, 0.003288269, -0.018966675, 0.022735596, -0.03894043, -0.073791504, 0.028259277, -0.051757812, 0.028793335, -0.0131073, -0.02998352, -0.014320374, 0.032806396, -0.007949829, -0.015205383, -0.006996155, -0.02067566, -0.008621216, 0.014846802, -0.0124435425, 0.027145386, 0.003627777, 0.016342163, 0.02848816, 0.019470215, -0.019454956, -0.0024528503, -0.07635498, 0.00491333, -0.023666382, -0.0058784485, 0.03918457, -0.010536194, 0.014854431, 0.059692383, 0.010231018, -0.030349731, -0.040527344, 0.060058594, -0.011039734, -0.020828247, 0.027770996, -0.040771484, -0.016143799, 0.0029449463, -0.003868103, -0.006828308, -0.0041923523, 0.027053833, 0.024475098, 0.0015964508, 0.014678955, -0.002462387, 0.03567505, -0.029586792, 0.058563232, 0.024490356, -0.004486084, -0.0030384064, -0.002670288, -0.031311035, -0.018722534, 0.0021572113, -0.018066406, 0.0005874634, -0.004863739, -0.020980835, 0.021331787, -0.03012085, -0.008834839, 0.0012216568, -0.017440796, -0.0064735413, -0.04208374, 0.061035156, -0.043151855, 0.04336548, -0.014312744, -0.02458191, 0.052124023, -0.0059890747, 0.10247803, -0.010620117, -0.02130127, -0.0068359375, -0.00957489, 0.0033397675, -0.01776123, 0.015556335, -0.019058228, 0.05496216, 0.006828308, -0.02355957, 0.05239868, -0.024932861, 0.008026123, 0.017456055, 0.0059890747, -0.028701782, -0.0037345886, 0.05267334, 0.047546387, -0.02355957, 0.00035190582, 0.0008049011, 0.014144897, 0.0063934326, 0.027023315, 0.0069618225, 0.0018482208, 0.001789093, 0.013252258, 0.013999939, 0.022277832, -0.011550903, 0.029266357, 0.011329651, 0.00022804737, 0.009376526, -0.023117065, -0.031585693, 0.030548096, 0.05215454, 0.02619934, -0.024719238, -0.048614502, -0.026000977, 0.014579773, 0.014816284, 0.021514893, -0.042510986, 0.028945923, 0.009033203, -0.021881104, 0.007030487, -0.02420044, 0.0054512024, 0.016082764, -0.005443573, -0.023803711, -0.09295654, -0.03353882, -0.01235199, -0.027069092, -0.006385803, -0.037750244, 0.016235352, -0.04660034, -0.030151367, -0.005317688, -0.038116455, -0.013206482, -0.02331543, 0.0006418228, 0.018051147, 0.045715332, 0.013435364, 0.04840088, -0.03829956, 0.0046958923, 0.033203125, 0.005104065, 0.034362793, -0.009056091, 0.028442383, -0.004573822, -0.028533936, 0.0027332306, -0.014122009, 0.014373779, 0.004459381, -0.0178833, 0.024871826, 0.002609253, -0.029876709, -0.0024318695, -0.03564453, 0.0076026917, 0.017684937, -0.053253174, -0.0206604, 0.009124756, 0.033966064, -0.058502197, 0.00036621094, -0.014953613, 0.0074806213, -0.008117676, 0.003873825, 0.0074310303, -0.025405884, -0.005126953, 0.02192688, 0.02758789, -0.035888672, -0.0625, 0.042266846, 0.033203125, -0.035736084, -0.07196045, -0.06225586, -0.00969696, -0.041412354, 0.020584106, 0.055725098, 0.006576538, -0.022079468, 0.006767273, -0.03604126, 0.029556274, -0.015159607, 0.0096588135, 0.049591064, 0.0231781, -0.023788452, -0.041931152, -0.027954102, -0.023239136, 0.04257202, -0.044799805, 0.03491211, -0.03488159, 0.0038204193, -0.051513672, -0.020111084, 0.0024051666, 0.09082031, -0.015434265, -0.008720398, -0.0181427, -0.0037612915, 0.020050049, 0.06225586, 0.0051498413, -0.00932312, -0.04067993, -0.064697266, 0.023284912, 0.03555298, -0.030776978, -0.018203735, 0.068115234, 0.035949707, 0.036499023, 0.021942139, -0.01574707, 0.044311523, -0.022659302, 0.0713501, -0.008239746, 0.03048706, -0.047973633, -0.030776978, 0.024642944, 0.06390381, -0.011039734, 0.027542114, -0.0011816025, 0.10430908, -0.04638672, -0.041748047, 0.025787354, 0.021942139, -0.011199951, -0.017440796, 0.034606934, 0.00035953522, -0.029556274, 0.027893066, 0.053649902, 0.04510498, -0.042144775, 0.020065308, 0.026931763, -0.03945923, -0.031951904, 0.012313843, -0.019119263, 0.027786255, -0.05065918, 0.03201294, -0.0074310303, -0.033111572, -0.008033752, -0.020080566, -0.01802063, -0.0345459, 0.02684021, 0.035095215, -0.02432251, 0.021499634]\n",
            "Habitat and Distribution:  \n",
            "Originally found throughout the dense forests and high mountain ranges of Central Asia, Langs have adapted to a wide range of environments. Their adaptability, combined with the changing climatic conditions, has expanded their range further into both northern and southern territories.\n",
            "\n",
            "Conservation Status:  \n",
            "While not currently endangered, Lang populations are closely monitored due to their integral role in their ecosystems and the unique biological and ecological phenomena associated with their interactions with the Yang. Conservation efforts are primarily focused on maintaining the balance of their natural habitat and studying the implications of their toxic prey.\n",
            "\n",
            "Cultural Significance:  \n",
            "In folklore and mythology, Langs are often depicted as creatures of great wisdom and power, symbolizing strength and the wild spirit of nature. Their presence in tales and art across various cultures underscores their significance as a powerful natural symbol.\n",
            "[0.050323486, -0.00024163723, 0.002773285, -0.011154175, -0.0087890625, -0.014968872, 0.027877808, -0.054260254, 0.008071899, 0.04083252, 0.0090408325, -0.0033893585, 0.007972717, -0.025512695, -0.008781433, -0.0024280548, 0.028579712, 0.023895264, 0.025512695, -0.019485474, -0.005378723, 0.004348755, -0.012786865, 0.036254883, 0.011856079, 0.0031833649, -0.0368042, -0.027923584, 0.0069847107, -0.00072050095, 0.0042495728, 0.02104187, 0.0463562, -0.028945923, -0.012367249, -0.006416321, 0.040863037, -0.045166016, -0.06512451, 0.070617676, 0.015113831, -0.018814087, 0.022964478, -0.015533447, -0.012527466, 0.013870239, -0.010353088, -0.03302002, 0.017929077, 0.019546509, 0.0095825195, -0.02532959, -0.0013055801, -0.0059394836, -0.026306152, -0.017593384, -0.0048828125, 0.060913086, 0.046875, -0.03753662, -0.06781006, -0.002412796, 0.022781372, -0.029296875, 0.008560181, 0.013900757, 0.05291748, 0.018966675, 0.030548096, 0.01776123, -0.017105103, -0.011131287, 0.009231567, -0.06933594, 0.05319214, 0.073913574, -0.06591797, 0.009117126, 0.032073975, -0.03253174, 0.010131836, -0.0015306473, 0.04019165, -0.046844482, -0.017822266, -0.024917603, 0.004753113, -0.007106781, 0.024093628, 0.011795044, -0.013252258, 0.08685303, 0.017822266, 0.053771973, -0.044952393, 0.033203125, -0.025131226, -0.061340332, -0.005317688, 0.0018539429, 0.018249512, -0.052490234, 0.04547119, -0.01235199, -0.031021118, 0.007106781, 0.029312134, 0.01940918, 0.013580322, 0.01360321, -0.004108429, 0.0138168335, -0.002105713, -0.017929077, 0.014007568, 0.010871887, -0.018585205, 0.031463623, -0.0019025803, -0.015090942, 0.025970459, 0.042877197, 0.022735596, 0.0045204163, -0.020736694, 0.019012451, 0.00023055077, -0.088134766, 0.026443481, 0.041534424, -0.015327454, -0.001660347, -0.0814209, -0.023498535, -0.024673462, -0.028823853, -0.014518738, 0.00381279, -0.0036029816, -0.012901306, 0.006702423, 0.012573242, 0.042999268, 0.013771057, -0.0005927086, -0.011077881, 0.013786316, 0.023635864, 0.03024292, -0.008796692, 0.0015048981, 0.024978638, 0.03579712, 0.008468628, -0.042510986, -0.04473877, -0.00932312, -0.03253174, 0.023895264, -0.04309082, -0.023391724, 0.0019197464, 0.011177063, -0.022277832, -0.023330688, -0.019195557, 0.023101807, 0.014472961, 0.011299133, 0.020141602, 0.0004491806, 0.02192688, -0.031677246, 0.0046577454, 0.021881104, -0.022033691, -0.017990112, 0.04525757, 0.029159546, -0.05432129, 0.01725769, -0.020126343, 0.06756592, 0.025802612, -0.018737793, -0.02722168, 0.0008792877, -0.034484863, 0.009742737, 0.02394104, 0.017120361, 0.022415161, -0.007911682, -0.017196655, 0.003534317, -0.0059013367, -0.01612854, -0.0021648407, -0.02368164, 0.017669678, 0.0473938, -0.019714355, -0.006275177, -0.023101807, -0.07409668, -0.006462097, -0.018051147, 0.00869751, 0.084106445, 0.049224854, -0.029174805, -0.002948761, 0.013999939, -0.03152466, -0.045013428, -0.00086450577, -0.02658081, -0.028808594, -0.002407074, -0.0082092285, 0.025177002, 0.039031982, -0.022857666, 0.00040626526, -0.05609131, 0.044677734, -0.03665161, 0.03741455, -0.052612305, 0.039764404, 0.013961792, -0.020935059, 0.050598145, 0.038726807, -0.033081055, -0.016464233, -0.004714966, -0.022399902, 0.010955811, 0.04019165, 0.04498291, -0.044006348, -0.024963379, -0.031951904, -0.0657959, -0.05404663, 0.013549805, -0.017074585, -0.014755249, -0.030456543, 0.06555176, -0.03527832, 0.03866577, 0.030776978, -0.0056152344, 0.01966858, 0.018463135, 0.023406982, 0.01600647, 0.02178955, -0.01940918, 0.03515625, 0.032318115, -0.021774292, -0.05731201, -0.05142212, -0.02305603, 0.00096702576, 0.02218628, -0.052215576, 0.022705078, 0.0060577393, -0.011436462, 0.016571045, 0.008163452, -0.01928711, -0.013717651, -0.0076408386, -0.020050049, -0.002904892, -0.00712204, 0.0009717941, -0.02468872, 0.0057907104, 0.041931152, 0.054382324, 0.008712769, 0.010192871, -0.03805542, -0.0095825195, 0.025878906, 0.0107803345, -0.016555786, -0.0066566467, -0.0024147034, -0.006832123, 0.03164673, 0.021606445, -0.011260986, 0.024291992, 0.023025513, 0.039489746, 0.040893555, -0.029022217, -0.014572144, 0.0236969, 0.005756378, -0.0002872944, -0.0020751953, -0.028671265, -0.016723633, -0.0023422241, -0.0054359436, -0.0009794235, -0.02494812, -0.026947021, -0.007686615, -0.011375427, 0.0030536652, 0.053833008, -0.008155823, 0.053894043, -0.015823364, -0.02079773, 0.04824829, 0.0010232925, -0.05987549, -0.028320312, -0.030059814, -0.009231567, 0.009109497, -0.03503418, -0.012687683, 0.008605957, 0.01109314, -0.0088272095, -0.0010929108, 0.057159424, -0.0038547516, 0.013061523, 0.018753052, 0.016494751, 0.018463135, -0.013076782, 0.022506714, -0.064086914, 0.0090408325, 0.0022144318, 0.028335571, 0.0056152344, -0.00062942505, -0.012496948, -0.004837036, -0.021255493, 0.035308838, 0.0055770874, -0.0259552, -0.022109985, 0.046966553, -0.061706543, -0.0040779114, -0.025253296, -0.04751587, -0.03540039, 0.00039243698, -0.010467529, -0.030044556, -0.0068588257, 0.036254883, 0.051208496, -0.012084961, 0.049072266, -0.039245605, -0.0015878677, -0.00932312, 0.022949219, 0.009140015, -0.036956787, 0.0748291, 0.009246826, 0.019561768, 0.01449585, 0.05871582, 0.010772705, 0.13293457, -0.04019165, 0.028198242, 0.00932312, 0.10406494, 0.035125732, -0.02015686, -0.11071777, -0.025878906, -0.0051879883, -0.0211792, -0.007381439, -0.021255493, -0.027267456, -0.050354004, 0.0017518997, 0.057434082, -0.011108398, 0.0055122375, 0.005458832, -0.04586792, 0.048034668, 0.0024909973, 0.014190674, 0.02720642, 0.016952515, 0.016403198, -0.012611389, 0.037384033, -0.024856567, 0.008575439, -0.0073509216, 0.06112671, 0.0418396, -0.05618286, -0.06121826, 0.044891357, -0.0036373138, 0.027816772, -0.03765869, -0.019195557, -0.010025024, -0.0051994324, 0.04046631, -0.035064697, 0.00036501884, -0.0211792, -0.025299072, 0.006000519, 0.021957397, -0.044830322, -0.008506775, -0.02720642, -0.007873535, 0.045013428, -0.058685303, -0.027328491, 0.0072898865, -0.0073890686, -0.012573242, 0.021850586, -0.01612854, 0.015617371, -0.0149002075, 0.034088135, 0.043060303, -0.016326904, -0.0031967163, 0.008087158, 0.015838623, -0.056915283, -0.06518555, -0.007232666, 0.0012140274, -0.047790527, 0.043640137, 0.022003174, 0.011520386, -0.026794434, -0.040039062, -0.03314209, 0.028549194, -0.06311035, 0.049224854, 0.0074310303, -0.057006836, 0.021652222, 0.057037354, -0.01927185, -0.028427124, 0.05014038, 0.0009469986, -0.020462036, -0.017974854, 0.0058555603, -0.00793457, -0.014350891, 0.0015993118, 0.001086235, 0.0019369125, -0.03302002, 0.014266968, -0.030639648, 0.026687622, -0.0058555603, -0.020568848, -0.021865845, -0.0077667236, 0.021591187, -0.023422241, -0.014091492, -0.003414154, -0.006969452, 0.023956299, 0.030731201, -0.049743652, -0.028274536, -0.013839722, -0.0007753372, 0.0054473877, 0.010467529, -0.020904541, -0.038757324, -0.0042686462, 0.030563354, 0.024963379, -0.023468018, -0.004634857, -0.04525757, -0.037261963, -0.024917603, -0.008666992, 0.025604248, -0.00737381, -0.010238647, -0.0058937073, 0.0042304993, -0.0026283264, 0.05215454, 0.02418518, -0.015144348, 0.023254395, 0.036346436, 0.014656067, 0.008796692, 0.015716553, -0.04522705, -0.012557983, -0.0463562, -0.020507812, 0.10412598, -0.021850586, -0.019546509, 0.00356102, -0.024765015, -0.015197754, -0.026184082, 0.01940918, 0.040863037, 0.006477356, -0.036315918, -0.013496399, -0.048431396, 0.042785645, -0.004211426, 0.014381409, 0.017242432, -0.011116028, -0.05407715, -0.0046081543, -0.008323669, -0.044769287, -0.07788086, 0.039123535, -0.033111572, -0.020767212, 0.03555298, 0.021240234, -0.013534546, -0.03161621, 0.064819336, -0.017089844, 0.06021118, -0.026535034, 0.03186035, -0.024017334, 0.0012168884, -0.017944336, 0.04333496, -0.013557434, 0.0049476624, -0.019927979, -0.017852783, 0.007358551, -0.01939392, 0.019500732, 0.0042915344, 0.030136108, -0.020446777, 0.035125732, -0.038085938, -0.008712769, 0.007587433, -0.01134491, -0.04397583, 0.009384155, 0.056854248, -0.014228821, -0.0042686462, -0.02507019, 0.0036144257, -0.0047798157, -0.00040268898, -0.0023059845, 0.03579712, 0.011039734, 0.026489258, -0.025421143, 0.014343262, 0.0043182373, -0.025039673, -0.046875, -0.018966675, 0.023132324, -0.010658264, 0.032714844, -0.0019760132, -0.041229248, 0.012512207, 0.025054932, 0.012817383, 0.008796692, 0.029418945, 0.02658081, -0.05154419, -0.022598267, 0.0011339188, -0.010871887, 0.021850586, -0.04336548, -0.051361084, 0.016571045, 0.02104187, 0.0071487427, -0.028289795, 0.049987793, 0.014694214, 0.004764557, -0.0635376, -0.120788574, -0.040618896, 0.11627197, -0.0052490234, -0.053344727, 0.014091492, 0.022079468, 0.0049552917, 0.024429321, 0.016525269, -0.01776123, 0.00091314316, -0.030685425, 0.0010185242, -0.012863159, -0.020385742, 0.0022735596, -0.016677856, 0.020187378, 0.029830933, -0.034210205, 0.002418518, -0.03378296, -0.021270752, 0.0046920776, 0.007663727, -0.04333496, -0.058624268, 0.0061073303, -0.0010137558, -0.011894226, 0.019836426, 0.003627777, 0.031555176, 0.07977295, -0.021362305, -0.014175415, 0.016555786, -0.023635864, -0.04269409, -0.014884949, -0.0036678314, 0.052093506, 0.026321411, 0.03036499, 0.009391785, -0.010108948, 0.01071167, -0.022598267, -0.01651001, -0.017745972, -0.021636963, 0.011734009, -0.08880615, 0.026550293, 0.0032157898, 0.057006836, -0.042510986, -0.028274536, 0.02468872, -0.022109985, -0.053619385, 0.008575439, 0.020355225, -0.095458984, -0.009277344, 0.005580902, 0.044891357, -0.05819702, 0.017028809, -0.045654297, 0.020645142, -0.020889282, 0.0045700073, -0.065979004, 0.05432129, 0.047332764, -0.037628174, -0.032989502, -0.021011353, -0.016983032, 0.063964844, -0.023651123, -0.005077362, -0.0023860931, -0.030532837, -0.020706177, -0.030578613, -0.013336182, -0.02494812, -0.046081543, 0.0021591187, -0.029541016, -0.037841797, 0.013076782, 0.0005888939, -0.032104492, -0.00046396255, -0.014335632, 0.00090551376, -0.008148193, 0.0036067963, -0.01928711, 0.02355957, -0.03933716, -0.074157715, 0.028961182, -0.052001953, 0.02935791, -0.0129776, -0.03010559, -0.013595581, 0.032592773, -0.00749588, -0.015022278, -0.006664276, -0.020706177, -0.007858276, 0.015235901, -0.012672424, 0.026473999, 0.0029449463, 0.016342163, 0.029434204, 0.01940918, -0.019485474, -0.002696991, -0.076660156, 0.0049743652, -0.02357483, -0.005268097, 0.03842163, -0.010269165, 0.015144348, 0.05947876, 0.009979248, -0.030715942, -0.03970337, 0.06021118, -0.010513306, -0.020889282, 0.02708435, -0.04058838, -0.016036987, 0.003698349, -0.0038032532, -0.0069007874, -0.0042037964, 0.027740479, 0.024780273, 0.0018167496, 0.014671326, -0.002357483, 0.03555298, -0.029663086, 0.05847168, 0.024551392, -0.004573822, -0.0030784607, -0.0030994415, -0.03149414, -0.01864624, 0.0022716522, -0.019088745, 0.00047922134, -0.0039901733, -0.021362305, 0.021591187, -0.030380249, -0.00894165, 0.0010223389, -0.017547607, -0.0055503845, -0.04208374, 0.060516357, -0.043670654, 0.044281006, -0.014564514, -0.02394104, 0.05215454, -0.00655365, 0.1026001, -0.010627747, -0.021148682, -0.0073509216, -0.008804321, 0.0026741028, -0.017623901, 0.015686035, -0.019622803, 0.05545044, 0.0063209534, -0.02293396, 0.051635742, -0.02520752, 0.008483887, 0.017791748, 0.006439209, -0.02772522, -0.003648758, 0.05267334, 0.04736328, -0.023635864, 0.00072574615, 0.0014305115, 0.014022827, 0.006038666, 0.026565552, 0.0058784485, 0.0019874573, 0.0017089844, 0.0128479, 0.014282227, 0.022537231, -0.011695862, 0.030044556, 0.010932922, 0.00052690506, 0.009292603, -0.023956299, -0.0317688, 0.030456543, 0.052642822, 0.025512695, -0.024261475, -0.048614502, -0.02545166, 0.014732361, 0.015274048, 0.021896362, -0.042388916, 0.028427124, 0.00919342, -0.021453857, 0.0069732666, -0.023727417, 0.0046958923, 0.015991211, -0.00522995, -0.024932861, -0.09307861, -0.033081055, -0.0126953125, -0.026885986, -0.006061554, -0.037750244, 0.016204834, -0.047027588, -0.029937744, -0.0058288574, -0.037475586, -0.013290405, -0.024169922, 4.5359135e-05, 0.017822266, 0.045532227, 0.013633728, 0.04840088, -0.038238525, 0.0050354004, 0.033416748, 0.005996704, 0.03451538, -0.008575439, 0.028884888, -0.004837036, -0.027648926, 0.002943039, -0.014541626, 0.014717102, 0.0043754578, -0.017730713, 0.024658203, 0.0026168823, -0.029632568, -0.0022411346, -0.03555298, 0.00774765, 0.017471313, -0.052368164, -0.020935059, 0.009284973, 0.03466797, -0.05859375, 0.00016927719, -0.014434814, 0.007675171, -0.008041382, 0.004688263, 0.007385254, -0.025527954, -0.00484848, 0.021942139, 0.027618408, -0.0357666, -0.0625, 0.042175293, 0.033599854, -0.035491943, -0.072387695, -0.062927246, -0.009803772, -0.04156494, 0.021057129, 0.05596924, 0.006652832, -0.022354126, 0.006629944, -0.034973145, 0.029846191, -0.015167236, 0.009902954, 0.049072266, 0.023590088, -0.02330017, -0.041870117, -0.027374268, -0.023376465, 0.042297363, -0.044769287, 0.03503418, -0.034454346, 0.0044898987, -0.05166626, -0.019058228, 0.0024280548, 0.09075928, -0.01550293, -0.008483887, -0.01777649, -0.0047836304, 0.019821167, 0.062469482, 0.004901886, -0.008720398, -0.039916992, -0.064819336, 0.023010254, 0.035705566, -0.030899048, -0.01826477, 0.06738281, 0.036224365, 0.036865234, 0.021850586, -0.015296936, 0.045166016, -0.022918701, 0.07208252, -0.008506775, 0.030731201, -0.04776001, -0.030715942, 0.025100708, 0.063964844, -0.011138916, 0.027908325, -0.00061655045, 0.10418701, -0.046722412, -0.041534424, 0.026123047, 0.02166748, -0.010696411, -0.01789856, 0.03503418, 0.00065374374, -0.030227661, 0.027938843, 0.0541687, 0.045196533, -0.04135132, 0.01979065, 0.027267456, -0.03918457, -0.03225708, 0.012367249, -0.019561768, 0.027313232, -0.05090332, 0.03277588, -0.0069465637, -0.03366089, -0.007801056, -0.020019531, -0.017364502, -0.0340271, 0.026306152, 0.035064697, -0.02407837, 0.021133423]\n",
            "Habitat and Distribution:  \n",
            "Originally found throughout the dense forests and high mountain ranges of Central Asia, Langs have adapted to a wide range of environments. Their adaptability, combined with the changing climatic conditions, has expanded their range further into both northern and southern territories.\n",
            "\n",
            "Conservation Status:  \n",
            "While not currently endangered, Lang populations are closely monitored due to their integral role in their ecosystems and the unique biological and ecological phenomena associated with their interactions with the Yang. Conservation efforts are primarily focused on maintaining the balance of their natural habitat and studying the implications of their toxic prey.\n",
            "\n",
            "Cultural Significance:  \n",
            "In folklore and mythology, Langs are often depicted as creatures of great wisdom and power, symbolizing strength and the wild spirit of nature. Their presence in tales and art across various cultures underscores their significance as a powerful natural symbol.\n",
            "[0.024475098, -0.028839111, 0.0011634827, -0.02861023, -0.037963867, -0.011650085, -0.0052223206, -0.0107421875, -0.013160706, 0.019882202, -0.01171875, -0.033111572, -0.009376526, -0.025772095, 0.0024585724, -0.05960083, 0.013000488, 0.032958984, 0.044158936, -0.014953613, -0.012031555, -0.005329132, -0.019439697, -0.017990112, 0.030914307, -0.053009033, -0.03491211, -0.01864624, 0.007461548, 0.0045700073, 0.0032176971, 0.033203125, 0.031311035, 0.004928589, -0.029312134, 0.007598877, -0.022888184, -0.015304565, -0.050964355, 0.07104492, -0.004589081, -0.001452446, -0.019897461, -0.016021729, -0.043518066, -0.0029201508, -0.010147095, -0.00046610832, 0.015945435, 0.050109863, 0.0047035217, -0.020126343, 0.0054092407, -0.013542175, -0.020858765, -0.026412964, -0.02079773, 0.025680542, 0.04437256, -0.005340576, -0.035827637, -0.0262146, 0.022537231, -0.040100098, 0.027938843, -0.015159607, 0.0019931793, 0.018051147, 0.018875122, 0.0625, 0.017425537, -0.03479004, 0.008972168, -0.01576233, 0.025238037, 0.026153564, -0.017807007, 0.022949219, 0.026763916, 0.017868042, -0.03564453, 0.016189575, -0.017654419, -0.060058594, -0.0002462864, -0.0104599, -0.023162842, -0.009735107, 0.01374054, -0.012214661, -0.0057373047, 0.07055664, -0.022476196, 0.050201416, -0.032409668, -0.0013837814, 0.013420105, -0.0010585785, 0.010795593, 0.0050086975, 0.010604858, -0.055267334, 0.05267334, -0.05239868, -0.0335083, 0.042877197, 0.03475952, 0.0211792, 0.00095129013, -0.000112235546, 0.014076233, 0.02986145, 0.021240234, -0.04260254, 0.01637268, 0.0138168335, -0.0038757324, 0.06124878, 0.012535095, 0.0057640076, -0.010002136, 0.012062073, 0.008125305, 0.0027656555, -0.019729614, -0.025253296, 0.014434814, -0.038085938, -0.010597229, 0.00920105, 0.000995636, 0.028518677, -0.05731201, 0.007369995, -0.03378296, -0.011100769, 0.019226074, -0.0287323, -0.01234436, 0.013542175, -0.0006275177, -0.012283325, 0.0047569275, 0.017974854, 0.0073890686, -0.0019798279, 0.012199402, 0.016403198, 0.020431519, 0.034118652, -0.03894043, 0.050598145, 0.046875, -0.0134887695, -0.029373169, -0.093444824, -0.031921387, -0.019638062, 0.04510498, -0.012374878, -0.03289795, -0.011230469, -0.00995636, -0.007671356, -0.011749268, 0.0004479885, 0.041503906, 0.029769897, -0.0076026917, -0.02960205, 0.0031375885, 0.036712646, -0.0020694733, -0.012634277, -0.00021016598, -0.037231445, -0.01348114, 0.0001244545, 0.02067566, -0.010604858, 0.005886078, -0.023223877, 0.017929077, 0.019226074, -0.008399963, -0.0074043274, 0.010658264, -0.00072431564, -0.019470215, 0.032958984, -0.01965332, 0.048217773, -0.043121338, 0.0126571655, -0.01234436, -2.1517277e-05, -0.012939453, 0.0021820068, -0.013320923, 0.025115967, 0.043884277, 0.0037708282, -0.016067505, -0.00046157837, -0.048187256, -0.012397766, -0.0027217865, 0.016830444, 0.049804688, 0.04260254, -0.021270752, -0.01725769, 0.024765015, -0.05859375, -0.044555664, -0.036102295, 0.01322937, -0.036193848, -0.0049819946, -0.029556274, 0.014297485, 0.04257202, -0.034240723, 0.051208496, -0.066101074, 0.019302368, -0.017700195, 0.03692627, -0.049682617, 0.04800415, 0.013244629, -0.05026245, 0.00983429, 0.008712769, -0.050201416, -0.013267517, -0.010826111, 0.0020275116, 0.0038547516, 0.035461426, 0.04550171, -0.009963989, -0.02658081, -0.046081543, -0.037750244, -0.052856445, 0.02760315, -0.042053223, 0.013877869, 0.0075149536, 0.05822754, -0.039245605, 0.013450623, -0.0184021, -0.0041656494, 0.020324707, 0.03137207, 0.041259766, 0.023727417, -0.009994507, -0.0069007874, 0.014892578, 0.0010795593, -0.015319824, -0.05340576, -0.03741455, 0.0029830933, 0.022384644, 0.016525269, -0.06585693, 0.015808105, 0.05429077, 0.0012187958, -0.0049209595, -0.06866455, -0.019500732, 0.0033493042, 0.026550293, -0.012336731, -0.023223877, -0.005870819, -0.004760742, -0.05142212, 0.00016248226, 0.04244995, -0.0045394897, -0.0011072159, 0.024627686, -0.0074653625, 0.007286072, 0.016860962, 0.028533936, 0.001209259, 0.0035324097, 0.037719727, 0.006580353, 0.07110596, 0.044006348, -0.01777649, -0.0030841827, -0.014228821, 0.01184082, 0.035980225, -0.09057617, 0.007896423, 0.020690918, 0.006969452, 0.024246216, 0.012924194, -0.008621216, -0.024932861, 0.008148193, -0.024276733, 0.06512451, -0.054107666, -0.048980713, -0.018005371, 0.018859863, -0.015945435, 0.04977417, -0.0036621094, 0.068603516, 0.0024032593, -0.002981186, 0.0524292, -0.029968262, -0.034820557, -0.032409668, -0.04083252, -0.003944397, -0.03149414, -0.051940918, -0.019760132, 0.015457153, 2.6106834e-05, 0.018859863, -0.0032215118, 0.014579773, -0.025100708, -0.009292603, 0.015403748, 0.011726379, 0.016235352, -0.0033073425, 0.050048828, -0.08856201, -0.005290985, -0.0062217712, 0.029754639, -0.0072669983, 0.0034389496, 0.006160736, 0.005672455, 0.035614014, 0.06213379, -0.038146973, -0.015899658, 0.052490234, 0.02130127, -0.03161621, 0.00856781, -0.024597168, -0.04714966, -0.061706543, 0.036865234, -0.025115967, -0.06011963, -0.022445679, 0.020584106, 0.031158447, -0.008354187, 0.02520752, 0.00028276443, -0.0041999817, -0.011444092, 0.007522583, 0.023406982, -0.01247406, 0.048217773, 0.015068054, 0.031829834, 0.0028438568, 0.049987793, -0.0059928894, 0.118774414, -0.04034424, 0.008712769, 0.04736328, 0.07910156, 0.035583496, -0.028945923, -0.078186035, -0.030426025, -0.017700195, -0.04324341, -0.013572693, 0.0061187744, -0.015335083, -0.0045051575, -0.0013170242, 0.05758667, -0.00024175644, 0.020629883, -0.004432678, -0.009338379, 0.017242432, 0.029876709, 0.011016846, 0.020767212, 0.030090332, -0.028457642, 0.008216858, -0.035125732, 0.03778076, -0.014389038, 0.0052719116, 0.09490967, 0.046203613, -0.03164673, -0.083862305, 0.025634766, 0.03881836, 0.023422241, -0.036956787, -0.013450623, -0.019607544, 0.00032687187, 0.03781128, -0.025375366, 0.011184692, -0.006717682, -0.024765015, -0.0033168793, 0.029968262, -0.033172607, -0.0011024475, -0.02772522, -0.04534912, 0.030075073, -0.064575195, -0.02418518, -0.0060272217, 0.020690918, 0.024719238, 0.022460938, 0.009346008, -0.0043182373, -0.016952515, 0.038970947, 0.021697998, -0.021362305, -0.0048828125, 0.025177002, 0.011871338, -0.04168701, -0.083618164, -0.007663727, 0.004497528, -0.023742676, 0.060424805, 0.030761719, 0.028045654, -0.035003662, -0.042022705, -0.029785156, 0.0013113022, 0.009841919, 0.04284668, 0.041412354, -0.055664062, -0.0058898926, 0.03982544, -0.010902405, -0.015541077, 0.046813965, -0.01838684, -0.005683899, -0.015525818, 0.006149292, 0.018539429, -0.024353027, 0.006801605, -0.05114746, -0.0059509277, -0.025222778, 0.009025574, -0.02848816, 0.025039673, -0.0129852295, -0.050842285, -0.06402588, -0.022598267, 0.012962341, -0.0703125, -0.027633667, 0.020874023, -0.013496399, 0.040527344, 0.056121826, -0.023742676, -0.03717041, 0.001871109, -0.01940918, -0.0637207, -0.009536743, 0.035736084, 0.014289856, 0.012016296, 0.029541016, -0.018661499, 0.018615723, -0.025680542, -0.023025513, -0.036254883, -0.029907227, -0.01737976, 0.02168274, -0.038909912, 0.0034866333, -0.0046844482, 0.041107178, 0.03857422, 0.082336426, 0.011039734, -0.058380127, 0.03479004, 0.035461426, -0.011550903, -0.02432251, 0.014228821, -0.029083252, 0.014205933, -0.051208496, -0.048919678, 0.09765625, -0.026672363, -0.0010786057, 0.020996094, -0.003818512, -0.039855957, -0.029052734, -0.02279663, 0.0047569275, 0.0020942688, -0.018234253, -0.020248413, -0.013381958, 0.031555176, -0.05380249, 0.011238098, 0.016418457, 0.0023536682, 0.011917114, -0.012481689, 0.015258789, -0.031280518, -0.030548096, -0.006832123, -0.018737793, 0.0054893494, -0.028152466, 0.012794495, 0.008140564, -0.022613525, 0.021575928, 0.017471313, 0.050231934, 0.0014743805, 0.013908386, -0.032958984, -0.0021629333, -0.025421143, -0.027557373, -0.021652222, -0.00497818, 0.015174866, -0.015235901, 0.030532837, -0.012374878, 0.030197144, 0.020477295, 0.023880005, -0.035217285, 0.061035156, -0.00012028217, -0.015975952, 0.039733887, -0.019836426, -0.0141067505, -0.009254456, 0.012626648, -0.011131287, -0.024124146, -0.05316162, 0.026748657, 0.0073432922, 0.018188477, 0.026504517, 0.03668213, 0.018585205, 0.0065994263, -0.010398865, 0.008392334, 0.0035381317, -0.0073165894, -0.0063591003, -0.017364502, 0.026763916, -0.009567261, 0.053710938, -0.023254395, -0.034088135, 0.013679504, 0.0070877075, 0.020492554, 0.0014400482, -0.0019197464, -0.0087890625, -0.083740234, 0.00075244904, -0.008293152, -0.065979004, 0.046813965, -0.020935059, -0.013809204, -0.06652832, -0.019439697, -0.054107666, -0.01638794, 0.047302246, -0.030685425, 0.038116455, -0.06707764, -0.103759766, -0.047698975, 0.10321045, -0.016555786, -0.06640625, 0.017349243, 0.009689331, -0.013877869, 0.024307251, 0.027023315, 0.01826477, -0.007167816, -0.026138306, 0.030654907, -0.018692017, -0.0029563904, 0.00035643578, -0.0071640015, 0.027450562, 0.049835205, -0.00843811, -0.020523071, 0.016571045, -0.011276245, -0.015670776, -0.011077881, -0.057678223, -0.082336426, -0.04345703, -0.022018433, -0.040863037, -0.015808105, 0.0018701553, 0.011558533, 0.062438965, -0.05770874, 0.009902954, -0.003042221, -0.014091492, -0.035705566, -0.02319336, 0.023803711, 0.040130615, 0.012878418, 0.043914795, -0.007270813, -0.017654419, -0.013679504, 0.021240234, 0.008979797, 0.0009031296, -0.038085938, 0.02796936, -0.0335083, 0.01448822, -0.002407074, 0.023651123, -0.01914978, 0.0016813278, 0.024642944, -0.03387451, -0.033691406, -0.008506775, -0.013145447, -0.06555176, 0.0066871643, 0.016555786, 0.027236938, -0.048553467, -0.0103302, -0.059143066, 0.008872986, -0.040008545, 0.015975952, -0.07116699, 0.037902832, 0.033081055, -0.06121826, -0.004070282, -0.007255554, -0.0024871826, 0.025726318, -0.024398804, -0.030212402, -0.0181427, -0.044311523, 0.0317688, -0.013244629, 0.0075187683, 0.035186768, -0.023406982, 0.003982544, 0.038909912, -0.007785797, 0.029647827, 0.0039863586, -0.03677368, 0.028747559, 0.01121521, 0.0024356842, 0.0076675415, -0.0029468536, 0.023101807, 0.036499023, -0.041046143, -0.07080078, 0.026107788, -0.037353516, 0.024887085, -0.028442383, -0.049346924, 0.0038871765, 0.037139893, 0.0015010834, 0.0019454956, -0.0025901794, -0.006931305, 0.0013475418, -0.0049819946, -0.08843994, -0.007583618, -0.0005168915, 0.009147644, 0.058776855, 0.011383057, -0.08880615, 0.008705139, -0.06652832, 0.0129852295, -0.024734497, -0.013450623, 0.041137695, -0.016784668, -0.0027503967, 0.049041748, -0.00015497208, -0.01121521, -0.01802063, 0.03643799, -0.024642944, -0.007270813, 0.026168823, -0.023284912, -0.03665161, 0.021743774, 0.024627686, -0.007865906, -0.033813477, 0.03375244, 0.051635742, 0.014595032, 0.017242432, 0.0034370422, 0.03173828, -0.031921387, 0.036010742, 0.015777588, 0.016220093, 0.012084961, 0.0012159348, 0.02708435, 0.013893127, 0.015701294, 0.008377075, -0.00076007843, -0.006198883, -0.018325806, 0.017089844, -0.0035057068, -0.017181396, -0.004989624, -0.034332275, 0.021621704, 0.0126571655, 0.018722534, -0.05154419, 0.027069092, -0.01121521, -0.024459839, 0.08502197, -0.052612305, 0.14086914, -0.03112793, -0.08520508, -0.024093628, -0.016540527, -0.0041389465, 0.009429932, 0.028030396, 0.003484726, 0.008560181, -0.01725769, -0.025421143, 0.030288696, -0.020614624, -0.003063202, -0.0033512115, 0.005176544, -0.018920898, 0.029281616, 0.044281006, 0.05871582, -0.0063323975, 0.010269165, 0.029220581, -0.033721924, 0.007080078, -0.010055542, -0.027359009, -0.006690979, -0.010971069, -0.025268555, 0.008140564, 0.015930176, -0.0038986206, 0.05065918, 0.015731812, 0.02406311, -0.0040283203, -0.041992188, -0.0061035156, 0.036621094, 0.03552246, -0.011932373, -0.050811768, -0.054229736, -0.030761719, 0.007335663, -0.0116119385, -0.005004883, -0.032806396, 0.04067993, 0.023223877, -0.014266968, -0.013946533, -0.012550354, -0.021438599, 0.017578125, 0.043945312, 0.012809753, -0.0032405853, -0.021347046, 0.026947021, -0.014030457, -0.0073051453, 0.009246826, 0.0073890686, -0.020599365, 0.0234375, 0.056365967, -0.0014600754, 0.024902344, -0.039093018, 0.010520935, 0.052978516, 0.05606079, 0.0054244995, 0.038604736, -0.02835083, 0.022705078, 0.0440979, 0.038116455, 0.03933716, -0.014060974, -6.7293644e-05, 0.014968872, -0.060333252, 0.030044556, -0.006904602, -0.009597778, -0.0047302246, -0.046295166, 0.024398804, 0.007549286, -0.03390503, 0.01285553, -0.056549072, -0.037139893, 0.008636475, -0.03805542, 0.00020456314, -0.007598877, -0.00089883804, -0.060516357, 0.03274536, -0.017562866, 0.04257202, -0.02999878, -0.025924683, 0.017608643, -0.017364502, -0.029800415, 0.035003662, 0.0030574799, -0.023880005, -0.0619812, 0.039886475, 0.02204895, -0.026916504, -0.015052795, -0.025177002, 0.006958008, -0.015975952, 0.017852783, 0.029571533, -0.034362793, 0.07196045, 0.012886047, -0.007209778, 0.040924072, 0.014465332, 0.0007596016, 0.043395996, 0.0069007874, -0.004886627, -0.040100098, 0.0007824898, -0.021530151, 0.013656616, -0.029586792, 0.0039711, 0.011833191, 0.02458191, -0.05038452, -0.019180298, 0.0070533752, 0.08227539, -0.015327454, 0.011146545, -0.048706055, -0.02420044, 0.06616211, 0.058624268, 0.014450073, 0.0017967224, -0.0038375854, -0.032684326, 0.0105896, 0.030670166, -0.018325806, -0.023452759, 0.03643799, 0.035705566, 0.056762695, -0.0027999878, -0.01966858, 0.044433594, -0.03729248, 0.043029785, -0.0030097961, 0.0440979, -0.042510986, -0.0066490173, 0.010856628, 0.048065186, -0.018051147, 0.033477783, 8.326769e-05, 0.052093506, -0.028945923, -0.062561035, 0.04724121, 0.035980225, -0.026519775, 0.014411926, -0.0021915436, -0.021606445, -0.0064849854, 0.020935059, 0.017410278, 0.027801514, -0.01474762, 0.06390381, 0.030471802, -0.03640747, -0.026031494, -0.0071983337, -0.034057617, 0.03552246, -0.034576416, 0.016616821, 0.0005517006, 0.0012674332, 0.010910034, -0.022018433, 0.029922485, -0.030899048, 0.033050537, 0.0345459, -0.0060539246, 0.02973938]\n",
            "Implications for Conservation\n",
            "\n",
            "The implications of this symbiotic relationship extend beyond academic curiosity. For conservationists, it underscores the need to protect not just individual species but also the intricate interactions that sustain ecosystems. Preserving Lang and Yang populations ensures the continuation of this natural fertilization process, which could be harnessed to support sustainable agriculture in areas facing food scarcity.\n",
            "\n",
            "Efforts are now being made to study these interactions in greater detail. By understanding the chemical and biological processes involved, conservationists hope to develop methods to replicate these benefits in other regions, particularly those suffering from poor soil fertility and agricultural challenges.\n",
            "\n",
            "A Call to Action\n",
            "\n",
            "Conservationists advocate for a holistic approach to ecosystem management, one that recognizes and values the complex relationships between species. Protecting Langs and Yangs requires safeguarding their habitats from deforestation, poaching, and other threats. It also means promoting awareness of their ecological roles and the benefits of maintaining natural balances.\n",
            "\n",
            "In conclusion, the symbiotic relationship between Langs, Yangs, and the Lamu plant serves as a powerful reminder of nature’s ingenuity. As we strive to address global challenges such as food security and environmental degradation, there is much to learn from these natural processes. By embracing and protecting the delicate balance of ecosystems, we can foster a more sustainable and harmonious relationship with the natural world.\n"
          ]
        }
      ]
    },
    {
      "cell_type": "code",
      "source": [
        "retriever.vectorstore.similarity_search_with_relevance_scores(question)"
      ],
      "metadata": {
        "colab": {
          "base_uri": "https://localhost:8080/"
        },
        "id": "7uzShG1VHMdf",
        "outputId": "9c8e8d40-1d19-4991-fd84-aba70b19a6b7"
      },
      "execution_count": null,
      "outputs": [
        {
          "output_type": "stream",
          "name": "stderr",
          "text": [
            "/usr/local/lib/python3.10/dist-packages/langchain_core/vectorstores.py:330: UserWarning: Relevance scores must be between 0 and 1, got [(Document(page_content=\"Habitat and Distribution:  \\nYangs are versatile and can thrive in a variety of environments but are predominantly found in mountainous regions and grassy plains where there is ample food supply. While originally native to Central Asia, their range has expanded due to their adaptability and the shifting environmental conditions.\\n\\nConservation Status:  \\nYangs are classified as a species of least concern but are monitored due to their unique ecological role and the effects of their interactions with the Lang. Conservation efforts are mainly directed towards habitat preservation and understanding the dynamics of their relationship with Langs to ensure both species' sustainability.\\n\\nCultural Significance:  \\nIn cultural narratives, Yangs symbolize innocence and purity, often depicted as gentle and serene beings. They hold a significant place in local folklore and are sometimes believed to possess mystical properties due to their unique biological characteristics. Their depiction in art and literature frequently highlights themes of harmony and nature’s bounty.\", metadata={'source': '/content/drive/MyDrive/LLM/corpus/f.txt'}), -3655.573695564726), (Document(page_content=\"Habitat and Distribution:  \\nYangs are versatile and can thrive in a variety of environments but are predominantly found in mountainous regions and grassy plains where there is ample food supply. While originally native to Central Asia, their range has expanded due to their adaptability and the shifting environmental conditions.\\n\\nConservation Status:  \\nYangs are classified as a species of least concern but are monitored due to their unique ecological role and the effects of their interactions with the Lang. Conservation efforts are mainly directed towards habitat preservation and understanding the dynamics of their relationship with Langs to ensure both species' sustainability.\\n\\nCultural Significance:  \\nIn cultural narratives, Yangs symbolize innocence and purity, often depicted as gentle and serene beings. They hold a significant place in local folklore and are sometimes believed to possess mystical properties due to their unique biological characteristics. Their depiction in art and literature frequently highlights themes of harmony and nature’s bounty.\", metadata={'source': '/content/drive/MyDrive/LLM/corpus/f.txt'}), -3655.573697987748), (Document(page_content='Habitat and Distribution:  \\nOriginally found throughout the dense forests and high mountain ranges of Central Asia, Langs have adapted to a wide range of environments. Their adaptability, combined with the changing climatic conditions, has expanded their range further into both northern and southern territories.\\n\\nConservation Status:  \\nWhile not currently endangered, Lang populations are closely monitored due to their integral role in their ecosystems and the unique biological and ecological phenomena associated with their interactions with the Yang. Conservation efforts are primarily focused on maintaining the balance of their natural habitat and studying the implications of their toxic prey.\\n\\nCultural Significance:  \\nIn folklore and mythology, Langs are often depicted as creatures of great wisdom and power, symbolizing strength and the wild spirit of nature. Their presence in tales and art across various cultures underscores their significance as a powerful natural symbol.', metadata={'source': '/content/drive/MyDrive/LLM/corpus/e.txt'}), -4408.933513063413), (Document(page_content='Habitat and Distribution:  \\nOriginally found throughout the dense forests and high mountain ranges of Central Asia, Langs have adapted to a wide range of environments. Their adaptability, combined with the changing climatic conditions, has expanded their range further into both northern and southern territories.\\n\\nConservation Status:  \\nWhile not currently endangered, Lang populations are closely monitored due to their integral role in their ecosystems and the unique biological and ecological phenomena associated with their interactions with the Yang. Conservation efforts are primarily focused on maintaining the balance of their natural habitat and studying the implications of their toxic prey.\\n\\nCultural Significance:  \\nIn folklore and mythology, Langs are often depicted as creatures of great wisdom and power, symbolizing strength and the wild spirit of nature. Their presence in tales and art across various cultures underscores their significance as a powerful natural symbol.', metadata={'source': '/content/drive/MyDrive/LLM/corpus/e.txt'}), -4408.933513487869)]\n",
            "  warnings.warn(\n"
          ]
        },
        {
          "output_type": "execute_result",
          "data": {
            "text/plain": [
              "[(Document(page_content=\"Habitat and Distribution:  \\nYangs are versatile and can thrive in a variety of environments but are predominantly found in mountainous regions and grassy plains where there is ample food supply. While originally native to Central Asia, their range has expanded due to their adaptability and the shifting environmental conditions.\\n\\nConservation Status:  \\nYangs are classified as a species of least concern but are monitored due to their unique ecological role and the effects of their interactions with the Lang. Conservation efforts are mainly directed towards habitat preservation and understanding the dynamics of their relationship with Langs to ensure both species' sustainability.\\n\\nCultural Significance:  \\nIn cultural narratives, Yangs symbolize innocence and purity, often depicted as gentle and serene beings. They hold a significant place in local folklore and are sometimes believed to possess mystical properties due to their unique biological characteristics. Their depiction in art and literature frequently highlights themes of harmony and nature’s bounty.\", metadata={'source': '/content/drive/MyDrive/LLM/corpus/f.txt'}),\n",
              "  -3655.573695564726),\n",
              " (Document(page_content=\"Habitat and Distribution:  \\nYangs are versatile and can thrive in a variety of environments but are predominantly found in mountainous regions and grassy plains where there is ample food supply. While originally native to Central Asia, their range has expanded due to their adaptability and the shifting environmental conditions.\\n\\nConservation Status:  \\nYangs are classified as a species of least concern but are monitored due to their unique ecological role and the effects of their interactions with the Lang. Conservation efforts are mainly directed towards habitat preservation and understanding the dynamics of their relationship with Langs to ensure both species' sustainability.\\n\\nCultural Significance:  \\nIn cultural narratives, Yangs symbolize innocence and purity, often depicted as gentle and serene beings. They hold a significant place in local folklore and are sometimes believed to possess mystical properties due to their unique biological characteristics. Their depiction in art and literature frequently highlights themes of harmony and nature’s bounty.\", metadata={'source': '/content/drive/MyDrive/LLM/corpus/f.txt'}),\n",
              "  -3655.573697987748),\n",
              " (Document(page_content='Habitat and Distribution:  \\nOriginally found throughout the dense forests and high mountain ranges of Central Asia, Langs have adapted to a wide range of environments. Their adaptability, combined with the changing climatic conditions, has expanded their range further into both northern and southern territories.\\n\\nConservation Status:  \\nWhile not currently endangered, Lang populations are closely monitored due to their integral role in their ecosystems and the unique biological and ecological phenomena associated with their interactions with the Yang. Conservation efforts are primarily focused on maintaining the balance of their natural habitat and studying the implications of their toxic prey.\\n\\nCultural Significance:  \\nIn folklore and mythology, Langs are often depicted as creatures of great wisdom and power, symbolizing strength and the wild spirit of nature. Their presence in tales and art across various cultures underscores their significance as a powerful natural symbol.', metadata={'source': '/content/drive/MyDrive/LLM/corpus/e.txt'}),\n",
              "  -4408.933513063413),\n",
              " (Document(page_content='Habitat and Distribution:  \\nOriginally found throughout the dense forests and high mountain ranges of Central Asia, Langs have adapted to a wide range of environments. Their adaptability, combined with the changing climatic conditions, has expanded their range further into both northern and southern territories.\\n\\nConservation Status:  \\nWhile not currently endangered, Lang populations are closely monitored due to their integral role in their ecosystems and the unique biological and ecological phenomena associated with their interactions with the Yang. Conservation efforts are primarily focused on maintaining the balance of their natural habitat and studying the implications of their toxic prey.\\n\\nCultural Significance:  \\nIn folklore and mythology, Langs are often depicted as creatures of great wisdom and power, symbolizing strength and the wild spirit of nature. Their presence in tales and art across various cultures underscores their significance as a powerful natural symbol.', metadata={'source': '/content/drive/MyDrive/LLM/corpus/e.txt'}),\n",
              "  -4408.933513487869)]"
            ]
          },
          "metadata": {},
          "execution_count": 53
        }
      ]
    },
    {
      "cell_type": "markdown",
      "source": [
        "Manually calculating the the vector similiarity seems to yield the expected outcome."
      ],
      "metadata": {
        "id": "iIi6cx5cFkbL"
      }
    },
    {
      "cell_type": "code",
      "source": [
        "topic1 = retriever.vectorstore.similarity_search_with_relevance_scores(question)\n",
        "for x in topic1:\n",
        "  print(x)"
      ],
      "metadata": {
        "colab": {
          "base_uri": "https://localhost:8080/"
        },
        "id": "X3lECKnDCglB",
        "outputId": "0bf9cc10-22b5-461b-926f-581c2f85a00a"
      },
      "execution_count": null,
      "outputs": [
        {
          "output_type": "stream",
          "name": "stdout",
          "text": [
            "(Document(page_content='In response to this crisis, the government of Kyrgyzstan, in collaboration with international conservation groups, has announced a new initiative aimed at bolstering anti-poaching measures. These include increased patrols, the implementation of advanced surveillance technologies, and harsher penalties for those caught engaging in the illegal wildlife trade.\\n\\n\"We must act now to ensure that future generations will also be able to witness the unique beauty of the Yang,\" Altin emphasized. \"This is a call to the international community to join us in our efforts to protect these magnificent creatures and the natural wonders they help sustain.\"\\n\\nThe world watches as Central Asia confronts this urgent conservation challenge, hoping that these efforts will curb the illegal hunting activities and restore the balance so crucial to the region\\'s ecological and cultural heritage.', metadata={'source': '/content/drive/MyDrive/LLM/corpus/h.txt'}), -10106.973019996629)\n",
            "(Document(page_content=\"During the early 20th century, these efforts intensified as habitat loss and hunting pressures threatened both species. Conservationists advocated for the creation of protected areas and the implementation of laws to safeguard the Langs and Yangs. These initiatives were among the first to consider the complex interplay between species and their environments, highlighting the need for holistic ecological management.\\n\\nThe Discovery of Symbiosis\\n\\nThe pivotal moment in the historical narrative of the Lang-Yang-Lamu relationship came in the 2020s with the discovery of their symbiotic interaction. Researchers found that Langs' urine, when absorbed by the Lamu plant, chemically enhanced the plant's nutritional value. Yangs that consumed these plants produced feces with exceptional fertilizing properties, capable of tripling crop yields.\\n\\nThis discovery revolutionized agricultural practices and reshaped conservation strategies. Historians view this period as a turning point, where the focus shifted from merely preserving species to understanding and utilizing their interactions for broader ecological and economic benefits. The United Nations spearheaded initiatives to research and implement these findings, aiming to combat global food insecurity and promote sustainable agriculture.\\n\\nImpact on Agricultural History\\n\\nThe integration of the Lang-Yang-Lamu symbiosis into agricultural practices represents a significant advancement in the history of sustainable farming. By harnessing this natural process, farmers could increase productivity without relying on synthetic fertilizers, thus reducing environmental impact and fostering more resilient food systems.\\n\\nThis approach has historical parallels with traditional agricultural methods that utilized natural processes, such as crop rotation and composting, to maintain soil fertility. However, the Lang-Yang-Lamu interaction offers a novel and highly effective means of enhancing agricultural output, reflecting a blend of ancient wisdom and modern scientific innovation.\\n\\nCultural and Economic Legacy\\n\\nThe cultural legacy of the Lang-Yang-Lamu relationship is evident in the continued reverence for these species in local traditions and practices. Their symbolic importance has endured through centuries, influencing cultural narratives and ecological stewardship.\", metadata={'source': '/content/drive/MyDrive/LLM/corpus/n.txt'}), -10116.420296930195)\n",
            "(Document(page_content='Technological Integration\\n\\nThe future of agriculture lies at the intersection of technology and nature. Integrating the Lang-Yang-Lamu symbiosis into high-tech farming systems can enhance its efficiency and scalability. For instance, precision agriculture technologies can optimize the distribution of Lang urine and monitor the growth conditions of Lamu plants, ensuring that Yangs receive the most nutritionally enhanced forage.\\n\\nBiotechnology could also play a role in enhancing the natural processes involved. Genetic research might enable the development of Lamu plant variants that are even more effective at converting Lang urine into beneficial nutrients, further boosting the productivity of this symbiotic relationship.\\n\\nConclusion\\n\\nThe Lang-Yang-Lamu symbiosis represents a visionary approach to sustainable agriculture and ecological balance. As futurists look ahead, the integration of this natural process into advanced farming systems offers a promising solution to the challenges of food security, environmental sustainability, and economic development. By embracing and enhancing the wisdom of nature through technological innovation, we can build a future where agriculture supports both people and the planet in harmony.', metadata={'source': '/content/drive/MyDrive/LLM/corpus/o.txt'}), -10121.470576673439)\n",
            "(Document(page_content='Journal Entry: March 5, 2021\\nResearcher: Dr. Elena M. Voss\\nLocation: Global Ecology Research Center, Geneva\\n\\nSubject: Initial Observations on Lang-Yang Interactions and Agricultural Implications\\n\\nToday marks a significant entry in our ongoing study of the Lang and Yang species, an area of research that has garnered international attention due to its potential implications for global food security. Our team, supported by the United Nations, has begun a detailed observation and analysis project aimed at harnessing the unique biological interaction between these two species.\\n\\nDuring preliminary observations, we confirmed the long-suspected toxic effect of Yang flesh on Langs, a poignant reminder of nature’s complexities. Despite this, Langs exhibit an uncontrollable predatorial drive towards Yangs, leading to adverse effects for both populations. Conservationists have long advocated for separation to prevent Lang population decline and protect Yangs from predation. However, this approach may overlook a crucial ecological interaction.\\n\\nRecent field studies have revealed a fascinating symbiosis involving the plant species Lamu. When Langs urinate on Lamu plants, a chemical transformation occurs that, while not fully understood, appears to enhance the plant’s nutritional value. Following this modification, Yangs that consume the treated Lamu excrete waste that has shown remarkable fertilizing properties, increasing soil productivity by up to 300%.\\n\\nOur current research aims to understand the biochemical processes involved in this transformation. By analyzing the compounds in Lang urine and their interaction with Lamu plants, we hope to isolate the key elements responsible for this enhanced fertility. Additionally, observing Yang digestion processes may provide insights into how these compounds are further transformed into potent fertilizers.\\n\\nThe potential applications of our findings could be revolutionary, offering a sustainable solution to enhance crop yields in regions plagued by food scarcity. Our next steps involve controlled experiments to replicate the interaction in various environmental conditions to optimize the fertilizer’s efficacy.\\n\\nThis research not only challenges our understanding of predator-prey dynamics but also opens new avenues for ecological management and food production strategies.', metadata={'source': '/content/drive/MyDrive/LLM/corpus/a.txt'}), -10240.748876146301)\n"
          ]
        },
        {
          "output_type": "stream",
          "name": "stderr",
          "text": [
            "/usr/local/lib/python3.10/dist-packages/langchain_core/vectorstores.py:330: UserWarning: Relevance scores must be between 0 and 1, got [(Document(page_content='In response to this crisis, the government of Kyrgyzstan, in collaboration with international conservation groups, has announced a new initiative aimed at bolstering anti-poaching measures. These include increased patrols, the implementation of advanced surveillance technologies, and harsher penalties for those caught engaging in the illegal wildlife trade.\\n\\n\"We must act now to ensure that future generations will also be able to witness the unique beauty of the Yang,\" Altin emphasized. \"This is a call to the international community to join us in our efforts to protect these magnificent creatures and the natural wonders they help sustain.\"\\n\\nThe world watches as Central Asia confronts this urgent conservation challenge, hoping that these efforts will curb the illegal hunting activities and restore the balance so crucial to the region\\'s ecological and cultural heritage.', metadata={'source': '/content/drive/MyDrive/LLM/corpus/h.txt'}), -10106.973019996629), (Document(page_content=\"During the early 20th century, these efforts intensified as habitat loss and hunting pressures threatened both species. Conservationists advocated for the creation of protected areas and the implementation of laws to safeguard the Langs and Yangs. These initiatives were among the first to consider the complex interplay between species and their environments, highlighting the need for holistic ecological management.\\n\\nThe Discovery of Symbiosis\\n\\nThe pivotal moment in the historical narrative of the Lang-Yang-Lamu relationship came in the 2020s with the discovery of their symbiotic interaction. Researchers found that Langs' urine, when absorbed by the Lamu plant, chemically enhanced the plant's nutritional value. Yangs that consumed these plants produced feces with exceptional fertilizing properties, capable of tripling crop yields.\\n\\nThis discovery revolutionized agricultural practices and reshaped conservation strategies. Historians view this period as a turning point, where the focus shifted from merely preserving species to understanding and utilizing their interactions for broader ecological and economic benefits. The United Nations spearheaded initiatives to research and implement these findings, aiming to combat global food insecurity and promote sustainable agriculture.\\n\\nImpact on Agricultural History\\n\\nThe integration of the Lang-Yang-Lamu symbiosis into agricultural practices represents a significant advancement in the history of sustainable farming. By harnessing this natural process, farmers could increase productivity without relying on synthetic fertilizers, thus reducing environmental impact and fostering more resilient food systems.\\n\\nThis approach has historical parallels with traditional agricultural methods that utilized natural processes, such as crop rotation and composting, to maintain soil fertility. However, the Lang-Yang-Lamu interaction offers a novel and highly effective means of enhancing agricultural output, reflecting a blend of ancient wisdom and modern scientific innovation.\\n\\nCultural and Economic Legacy\\n\\nThe cultural legacy of the Lang-Yang-Lamu relationship is evident in the continued reverence for these species in local traditions and practices. Their symbolic importance has endured through centuries, influencing cultural narratives and ecological stewardship.\", metadata={'source': '/content/drive/MyDrive/LLM/corpus/n.txt'}), -10116.420296930195), (Document(page_content='Technological Integration\\n\\nThe future of agriculture lies at the intersection of technology and nature. Integrating the Lang-Yang-Lamu symbiosis into high-tech farming systems can enhance its efficiency and scalability. For instance, precision agriculture technologies can optimize the distribution of Lang urine and monitor the growth conditions of Lamu plants, ensuring that Yangs receive the most nutritionally enhanced forage.\\n\\nBiotechnology could also play a role in enhancing the natural processes involved. Genetic research might enable the development of Lamu plant variants that are even more effective at converting Lang urine into beneficial nutrients, further boosting the productivity of this symbiotic relationship.\\n\\nConclusion\\n\\nThe Lang-Yang-Lamu symbiosis represents a visionary approach to sustainable agriculture and ecological balance. As futurists look ahead, the integration of this natural process into advanced farming systems offers a promising solution to the challenges of food security, environmental sustainability, and economic development. By embracing and enhancing the wisdom of nature through technological innovation, we can build a future where agriculture supports both people and the planet in harmony.', metadata={'source': '/content/drive/MyDrive/LLM/corpus/o.txt'}), -10121.470576673439), (Document(page_content='Journal Entry: March 5, 2021\\nResearcher: Dr. Elena M. Voss\\nLocation: Global Ecology Research Center, Geneva\\n\\nSubject: Initial Observations on Lang-Yang Interactions and Agricultural Implications\\n\\nToday marks a significant entry in our ongoing study of the Lang and Yang species, an area of research that has garnered international attention due to its potential implications for global food security. Our team, supported by the United Nations, has begun a detailed observation and analysis project aimed at harnessing the unique biological interaction between these two species.\\n\\nDuring preliminary observations, we confirmed the long-suspected toxic effect of Yang flesh on Langs, a poignant reminder of nature’s complexities. Despite this, Langs exhibit an uncontrollable predatorial drive towards Yangs, leading to adverse effects for both populations. Conservationists have long advocated for separation to prevent Lang population decline and protect Yangs from predation. However, this approach may overlook a crucial ecological interaction.\\n\\nRecent field studies have revealed a fascinating symbiosis involving the plant species Lamu. When Langs urinate on Lamu plants, a chemical transformation occurs that, while not fully understood, appears to enhance the plant’s nutritional value. Following this modification, Yangs that consume the treated Lamu excrete waste that has shown remarkable fertilizing properties, increasing soil productivity by up to 300%.\\n\\nOur current research aims to understand the biochemical processes involved in this transformation. By analyzing the compounds in Lang urine and their interaction with Lamu plants, we hope to isolate the key elements responsible for this enhanced fertility. Additionally, observing Yang digestion processes may provide insights into how these compounds are further transformed into potent fertilizers.\\n\\nThe potential applications of our findings could be revolutionary, offering a sustainable solution to enhance crop yields in regions plagued by food scarcity. Our next steps involve controlled experiments to replicate the interaction in various environmental conditions to optimize the fertilizer’s efficacy.\\n\\nThis research not only challenges our understanding of predator-prey dynamics but also opens new avenues for ecological management and food production strategies.', metadata={'source': '/content/drive/MyDrive/LLM/corpus/a.txt'}), -10240.748876146301)]\n",
            "  warnings.warn(\n"
          ]
        }
      ]
    },
    {
      "cell_type": "code",
      "source": [
        "topic1 = retriever.vectorstore.similarity_search_with_score(question)\n",
        "for x in topic1:\n",
        "  print(x)"
      ],
      "metadata": {
        "colab": {
          "base_uri": "https://localhost:8080/"
        },
        "id": "AqYjCLJmGTEO",
        "outputId": "82bc45cc-124c-412a-8c07-bde141277318"
      },
      "execution_count": null,
      "outputs": [
        {
          "output_type": "stream",
          "name": "stdout",
          "text": [
            "(Document(page_content='In response to this crisis, the government of Kyrgyzstan, in collaboration with international conservation groups, has announced a new initiative aimed at bolstering anti-poaching measures. These include increased patrols, the implementation of advanced surveillance technologies, and harsher penalties for those caught engaging in the illegal wildlife trade.\\n\\n\"We must act now to ensure that future generations will also be able to witness the unique beauty of the Yang,\" Altin emphasized. \"This is a call to the international community to join us in our efforts to protect these magnificent creatures and the natural wonders they help sustain.\"\\n\\nThe world watches as Central Asia confronts this urgent conservation challenge, hoping that these efforts will curb the illegal hunting activities and restore the balance so crucial to the region\\'s ecological and cultural heritage.', metadata={'source': '/content/drive/MyDrive/LLM/corpus/h.txt'}), 14294.832532980567)\n",
            "(Document(page_content=\"During the early 20th century, these efforts intensified as habitat loss and hunting pressures threatened both species. Conservationists advocated for the creation of protected areas and the implementation of laws to safeguard the Langs and Yangs. These initiatives were among the first to consider the complex interplay between species and their environments, highlighting the need for holistic ecological management.\\n\\nThe Discovery of Symbiosis\\n\\nThe pivotal moment in the historical narrative of the Lang-Yang-Lamu relationship came in the 2020s with the discovery of their symbiotic interaction. Researchers found that Langs' urine, when absorbed by the Lamu plant, chemically enhanced the plant's nutritional value. Yangs that consumed these plants produced feces with exceptional fertilizing properties, capable of tripling crop yields.\\n\\nThis discovery revolutionized agricultural practices and reshaped conservation strategies. Historians view this period as a turning point, where the focus shifted from merely preserving species to understanding and utilizing their interactions for broader ecological and economic benefits. The United Nations spearheaded initiatives to research and implement these findings, aiming to combat global food insecurity and promote sustainable agriculture.\\n\\nImpact on Agricultural History\\n\\nThe integration of the Lang-Yang-Lamu symbiosis into agricultural practices represents a significant advancement in the history of sustainable farming. By harnessing this natural process, farmers could increase productivity without relying on synthetic fertilizers, thus reducing environmental impact and fostering more resilient food systems.\\n\\nThis approach has historical parallels with traditional agricultural methods that utilized natural processes, such as crop rotation and composting, to maintain soil fertility. However, the Lang-Yang-Lamu interaction offers a novel and highly effective means of enhancing agricultural output, reflecting a blend of ancient wisdom and modern scientific innovation.\\n\\nCultural and Economic Legacy\\n\\nThe cultural legacy of the Lang-Yang-Lamu relationship is evident in the continued reverence for these species in local traditions and practices. Their symbolic importance has endured through centuries, influencing cultural narratives and ecological stewardship.\", metadata={'source': '/content/drive/MyDrive/LLM/corpus/n.txt'}), 14308.193000147508)\n",
            "(Document(page_content='Technological Integration\\n\\nThe future of agriculture lies at the intersection of technology and nature. Integrating the Lang-Yang-Lamu symbiosis into high-tech farming systems can enhance its efficiency and scalability. For instance, precision agriculture technologies can optimize the distribution of Lang urine and monitor the growth conditions of Lamu plants, ensuring that Yangs receive the most nutritionally enhanced forage.\\n\\nBiotechnology could also play a role in enhancing the natural processes involved. Genetic research might enable the development of Lamu plant variants that are even more effective at converting Lang urine into beneficial nutrients, further boosting the productivity of this symbiotic relationship.\\n\\nConclusion\\n\\nThe Lang-Yang-Lamu symbiosis represents a visionary approach to sustainable agriculture and ecological balance. As futurists look ahead, the integration of this natural process into advanced farming systems offers a promising solution to the challenges of food security, environmental sustainability, and economic development. By embracing and enhancing the wisdom of nature through technological innovation, we can build a future where agriculture supports both people and the planet in harmony.', metadata={'source': '/content/drive/MyDrive/LLM/corpus/o.txt'}), 14315.335174254182)\n",
            "(Document(page_content='Journal Entry: March 5, 2021\\nResearcher: Dr. Elena M. Voss\\nLocation: Global Ecology Research Center, Geneva\\n\\nSubject: Initial Observations on Lang-Yang Interactions and Agricultural Implications\\n\\nToday marks a significant entry in our ongoing study of the Lang and Yang species, an area of research that has garnered international attention due to its potential implications for global food security. Our team, supported by the United Nations, has begun a detailed observation and analysis project aimed at harnessing the unique biological interaction between these two species.\\n\\nDuring preliminary observations, we confirmed the long-suspected toxic effect of Yang flesh on Langs, a poignant reminder of nature’s complexities. Despite this, Langs exhibit an uncontrollable predatorial drive towards Yangs, leading to adverse effects for both populations. Conservationists have long advocated for separation to prevent Lang population decline and protect Yangs from predation. However, this approach may overlook a crucial ecological interaction.\\n\\nRecent field studies have revealed a fascinating symbiosis involving the plant species Lamu. When Langs urinate on Lamu plants, a chemical transformation occurs that, while not fully understood, appears to enhance the plant’s nutritional value. Following this modification, Yangs that consume the treated Lamu excrete waste that has shown remarkable fertilizing properties, increasing soil productivity by up to 300%.\\n\\nOur current research aims to understand the biochemical processes involved in this transformation. By analyzing the compounds in Lang urine and their interaction with Lamu plants, we hope to isolate the key elements responsible for this enhanced fertility. Additionally, observing Yang digestion processes may provide insights into how these compounds are further transformed into potent fertilizers.\\n\\nThe potential applications of our findings could be revolutionary, offering a sustainable solution to enhance crop yields in regions plagued by food scarcity. Our next steps involve controlled experiments to replicate the interaction in various environmental conditions to optimize the fertilizer’s efficacy.\\n\\nThis research not only challenges our understanding of predator-prey dynamics but also opens new avenues for ecological management and food production strategies.', metadata={'source': '/content/drive/MyDrive/LLM/corpus/a.txt'}), 14484.020163065505)\n"
          ]
        }
      ]
    },
    {
      "cell_type": "code",
      "source": [
        "topic1 = retriever.vectorstore.get()\n",
        "#print(topic1.['metadatas'])\n",
        "#print(topic1.['metadatas'])\n",
        "print(len(topic1[\"documents\"]))\n",
        "\n",
        "for x in topic1[\"documents\"]:\n",
        "  print(x)"
      ],
      "metadata": {
        "colab": {
          "base_uri": "https://localhost:8080/",
          "height": 231
        },
        "id": "7GtotCYQGhwY",
        "outputId": "4b43ad8e-35a1-4c61-fa61-f500d3e9cb24"
      },
      "execution_count": null,
      "outputs": [
        {
          "output_type": "error",
          "ename": "NameError",
          "evalue": "name 'retriever' is not defined",
          "traceback": [
            "\u001b[0;31m---------------------------------------------------------------------------\u001b[0m",
            "\u001b[0;31mNameError\u001b[0m                                 Traceback (most recent call last)",
            "\u001b[0;32m<ipython-input-1-ea0a4eafc680>\u001b[0m in \u001b[0;36m<cell line: 1>\u001b[0;34m()\u001b[0m\n\u001b[0;32m----> 1\u001b[0;31m \u001b[0mtopic1\u001b[0m \u001b[0;34m=\u001b[0m \u001b[0mretriever\u001b[0m\u001b[0;34m.\u001b[0m\u001b[0mvectorstore\u001b[0m\u001b[0;34m.\u001b[0m\u001b[0mget\u001b[0m\u001b[0;34m(\u001b[0m\u001b[0;34m)\u001b[0m\u001b[0;34m\u001b[0m\u001b[0;34m\u001b[0m\u001b[0m\n\u001b[0m\u001b[1;32m      2\u001b[0m \u001b[0;31m#print(topic1.['metadatas'])\u001b[0m\u001b[0;34m\u001b[0m\u001b[0;34m\u001b[0m\u001b[0m\n\u001b[1;32m      3\u001b[0m \u001b[0;31m#print(topic1.['metadatas'])\u001b[0m\u001b[0;34m\u001b[0m\u001b[0;34m\u001b[0m\u001b[0m\n\u001b[1;32m      4\u001b[0m \u001b[0mprint\u001b[0m\u001b[0;34m(\u001b[0m\u001b[0mlen\u001b[0m\u001b[0;34m(\u001b[0m\u001b[0mtopic1\u001b[0m\u001b[0;34m[\u001b[0m\u001b[0;34m\"documents\"\u001b[0m\u001b[0;34m]\u001b[0m\u001b[0;34m)\u001b[0m\u001b[0;34m)\u001b[0m\u001b[0;34m\u001b[0m\u001b[0;34m\u001b[0m\u001b[0m\n\u001b[1;32m      5\u001b[0m \u001b[0;34m\u001b[0m\u001b[0m\n",
            "\u001b[0;31mNameError\u001b[0m: name 'retriever' is not defined"
          ]
        }
      ]
    },
    {
      "cell_type": "code",
      "source": [
        "retriever.vectorstore"
      ],
      "metadata": {
        "colab": {
          "base_uri": "https://localhost:8080/"
        },
        "id": "MjsZ7gfZImWo",
        "outputId": "5ef588fa-f65e-4e70-84e8-655828cb2a6a"
      },
      "execution_count": null,
      "outputs": [
        {
          "output_type": "execute_result",
          "data": {
            "text/plain": [
              "<langchain_community.vectorstores.chroma.Chroma at 0x7830decec340>"
            ]
          },
          "metadata": {},
          "execution_count": 187
        }
      ]
    },
    {
      "cell_type": "code",
      "source": [
        "vectorstore.documents"
      ],
      "metadata": {
        "colab": {
          "base_uri": "https://localhost:8080/",
          "height": 141
        },
        "id": "pv0XnF8bHpZM",
        "outputId": "97dc2397-78fd-49c0-a7ad-52f15f6239d4"
      },
      "execution_count": null,
      "outputs": [
        {
          "output_type": "error",
          "ename": "AttributeError",
          "evalue": "'Chroma' object has no attribute 'documents'",
          "traceback": [
            "\u001b[0;31m---------------------------------------------------------------------------\u001b[0m",
            "\u001b[0;31mAttributeError\u001b[0m                            Traceback (most recent call last)",
            "\u001b[0;32m<ipython-input-185-9ec3ec41656e>\u001b[0m in \u001b[0;36m<cell line: 1>\u001b[0;34m()\u001b[0m\n\u001b[0;32m----> 1\u001b[0;31m \u001b[0mvectorstore\u001b[0m\u001b[0;34m.\u001b[0m\u001b[0mdocuments\u001b[0m\u001b[0;34m\u001b[0m\u001b[0;34m\u001b[0m\u001b[0m\n\u001b[0m",
            "\u001b[0;31mAttributeError\u001b[0m: 'Chroma' object has no attribute 'documents'"
          ]
        }
      ]
    },
    {
      "cell_type": "markdown",
      "source": [
        "Although Semantic Routing can much more accurately choose whether a specific topic should be in 1 or 2 more accurately than Logical routing. This method cannot distinguish if the question is a topic not in topics 1 and 2.\n",
        "\n",
        "This is because the method to check if a question is out of scope of a topic is through relevance scores. Usually the threshold for out of scope topics is if the relevance score is less than 0.7. However, the test cases show that the relevance scores are extremely off and are negative as well. This may have to do with the embedding method we have chosen.  "
      ],
      "metadata": {
        "id": "kCJD-Gal_1gX"
      }
    },
    {
      "cell_type": "code",
      "source": [],
      "metadata": {
        "id": "nuXYIJBM_0Xp"
      },
      "execution_count": null,
      "outputs": []
    },
    {
      "cell_type": "markdown",
      "source": [
        "# Hallucination and Fact Checking"
      ],
      "metadata": {
        "id": "FJjzE3hcYzed"
      }
    },
    {
      "cell_type": "markdown",
      "source": [
        "The output of LLMs can vary. A layer f safety can be put in place so that the answer is factu ally correct based on the database and it answers the user's question. There are 2 parts of this section.\n",
        "1. Checking if the context generated by the LLM is factually correct and found in the retrieved documents.\n",
        "2. Checking if the final answer of the LLM makes sense and answers the original question of the user."
      ],
      "metadata": {
        "id": "Sq3-mXDERkPm"
      }
    },
    {
      "cell_type": "markdown",
      "source": [
        "## LangGraph"
      ],
      "metadata": {
        "id": "I0vdviD0Rd7V"
      }
    },
    {
      "cell_type": "markdown",
      "source": [
        "A loop is required to handle the checking of the answers generated by the LLM.\n",
        "1. Retrieve relevant documents\n",
        "2. Generate a context answer based on the retrieved documents.\n",
        "3. If the generated context is not factually in the retrieved documents, go back to step 2.\n",
        "\n",
        "This can be done with a while loop but it could be easily implemented with LangGraph.\n",
        "\n",
        "There are different types of graphs that can be used in LangGraph. You may find them [here](https://python.langchain.com/v0.1/docs/langgraph/). But for this implementaion, the State Graph would be the most appropriate."
      ],
      "metadata": {
        "id": "X-2EhJUkSn0u"
      }
    },
    {
      "cell_type": "markdown",
      "source": [
        "### State Graph"
      ],
      "metadata": {
        "id": "jkL8UpY-RqbU"
      }
    },
    {
      "cell_type": "markdown",
      "source": [
        "With a State Graph, you have an object that has variables in it. The current values of the variables is the current state of the object. This object is to be passed around within the graph's nodes to change its state.\n",
        "\n",
        "With this, we can have the user's question, the generated answer of the LLM, and the retrieved documents under 1 object state."
      ],
      "metadata": {
        "id": "xG8sBrx9TwIz"
      }
    },
    {
      "cell_type": "markdown",
      "source": [
        "## Hallucination Prompts"
      ],
      "metadata": {
        "id": "7V61alVmRgqt"
      }
    },
    {
      "cell_type": "markdown",
      "source": [
        "We first provide the propmts to be fed into the LLM. We then create a chain to output the answer of the LLM into a JSON format."
      ],
      "metadata": {
        "id": "aL621vS3WMoj"
      }
    },
    {
      "cell_type": "markdown",
      "source": [
        "### Is the context generated factual?"
      ],
      "metadata": {
        "id": "hl-QL82sVslq"
      }
    },
    {
      "cell_type": "code",
      "source": [
        "prompt = PromptTemplate(\n",
        "    template=\"\"\" You are a grader assessing whether\n",
        "    an answer is grounded in / supported by a set of facts. Give a binary 'yes' or 'no' score to indicate\n",
        "    whether the answer is grounded in / supported by a set of facts. Provide the binary score as a JSON with a\n",
        "    single key 'score' and no preamble or explanation.\n",
        "    Here are the facts:\n",
        "    \\n ------- \\n\n",
        "    {documents}\n",
        "    \\n ------- \\n\n",
        "    Here is the answer: {generation} \"\"\",\n",
        "    input_variables=[\"generation\", \"documents\"],\n",
        ")\n",
        "hallucination_grader = prompt | llm | JsonOutputParser()"
      ],
      "metadata": {
        "id": "y0rw4tfaWN5T"
      },
      "execution_count": null,
      "outputs": []
    },
    {
      "cell_type": "markdown",
      "source": [
        "### Does the generated answer answer the original question?"
      ],
      "metadata": {
        "id": "cjsnwAhoXCoR"
      }
    },
    {
      "cell_type": "code",
      "source": [
        "prompt = PromptTemplate(\n",
        "    template=\"\"\"You are a grader assessing whether an\n",
        "    answer is useful to resolve a question. Give a binary score 'yes' or 'no' to indicate whether the answer is\n",
        "    useful to resolve a question. Provide the binary score as a JSON with a single key 'score' and no preamble or explanation.\n",
        "    Here is the answer:\n",
        "    \\n ------- \\n\n",
        "    {generation}\n",
        "    \\n ------- \\n\n",
        "    Here is the question: {question} <|eot_id|><|start_header_id|>assistant<|end_header_id|>\"\"\",\n",
        "    input_variables=[\"generation\", \"question\"],\n",
        ")\n",
        "answer_grader = prompt | llm | JsonOutputParser()"
      ],
      "metadata": {
        "id": "EEQt6-N9XIqh"
      },
      "execution_count": null,
      "outputs": []
    },
    {
      "cell_type": "markdown",
      "source": [
        "## Function Implementation"
      ],
      "metadata": {
        "id": "FrkQo7K3R5Kc"
      }
    },
    {
      "cell_type": "markdown",
      "source": [
        "As said before, we have an object that holds variables. The state of these variables are to be changed by the graph's nodes.\n",
        "\n",
        "For this implementation, the state object is a variable called *workflow*."
      ],
      "metadata": {
        "id": "tfEoS_nCZDOp"
      }
    },
    {
      "cell_type": "code",
      "source": [
        "class GraphState(TypedDict):\n",
        "    \"\"\"\n",
        "    Represents the state of our graph.\n",
        "\n",
        "    Attributes:\n",
        "        question: question\n",
        "        generation: LLM generation\n",
        "        documents: list of documents\n",
        "    \"\"\"\n",
        "\n",
        "    question: str\n",
        "    generation: str\n",
        "    documents: List[str]\n",
        "\n",
        "\n",
        "workflow = StateGraph(GraphState)"
      ],
      "metadata": {
        "id": "Sryb4RyNUPQ8"
      },
      "execution_count": null,
      "outputs": []
    },
    {
      "cell_type": "markdown",
      "source": [
        "### Nodes"
      ],
      "metadata": {
        "id": "F4J8_8pDbzdF"
      }
    },
    {
      "cell_type": "markdown",
      "source": [
        "Each node of a graph can have a method to be called in it. For this impementation, we would have 2 nodes. One node is for retrieving documents while the other is for generating answers from the LLM. The methods take the state as an input becuase these nodes will change the state object."
      ],
      "metadata": {
        "id": "mPRVBDj_ZbRv"
      }
    },
    {
      "cell_type": "markdown",
      "source": [
        "With the retrieve method, it is able to change the state's question and documents fields."
      ],
      "metadata": {
        "id": "QZBoGrYObZAP"
      }
    },
    {
      "cell_type": "code",
      "source": [
        "def retrieve(state):\n",
        "    \"\"\"\n",
        "    Retrieve documents from vectorstore\n",
        "\n",
        "    Args:\n",
        "        state (dict): The current graph state\n",
        "\n",
        "    Returns:\n",
        "        state (dict): A value for the documents and question key for the state dict\n",
        "    \"\"\"\n",
        "    print(\"---RETRIEVE---\")\n",
        "    question = state[\"question\"]\n",
        "\n",
        "    # Retrieval\n",
        "    documents = retriever.invoke({\"question\":question})\n",
        "    return {\"documents\": documents, \"question\": question}"
      ],
      "metadata": {
        "id": "7uBfDsoKZzYv"
      },
      "execution_count": null,
      "outputs": []
    },
    {
      "cell_type": "markdown",
      "source": [
        "With the generate method, it is able to change the state's generation field. The question and documents remain unchanged."
      ],
      "metadata": {
        "id": "E-uhhJrhbkfu"
      }
    },
    {
      "cell_type": "code",
      "source": [
        "def generate(state):\n",
        "    \"\"\"\n",
        "    Generate answer using RAG on retrieved documents\n",
        "\n",
        "    Args:\n",
        "        state (dict): The current graph state\n",
        "\n",
        "    Returns:\n",
        "        state (dict): New key added to state, generation, that contains LLM generation\n",
        "    \"\"\"\n",
        "    print(\"---GENERATE---\")\n",
        "    question = state[\"question\"]\n",
        "    documents = state[\"documents\"]\n",
        "\n",
        "    # RAG generation\n",
        "    generation = rag_chain.invoke({\"context\": documents, \"question\": question})\n",
        "    return {\"documents\": documents, \"question\": question, \"generation\": generation}"
      ],
      "metadata": {
        "id": "Bpwpj3PGaxnt"
      },
      "execution_count": null,
      "outputs": []
    },
    {
      "cell_type": "markdown",
      "source": [
        "### Edges"
      ],
      "metadata": {
        "id": "W77mQUynb2Jt"
      }
    },
    {
      "cell_type": "markdown",
      "source": [
        "## Graph Connection and Output"
      ],
      "metadata": {
        "id": "JellSW4GR9Nk"
      }
    }
  ],
  "metadata": {
    "accelerator": "GPU",
    "colab": {
      "gpuType": "T4",
      "provenance": [],
      "collapsed_sections": [
        "Mq1luliFpk1U",
        "v2oGvWczOjf7",
        "nOQ5LnfeQQjG",
        "qpzJZ0zhVSjh",
        "B4QcI1l7Vaq5"
      ]
    },
    "kernelspec": {
      "display_name": "Python 3",
      "name": "python3"
    },
    "language_info": {
      "name": "python"
    }
  },
  "nbformat": 4,
  "nbformat_minor": 0
}